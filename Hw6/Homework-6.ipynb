{
 "cells": [
  {
   "cell_type": "code",
   "execution_count": 67,
   "id": "ae79b632",
   "metadata": {},
   "outputs": [],
   "source": [
    "import numpy as np\n",
    "import qiskit as qk\n",
    "from qiskit.circuit.library import TwoLocal\n",
    "import qutip as qt\n",
    "from matplotlib import pyplot as plt\n",
    "%matplotlib inline\n",
    "import scipy.optimize as OPT\n",
    "from IPython.display import display"
   ]
  },
  {
   "cell_type": "code",
   "execution_count": 68,
   "id": "81de333f",
   "metadata": {},
   "outputs": [],
   "source": [
    "## Parameters for the quantum computer\n",
    "backend = qk.Aer.get_backend('qasm_simulator')\n",
    "num_shots=1000"
   ]
  },
  {
   "cell_type": "markdown",
   "id": "4ef0c2ab",
   "metadata": {},
   "source": [
    "In this Homework, we explore the use of Variational Quantum Eigensolvers to estimate the ground state energy of the di-Hydrogen molecule (H$_2$). As discussed in the Homework Problem, the Hamiltonian for molecular Hydrogen can be reduced to the following,\n",
    "\\begin{align}\n",
    "\\hat{H}=g_0 I +g_1 \\sigma^z_1 + g_2 \\sigma^z_2 +g_3 \\sigma^z_1 \\sigma^z_2 +g_4 \\sigma^y_1 \\sigma^y_2 +g_5 \\sigma^x_1 \\sigma^x_2\n",
    "\\end{align}\n",
    "The parameters, $g_{j}$, $j=0,1\\cdots 5$ are real numbers that depend on the bond length $R$ of the molecule. The numerical values of the parameters as a function $R$ are provided in the accompanying table `g_values.csv`."
   ]
  },
  {
   "cell_type": "code",
   "execution_count": 69,
   "id": "2f0a838f-0cff-463c-9451-7d2804c0e61d",
   "metadata": {},
   "outputs": [
    {
     "name": "stdout",
     "output_type": "stream",
     "text": [
      "For example, for bond distance, R=0.70, \n",
      "we have the parameters:(g0,g1,g2,g3,g4,g5):(0.30,0.36,-0.48,0.58,0.09,0.09)\n",
      "      \n"
     ]
    }
   ],
   "source": [
    "# Extract parameters from the provided table taken from the paper\n",
    "data=np.genfromtxt('g_values.csv',delimiter=',')\n",
    "H2_data={'R':data[1:,0],\n",
    "         'g0':data[1:,1],\n",
    "         'g1':data[1:,2],\n",
    "         'g2':data[1:,3],\n",
    "         'g3':data[1:,4],\n",
    "         'g4':data[1:,6],\n",
    "         'g5':data[1:,5],\n",
    "        }\n",
    "p=10\n",
    "print(\"\"\"For example, for bond distance, R=%.2f, \n",
    "we have the parameters:(g0,g1,g2,g3,g4,g5):(%.2f,%.2f,%.2f,%.2f,%.2f,%.2f)\n",
    "      \"\"\"%(H2_data['R'][p],\n",
    "             H2_data['g0'][p],\n",
    "             H2_data['g1'][p],\n",
    "             H2_data['g2'][p],\n",
    "             H2_data['g3'][p],\n",
    "             H2_data['g4'][p],\n",
    "             H2_data['g5'][p],\n",
    "          )\n",
    "     )"
   ]
  },
  {
   "cell_type": "markdown",
   "id": "51defff3",
   "metadata": {},
   "source": [
    "# Classical Simulation of H$_2$\n",
    "We have provided the classical simulation for you to verify your VQE algorithm against. This was used to generate the Figure 1. in the problem set"
   ]
  },
  {
   "cell_type": "code",
   "execution_count": 70,
   "id": "754a0b5e-12a2-4bd9-a2d8-3442f9356d2a",
   "metadata": {},
   "outputs": [],
   "source": [
    "# We provide the classical solution for the problem.\n",
    "def classically_simulate_H2_groundstate(gvals):\n",
    "    si = qt.qeye(2)\n",
    "    sx = qt.sigmax()\n",
    "    sy = qt.sigmay()\n",
    "    sz = qt.sigmaz()\n",
    "    Id=qt.tensor(qt.qeye(2),qt.qeye(2))\n",
    "    ZI=qt.tensor(qt.sigmaz(),qt.qeye(2))\n",
    "    IZ=qt.tensor(qt.qeye(2),qt.sigmaz())\n",
    "    ZZ=qt.tensor(qt.sigmaz(),qt.sigmaz())\n",
    "    YY=qt.tensor(qt.sigmay(),qt.sigmay())\n",
    "    XX=qt.tensor(qt.sigmaz(),qt.sigmaz())\n",
    "    \n",
    "    # construct the hamiltonian\n",
    "    H = (gvals['g0']*Id+gvals['g1']*ZI+\n",
    "         gvals['g2']*IZ+gvals['g3']*ZZ+\n",
    "         gvals['g4']*YY+gvals['g5']*XX)\n",
    "    energy,state=H.groundstate()\n",
    "    return energy"
   ]
  },
  {
   "cell_type": "code",
   "execution_count": 71,
   "id": "c3067833-11c6-46b4-8e59-0c7e05d593d7",
   "metadata": {},
   "outputs": [
    {
     "name": "stdout",
     "output_type": "stream",
     "text": [
      "We would like to replicate this figure using the VQE algorithm:\n"
     ]
    },
    {
     "data": {
      "text/plain": [
       "Text(0.5, 1.0, 'Ground state energy vs Bond-length')"
      ]
     },
     "execution_count": 71,
     "metadata": {},
     "output_type": "execute_result"
    },
    {
     "data": {
      "image/png": "[encoded data removed]",
      "text/plain": [
       "<Figure size 432x288 with 1 Axes>"
      ]
     },
     "metadata": {
      "needs_background": "light"
     },
     "output_type": "display_data"
    }
   ],
   "source": [
    "gstate_energies=[]\n",
    "for p in range(len(H2_data['R'])):\n",
    "    gvals={'g0':H2_data['g0'][p],\n",
    "           'g1':H2_data['g1'][p],\n",
    "           'g2':H2_data['g2'][p],\n",
    "           'g3':H2_data['g3'][p],\n",
    "           'g4':H2_data['g4'][p],\n",
    "           'g5':H2_data['g5'][p],\n",
    "            }\n",
    "    gstate_energies.append(classically_simulate_H2_groundstate(gvals))\n",
    "print('We would like to replicate this figure using the VQE algorithm:')\n",
    "plt.plot(H2_data['R'],gstate_energies);\n",
    "plt.ylabel('Energy (in Hartree)')\n",
    "plt.xlabel('$R$ in Å')\n",
    "plt.title('Ground state energy vs Bond-length')"
   ]
  },
  {
   "cell_type": "markdown",
   "id": "b6cf90a0",
   "metadata": {},
   "source": [
    "# Variational Ansatz for H$_2$ molecule \n",
    "\n",
    "In this section, you will complete a function that implements the variational ansatz for the H2 molecule. Recall that the Ansatz prepares the Hartree Fock initial state and applies the UCCSD ansatz.\n",
    "\\begin{align}\n",
    "|\\psi(\\theta)\\rangle=e^{-i\\Theta {\\hat{Y}_1\\hat{X}_2}}|10\\rangle\n",
    "\\end{align}"
   ]
  },
  {
   "cell_type": "code",
   "execution_count": 72,
   "id": "318838f6",
   "metadata": {},
   "outputs": [],
   "source": [
    "def create_UCC_ansatz(qr,cr):\n",
    "    \"\"\"Create circuit with the UCC Ansatz using THETA which \n",
    "       is a Parameter variable defined in qiskit\n",
    "    \"\"\"\n",
    "    # Create registers\n",
    "    circ = qk.QuantumCircuit(qr, cr)\n",
    "    THETA=qk.circuit.Parameter('θ')\n",
    "    circ.x(0)\n",
    "    # Apply ansatz\n",
    "    #######################\n",
    "    '''\n",
    "    Fill in your code here\n",
    "    '''\n",
    "    #######################\n",
    "    circ.barrier()\n",
    "    circ.rx(-np.pi/2,0)\n",
    "    circ.ry(np.pi/2,1)\n",
    "    circ.cx(0,1)\n",
    "    circ.rz(THETA,1)\n",
    "    circ.cx(0,1)\n",
    "    circ.rx(np.pi/2,0)\n",
    "    circ.ry(-np.pi/2,1)\n",
    "    circ.barrier()\n",
    "    return circ"
   ]
  },
  {
   "cell_type": "code",
   "execution_count": 73,
   "id": "6c457ee2",
   "metadata": {},
   "outputs": [
    {
     "name": "stdout",
     "output_type": "stream",
     "text": [
      "UCC Ansatz\n"
     ]
    },
    {
     "data": {
      "image/png": "[encoded data removed]",
      "text/plain": [
       "<Figure size 660.079x204.68 with 1 Axes>"
      ]
     },
     "metadata": {},
     "output_type": "display_data"
    }
   ],
   "source": [
    "qr = qk.QuantumRegister(2)\n",
    "cr = qk.ClassicalRegister(2)\n",
    "circ1=create_UCC_ansatz(qr,cr)\n",
    "# check that the circuit is drawn correctly\n",
    "print('UCC Ansatz')\n",
    "display(circ1.draw('mpl'))"
   ]
  },
  {
   "cell_type": "markdown",
   "id": "bc77286d",
   "metadata": {},
   "source": [
    "# Measuring Expectation Value of the Hamiltonian\n",
    "\n",
    "Next we set up functions to measure along $x$ $y$ and $z$ basis which we then use to measure the expectation value of the Hamiltonian described at the top.\n",
    "\n",
    "Recall that we are interested in the following Hamiltonian\n",
    "\\begin{align}\n",
    "\\hat{H}=g_0 I +g_1 \\sigma^z_1 + g_2 \\sigma^z_2 +g_3 \\sigma^z_1 \\sigma^z_2 +g_4 \\sigma^y_1 \\sigma^y_2 +g_5 \\sigma^x_1 \\sigma^x_2\n",
    "\\end{align}\n",
    "\n",
    "We define functions that measure in the $x$, $y$ and $z$ basis. These functions take in a quantum circuit object as input and return a circuit with measurements applied on all qubits in the $x$ $y$ and $z$ directions. "
   ]
  },
  {
   "cell_type": "code",
   "execution_count": 74,
   "id": "b932c20d",
   "metadata": {},
   "outputs": [],
   "source": [
    "def measurement_circuits(circ):\n",
    "    '''\n",
    "    Takes as input a circuit and\n",
    "    returns a list of circuits that measures along x, y and z\n",
    "    '''\n",
    "    circ_x=circ.copy()\n",
    "    circ_x.name=circ_x.name+'-x'\n",
    "    circ_x.h(qr)\n",
    "    circ_x.measure(qr,cr)\n",
    "    \n",
    "    circ_y=circ.copy()\n",
    "    circ_y.name=circ_y.name+'-y'\n",
    "    circ_y.sdg(qr)\n",
    "    circ_y.h(qr)\n",
    "    circ_y.measure(qr,cr)\n",
    "    \n",
    "    circ_z=circ.copy()\n",
    "    circ_z.name=circ_z.name+'-z'\n",
    "    circ_z.measure(qr,cr)\n",
    "    return [circ_x,circ_y,circ_z]\n",
    "\n",
    "def calculate_probabilities_after_measurement(circ):\n",
    "    '''\n",
    "    Takes in a circuit (non parameterized) executes it with measurements along x, y and z,\n",
    "    and returns the measurement outcome probabilities of the bitstrings in that basis\n",
    "    '''\n",
    "    circ_measured=measurement_circuits(circ)\n",
    "    job = qk.execute(circ_measured, backend=backend,shots=num_shots)\n",
    "    result = job.result()\n",
    "    result_counts_x=result.get_counts(circ_measured[0].name)\n",
    "    result_counts_y=result.get_counts(circ_measured[1].name)\n",
    "    result_counts_z=result.get_counts(circ_measured[2].name)\n",
    "    px_dict= {key:result_counts_x[key]/num_shots for key in result_counts_x}\n",
    "    py_dict= {key:result_counts_y[key]/num_shots for key in result_counts_y} \n",
    "    pz_dict= {key:result_counts_z[key]/num_shots for key in result_counts_z}\n",
    "    return [px_dict,py_dict,pz_dict]\n",
    "\n",
    "def calculate_expectation_value(circ_bound,g_vals):\n",
    "    '''\n",
    "    Takes in a circuit (circ_bound) with a value bound to the parameter, \n",
    "    performs measurements and returns the expectation value.\n",
    "    It should calculate the expectation value using the dictionary g_vals, that has the parameters\n",
    "    gvals={'g0':,'g1':,'g2':,'g3':,'g4':, 'g5':}\n",
    "    '''\n",
    "    \n",
    "    px,py,pz=calculate_probabilities_after_measurement(circ_bound) \n",
    "    \n",
    "    H_expectval= (g_vals['g0']+\n",
    "                  g_vals['g1']* (pz.get('00', 0) - pz.get('01', 0)+ pz.get('10', 0) - pz.get('11', 0))+\n",
    "                  g_vals['g2']* (pz.get('00', 0) + pz.get('01', 0)-pz.get('10', 0) - pz.get('11', 0))+\n",
    "                  g_vals['g3']* (pz.get('00', 0) - pz.get('01', 0)- pz.get('10', 0) + pz.get('11', 0))+  \n",
    "                  g_vals['g4']* (py.get('00', 0) - py.get('01', 0)-py.get('10', 0) + py.get('11', 0))+\n",
    "                  g_vals['g5']* (px.get('00', 0) - px.get('01', 0)- px.get('10', 0) + px.get('11', 0)))\n",
    "    return H_expectval"
   ]
  },
  {
   "cell_type": "markdown",
   "id": "6f2ef63f",
   "metadata": {},
   "source": [
    "## Check\n",
    "Test the expectation value function for the first set of parameters in the data dictionary. If you got your circuits and measurments correctly for the UCC ansatz, the Energy for $R=0.2$Å at $\\theta=0$ of the H2 ansatz should be around 0.15 Hartree."
   ]
  },
  {
   "cell_type": "code",
   "execution_count": 75,
   "id": "9d9d2040",
   "metadata": {},
   "outputs": [
    {
     "name": "stdout",
     "output_type": "stream",
     "text": [
      "Expected value of energy of H2 molecule for R=0.20Å and θ=0.00 rads is 0.16 Hartree\n"
     ]
    },
    {
     "data": {
      "image/png": "[encoded data removed]",
      "text/plain": [
       "<Figure size 660.225x204.68 with 1 Axes>"
      ]
     },
     "execution_count": 75,
     "metadata": {},
     "output_type": "execute_result"
    }
   ],
   "source": [
    "# Compute for the first row of parameters, for THETA=0 in the UCC Ansatz (corresponds to R=0.2)\n",
    "p=0\n",
    "gvals={'g0':H2_data['g0'][p],\n",
    "       'g1':H2_data['g1'][p],\n",
    "       'g2':H2_data['g2'][p],\n",
    "       'g3':H2_data['g3'][p],\n",
    "       'g4':H2_data['g4'][p],\n",
    "       'g5':H2_data['g5'][p],\n",
    "        }\n",
    "\n",
    "theta_val=0\n",
    "\n",
    "qr = qk.QuantumRegister(2)\n",
    "cr = qk.ClassicalRegister(2)\n",
    "circ=create_UCC_ansatz(qr,cr)\n",
    "circ_bound=circ.bind_parameters({circ.parameters[0]:theta_val}) # binds the value theta_val to the parameter in the circuit\n",
    "H_val=calculate_expectation_value(circ_bound,gvals)\n",
    "print('Expected value of energy of H2 molecule for R=%.2fÅ and θ=%.2f rads is %.2f Hartree'%(H2_data['R'][p],theta_val,H_val))\n",
    "circ_bound.draw('mpl')"
   ]
  },
  {
   "cell_type": "markdown",
   "id": "6999a0db",
   "metadata": {},
   "source": [
    "# Classical Optimization loop : Exhaustive Search\n",
    "\n",
    "Now that we have set up the variational ansatz, and the measurements necessary to calculate the expectation value, we finally need to optimize over the anglesto find the optimal parameter that minimizes the measured expectation value. We will exhaustively search to find the optimal parameter for the variational circuit"
   ]
  },
  {
   "cell_type": "code",
   "execution_count": 76,
   "id": "90566097",
   "metadata": {},
   "outputs": [],
   "source": [
    "def exhaustive_search(circ_parametrized,gvals,theta_lb,theta_ub):\n",
    "    '''\n",
    "    Exhaustively searches over 100 different values of parameters between theta_lb and theta_ub to\n",
    "    find optimal value of θ.\n",
    "    Takes as input a parameterized circuit, bind a value of theta to it and calculate the expectation value.\n",
    "    '''\n",
    "    theta_vals=np.linspace(theta_lb,theta_ub,100) # 100 different angles between θmin and θmax\n",
    "    H_vals=[]\n",
    "    '''\n",
    "    Fill Here. Find the value of theta that has minimum value of H and return that\n",
    "    '''\n",
    "    theta_min = theta_vals[0]\n",
    "    circ_bound = circ.bind_parameters({circ.parameters[0]:theta_min})\n",
    "    H_min = calculate_expectation_value(circ_bound,gvals)\n",
    "    for i in theta_vals[1:]:\n",
    "        circ_bound = circ.bind_parameters({circ.parameters[0]:i})\n",
    "        H_val = calculate_expectation_value(circ_bound,gvals)\n",
    "        if (H_val < H_min):\n",
    "            H_min = H_val\n",
    "            theta_min = i\n",
    "    return theta_min,H_min"
   ]
  },
  {
   "cell_type": "markdown",
   "id": "84063b18-4e30-4d64-94df-473b841c50cd",
   "metadata": {},
   "source": [
    "Next, test the optimization routine by using an example set of parameters."
   ]
  },
  {
   "cell_type": "code",
   "execution_count": 77,
   "id": "878b74a5",
   "metadata": {},
   "outputs": [
    {
     "name": "stdout",
     "output_type": "stream",
     "text": [
      " Expected value of energy of H2 molecule for R=0.20Å  is minimum (using exhaustive search) at and θ=0.10 rads and is 0.138 Hartree\n"
     ]
    }
   ],
   "source": [
    "#conditions on parameters\n",
    "p=0\n",
    "gvals={'g0':H2_data['g0'][p],\n",
    "       'g1':H2_data['g1'][p],\n",
    "       'g2':H2_data['g2'][p],\n",
    "       'g3':H2_data['g3'][p],\n",
    "       'g4':H2_data['g4'][p],\n",
    "       'g5':H2_data['g5'][p],\n",
    "        }\n",
    "\n",
    "#define variational circuit\n",
    "qr = qk.QuantumRegister(2)\n",
    "cr = qk.ClassicalRegister(2)\n",
    "circ=create_UCC_ansatz(qr,cr)\n",
    "\n",
    "theta_min,H_min=exhaustive_search(circ,gvals,0,np.pi)\n",
    "print(' Expected value of energy of H2 molecule for R=%.2fÅ  is minimum (using exhaustive search) at and θ=%.2f rads and is %.3f Hartree'%(H2_data['R'][p],theta_min,H_min))\n"
   ]
  },
  {
   "cell_type": "markdown",
   "id": "e95c35b4",
   "metadata": {},
   "source": [
    "# Bringing it all together to obtain Ground state Energy vs Bond length for H$_2$\n",
    "\n",
    "Now, we use the exhaustive search to optimize for different bond lengths to reproduce the energy vs bond angle."
   ]
  },
  {
   "cell_type": "code",
   "execution_count": 78,
   "id": "abc9e565",
   "metadata": {
    "tags": []
   },
   "outputs": [
    {
     "name": "stdout",
     "output_type": "stream",
     "text": [
      "took  9 mins and  58.13225197792053 secs\n"
     ]
    }
   ],
   "source": [
    "import time\n",
    "import math\n",
    "t = time.time()\n",
    "θ_opt_list=[]\n",
    "H_min_list=[]\n",
    "#define variational circuit\n",
    "qr = qk.QuantumRegister(2)\n",
    "cr = qk.ClassicalRegister(2)\n",
    "circ=create_UCC_ansatz(qr,cr)\n",
    "for p in range(len(H2_data['R'])):\n",
    "    gvals={'g0':H2_data['g0'][p],\n",
    "           'g1':H2_data['g1'][p],\n",
    "           'g2':H2_data['g2'][p],\n",
    "           'g3':H2_data['g3'][p],\n",
    "           'g4':H2_data['g4'][p],\n",
    "           'g5':H2_data['g5'][p],\n",
    "            }\n",
    "    theta_min,H_min=exhaustive_search(circ,gvals,0,np.pi)\n",
    "    H_min_list.append(H_min)\n",
    "    θ_opt_list.append(theta_min)\n",
    "print('took ', math.trunc((time.time()-t)/60), \"mins and \", (time.time() - t)-60*math.trunc((time.time() - t)/60), \"secs\")"
   ]
  },
  {
   "cell_type": "code",
   "execution_count": 79,
   "id": "d0623e17-4918-44b5-b782-6a60b9dd59d3",
   "metadata": {
    "tags": []
   },
   "outputs": [
    {
     "data": {
      "text/plain": [
       "<matplotlib.legend.Legend at 0x2774c1616a0>"
      ]
     },
     "execution_count": 79,
     "metadata": {},
     "output_type": "execute_result"
    },
    {
     "data": {
      "image/png": "[encoded data removed]",
      "text/plain": [
       "<Figure size 432x288 with 1 Axes>"
      ]
     },
     "metadata": {
      "needs_background": "light"
     },
     "output_type": "display_data"
    }
   ],
   "source": [
    "plt.plot(H2_data['R'],H_min_list,'o',label='VQE result')\n",
    "plt.ylabel('Energy (in Hartree)')\n",
    "plt.xlabel('$R$ in Å')\n",
    "plt.legend()"
   ]
  },
  {
   "cell_type": "markdown",
   "id": "25b6d9f0-9710-49a0-8aee-6c846368fcac",
   "metadata": {
    "tags": []
   },
   "source": [
    "# Check against Analytical Solution and Actual Solution"
   ]
  },
  {
   "cell_type": "code",
   "execution_count": 85,
   "id": "231bc498-6622-4e7a-af89-d1b1881e46f5",
   "metadata": {},
   "outputs": [],
   "source": [
    "def analytical_optimal_solution(gvals):\n",
    "    '''\n",
    "    Fill in the function tp from homework return the analytical formula for thetaopt and H_opt\n",
    "    '''\n",
    "    thetaopt= np.arctan(-1*(gvals['g4']+gvals['g5'])/(gvals['g2']-gvals['g1']))/2\n",
    "    H_opt = gvals['g0']-gvals['g3'] + (gvals['g2']-gvals['g1'])*np.cos(2*thetaopt)-np.sin(2*thetaopt)*(gvals['g4']+gvals['g5']) \n",
    "        \n",
    "    return thetaopt,H_opt"
   ]
  },
  {
   "cell_type": "code",
   "execution_count": 86,
   "id": "25b2adfb-f555-4eb1-b894-adc5421b1f4c",
   "metadata": {},
   "outputs": [],
   "source": [
    "qr = qk.QuantumRegister(2)\n",
    "cr = qk.ClassicalRegister(2)\n",
    "H_analytic_list=[]\n",
    "theta_analytic_list=[]\n",
    "for p in range(len(H2_data['R'])):\n",
    "    gvals={'g0':H2_data['g0'][p],\n",
    "           'g1':H2_data['g1'][p],\n",
    "           'g2':H2_data['g2'][p],\n",
    "           'g3':H2_data['g3'][p],\n",
    "           'g4':H2_data['g4'][p],\n",
    "           'g5':H2_data['g5'][p],\n",
    "            }\n",
    "    theta_min,H_min=analytical_optimal_solution(gvals)\n",
    "    H_analytic_list.append(H_min)\n",
    "    theta_analytic_list.append(theta_min)"
   ]
  },
  {
   "cell_type": "code",
   "execution_count": 87,
   "id": "fd3e73ed-c681-42a1-a1a5-977903b0085a",
   "metadata": {},
   "outputs": [
    {
     "data": {
      "text/plain": [
       "<matplotlib.legend.Legend at 0x2774d663a30>"
      ]
     },
     "execution_count": 87,
     "metadata": {},
     "output_type": "execute_result"
    },
    {
     "data": {
      "image/png": "[encoded data removed]",
      "text/plain": [
       "<Figure size 432x288 with 1 Axes>"
      ]
     },
     "metadata": {
      "needs_background": "light"
     },
     "output_type": "display_data"
    }
   ],
   "source": [
    "plt.plot(H2_data['R'],H_analytic_list,'x',label='Analytic optimal')\n",
    "plt.plot(H2_data['R'],H_min_list,'o',mfc='none',label='VQE result')\n",
    "plt.plot(H2_data['R'],gstate_energies,label='Actual Value')\n",
    "plt.ylabel('Energy (in Hartree)')\n",
    "plt.xlabel('$R$ in Å')\n",
    "plt.legend()"
   ]
  },
  {
   "cell_type": "code",
   "execution_count": null,
   "id": "e74f9638-4c54-4b50-9470-6a8a0902aff1",
   "metadata": {},
   "outputs": [],
   "source": []
  }
 ],
 "metadata": {
  "kernelspec": {
   "display_name": "AQI2022",
   "language": "python",
   "name": "aqi2022"
  },
  "language_info": {
   "codemirror_mode": {
    "name": "ipython",
    "version": 3
   },
   "file_extension": ".py",
   "mimetype": "text/x-python",
   "name": "python",
   "nbconvert_exporter": "python",
   "pygments_lexer": "ipython3",
   "version": "3.9.7"
  },
  "toc-autonumbering": true
 },
 "nbformat": 4,
 "nbformat_minor": 5
}
