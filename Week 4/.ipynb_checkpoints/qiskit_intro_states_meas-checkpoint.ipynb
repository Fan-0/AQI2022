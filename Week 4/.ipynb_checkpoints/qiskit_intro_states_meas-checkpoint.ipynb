{
 "cells": [
  {
   "cell_type": "code",
   "execution_count": 1,
   "metadata": {},
   "outputs": [],
   "source": [
    "import qiskit as qk\n",
    "import numpy as np\n",
    "from qiskit.tools.visualization import plot_histogram\n",
    "from qiskit import IBMQ\n",
    "from qiskit.tools.monitor import job_monitor\n",
    "from qiskit.providers.aer.noise import NoiseModel\n",
    "import matplotlib\n",
    "import matplotlib.pyplot as plt\n",
    "%matplotlib inline"
   ]
  },
  {
   "cell_type": "markdown",
   "metadata": {},
   "source": [
    "# Building Circuits for State Preparation"
   ]
  },
  {
   "cell_type": "markdown",
   "metadata": {},
   "source": [
    "Every computation in Qiskit begins with the qubits in the ground state $|0\\cdots 0\\rangle$. Therefore, in order to prepare a particular quantum state $|\\psi\\rangle$, one must determine the unitary operator $V$ satisfying $|\\psi\\rangle = V|0\\cdots 0\\rangle$. Qiskit possesses a variety of single and two-qubit unitary that can be decomposed into basis gates. While there is some freedom in choosing the basis gate set on Qiskit simulators, the hardware basis gate set is specifically defined by the $X_{\\pi/2}$ gate (i.e., a $\\pi/2$ rotation about the $\\sigma^x$ axis of each qubit's individual Bloch Sphere), the $X_\\pi$ gate, a frame change gate $R_z(\\gamma)$ that is considered virtual (i.e., is implemented instantaneously in software), and the CNOT gate. Below, we show how to use these gates and those composed from this basis set to prepare quantum states."
   ]
  },
  {
   "cell_type": "markdown",
   "metadata": {},
   "source": [
    "We start by defining the quantum and classical registers required by the quantum algorithm and measurement operations, respectively. The registers are then used to initialize the quantum circuit."
   ]
  },
  {
   "cell_type": "code",
   "execution_count": 2,
   "metadata": {},
   "outputs": [],
   "source": [
    "num_qubits = 1  # Number of qubits\n",
    "qr = qk.QuantumRegister(num_qubits) # Define quantum register\n",
    "cr = qk.ClassicalRegister(num_qubits) # Define classical register\n",
    "circ = qk.QuantumCircuit(qr, cr) # Define base quantum circuit"
   ]
  },
  {
   "cell_type": "markdown",
   "metadata": {},
   "source": [
    "## Initial State in the XZ-plane of the Single Qubit Bloch Sphere"
   ]
  },
  {
   "cell_type": "markdown",
   "metadata": {},
   "source": [
    "Consider the case where the objective is to prepare the state \n",
    "\\begin{equation}\n",
    "|\\psi(\\theta)\\rangle=\\cos(\\theta/2)|0\\rangle + \\sin(\\theta/2)|1\\rangle.\n",
    "\\end{equation}\n",
    "\n",
    "It can be shown that an $R_y(\\theta)$ operation can be used to produce the correct state by $|\\psi(\\theta)\\rangle=R_y(\\theta)|0\\rangle$. Here, we show how to construct $|\\psi(\\theta)\\rangle$ in Qiskit using the built-in $R_y(\\theta)$ gate directly. This particular operation is build from a composition of two $X_{\\pi/2}$ gates interleaved with three $R_z$ gates. For more information, see the [Basic Quantum Operations](https://qiskit.org/documentation/tutorials/circuits/3_summary_of_quantum_operations.html) tutorial given on the IBM Quantum Experience website."
   ]
  },
  {
   "cell_type": "code",
   "execution_count": 3,
   "metadata": {},
   "outputs": [
    {
     "data": {
      "image/png": "[encoded data removed]",
      "text/plain": [
       "<Figure size 200.687x144.48 with 1 Axes>"
      ]
     },
     "execution_count": 3,
     "metadata": {},
     "output_type": "execute_result"
    }
   ],
   "source": [
    "theta = np.pi/2\n",
    "circ.ry(theta, qr[0]) # Applying an Ry(theta) gate to the zeroth qubit in the register\n",
    "circ.draw('mpl')"
   ]
  },
  {
   "cell_type": "markdown",
   "metadata": {},
   "source": [
    "Now that the state has been prepared, let's measure in the computational basis. This operation can be performed by using the built-in measure function in Qiskit as follows:"
   ]
  },
  {
   "cell_type": "code",
   "execution_count": 4,
   "metadata": {},
   "outputs": [
    {
     "data": {
      "image/png": "[encoded data removed]",
      "text/plain": [
       "<Figure size 260.887x144.48 with 1 Axes>"
      ]
     },
     "execution_count": 4,
     "metadata": {},
     "output_type": "execute_result"
    }
   ],
   "source": [
    "circ.measure(qr,cr)\n",
    "circ.draw('mpl')"
   ]
  },
  {
   "cell_type": "markdown",
   "metadata": {},
   "source": [
    "# Executing the Circuit"
   ]
  },
  {
   "cell_type": "markdown",
   "metadata": {},
   "source": [
    "Qiskit has a number of options for executing a circuit that are locally available and via the cloud. Local simulators can be utilized for small simulations of 10-12 qubits. Local simulators range from full dynamics simulators that produce full time evolution operators resulting from a quantum circuit, the full quantum state resulting from a quantum circuit, or a simulation of the hardware and measurement process. Note: when using the time evolution or state simulator, there is no need to make a measurement on the system. The simulator will naturally yield the evolution operator or full quantum state."
   ]
  },
  {
   "cell_type": "code",
   "execution_count": 5,
   "metadata": {},
   "outputs": [
    {
     "data": {
      "text/plain": [
       "[<QasmSimulator('qasm_simulator') from AerProvider()>,\n",
       " <StatevectorSimulator('statevector_simulator') from AerProvider()>,\n",
       " <UnitarySimulator('unitary_simulator') from AerProvider()>,\n",
       " <PulseSimulator('pulse_simulator') from AerProvider()>]"
      ]
     },
     "execution_count": 5,
     "metadata": {},
     "output_type": "execute_result"
    }
   ],
   "source": [
    "qk.Aer.backends() # Available backends"
   ]
  },
  {
   "cell_type": "markdown",
   "metadata": {},
   "source": [
    "### State Vector Simulator"
   ]
  },
  {
   "cell_type": "markdown",
   "metadata": {},
   "source": [
    "Let's first examine the state vector simulator and the results it yields."
   ]
  },
  {
   "cell_type": "code",
   "execution_count": 6,
   "metadata": {},
   "outputs": [],
   "source": [
    "backend = qk.Aer.get_backend('statevector_simulator')"
   ]
  },
  {
   "cell_type": "code",
   "execution_count": 7,
   "metadata": {},
   "outputs": [],
   "source": [
    "num_qubits = 1  # Number of qubits\n",
    "qr = qk.QuantumRegister(num_qubits) # Define quantum register\n",
    "cr = qk.ClassicalRegister(num_qubits) # Define classical register\n",
    "circ = qk.QuantumCircuit(qr, cr) # Define base quantum circuit\n",
    "theta = np.pi/2\n",
    "circ.ry(theta, qr[0]) # Applying an Ry(theta) gate to the zeroth qubit in the register\n",
    "\n",
    "#job = backend.run(circ)\n",
    "job = qk.execute(circ, backend=backend)\n",
    "result = job.result()"
   ]
  },
  {
   "cell_type": "markdown",
   "metadata": {},
   "source": [
    "Upon the completion of the job, we can check the state matches expectations by calling the get_statevector attribute"
   ]
  },
  {
   "cell_type": "code",
   "execution_count": 8,
   "metadata": {},
   "outputs": [
    {
     "data": {
      "text/plain": [
       "array([0.70710678+0.j, 0.70710678+0.j])"
      ]
     },
     "execution_count": 8,
     "metadata": {},
     "output_type": "execute_result"
    }
   ],
   "source": [
    "result.get_statevector(experiment=circ, decimals=3)"
   ]
  },
  {
   "cell_type": "markdown",
   "metadata": {},
   "source": [
    "### Unitary Simulator"
   ]
  },
  {
   "cell_type": "markdown",
   "metadata": {},
   "source": [
    "We can also simulate the dynamics and extract the unitary operator resulting from the quantum circuit."
   ]
  },
  {
   "cell_type": "code",
   "execution_count": 23,
   "metadata": {},
   "outputs": [],
   "source": [
    "backend = qk.Aer.get_backend('unitary_simulator')"
   ]
  },
  {
   "cell_type": "code",
   "execution_count": 24,
   "metadata": {},
   "outputs": [],
   "source": [
    "num_qubits = 1  # Number of qubits\n",
    "qr = qk.QuantumRegister(num_qubits) # Define quantum register\n",
    "cr = qk.ClassicalRegister(num_qubits) # Define classical register\n",
    "circ = qk.QuantumCircuit(qr, cr) # Define base quantum circuit\n",
    "theta = np.pi/2\n",
    "circ.ry(theta, qr[0]) # Applying an Ry(theta) gate to the zeroth qubit in the register\n",
    "\n",
    "# job = backend.run(circ)\n",
    "job = qk.execute(circ, backend=backend)\n",
    "result = job.result()"
   ]
  },
  {
   "cell_type": "markdown",
   "metadata": {},
   "source": [
    "Similar to the state vector simulator, we can access the relevant information by calling the correct attribute of the result."
   ]
  },
  {
   "cell_type": "code",
   "execution_count": 25,
   "metadata": {},
   "outputs": [
    {
     "data": {
      "text/plain": [
       "array([[ 0.70710678+0.j, -0.70710678+0.j],\n",
       "       [ 0.70710678+0.j,  0.70710678+0.j]])"
      ]
     },
     "execution_count": 25,
     "metadata": {},
     "output_type": "execute_result"
    }
   ],
   "source": [
    "result.get_unitary(experiment=circ, decimals=3)"
   ]
  },
  {
   "cell_type": "markdown",
   "metadata": {},
   "source": [
    "### QASM Simulator"
   ]
  },
  {
   "cell_type": "markdown",
   "metadata": {},
   "source": [
    "The QASM simulator can be used to simulate ideal and noisy quantum evolution. This particular simulator is distinct from the state vector simulator and unitary simulator in that it requires measurement operations to be defined along with the number of shots. As we have learned, quantum mechanics is probabilistic, which implies that one must sample from a quantum state in order to gain information about the underlying distribution. The number of shots corresponds to the number of times one repeats the experiment."
   ]
  },
  {
   "cell_type": "code",
   "execution_count": 14,
   "metadata": {},
   "outputs": [],
   "source": [
    "backend = qk.Aer.get_backend('qasm_simulator')"
   ]
  },
  {
   "cell_type": "code",
   "execution_count": 15,
   "metadata": {},
   "outputs": [],
   "source": [
    "num_qubits = 1  # Number of qubits\n",
    "qr = qk.QuantumRegister(num_qubits) # Define quantum register\n",
    "cr = qk.ClassicalRegister(num_qubits) # Define classical register\n",
    "circ = qk.QuantumCircuit(qr, cr) # Define base quantum circuit\n",
    "theta = np.pi/2\n",
    "circ.ry(theta, qr[0]) # Applying an Ry(theta) gate to the zeroth qubit in the register\n",
    "circ.measure(qr,cr)\n",
    "\n",
    "# job = backend.run(circ, shots=1000) # repeat the experiment 1000 times\n",
    "job = qk.execute(circ, backend=backend,shots=1000)\n",
    "result = job.result()"
   ]
  },
  {
   "cell_type": "markdown",
   "metadata": {},
   "source": [
    "Now, our results will appear as a dictionary consisting of the measurement outcomes and their frequencies."
   ]
  },
  {
   "cell_type": "code",
   "execution_count": 16,
   "metadata": {},
   "outputs": [
    {
     "data": {
      "text/plain": [
       "{'0': 491, '1': 509}"
      ]
     },
     "execution_count": 16,
     "metadata": {},
     "output_type": "execute_result"
    }
   ],
   "source": [
    "result.get_counts()"
   ]
  },
  {
   "cell_type": "markdown",
   "metadata": {},
   "source": [
    "Qiskit includes useful visualization tools for examining the output of simulations and experiments. One of those tools is the plot_histogram function."
   ]
  },
  {
   "cell_type": "code",
   "execution_count": 18,
   "metadata": {},
   "outputs": [
    {
     "data": {
      "image/png": "[encoded data removed]",
      "text/plain": [
       "<Figure size 504x360 with 1 Axes>"
      ]
     },
     "execution_count": 18,
     "metadata": {},
     "output_type": "execute_result"
    }
   ],
   "source": [
    "plot_histogram(result.get_counts())"
   ]
  },
  {
   "cell_type": "markdown",
   "metadata": {},
   "source": [
    "There are a number of ways to run QASM simulations. Below, we show one additional approach that uses the execute() function."
   ]
  },
  {
   "cell_type": "code",
   "execution_count": 19,
   "metadata": {},
   "outputs": [],
   "source": [
    "num_qubits = 1  # Number of qubits\n",
    "qr = qk.QuantumRegister(num_qubits) # Define quantum register\n",
    "cr = qk.ClassicalRegister(num_qubits) # Define classical register\n",
    "circ = qk.QuantumCircuit(qr, cr) # Define base quantum circuit\n",
    "theta = np.pi/2\n",
    "circ.ry(theta, qr[0]) # Applying an Ry(theta) gate to the zeroth qubit in the register\n",
    "circ.measure(qr,cr)\n",
    "\n",
    "job = qk.execute(circ, backend=backend, shots=1000)\n",
    "result = job.result()"
   ]
  },
  {
   "cell_type": "code",
   "execution_count": 20,
   "metadata": {},
   "outputs": [
    {
     "data": {
      "text/plain": [
       "{'0': 497, '1': 503}"
      ]
     },
     "execution_count": 20,
     "metadata": {},
     "output_type": "execute_result"
    }
   ],
   "source": [
    "result.get_counts()"
   ]
  },
  {
   "cell_type": "markdown",
   "metadata": {},
   "source": [
    "### Running on Hardware"
   ]
  },
  {
   "cell_type": "markdown",
   "metadata": {},
   "source": [
    "Now, let's run a real experiment! The first thing we need to do is obtain our token from the IBMQE website. Next, we save and enable the account so that this information can be loaded in the future."
   ]
  },
  {
   "cell_type": "code",
   "execution_count": 54,
   "metadata": {},
   "outputs": [],
   "source": [
    "token = 'Insert your token here'\n",
    "try:\n",
    "    IBMQ.load_account()\n",
    "except:\n",
    "    qk.IBMQ.save_account(token=token)\n",
    "    qk.IBMQ.enable_account(token)\n",
    "provider = IBMQ.get_provider(hub=\"ibm-q\", group=\"open\", project=\"main\")\n",
    "backend = provider.get_backend(\"ibmq_armonk\")"
   ]
  },
  {
   "cell_type": "markdown",
   "metadata": {},
   "source": [
    "We have chosen to use the IBMQ Armonk device that consists of a single qubit. This will be sufficient for the example given here, but of course, there are many more sophisticated systems available on the cloud. Take a look at the IBMQE website, under Services, for more information about processors available to you.\n",
    "\n",
    "Once you have chosen a processor, you can examine the status of the device as follows:"
   ]
  },
  {
   "cell_type": "code",
   "execution_count": 55,
   "metadata": {},
   "outputs": [
    {
     "data": {
      "text/html": [
       "<pre>&lt;qiskit.providers.models.backendstatus.BackendStatus object at 0x000002A7E2C71D48&gt;</pre><b>name</b>: ibmq_armonk<br/><b>version</b>: 2.4.15, <b>pending jobs</b>: 4<br/><b>status</b>: active<br/>"
      ],
      "text/plain": [
       "<qiskit.providers.models.backendstatus.BackendStatus at 0x2a7e2c71d48>"
      ]
     },
     "execution_count": 55,
     "metadata": {},
     "output_type": "execute_result"
    }
   ],
   "source": [
    "backend.status()"
   ]
  },
  {
   "cell_type": "markdown",
   "metadata": {},
   "source": [
    "You also have the ability to examine various aspects of the device properties and configuration."
   ]
  },
  {
   "cell_type": "code",
   "execution_count": 58,
   "metadata": {},
   "outputs": [
    {
     "data": {
      "text/plain": [
       "dict_keys(['n_uchannels', 'u_channel_lo', 'meas_levels', 'qubit_lo_range', 'meas_lo_range', 'meas_kernels', 'discriminators', 'hamiltonian', 'rep_times', 'dt', 'dtm', 'channels', '_qubit_channel_map', '_channel_qubit_map', '_control_channels', 'acquisition_latency', 'conditional_latency', 'meas_map', '_data', 'backend_name', 'backend_version', 'n_qubits', 'basis_gates', 'gates', 'local', 'simulator', 'conditional', 'open_pulse', 'memory', 'max_shots', 'coupling_map', 'supported_instructions', 'dynamic_reprate_enabled', 'max_experiments', 'sample_name', 'n_registers', 'credits_required', 'online_date', 'description', 'processor_type', 'parametric_pulses'])"
      ]
     },
     "execution_count": 58,
     "metadata": {},
     "output_type": "execute_result"
    }
   ],
   "source": [
    "backend.configuration().__dict__.keys()"
   ]
  },
  {
   "cell_type": "code",
   "execution_count": 59,
   "metadata": {},
   "outputs": [
    {
     "data": {
      "text/plain": [
       "dict_keys(['_data', 'backend_name', 'backend_version', 'last_update_date', 'general', 'qubits', 'gates', '_qubits', '_gates'])"
      ]
     },
     "execution_count": 59,
     "metadata": {},
     "output_type": "execute_result"
    }
   ],
   "source": [
    "backend.properties().__dict__.keys()"
   ]
  },
  {
   "cell_type": "markdown",
   "metadata": {},
   "source": [
    "OK, now the moment of truth. Let's run the state preparation circuit on the hardware and see what we get. Note that one of the primary differences between the QASM simulator code and the experiment is the inclusion of the job_monitor function. This can be extremely useful for keeping track of job progress while one waits in the queue."
   ]
  },
  {
   "cell_type": "code",
   "execution_count": 62,
   "metadata": {},
   "outputs": [
    {
     "name": "stdout",
     "output_type": "stream",
     "text": [
      "Job Status: job has successfully run\n",
      "{'0': 494, '1': 506}\n",
      "Figure(504x360)\n"
     ]
    },
    {
     "data": {
      "image/png": "[encoded data removed]",
      "text/plain": [
       "<Figure size 504x360 with 1 Axes>"
      ]
     },
     "metadata": {
      "needs_background": "light"
     },
     "output_type": "display_data"
    }
   ],
   "source": [
    "num_qubits = 1  # Number of qubits\n",
    "qr = qk.QuantumRegister(num_qubits) # Define quantum register\n",
    "cr = qk.ClassicalRegister(num_qubits) # Define classical register\n",
    "circ = qk.QuantumCircuit(qr, cr) # Define base quantum circuit\n",
    "theta = np.pi/2\n",
    "circ.ry(theta, qr[0]) # Applying an Ry(theta) gate to the zeroth qubit in the register\n",
    "circ.measure(qr,cr)\n",
    "\n",
    "job = qk.execute(circ, backend=backend, shots=1000) # Execute job\n",
    "job_monitor(job, interval=30) # Monitor job progress in intervals of 30s\n",
    "result = job.result() # Collect results\n",
    "\n",
    "print(result.get_counts())\n",
    "\n",
    "print(plot_histogram(result.get_counts()))"
   ]
  },
  {
   "cell_type": "markdown",
   "metadata": {},
   "source": [
    "Success?! If you received \"Job Status: job has successfully run\" then congrats! You have now performed your first experiment on a quantum computer!"
   ]
  },
  {
   "cell_type": "markdown",
   "metadata": {},
   "source": [
    "### Simulating Noisy Hardware"
   ]
  },
  {
   "cell_type": "markdown",
   "metadata": {},
   "source": [
    "Qiskit also allows for the simulation of noise models as well. The models can be [custom](https://qiskit.org/documentation/tutorials/simulators/3_building_noise_models.html) or based on the [device noise parameters](https://qiskit.org/documentation/tutorials/simulators/2_device_noise_simulation.html}). The links provided here go into depth about how to use qiskit to construct various [noise models](https://qiskit.org/documentation/apidoc/aer_noise.html) and simulate them. Here, we will briefly show how to load a device noise model."
   ]
  },
  {
   "cell_type": "markdown",
   "metadata": {},
   "source": [
    "First, we pull the noise model from the backend we would like to simulate."
   ]
  },
  {
   "cell_type": "code",
   "execution_count": 73,
   "metadata": {},
   "outputs": [],
   "source": [
    "device = 'ibmq_armonk'\n",
    "device_backend = provider.get_backend(device)\n",
    "\n",
    "noise_model = NoiseModel.from_backend(device_backend)\n",
    "\n",
    "# Get coupling map from backend\n",
    "coupling_map = backend.configuration().coupling_map\n",
    "\n",
    "# Get basis gates from noise model\n",
    "basis_gates = noise_model.basis_gates"
   ]
  },
  {
   "cell_type": "markdown",
   "metadata": {},
   "source": [
    "Don't forget! We still need to define the simulator backend."
   ]
  },
  {
   "cell_type": "code",
   "execution_count": 76,
   "metadata": {},
   "outputs": [],
   "source": [
    "sim_backend = qk.Aer.get_backend('qasm_simulator')"
   ]
  },
  {
   "cell_type": "markdown",
   "metadata": {},
   "source": [
    "Now, we run the simulation, but with additional specifications of the coupling map defining the topology of the hardware, the basis gates, and the noise model."
   ]
  },
  {
   "cell_type": "code",
   "execution_count": 78,
   "metadata": {},
   "outputs": [
    {
     "name": "stdout",
     "output_type": "stream",
     "text": [
      "{'0': 519, '1': 481}\n",
      "Figure(504x360)\n"
     ]
    },
    {
     "data": {
      "image/png": "[encoded data removed]",
      "text/plain": [
       "<Figure size 504x360 with 1 Axes>"
      ]
     },
     "metadata": {
      "needs_background": "light"
     },
     "output_type": "display_data"
    }
   ],
   "source": [
    "num_qubits = 1  # Number of qubits\n",
    "qr = qk.QuantumRegister(num_qubits) # Define quantum register\n",
    "cr = qk.ClassicalRegister(num_qubits) # Define classical register\n",
    "circ = qk.QuantumCircuit(qr, cr) # Define base quantum circuit\n",
    "theta = np.pi/2\n",
    "circ.ry(theta, qr[0]) # Applying an Ry(theta) gate to the zeroth qubit in the register\n",
    "circ.measure(qr,cr)\n",
    "\n",
    "job = qk.execute(circ, backend=sim_backend, shots=1000,\n",
    "                 coupling_map=coupling_map,\n",
    "                 basis_gates=basis_gates,\n",
    "                 noise_model=noise_model) # Execute job\n",
    "result = job.result() # Collect results\n",
    "\n",
    "print(result.get_counts())\n",
    "\n",
    "print(plot_histogram(result.get_counts()))"
   ]
  },
  {
   "cell_type": "markdown",
   "metadata": {},
   "source": [
    "# Exercise"
   ]
  },
  {
   "cell_type": "markdown",
   "metadata": {},
   "source": [
    "Let's compare the performance of simulators to hardware. Using the state preparation circuit defined above, you will vary $\\theta$ and analyze the probability of being in the $|0\\rangle$ and $|1\\rangle$ states. This comparison will give some insight into the performance of hardware relative to both the ideal simulator and the hardware-informed noisy simulator."
   ]
  },
  {
   "cell_type": "markdown",
   "metadata": {},
   "source": [
    "First, construct a function that takes in $\\theta$ and outputs a circuit for constructing the state $|\\psi(\\theta)\\rangle$."
   ]
  },
  {
   "cell_type": "code",
   "execution_count": 81,
   "metadata": {},
   "outputs": [],
   "source": [
    "num_qubits = 1  # Number of qubits\n",
    "qr = qk.QuantumRegister(num_qubits) # Define quantum register\n",
    "cr = qk.ClassicalRegister(num_qubits) # Define classical register\n",
    "\n",
    "def theta_vary_circ(theta):\n",
    "    circ = qk.QuantumCircuit(qr,cr)\n",
    "    # circuit here\n",
    "    return circ"
   ]
  },
  {
   "cell_type": "markdown",
   "metadata": {},
   "source": [
    "Next, build a dictionary of circuits with various values of $\\theta$. We will do this because IBMQE hardware jobs can take more than one circuit at a time. Typically, the limit is 75 circuits within a job."
   ]
  },
  {
   "cell_type": "code",
   "execution_count": 82,
   "metadata": {},
   "outputs": [],
   "source": [
    "circ_dict = {}\n",
    "theta_vals = np.pi*np.linspace(0,1,75)\n",
    "for theta in theta_vals:\n",
    "    circ_dict[theta] = theta_vary_circ(theta)"
   ]
  },
  {
   "cell_type": "markdown",
   "metadata": {},
   "source": [
    "Next, let's execute the circuit on the ideal simulator. Note that you will need to perform the next step on the noisy simulator and the hardware of your choosing. Don't forget to make sure that the noise model used in the simulator matches the selected hardware!"
   ]
  },
  {
   "cell_type": "code",
   "execution_count": 83,
   "metadata": {},
   "outputs": [],
   "source": [
    "sim_backend = qk.Aer.get_backend('qasm_simulator')\n",
    "job = qk.execute(list(circ_dict.values()), backend=sim_backend, shots=1000) # Execute job\n",
    "result = job.result() # Collect results"
   ]
  },
  {
   "cell_type": "markdown",
   "metadata": {},
   "source": [
    "Let's compile the results into two lists: one with counts for $|0\\rangle$ and the other with counts for $|1\\rangle$."
   ]
  },
  {
   "cell_type": "code",
   "execution_count": 84,
   "metadata": {},
   "outputs": [],
   "source": [
    "counts0 = []\n",
    "counts1 = []\n",
    "\n",
    "for key in circ_dict.keys():\n",
    "    circ = circ_dict[key]\n",
    "    counts0.append(result.get_counts(circ).get('0',0))\n",
    "    counts1.append(result.get_counts(circ).get('1',0))"
   ]
  },
  {
   "cell_type": "markdown",
   "metadata": {},
   "source": [
    "Finally, we plot the results!"
   ]
  },
  {
   "cell_type": "code",
   "execution_count": 90,
   "metadata": {},
   "outputs": [
    {
     "data": {
      "text/plain": [
       "Text(0.5, 0, '$\\\\theta$')"
      ]
     },
     "execution_count": 90,
     "metadata": {},
     "output_type": "execute_result"
    },
    {
     "data": {
      "image/png": "[encoded data removed]",
      "text/plain": [
       "<Figure size 540x360 with 1 Axes>"
      ]
     },
     "metadata": {
      "needs_background": "light"
     },
     "output_type": "display_data"
    }
   ],
   "source": [
    "fig = plt.figure(dpi=90)\n",
    "ax = fig.add_subplot(111)\n",
    "ax.plot(theta_vals, counts0,'-r', label='0 Counts')\n",
    "ax.plot(theta_vals, counts1,'-b', label='1 Counts')\n",
    "ax.set_ylabel('Counts', fontsize=15)\n",
    "ax.set_xlabel(r'$\\theta$', fontsize=15)"
   ]
  },
  {
   "cell_type": "code",
   "execution_count": null,
   "metadata": {},
   "outputs": [],
   "source": []
  }
 ],
 "metadata": {
  "kernelspec": {
   "display_name": "Python 3 (ipykernel)",
   "language": "python",
   "name": "python3"
  },
  "language_info": {
   "codemirror_mode": {
    "name": "ipython",
    "version": 3
   },
   "file_extension": ".py",
   "mimetype": "text/x-python",
   "name": "python",
   "nbconvert_exporter": "python",
   "pygments_lexer": "ipython3",
   "version": "3.7.10"
  }
 },
 "nbformat": 4,
 "nbformat_minor": 4
}
