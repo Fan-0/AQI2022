{
 "cells": [
  {
   "cell_type": "code",
   "execution_count": 137,
   "metadata": {},
   "outputs": [],
   "source": [
    "import numpy as np\n",
    "import qiskit as qk\n",
    "import pickle as pk\n",
    "import qutip as qt\n",
    "import matplotlib.pyplot as plt\n",
    "import copy\n",
    "\n",
    "from qiskit.quantum_info.operators import Operator, Pauli\n",
    "from qiskit import BasicAer\n",
    "from qiskit.tools.visualization import plot_histogram\n",
    "from qiskit import IBMQ\n",
    "%matplotlib inline"
   ]
  },
  {
   "cell_type": "markdown",
   "metadata": {},
   "source": [
    "# Operators"
   ]
  },
  {
   "cell_type": "markdown",
   "metadata": {},
   "source": [
    "While a majority of the operators available through qiskit are unitary, there are certain non-unitary operations that can be performed as well. We briefly review both here; however, more information can be found in the IBMQE website tutorials here: [Summary of Quantum Operations](https://qiskit.org/documentation/tutorials/circuits/3_summary_of_quantum_operations.html)."
   ]
  },
  {
   "cell_type": "markdown",
   "metadata": {},
   "source": [
    "## Unitary Operators"
   ]
  },
  {
   "cell_type": "markdown",
   "metadata": {},
   "source": [
    "Qiskit contains built in unitary operations for single and two qubit manipulation. For example, let us build an entangled state $|\\psi\\rangle>=\\frac{1}{\\sqrt{2}}(|00\\rangle + |11\\rangle)$."
   ]
  },
  {
   "cell_type": "code",
   "execution_count": 6,
   "metadata": {},
   "outputs": [
    {
     "data": {
      "image/png": "[encoded data removed]",
      "text/plain": [
       "<Figure size 220.123x204.68 with 1 Axes>"
      ]
     },
     "metadata": {},
     "output_type": "display_data"
    }
   ],
   "source": [
    "qr = qk.QuantumRegister(2)\n",
    "cr = qk.ClassicalRegister(2)\n",
    "\n",
    "circ = qk.QuantumCircuit(qr,cr)\n",
    "circ.h(qr[0]) # create |+> state on qubit 0\n",
    "circ.cx(qr[0], qr[1]) # apply CNOT gate to create final state\n",
    "circ.draw('mpl')"
   ]
  },
  {
   "cell_type": "markdown",
   "metadata": {},
   "source": [
    "You can also define your own gate and then utilize the built in transpiler to compile your custom gate into one and two-qubit operations. Let's show an example for $U=\\exp(-i\\pi/4\\,\\sigma_x\\otimes \\sigma_x)$."
   ]
  },
  {
   "cell_type": "code",
   "execution_count": 16,
   "metadata": {},
   "outputs": [
    {
     "name": "stdout",
     "output_type": "stream",
     "text": [
      "Quantum object: dims = [[2, 2], [2, 2]], shape = (4, 4), type = oper, isherm = False\n",
      "Qobj data =\n",
      "[[0.70710678+0.j         0.        +0.j         0.        +0.j\n",
      "  0.        -0.70710678j]\n",
      " [0.        +0.j         0.70710678+0.j         0.        -0.70710678j\n",
      "  0.        +0.j        ]\n",
      " [0.        +0.j         0.        -0.70710678j 0.70710678+0.j\n",
      "  0.        +0.j        ]\n",
      " [0.        -0.70710678j 0.        +0.j         0.        +0.j\n",
      "  0.70710678+0.j        ]]\n"
     ]
    },
    {
     "data": {
      "image/png": "[encoded data removed]",
      "text/plain": [
       "<Figure size 220.123x204.68 with 1 Axes>"
      ]
     },
     "metadata": {},
     "output_type": "display_data"
    }
   ],
   "source": [
    "sx = qt.sigmax()\n",
    "U = (-1.0j*np.pi/4*qt.tensor([sx,sx])).expm()\n",
    "print(U)\n",
    "\n",
    "# Convert QuTiP object to Qiskit\n",
    "U_qk = Operator(U.full())\n",
    "circ = qk.QuantumCircuit(qr, cr)\n",
    "circ.append(U_qk, [0, 1])\n",
    "circ.draw('mpl')"
   ]
  },
  {
   "cell_type": "code",
   "execution_count": 17,
   "metadata": {},
   "outputs": [
    {
     "data": {
      "image/png": "[encoded data removed]",
      "text/plain": [
       "<Figure size 882.323x204.68 with 1 Axes>"
      ]
     },
     "metadata": {},
     "output_type": "display_data"
    }
   ],
   "source": [
    "# Transpile gate\n",
    "backend = BasicAer.get_backend('qasm_simulator')\n",
    "circ_transpiled = qk.transpile(circ, backend, basis_gates=['rz','id','X','sx','cx'])\n",
    "circ_transpiled.draw('mpl')"
   ]
  },
  {
   "cell_type": "markdown",
   "metadata": {},
   "source": [
    "You can find more information on [operators](https://qiskit.org/documentation/tutorials/circuits_advanced/02_operators_overview.html) and [advanced quantum circuit elements](https://qiskit.org/documentation/tutorials/circuits_advanced/01_advanced_circuits.html) on the Qiskit website. There are also additional [circuit tutorials](https://qiskit.org/documentation/tutorials/circuits/index.html) available."
   ]
  },
  {
   "cell_type": "markdown",
   "metadata": {},
   "source": [
    "## Non-Unitary Operators"
   ]
  },
  {
   "cell_type": "markdown",
   "metadata": {},
   "source": [
    "Qiskit offers a number of non-unitary operations related to qubit measurement. While the simulators support all such operations, certain operations may not be available on certain processors. Check the backend configuration of the processor to ensure it supports the operation you are looking for prior to submitting a job.\n",
    "\n",
    "The first non-unitary operation offered by Qiskit is the measurement operation at the end of all unitary operations. This is the standard measurement operation you have used in Lab 2. Conditional measurements that utilize the classical register are available in addition to reset operations. Reset operations perform a projective operation of $M=|0\\rangle \\langle 0|$ to return the qubit to its groundstate. For more information on conditional measurements and reset, see [Summary of Operations](https://qiskit.org/documentation/tutorials/circuits/3_summary_of_quantum_operations.html).\n",
    "\n",
    "Lastly, Qiskit offers mid-circuit measurement on certain devices. This operation allows on to perform measurements at various points during the circuit and save off the measurement data in the classical register. Further information on mid-circuit measurement can be found here: [Mid-Circuit Measurement](https://quantum-computing.ibm.com/lab/docs/iql/manage/systems/midcircuit-measurement/)."
   ]
  },
  {
   "cell_type": "markdown",
   "metadata": {},
   "source": [
    "# Expectation Values"
   ]
  },
  {
   "cell_type": "markdown",
   "metadata": {},
   "source": [
    "Using Qiskit simulators, such as the unitary simulator or statevector simulator, one may calculate expectation values using the same approaches discussed in the QuTiP tutorials. However, if one wishes to utilize the qasm simulator or hardware, the information extracted from the quantum system will be limited to the measurement counts 0 and 1. Although we do not have access directly to the full quantum state, it is possible to calculate expectation values via probabilities. We discuss how to perform this calculation below."
   ]
  },
  {
   "cell_type": "markdown",
   "metadata": {},
   "source": [
    "## From Probability to Expectation Values"
   ]
  },
  {
   "cell_type": "markdown",
   "metadata": {},
   "source": [
    "Consider the case where a quantum system is initialized in a state $|\\psi\\rangle$ and one wishes to calculate the expectation value of $\\sigma_x$. This can be performed by calculating $\\langle \\sigma_x \\rangle = \\langle\\psi| \\sigma_x |\\psi\\rangle$, or equivalently, by expressing the $\\sigma_x$ in terms of its eigenvalues and eigenvectors as $\\sigma_x=|+\\rangle\\langle+| - |-\\rangle\\langle-|$, where $|\\pm\\rangle = \\frac{1}{\\sqrt{2}}(|0\\rangle \\pm |1\\rangle$, and relating the expectation value to conditional measurement probabilities. In the latter case, the expectation value of $\\sigma_x$ can be expressed as\n",
    "\\begin{eqnarray}\n",
    "\\langle \\sigma_x \\rangle &=& \\langle\\psi| \\left(|+\\rangle\\langle+| - |-\\rangle\\langle-|\\right) |\\psi\\rangle\\\\\n",
    "&=& \\langle\\psi|+\\rangle\\langle+|\\psi\\rangle - \\langle\\psi|-\\rangle\\langle-|\\psi\\rangle\\\\\n",
    "&=& p(+|\\psi) - p(-|\\psi),\n",
    "\\end{eqnarray}\n",
    "with $p(+|\\psi)=|\\langle +|\\psi\\rangle|^2$ and $p(-|\\psi)=|\\langle -|\\psi\\rangle|^2$. This expression tells us that the expectation value of $\\sigma_x$ can be related to a different in probability from measurements of the $|\\pm\\rangle$ states. Note that since $|+\\rangle$ and $|-\\rangle$ are orthogonal, $p(+|\\psi) + p(-|\\psi)=1$ and the expectation value can be expressed as $\\langle \\sigma_x \\rangle = 2 p(+|\\psi)-1$.\n",
    "\n",
    "So, now the question becomes: how does one calculate this probability? The answer turns out to be pretty straightforward. The state $|+>=H|0\\rangle$ (or $|+>=R_x(\\pi/2)|0\\rangle$), and therefore,\n",
    "\\begin{eqnarray}\n",
    "p(+|\\psi) = |\\langle 0|H|\\psi\\rangle|^2.\n",
    "\\end{eqnarray}\n",
    "This expression implies that one can measure the $|+\\rangle$ state simply by applying an additional Hadamard gate $H$ before measurement."
   ]
  },
  {
   "cell_type": "markdown",
   "metadata": {},
   "source": [
    "## Example"
   ]
  },
  {
   "cell_type": "markdown",
   "metadata": {},
   "source": [
    "In order to drive this point home, let's write out a circuit explicitly for preparing a state in the XZ-plane and measuring in the $|\\pm\\rangle$ (or $x$) basis."
   ]
  },
  {
   "cell_type": "code",
   "execution_count": 132,
   "metadata": {},
   "outputs": [
    {
     "name": "stdout",
     "output_type": "stream",
     "text": [
      "<sx> =  0.6080000000000001\n"
     ]
    },
    {
     "data": {
      "image/png": "[encoded data removed]",
      "text/plain": [
       "<Figure size 504x360 with 1 Axes>"
      ]
     },
     "metadata": {
      "needs_background": "light"
     },
     "output_type": "display_data"
    }
   ],
   "source": [
    "qr = qk.QuantumRegister(1)\n",
    "cr = qk.ClassicalRegister(1)\n",
    "\n",
    "circ = qk.QuantumCircuit(qr, cr)\n",
    "circ.ry(np.pi/5, qr[0]) # state preparation\n",
    "circ.h(qr[0]) # change to x basis\n",
    "circ.measure(qr[0], cr[0]) # measure\n",
    "\n",
    "shots = 1000\n",
    "backend = BasicAer.get_backend('qasm_simulator')\n",
    "job = qk.execute(circ, backend=backend, shots=shots)\n",
    "result = job.result()\n",
    "\n",
    "\n",
    "\n",
    "# Expectation value\n",
    "p0 = result.get_counts(circ).get('0',0)/shots\n",
    "p1 = result.get_counts(circ).get('1',0)/shots\n",
    "ev_sx = p0 - p1\n",
    "print(r'<sx> = ', ev_sx)\n",
    "\n",
    "# Histogram Plots for the data\n",
    "plot_histogram(result.get_counts());"
   ]
  },
  {
   "cell_type": "markdown",
   "metadata": {},
   "source": [
    "Note that the 0 counts now correspond to measuring $|+\\rangle$ while the 1 counts correspond to $|-\\rangle$. If we remove the Hadamard gate, 0 and 1 correspond to $|0\\rangle$ and $|1\\rangle$, respectively."
   ]
  },
  {
   "cell_type": "markdown",
   "metadata": {},
   "source": [
    "# Time Evolution"
   ]
  },
  {
   "cell_type": "markdown",
   "metadata": {},
   "source": [
    "Each unitary and non-unitary operation take a specific amount of time that depends upon the operation, processor, and qubit. Therefore, inherently, any circuit implemented on a quantum processor results in the time evolution of the quantum system. Below, we discuss a few examples of quantum evolution that are distinct from those discussed thus far. The first is related to the characterization of qubit decoherence rates and the other is an example of simulating quantum sensing experiments on quantum computers."
   ]
  },
  {
   "cell_type": "markdown",
   "metadata": {},
   "source": [
    "## Free Evolution (No Operation)"
   ]
  },
  {
   "cell_type": "markdown",
   "metadata": {},
   "source": [
    "Free evolution refers to allowing the qubit or set of qubits to evolve without external manipulation. Thus, the quantum system is only subject to its internal dynamics which may include interactions with its environment. Free evolution is implemented in Qiskit via the identity gate. Below, we show how to construct a free evolution circuit and implement it on hardware."
   ]
  },
  {
   "cell_type": "code",
   "execution_count": 20,
   "metadata": {},
   "outputs": [],
   "source": [
    "qr = qk.QuantumRegister(1)\n",
    "cr = qk.ClassicalRegister(1)\n",
    "\n",
    "def free_evol(N):\n",
    "    # Applies N identity gates\n",
    "    circ = qk.QuantumCircuit(qr,cr)\n",
    "    [circ.i(qr[0]) for i in range(N)]\n",
    "    return circ\n",
    "\n",
    "def state_prep(theta):\n",
    "    # Prepares a quantum state\n",
    "    circ = qk.QuantumCircuit(qr,cr)\n",
    "    circ.ry(theta, qr[0])\n",
    "    return circ\n",
    "\n",
    "def meas(theta):\n",
    "    # Returns the state to the z basis and measures\n",
    "    circ = qk.QuantumCircuit(qr,cr)\n",
    "    circ.ry(-theta, qr[0])\n",
    "    circ.measure(qr[0], cr[0])\n",
    "    return circ"
   ]
  },
  {
   "cell_type": "code",
   "execution_count": 24,
   "metadata": {},
   "outputs": [
    {
     "data": {
      "image/png": "[encoded data removed]",
      "text/plain": [
       "<Figure size 581.469x144.48 with 1 Axes>"
      ]
     },
     "metadata": {},
     "output_type": "display_data"
    }
   ],
   "source": [
    "circ = qk.QuantumCircuit(qr,cr)\n",
    "\n",
    "theta = np.pi/2\n",
    "N = 5\n",
    "circ = state_prep(theta) + free_evol(N) + meas(theta)\n",
    "circ.draw('mpl')"
   ]
  },
  {
   "cell_type": "markdown",
   "metadata": {},
   "source": [
    "### A Quick Aside: Inherent Transpilation"
   ]
  },
  {
   "cell_type": "markdown",
   "metadata": {},
   "source": [
    "The Qiskit execute function will inherently transpile your circuit prior to sending it off to hardware. In addition to ensuring the circuit is executing native gates, it will also look to reduce the circuit depth where ever possible. This can be an issue when implementing circuits like free evolution as the final compiled circuit will reduce to only a measurement operation. Setting the optimization_level variable to optimization_level=0 in the execute function prohibits the transpiler from doing anything beyond translating your circuit into the native gates. Below, we illustrate the different between zeroth and first order transpilation. For further information on transpilation, see [Transpiler Passes and Passmanager](https://qiskit.org/documentation/tutorials/circuits_advanced/04_transpiler_passes_and_passmanager.html)."
   ]
  },
  {
   "cell_type": "code",
   "execution_count": 27,
   "metadata": {},
   "outputs": [
    {
     "data": {
      "image/png": "[encoded data removed]",
      "text/plain": [
       "<Figure size 1063.07x144.48 with 1 Axes>"
      ]
     },
     "metadata": {},
     "output_type": "display_data"
    }
   ],
   "source": [
    "backend = BasicAer.get_backend('qasm_simulator')\n",
    "\n",
    "circ_opt0 = qk.transpile(circ, backend=backend, optimization_level=0, basis_gates=['rz','id','X','sx','cx'])\n",
    "circ_opt0.draw('mpl')"
   ]
  },
  {
   "cell_type": "code",
   "execution_count": 29,
   "metadata": {},
   "outputs": [
    {
     "data": {
      "image/png": "[encoded data removed]",
      "text/plain": [
       "<Figure size 160.069x144.48 with 1 Axes>"
      ]
     },
     "metadata": {},
     "output_type": "display_data"
    }
   ],
   "source": [
    "circ_opt1 = qk.transpile(circ, backend=backend, basis_gates=['rz','id','X','sx','cx'])\n",
    "circ_opt1.draw('mpl')"
   ]
  },
  {
   "cell_type": "markdown",
   "metadata": {},
   "source": [
    "### Executing the Free Evolution Circuit"
   ]
  },
  {
   "cell_type": "code",
   "execution_count": 43,
   "metadata": {},
   "outputs": [],
   "source": [
    "Nvals = list(range(0, 100, 2))\n",
    "theta = np.pi/2\n",
    "\n",
    "circ_batch = []\n",
    "for N in Nvals:\n",
    "    circ = state_prep(theta) + free_evol(N) + meas(theta)\n",
    "    circ_batch.append(circ)"
   ]
  },
  {
   "cell_type": "code",
   "execution_count": 49,
   "metadata": {},
   "outputs": [],
   "source": [
    "backend = BasicAer.get_backend('qasm_simulator')\n",
    "shots = 1000\n",
    "\n",
    "job = qk.execute(circ_batch, backend=backend, shots=shots, optimization_level=0)\n",
    "result = job.result()\n",
    "\n",
    "prob0 = []\n",
    "for circ in circ_batch:\n",
    "    prob0.append(result.get_counts(circ).get('0',0)/shots)"
   ]
  },
  {
   "cell_type": "code",
   "execution_count": 50,
   "metadata": {},
   "outputs": [
    {
     "data": {
      "text/plain": [
       "Text(0,0.5,'Probability of $|0\\\\rangle$')"
      ]
     },
     "execution_count": 50,
     "metadata": {},
     "output_type": "execute_result"
    },
    {
     "data": {
      "image/png": "[encoded data removed]",
      "text/plain": [
       "<Figure size 540x360 with 1 Axes>"
      ]
     },
     "metadata": {
      "needs_background": "light"
     },
     "output_type": "display_data"
    }
   ],
   "source": [
    "fig = plt.figure(dpi=90)\n",
    "ax = fig.add_subplot(111)\n",
    "ax.plot(Nvals, prob0)\n",
    "ax.set_xlabel('Number of Identity Gates')\n",
    "ax.set_ylabel(r'Probability of $|0\\rangle$')"
   ]
  },
  {
   "cell_type": "markdown",
   "metadata": {},
   "source": [
    "## Simulating Quantum Dynamics"
   ]
  },
  {
   "cell_type": "markdown",
   "metadata": {},
   "source": [
    "Let's now consider simulating the dynamics of a quantum system. We will utilize the QASM simulator here, but we can replace the simulator backend with a hardware backend at any time. We will focus on a few simple examples of quantum simulations that illustrate the utility of Qiskit and quantum hardware for applications in quantum dynamics and quantum sensing simulation."
   ]
  },
  {
   "cell_type": "markdown",
   "metadata": {},
   "source": [
    "### Single Qubit in the Presence of a Constant Magnetic Field"
   ]
  },
  {
   "cell_type": "markdown",
   "metadata": {},
   "source": [
    "We will consider the case of a single qubit subject to a constant magnetic field in the z-direction, or equivalently, along the $\\sigma_z$ channel. The Hamiltonian governing the dynamics of this system is simply $H=\\frac{\\omega}{2}\\sigma_z$, where $\\omega$ is the strength of the magnetic field. The time dynamics of the system are determined by \n",
    "$$\n",
    "U(t) = e^{-i H t} = \\exp\\left(-i \\frac{\\omega t}{2} \\sigma^z\\right),\n",
    "$$\n",
    "which leads to the time evolved state $|\\psi(t)\\rangle = U(t)|\\psi(0)\\rangle$. The probability of being in the initial state after some time $t$ is\n",
    "$$\n",
    "P(t) = |\\langle \\psi(0)|\\psi(t)\\rangle|^2 = |\\langle \\psi(0)|U(t)|\\psi(0)\\rangle|^2.\n",
    "$$\n",
    "\n",
    "The equivalence between $U(t)$ and $R_z(\\theta)$, allows for the system to be simulated in Qiskit. In particular, one can define $\\theta=\\omega t$ and simulate the dynamics up to some time $T$ via\n",
    "\\begin{eqnarray}\n",
    "U(T) &=& R_z(\\omega T)\\cr\n",
    "     &=& R_z(\\omega \\delta t) R_z(\\omega \\delta t)\\cdots R_z(\\omega \\delta t),\n",
    "\\end{eqnarray}\n",
    "with $T=N\\delta t$. Using Qiskit, we will now show how to simulate this system and calculate $P(t)$."
   ]
  },
  {
   "cell_type": "code",
   "execution_count": 89,
   "metadata": {},
   "outputs": [],
   "source": [
    "qr = qk.QuantumRegister(1)\n",
    "cr = qk.ClassicalRegister(1)\n",
    "\n",
    "def single_qubit_mag_evol(N, omega, dt):\n",
    "    # Applies N identity gates\n",
    "    circ = qk.QuantumCircuit(qr,cr)\n",
    "    [circ.rz(omega*dt, qr[0]) for i in range(N)]\n",
    "    return circ\n",
    "\n",
    "def single_qubit_state_prep(theta):\n",
    "    # Prepares a quantum state\n",
    "    circ = qk.QuantumCircuit(qr,cr)\n",
    "    circ.ry(theta, qr[0])\n",
    "    return circ\n",
    "\n",
    "def single_qubit_meas(theta):\n",
    "    # Returns the state to the z basis and measures\n",
    "    circ = qk.QuantumCircuit(qr,cr)\n",
    "    circ.ry(-theta, qr[0])\n",
    "    circ.measure(qr[0], cr[0])\n",
    "    return circ"
   ]
  },
  {
   "cell_type": "code",
   "execution_count": 151,
   "metadata": {},
   "outputs": [
    {
     "data": {
      "image/png": "[encoded data removed]",
      "text/plain": [
       "<Figure size 908.866x144.48 with 1 Axes>"
      ]
     },
     "metadata": {},
     "output_type": "display_data"
    }
   ],
   "source": [
    "circ = qk.QuantumCircuit(qr,cr)\n",
    "\n",
    "theta = np.pi/2\n",
    "T = 5\n",
    "N = 10\n",
    "dt = T/N\n",
    "period = 4*T\n",
    "omega = 2*np.pi/period\n",
    "circ = single_qubit_state_prep(theta) + single_qubit_mag_evol(N, omega, dt) + single_qubit_meas(theta)\n",
    "circ.draw('mpl')"
   ]
  },
  {
   "cell_type": "code",
   "execution_count": 158,
   "metadata": {},
   "outputs": [],
   "source": [
    "Nvals = list(range(0, 100, 1))\n",
    "theta = np.pi/2\n",
    "T = 5\n",
    "dt = 0.1*T\n",
    "period = 4*T\n",
    "omega = 2*np.pi/period\n",
    "circ_batch = []\n",
    "for N in Nvals:\n",
    "    circ = single_qubit_state_prep(theta) + single_qubit_mag_evol(N, omega, dt) + single_qubit_meas(theta)\n",
    "    circ_batch.append(circ)"
   ]
  },
  {
   "cell_type": "code",
   "execution_count": 159,
   "metadata": {},
   "outputs": [],
   "source": [
    "backend = BasicAer.get_backend('qasm_simulator')\n",
    "shots = 1000\n",
    "\n",
    "job = qk.execute(circ_batch, backend=backend, shots=shots, optimization_level=0)\n",
    "result = job.result()\n",
    "\n",
    "single_qubit_prob0 = []\n",
    "for circ in circ_batch:\n",
    "    single_qubit_prob0.append(result.get_counts(circ).get('0',0)/shots)"
   ]
  },
  {
   "cell_type": "code",
   "execution_count": 160,
   "metadata": {},
   "outputs": [
    {
     "data": {
      "text/plain": [
       "Text(0, 0.5, 'Probability of $|0\\\\rangle$')"
      ]
     },
     "execution_count": 160,
     "metadata": {},
     "output_type": "execute_result"
    },
    {
     "data": {
      "image/png": "[encoded data removed]",
      "text/plain": [
       "<Figure size 540x360 with 1 Axes>"
      ]
     },
     "metadata": {
      "needs_background": "light"
     },
     "output_type": "display_data"
    }
   ],
   "source": [
    "fig = plt.figure(dpi=90)\n",
    "ax = fig.add_subplot(111)\n",
    "ax.plot(Nvals, single_qubit_prob0)\n",
    "ax.set_xlabel('Number of Identity Gates')\n",
    "ax.set_ylabel(r'Probability of $|0\\rangle$')"
   ]
  },
  {
   "cell_type": "markdown",
   "metadata": {},
   "source": [
    "### Two Qubits in an Entangled State Subject to a Constant Magnetic Field"
   ]
  },
  {
   "cell_type": "markdown",
   "metadata": {},
   "source": [
    "Now, consider an alternative scenario where the quantum system is composed of two qubits. Let each qubit be subject to the same constant magnetic field as before such that\n",
    "$$\n",
    "H = \\frac{\\omega}{2}\\left(\\sigma^z_1 + \\sigma^z_2\\right)\n",
    "$$\n",
    "where $\\sigma^z_j$ is the $\\sigma^z$ operator for the $j$th qubit. More concretely, $\\sigma^z_1 = \\sigma^z\\otimes I$ and $\\sigma^z_2 = I\\otimes \\sigma^z$ with $\\otimes$ denoting a direct product. As before, we will consider the dynamics generated by $U(t)=e^{-i H t}$ and the probability $P(t)=|\\langle \\psi(0)|\\psi(t)\\rangle|^2$. The primary distinction from the single qubit case is that we will prepare the two qubits in an entangled state $|\\psi(0)\\rangle=\\frac{1}{\\sqrt{2}}\\left( |00\\rangle + |11\\rangle \\right)$."
   ]
  },
  {
   "cell_type": "code",
   "execution_count": 161,
   "metadata": {},
   "outputs": [],
   "source": [
    "qr = qk.QuantumRegister(2)\n",
    "cr = qk.ClassicalRegister(2)\n",
    "\n",
    "def two_qubit_mag_evol(N, omega, dt):\n",
    "    # Applies N identity gates\n",
    "    circ = qk.QuantumCircuit(qr,cr)\n",
    "    [circ.rz(omega*dt, qr[0]) for i in range(N)]\n",
    "    [circ.rz(omega*dt, qr[1]) for i in range(N)]\n",
    "    return circ\n",
    "\n",
    "def two_qubit_state_prep(theta):\n",
    "    # Prepares a quantum state\n",
    "    circ = qk.QuantumCircuit(qr,cr)\n",
    "    circ.h(qr[0])\n",
    "    circ.cx(qr[0], qr[1])\n",
    "    return circ\n",
    "\n",
    "def two_qubit_meas(theta):\n",
    "    # Returns the state to the z basis and measures\n",
    "    circ = qk.QuantumCircuit(qr,cr)\n",
    "    circ.cx(qr[0], qr[1])\n",
    "    circ.h(qr[0])\n",
    "    circ.barrier(qr)\n",
    "    circ.measure([qr[0], qr[1]], [cr[0], cr[1]])\n",
    "    return circ"
   ]
  },
  {
   "cell_type": "code",
   "execution_count": 162,
   "metadata": {},
   "outputs": [
    {
     "data": {
      "image/png": "[encoded data removed]",
      "text/plain": [
       "<Figure size 1162.79x204.68 with 1 Axes>"
      ]
     },
     "metadata": {},
     "output_type": "display_data"
    }
   ],
   "source": [
    "circ = qk.QuantumCircuit(qr,cr)\n",
    "\n",
    "theta = np.pi/2\n",
    "T = 5\n",
    "N = 10\n",
    "dt = T/N\n",
    "period = 4*T\n",
    "omega = 2*np.pi/period\n",
    "circ = two_qubit_state_prep(theta) + two_qubit_mag_evol(N, omega, dt) + two_qubit_meas(theta)\n",
    "circ.draw('mpl')"
   ]
  },
  {
   "cell_type": "code",
   "execution_count": 163,
   "metadata": {},
   "outputs": [],
   "source": [
    "Nvals = list(range(0, 100, 1))\n",
    "theta = np.pi/2\n",
    "T = 5\n",
    "dt = 0.1*T\n",
    "period = 4*T\n",
    "omega = 2*np.pi/period\n",
    "circ_batch = []\n",
    "for N in Nvals:\n",
    "    circ = two_qubit_state_prep(theta) + two_qubit_mag_evol(N, omega, dt) + two_qubit_meas(theta)\n",
    "    circ_batch.append(circ)"
   ]
  },
  {
   "cell_type": "code",
   "execution_count": 164,
   "metadata": {},
   "outputs": [],
   "source": [
    "backend = BasicAer.get_backend('qasm_simulator')\n",
    "shots = 1000\n",
    "\n",
    "job = qk.execute(circ_batch, backend=backend, shots=shots, optimization_level=0)\n",
    "result = job.result()\n",
    "\n",
    "two_qubit_prob0 = []\n",
    "for circ in circ_batch:\n",
    "    two_qubit_prob0.append(result.get_counts(circ).get('00',0)/shots)"
   ]
  },
  {
   "cell_type": "code",
   "execution_count": 165,
   "metadata": {},
   "outputs": [
    {
     "data": {
      "text/plain": [
       "<matplotlib.legend.Legend at 0x21dd1bf5c08>"
      ]
     },
     "execution_count": 165,
     "metadata": {},
     "output_type": "execute_result"
    },
    {
     "data": {
      "image/png": "[encoded data removed]",
      "text/plain": [
       "<Figure size 540x360 with 1 Axes>"
      ]
     },
     "metadata": {
      "needs_background": "light"
     },
     "output_type": "display_data"
    }
   ],
   "source": [
    "fig = plt.figure(dpi=90)\n",
    "ax = fig.add_subplot(111)\n",
    "ax.plot(Nvals, single_qubit_prob0, '--r', label='Single Qubit')\n",
    "ax.plot(Nvals, two_qubit_prob0, '-k', label='Two Qubits')\n",
    "ax.set_xlabel('Number of Identity Gates')\n",
    "ax.set_ylabel(r'Probability of $|0\\rangle$')\n",
    "ax.legend(bbox_to_anchor=(1.35,0.5))"
   ]
  },
  {
   "cell_type": "markdown",
   "metadata": {},
   "source": [
    "How does the two qubit case compare to the single qubit case?"
   ]
  },
  {
   "cell_type": "markdown",
   "metadata": {},
   "source": [
    "## A Word on Timing"
   ]
  },
  {
   "cell_type": "markdown",
   "metadata": {},
   "source": [
    "In many cases, you may wish to plot your results as a function of time. This requires you to know the gate timing for each gate you implemented. Each processor has distinct timing, so any comparison you make will require you to interrogate the processor and the particular qubit(s) utilized for an experiment. Below, we show how to access the timing for the identity gate on the Armonk processor. The procedure is identical for each processor. The primary difference is that some processors have additional features so the gate dictionary may vary in length and gate type depending upon the processor."
   ]
  },
  {
   "cell_type": "markdown",
   "metadata": {},
   "source": [
    "First, we access the hardware and pull the backend properties."
   ]
  },
  {
   "cell_type": "code",
   "execution_count": 134,
   "metadata": {},
   "outputs": [
    {
     "name": "stderr",
     "output_type": "stream",
     "text": [
      "ibmqfactory.load_account:WARNING:2021-09-14 10:45:19,290: Credentials are already in use. The existing account in the session will be replaced.\n"
     ]
    }
   ],
   "source": [
    "token = 'Put your token here'\n",
    "try:\n",
    "    IBMQ.load_account()\n",
    "except:\n",
    "    qk.IBMQ.save_account(token=token)\n",
    "    qk.IBMQ.enable_account(token)\n",
    "provider = IBMQ.get_provider(hub=\"ibm-q\", group=\"open\", project=\"main\")\n",
    "backend = provider.get_backend(\"ibmq_armonk\")"
   ]
  },
  {
   "cell_type": "markdown",
   "metadata": {},
   "source": [
    "It can be useful to examine the backend data structures as dictionaries to get a better idea of the content."
   ]
  },
  {
   "cell_type": "code",
   "execution_count": 135,
   "metadata": {},
   "outputs": [
    {
     "data": {
      "text/plain": [
       "{'_data': {'name': 'id0'},\n",
       " 'qubits': [0],\n",
       " 'gate': 'id',\n",
       " 'parameters': [Nduv(datetime.datetime(2021, 9, 9, 0, 32, 45, tzinfo=tzlocal()), gate_error, , 0.00022558395591005344),\n",
       "  Nduv(datetime.datetime(2021, 9, 9, 9, 52, 16, tzinfo=tzlocal()), gate_length, ns, 71.11111111111111)]}"
      ]
     },
     "execution_count": 135,
     "metadata": {},
     "output_type": "execute_result"
    }
   ],
   "source": [
    "backend.properties().__dict__['gates'][0].__dict__"
   ]
  },
  {
   "cell_type": "markdown",
   "metadata": {},
   "source": [
    "Let's access the identity gate time. Note that the above print statement gives the units (nanoseconds) for the gate time."
   ]
  },
  {
   "cell_type": "code",
   "execution_count": 136,
   "metadata": {},
   "outputs": [
    {
     "data": {
      "text/plain": [
       "71.11111111111111"
      ]
     },
     "execution_count": 136,
     "metadata": {},
     "output_type": "execute_result"
    }
   ],
   "source": [
    "t_id = backend.properties().gates[0].parameters[1].value\n",
    "t_id"
   ]
  },
  {
   "cell_type": "markdown",
   "metadata": {},
   "source": [
    "# Running Large Sets of Circuits on Hardware"
   ]
  },
  {
   "cell_type": "markdown",
   "metadata": {},
   "source": [
    "Over the past few years, we have developed a set of general principles and practices for running experiments on the Quantum Experience. Here, we outline two such techniques that we utilize to improve experiment efficiency and the quality of the data."
   ]
  },
  {
   "cell_type": "markdown",
   "metadata": {},
   "source": [
    "## Parallel Queuing"
   ]
  },
  {
   "cell_type": "markdown",
   "metadata": {},
   "source": [
    "In practical settings, you will likely need to run many circuits to examine a particular problem of interest. While you can run each individual circuit as a job, it is far more efficient to utilize the batching feature of Qiskit. Batches can be any size when using simulators, however, they are limited to anywhere between 75 and 900 circuits depending upon the processor. Above (see the Free Evolution and Simulating Quantum Dynamics Sections), we leveraged batching by creating a list of circuits and executing the entire list within a single job. We can further improve efficiency by exploiting additional, lesser known features of the Quantum Experience.\n",
    "\n",
    "The IBMQE allows for 5 simultaneous jobs to be submitted to a queue. Thus, one can create 5 unique python instances or jupyter notebooks and execute each one in parallel. While this \"trick\" wont add any true parallelization to the jobs, it will allow you to occupy 5 spots in the queue simultaneously. In our experience, this approach can drastically reduce the overall experiment time and the possibility of fluctuations in the data due to the time-dependence of hardware noise. The latter is most important when making comparisons between algorithms. For example, let's say that you ran algorithm A on Jan. 1st and then ran algorithm B on Jan. 3rd. The hardware properties have likely changes between those days and thus, a comparison between A and B is likely to be invalid. The parallel queuing approach attempts to mitigate such issues by running the algorithms as quickly as possible.\n",
    "\n",
    "Our suggestion for executing parallel queuing is to create a static list of dictionaries that outlines the specifications of each circuit. The list can be pulled into each python instance where a subset of circuit specifications are then used to create and execute that subset. Below, we outline a suggested approach for creating and executing parallel queuing."
   ]
  },
  {
   "cell_type": "markdown",
   "metadata": {},
   "source": [
    "Consider the case of the single qubit in the constant magnetic field. We wish to perform quantum simulations of this experiment, but for different initial states. Let's first create a list that includes specifications for each of the desired circuits."
   ]
  },
  {
   "cell_type": "code",
   "execution_count": 167,
   "metadata": {},
   "outputs": [],
   "source": [
    "initial_states = np.linspace(0,1,25) # theta values (units of pi)\n",
    "Nvals = list(range(0, 100, 1)) # effect timing\n",
    "\n",
    "circuit_specs = []\n",
    "for N in Nvals:\n",
    "    for theta in initial_states:\n",
    "        exp_dict = {'N': N, 'theta': theta}\n",
    "        circuit_specs.append(copy.deepcopy(exp_dict))\n",
    "\n",
    "# Save off circuit specifications list\n",
    "pk.dump(circuit_specs, open('experiment_list.p', 'wb'))"
   ]
  },
  {
   "cell_type": "markdown",
   "metadata": {},
   "source": [
    "Note that we have ordered the experiments such that all $\\theta$ values for a fixed $N$ are executed back-to-back. This ordering is important when making comparisons against different $\\theta$ values. To see why, consider a plot of probability versus $N$ where each curve on the plot indicates a different $\\theta$ value. If we wish to make direct  comparisons between the curves, we would examine the data in vertical slices, i.e., at fixed $N$. Executing the experiments with the ordering shown above, enables such a comparison to be made with reduced variability in the results due to hardware noise fluctuations."
   ]
  },
  {
   "cell_type": "markdown",
   "metadata": {},
   "source": [
    "Now, let's load the list into our Jupyter notebook and execute some subset of the list."
   ]
  },
  {
   "cell_type": "code",
   "execution_count": 166,
   "metadata": {},
   "outputs": [],
   "source": [
    "qr = qk.QuantumRegister(1)\n",
    "cr = qk.ClassicalRegister(1)\n",
    "\n",
    "def single_qubit_mag_evol(N, omega, dt):\n",
    "    # Applies N identity gates\n",
    "    circ = qk.QuantumCircuit(qr,cr)\n",
    "    [circ.rz(omega*dt, qr[0]) for i in range(N)]\n",
    "    return circ\n",
    "\n",
    "def single_qubit_state_prep(theta):\n",
    "    # Prepares a quantum state\n",
    "    circ = qk.QuantumCircuit(qr,cr)\n",
    "    circ.ry(theta, qr[0])\n",
    "    return circ\n",
    "\n",
    "def single_qubit_meas(theta):\n",
    "    # Returns the state to the z basis and measures\n",
    "    circ = qk.QuantumCircuit(qr,cr)\n",
    "    circ.ry(-theta, qr[0])\n",
    "    circ.measure(qr[0], cr[0])\n",
    "    return circ"
   ]
  },
  {
   "cell_type": "code",
   "execution_count": 169,
   "metadata": {},
   "outputs": [
    {
     "name": "stdout",
     "output_type": "stream",
     "text": [
      "Batch:  1\n",
      "[{'N': 0, 'theta': 0.20833333333333331}, {'N': 0, 'theta': 0.25}, {'N': 0, 'theta': 0.29166666666666663}, {'N': 0, 'theta': 0.3333333333333333}, {'N': 0, 'theta': 0.375}]\n",
      "Batch:  2\n",
      "[{'N': 0, 'theta': 0.41666666666666663}, {'N': 0, 'theta': 0.4583333333333333}, {'N': 0, 'theta': 0.5}, {'N': 0, 'theta': 0.5416666666666666}, {'N': 0, 'theta': 0.5833333333333333}]\n"
     ]
    }
   ],
   "source": [
    "circuit_specs = pk.load(open('experiment_list.p', 'rb'))\n",
    "\n",
    "# Batching variables\n",
    "notebook = 1\n",
    "starting_batch_idx = notebook # where to begin in the list\n",
    "num_batches_per_notebook = 2\n",
    "final_batch_idx = starting_batch_idx + num_batches_per_notebook # number of batches to run in this notebook\n",
    "batch_size = 5\n",
    "\n",
    "\n",
    "# Simulation Variables\n",
    "T = 5\n",
    "dt = 0.1*T\n",
    "period = 4*T\n",
    "omega = 2*np.pi/period\n",
    "\n",
    "\n",
    "# Hardware/Simulator Specs\n",
    "backend = BasicAer.get_backend('qasm_simulator')\n",
    "shots = 1000\n",
    "\n",
    "\n",
    "batch_tracker_idx = starting_batch_idx\n",
    "for batch_idx in range(starting_batch_idx*batch_size, final_batch_idx*batch_size, batch_size):\n",
    "    print('Batch: ', batch_tracker_idx)\n",
    "    circ_subset = circuit_specs[batch_idx : (batch_idx+batch_size)] # grab circuits\n",
    "    print(circ_subset)\n",
    "    \n",
    "    # create circuit batch for execution\n",
    "    circ_batch = {}\n",
    "    for circ_dict in circ_subset:\n",
    "        theta = circ_dict['theta']*np.pi\n",
    "        N = circ_dict['N']\n",
    "        circ = single_qubit_state_prep(theta) + single_qubit_mag_evol(N, omega, dt) + single_qubit_meas(theta)\n",
    "        \n",
    "        circ_batch['theta-%d_N-%d' % (theta, N)] = circ\n",
    "    # Run experiments\n",
    "    job = qk.execute(list(circ_batch.values()), backend=backend, shots=shots, optimization_level=0)\n",
    "    results = job.result()\n",
    "    \n",
    "    # Collect results\n",
    "    counts_dict = {}\n",
    "    for key in circ_batch.keys():\n",
    "        circ = circ_batch[key]\n",
    "        counts = results.get_counts(circ)\n",
    "        counts_dict[key] = counts\n",
    "    \n",
    "    # Save data\n",
    "    fname = 'qsim_batch%d.p' % batch_tracker_idx\n",
    "    pk.dump(counts_dict, open(fname, 'wb'))\n",
    "    \n",
    "    batch_tracker_idx += 1"
   ]
  },
  {
   "cell_type": "markdown",
   "metadata": {},
   "source": [
    "## Improving Data Collection via Circuit Randomization"
   ]
  },
  {
   "cell_type": "markdown",
   "metadata": {},
   "source": [
    "Randomizing the ordering of the circuit execution can also be useful for improving the quality of the data. What do we mean by quality of the data? Let's consider an example to illustrate a common issue you may encounter. Consider the single qubit simulation discussed above. For now, let's assume that we only wish to examine a single $\\theta$ value. We perform the experiments by increasing $N$ sequentially, either by batching or running the jobs individually. Upon plotting the data, we find a sudden increase or decrease in the data trend that differs from the expected oscillation. What happened? There are a few possibilities: \n",
    " - Your job overlapped with a calibration cycle. During calibration cycles, gates are calibrated and decoherence rates are calculated. Calibrations will result in a change in the performance of the hardware. \n",
    " - The hardware noise model changed. In particular, the T1 relaxation time of superconducting qubits can fluctuate dramatically due to the presence of [quasiparticles](https://www.nature.com/articles/ncomms12964) or [two-level-system defects](https://aip.scitation.org/doi/10.1063/1.3693409). Abrupt changes in T1 will result in a change in hardware performance. If you are interested in learning more about superconducting qubits, [A Quantum Engineer's Guide to Superconducting Qubits](https://aip.scitation.org/doi/10.1063/1.5089550) is a great place to start.\n",
    " \n",
    "An approach for mitigating abrupt changes in data collection is to effectively average those fluctuations over the entire dataset. We perform the averaging by randomizing the data collection. An example is given below for the single qubit experiment discussed above."
   ]
  },
  {
   "cell_type": "code",
   "execution_count": 171,
   "metadata": {},
   "outputs": [],
   "source": [
    "initial_states = np.linspace(0,1,25) # theta values (units of pi)\n",
    "Nvals = list(range(0, 100, 1)) # effect timing\n",
    "\n",
    "circuit_specs = []\n",
    "while len(Nvals) > 0:\n",
    "    N = np.random.choice(Nvals)\n",
    "    for theta in initial_states:\n",
    "        exp_dict = {'N': N, 'theta': theta}\n",
    "        circuit_specs.append(copy.deepcopy(exp_dict))\n",
    "    Nvals.remove(N)\n",
    "\n",
    "# Save off circuit specifications list\n",
    "pk.dump(circuit_specs, open('experiment_list_randomized.p', 'wb'))"
   ]
  },
  {
   "cell_type": "markdown",
   "metadata": {},
   "source": [
    "# Exercise"
   ]
  },
  {
   "cell_type": "markdown",
   "metadata": {},
   "source": [
    "As an exercise, run the free evolution, single-qubit and two-qubit simulation experiments on a processor of your choice. Compare the results to the simulator. Do they differ? If so, how?"
   ]
  },
  {
   "cell_type": "code",
   "execution_count": null,
   "metadata": {},
   "outputs": [],
   "source": []
  }
 ],
 "metadata": {
  "kernelspec": {
   "display_name": "Python 3 (ipykernel)",
   "language": "python",
   "name": "python3"
  },
  "language_info": {
   "codemirror_mode": {
    "name": "ipython",
    "version": 3
   },
   "file_extension": ".py",
   "mimetype": "text/x-python",
   "name": "python",
   "nbconvert_exporter": "python",
   "pygments_lexer": "ipython3",
   "version": "3.7.10"
  }
 },
 "nbformat": 4,
 "nbformat_minor": 4
}
