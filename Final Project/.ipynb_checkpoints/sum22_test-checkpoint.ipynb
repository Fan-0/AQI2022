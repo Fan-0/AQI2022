{
 "cells": [
  {
   "cell_type": "code",
   "execution_count": 87,
   "source": [
    "import Su22\r\n",
    "import qiskit as qk\r\n",
    "import numpy as np\r\n",
    "from qiskit.tools.visualization import plot_histogram\r\n",
    "from qiskit import IBMQ\r\n",
    "from qiskit.tools.monitor import job_monitor\r\n",
    "from qiskit.providers.aer.noise import NoiseModel\r\n",
    "import matplotlib\r\n",
    "import matplotlib.pyplot as plt\r\n",
    "from qiskit.visualization import plot_bloch_multivector\r\n",
    "from qiskit.tools.monitor import job_monitor\r\n",
    "from qiskit import pulse              \r\n",
    "from qiskit.circuit import Parameter \r\n",
    "from IPython.display import display\r\n",
    "import warnings\r\n",
    "warnings.filterwarnings('ignore')\r\n",
    "from qiskit.tools.jupyter import *\r\n",
    "token = 'b6464d13b284902ed1d1a48d2aed6bd0474c7be45011741b0fb879614419659cb722e74a046af3d5caae0398aec9bdac8843068ecbee91aff466cf3e30f3bef5'\r\n",
    "try:\r\n",
    "    IBMQ.load_account()\r\n",
    "except:\r\n",
    "    qk.IBMQ.save_account(token=token)\r\n",
    "    qk.IBMQ.enable_account(token)\r\n",
    "provider = IBMQ.get_provider(hub=\"ibm-q\", group=\"open\", project=\"main\")\r\n",
    "backend = provider.get_backend(\"ibmq_armonk\")\r\n"
   ],
   "outputs": [
    {
     "output_type": "stream",
     "name": "stderr",
     "text": [
      "ibmqfactory.load_account:WARNING:2022-06-06 17:49:28,252: Credentials are already in use. The existing account in the session will be replaced.\n"
     ]
    }
   ],
   "metadata": {}
  },
  {
   "cell_type": "code",
   "execution_count": 89,
   "source": [
    "drive_amp = Parameter('drive_amp')\r\n",
    "with pulse.build(backend=backend, default_alignment='sequential', name='Rabi Experiment') as pulse_1:\r\n",
    "    pulse.play(pulse.Gaussian(duration=1000,amp=drive_amp,sigma=1000, name='Rabi Pulse'), pulse.drive_channel(0))\r\n",
    "temp=Su22.Probe_Pulse(pulse_1,1)\r\n",
    "with pulse.build(backend=backend, default_alignment='sequential', name='Rabi Experiment') as pulse_2:\r\n",
    "    pulse.play(pulse.Gaussian(duration=1000,amp=1,sigma=1000, name='Rabi Pulse'), pulse.drive_channel(0))\r\n",
    "    pulse.call(temp,pulse.drive_channel(0))\r\n",
    "pulse_2.draw(backend=backend)"
   ],
   "outputs": [
    {
     "output_type": "error",
     "ename": "IndexError",
     "evalue": "list index out of range",
     "traceback": [
      "\u001b[1;31m---------------------------------------------------------------------------\u001b[0m",
      "\u001b[1;31mIndexError\u001b[0m                                Traceback (most recent call last)",
      "Input \u001b[1;32mIn [89]\u001b[0m, in \u001b[0;36m<cell line: 4>\u001b[1;34m()\u001b[0m\n\u001b[0;32m      2\u001b[0m \u001b[38;5;28;01mwith\u001b[39;00m pulse\u001b[38;5;241m.\u001b[39mbuild(backend\u001b[38;5;241m=\u001b[39mbackend, default_alignment\u001b[38;5;241m=\u001b[39m\u001b[38;5;124m'\u001b[39m\u001b[38;5;124msequential\u001b[39m\u001b[38;5;124m'\u001b[39m, name\u001b[38;5;241m=\u001b[39m\u001b[38;5;124m'\u001b[39m\u001b[38;5;124mRabi Experiment\u001b[39m\u001b[38;5;124m'\u001b[39m) \u001b[38;5;28;01mas\u001b[39;00m pulse_1:\n\u001b[0;32m      3\u001b[0m     pulse\u001b[38;5;241m.\u001b[39mplay(pulse\u001b[38;5;241m.\u001b[39mGaussian(duration\u001b[38;5;241m=\u001b[39m\u001b[38;5;241m1000\u001b[39m,amp\u001b[38;5;241m=\u001b[39mdrive_amp,sigma\u001b[38;5;241m=\u001b[39m\u001b[38;5;241m1000\u001b[39m, name\u001b[38;5;241m=\u001b[39m\u001b[38;5;124m'\u001b[39m\u001b[38;5;124mRabi Pulse\u001b[39m\u001b[38;5;124m'\u001b[39m), pulse\u001b[38;5;241m.\u001b[39mdrive_channel(\u001b[38;5;241m0\u001b[39m))\n\u001b[1;32m----> 4\u001b[0m temp\u001b[38;5;241m=\u001b[39m\u001b[43mSu22\u001b[49m\u001b[38;5;241;43m.\u001b[39;49m\u001b[43mProbe_Pulse\u001b[49m\u001b[43m(\u001b[49m\u001b[43mpulse_1\u001b[49m\u001b[43m,\u001b[49m\u001b[38;5;241;43m1\u001b[39;49m\u001b[43m)\u001b[49m\n\u001b[0;32m      5\u001b[0m \u001b[38;5;28;01mwith\u001b[39;00m pulse\u001b[38;5;241m.\u001b[39mbuild(backend\u001b[38;5;241m=\u001b[39mbackend, default_alignment\u001b[38;5;241m=\u001b[39m\u001b[38;5;124m'\u001b[39m\u001b[38;5;124msequential\u001b[39m\u001b[38;5;124m'\u001b[39m, name\u001b[38;5;241m=\u001b[39m\u001b[38;5;124m'\u001b[39m\u001b[38;5;124mRabi Experiment\u001b[39m\u001b[38;5;124m'\u001b[39m) \u001b[38;5;28;01mas\u001b[39;00m pulse_2:\n\u001b[0;32m      6\u001b[0m     pulse\u001b[38;5;241m.\u001b[39mplay(pulse\u001b[38;5;241m.\u001b[39mGaussian(duration\u001b[38;5;241m=\u001b[39m\u001b[38;5;241m1000\u001b[39m,amp\u001b[38;5;241m=\u001b[39m\u001b[38;5;241m1\u001b[39m,sigma\u001b[38;5;241m=\u001b[39m\u001b[38;5;241m1000\u001b[39m, name\u001b[38;5;241m=\u001b[39m\u001b[38;5;124m'\u001b[39m\u001b[38;5;124mRabi Pulse\u001b[39m\u001b[38;5;124m'\u001b[39m), pulse\u001b[38;5;241m.\u001b[39mdrive_channel(\u001b[38;5;241m0\u001b[39m))\n",
      "File \u001b[1;32mc:\\Users\\Fanuel\\Documents\\GitHub\\AQI2022\\Final Project\\Su22.py:51\u001b[0m, in \u001b[0;36mProbe_Pulse\u001b[1;34m(test_Pulse, num_rabi_points)\u001b[0m\n\u001b[0;32m     48\u001b[0m     pulse\u001b[38;5;241m.\u001b[39mmeasure(qubits\u001b[38;5;241m=\u001b[39m[\u001b[38;5;241m0\u001b[39m], registers\u001b[38;5;241m=\u001b[39m[pulse\u001b[38;5;241m.\u001b[39mMemorySlot(\u001b[38;5;241m0\u001b[39m)])\n\u001b[0;32m     50\u001b[0m rabi_schedules \u001b[38;5;241m=\u001b[39m [rabi_sched\u001b[38;5;241m.\u001b[39massign_parameters({drive_amp: a}, inplace\u001b[38;5;241m=\u001b[39m\u001b[38;5;28;01mFalse\u001b[39;00m) \u001b[38;5;28;01mfor\u001b[39;00m a \u001b[38;5;129;01min\u001b[39;00m drive_amps]\n\u001b[1;32m---> 51\u001b[0m \u001b[38;5;28;01mreturn\u001b[39;00m rabi_schedules[\u001b[38;5;241m3\u001b[39m]\n",
      "\u001b[1;31mIndexError\u001b[0m: list index out of range"
     ]
    }
   ],
   "metadata": {}
  },
  {
   "cell_type": "code",
   "execution_count": null,
   "source": [],
   "outputs": [],
   "metadata": {}
  }
 ],
 "metadata": {
  "orig_nbformat": 4,
  "language_info": {
   "name": "python",
   "version": "3.10.4",
   "mimetype": "text/x-python",
   "codemirror_mode": {
    "name": "ipython",
    "version": 3
   },
   "pygments_lexer": "ipython3",
   "nbconvert_exporter": "python",
   "file_extension": ".py"
  },
  "kernelspec": {
   "name": "python3",
   "display_name": "Python 3.10.4 64-bit ('AQI': conda)"
  },
  "interpreter": {
   "hash": "310d181867834755a976147d194ff784d425d1b7497a4c6e13ddef30f6fc18ab"
  }
 },
 "nbformat": 4,
 "nbformat_minor": 2
}