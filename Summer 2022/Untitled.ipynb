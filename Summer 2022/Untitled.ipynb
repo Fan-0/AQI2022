{
 "cells": [
  {
   "cell_type": "code",
   "execution_count": 24,
   "id": "eb003384-2742-4352-b0b9-d2439e322b40",
   "metadata": {},
   "outputs": [
    {
     "name": "stdout",
     "output_type": "stream",
     "text": [
      "hello\n"
     ]
    }
   ],
   "source": [
    "print(\"hello\")"
   ]
  },
  {
   "cell_type": "code",
   "execution_count": 25,
   "id": "6c9ce656-7752-472a-a5b1-62ad7421463d",
   "metadata": {},
   "outputs": [
    {
     "name": "stdout",
     "output_type": "stream",
     "text": [
      "hi\n"
     ]
    }
   ],
   "source": [
    "print(\"hi\")"
   ]
  },
  {
   "cell_type": "code",
   "execution_count": 36,
   "id": "f71b80bc-4e29-4a22-9e2c-12b154ec8ff5",
   "metadata": {},
   "outputs": [
    {
     "name": "stdout",
     "output_type": "stream",
     "text": [
      "1\n"
     ]
    }
   ],
   "source": [
    "afjff= 1\n",
    "print(afjff)"
   ]
  },
  {
   "cell_type": "code",
   "execution_count": 37,
   "id": "6b7c3f60-55ff-4af2-8f06-df8274529f9e",
   "metadata": {},
   "outputs": [
    {
     "name": "stdout",
     "output_type": "stream",
     "text": [
      "1\n"
     ]
    }
   ],
   "source": [
    "print(afjff)"
   ]
  },
  {
   "cell_type": "code",
   "execution_count": 45,
   "id": "ebe47b96-4d20-4ca2-8f76-0e363243c04f",
   "metadata": {},
   "outputs": [
    {
     "name": "stdout",
     "output_type": "stream",
     "text": [
      "3.0\n"
     ]
    }
   ],
   "source": [
    "a=1\n",
    "b=2.0\n",
    "c=a+b\n",
    "print(c)"
   ]
  },
  {
   "cell_type": "code",
   "execution_count": 48,
   "id": "b47f4590-6c0a-4173-a43e-c33c33916e50",
   "metadata": {},
   "outputs": [
    {
     "name": "stdout",
     "output_type": "stream",
     "text": [
      "bad\n"
     ]
    }
   ],
   "source": [
    "if a >= 1:\n",
    "    print('bad')\n",
    "if a != 1:\n",
    "    print('good')"
   ]
  },
  {
   "cell_type": "code",
   "execution_count": 52,
   "id": "701d26fc-7858-441d-8946-5dc252671cb7",
   "metadata": {},
   "outputs": [
    {
     "name": "stdout",
     "output_type": "stream",
     "text": [
      "1\n",
      "3\n",
      "5\n"
     ]
    }
   ],
   "source": [
    "for i in range(1,6,2):\n",
    "    print(i)"
   ]
  },
  {
   "cell_type": "code",
   "execution_count": 55,
   "id": "d9d4a3be-ad88-4a30-8704-945ba2d1df7c",
   "metadata": {},
   "outputs": [
    {
     "name": "stdout",
     "output_type": "stream",
     "text": [
      "0\n",
      "1\n"
     ]
    }
   ],
   "source": [
    "counter =0\n",
    "while counter != 2:\n",
    "    print(counter)\n",
    "    counter+=1"
   ]
  },
  {
   "cell_type": "code",
   "execution_count": 57,
   "id": "56266ad0-3d48-4c6c-acde-a4eae7ed9eb3",
   "metadata": {},
   "outputs": [
    {
     "name": "stdout",
     "output_type": "stream",
     "text": [
      "0\n",
      "1\n",
      "1\n",
      "2\n",
      "3\n",
      "5\n",
      "8\n",
      "13\n",
      "21\n",
      "34\n",
      "55\n",
      "89\n"
     ]
    }
   ],
   "source": [
    "first = 0\n",
    "second = 1\n",
    "print(first)\n",
    "print(second)\n",
    "for i in range(10):\n",
    "    third =first+second\n",
    "    print(third)\n",
    "    first= second\n",
    "    second = third"
   ]
  },
  {
   "cell_type": "code",
   "execution_count": 20,
   "id": "37ee647a-36ac-4c44-a19b-a49184d55cc6",
   "metadata": {},
   "outputs": [],
   "source": [
    "from qiskit.providers.fake_provider import FakeOpenPulse2Q,FakeArmonk\n",
    "import numpy as np\n",
    "import Su22\n",
    "from qiskit import pulse\n",
    "backend = FakeOpenPulse2Q()\n",
    "backend2 = FakeArmonk()"
   ]
  },
  {
   "cell_type": "code",
   "execution_count": 63,
   "id": "4dcc524a",
   "metadata": {},
   "outputs": [
    {
     "data": {
      "text/plain": [
       "1"
      ]
     },
     "execution_count": 63,
     "metadata": {},
     "output_type": "execute_result"
    }
   ],
   "source": [
    "circ = []\n",
    "tests = [0]\n",
    "test= Su22.loadData(\"FGRAFS_controls/x_gate_sampling.p\")\n",
    "'''for i in range(1,3):\n",
    "    test= np.array([np.cos(x/128) + 1j*np.sin(x/128)*i for x in range(i*128)])\n",
    "    test = test/(2)\n",
    "    tests.append(test)'''\n",
    "for p in tests:\n",
    "    with pulse.build(backend=backend,default_alignment='sequential',name =\" memee\") as pulse_2:\n",
    "        pulse.play(test, pulse.drive_channel(0))\n",
    "        pulse.measure(0)\n",
    "    circ.append(block_to_schedule(pulse_2))\n",
    "len(circ)"
   ]
  },
  {
   "cell_type": "code",
   "execution_count": null,
   "id": "4f8a27bc",
   "metadata": {},
   "outputs": [],
   "source": [
    "np.round(np.trapz(test)/np.pi)*np.pi/np.trapz(test)"
   ]
  },
  {
   "cell_type": "code",
   "execution_count": 22,
   "id": "dbfd7383",
   "metadata": {},
   "outputs": [],
   "source": [
    "import numpy as np\n",
    "from qiskit import pulse \n",
    "from qiskit.compiler import transpile\n",
    "from qiskit.pulse.transforms import block_to_schedule\n",
    " "
   ]
  },
  {
   "cell_type": "code",
   "execution_count": 65,
   "id": "5ad8571f",
   "metadata": {},
   "outputs": [
    {
     "name": "stdout",
     "output_type": "stream",
     "text": [
      "{'0': 79, '1': 921}\n"
     ]
    }
   ],
   "source": [
    "result = transpile(circ,\n",
    "                     backend=backend \n",
    "                     )\n",
    "results =backend.run(result, shots = 1000).result()\n",
    "print(results.get_counts())"
   ]
  },
  {
   "cell_type": "code",
   "execution_count": 36,
   "id": "57d5c496",
   "metadata": {},
   "outputs": [
    {
     "data": {
      "text/plain": [
       "1.3333e-09"
      ]
     },
     "execution_count": 36,
     "metadata": {},
     "output_type": "execute_result"
    }
   ],
   "source": [
    "backend.configuration().dt"
   ]
  },
  {
   "cell_type": "code",
   "execution_count": 14,
   "id": "e1f70cdd",
   "metadata": {},
   "outputs": [],
   "source": [
    "po = [1,3,4,\"3\",2,np.array([1,2,3])]"
   ]
  },
  {
   "cell_type": "code",
   "execution_count": 16,
   "id": "c891eca3",
   "metadata": {},
   "outputs": [
    {
     "data": {
      "text/plain": [
       "[1, 3, 4, '3', 2, array([1, 2, 3])]"
      ]
     },
     "execution_count": 16,
     "metadata": {},
     "output_type": "execute_result"
    }
   ],
   "source": [
    "import numpy as np\n",
    "poo = (po)\n",
    "poo"
   ]
  },
  {
   "cell_type": "code",
   "execution_count": null,
   "id": "88f07583",
   "metadata": {},
   "outputs": [],
   "source": []
  }
 ],
 "metadata": {
  "kernelspec": {
   "display_name": "Python 3 (ipykernel)",
   "language": "python",
   "name": "python3"
  },
  "language_info": {
   "codemirror_mode": {
    "name": "ipython",
    "version": 3
   },
   "file_extension": ".py",
   "mimetype": "text/x-python",
   "name": "python",
   "nbconvert_exporter": "python",
   "pygments_lexer": "ipython3",
   "version": "3.9.7"
  },
  "vscode": {
   "interpreter": {
    "hash": "bbd15055fa62332a5f498992d95aaf26c5833fa610ef3d107a25ac1ac238f300"
   }
  }
 },
 "nbformat": 4,
 "nbformat_minor": 5
}
