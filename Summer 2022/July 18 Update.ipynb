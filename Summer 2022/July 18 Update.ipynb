{
 "cells": [
  {
   "cell_type": "code",
   "execution_count": null,
   "id": "7690ed84-e9a6-44ab-8ab4-a52df1ab6df6",
   "metadata": {},
   "outputs": [],
   "source": [
    "import Su22\n",
    "import qiskit as qk\n",
    "import numpy as np\n",
    "from qiskit.tools.visualization import plot_histogram\n",
    "from qiskit import IBMQ\n",
    "from qiskit.tools.monitor import job_monitor\n",
    "from qiskit.providers.aer.noise import NoiseModel\n",
    "import matplotlib\n",
    "import matplotlib.pyplot as plt\n",
    "from qiskit.visualization import plot_bloch_multivector\n",
    "from qiskit.tools.monitor import job_monitor\n",
    "\n",
    "from qiskit import pulse              \n",
    "from qiskit.circuit import Parameter \n",
    "from IPython.display import display\n",
    "from qiskit import QuantumCircuit\n",
    "from qiskit.circuit import Gate\n",
    "import warnings\n",
    "warnings.filterwarnings('ignore')\n",
    "from qiskit.tools.jupyter import *\n",
    "# The pulse simulator\n",
    "from qiskit.providers.aer import PulseSimulator\n",
    "\n",
    "# Object for representing physical models\n",
    "from qiskit.providers.aer.pulse import PulseSystemModel\n",
    "token = '792003cde0750f1452faa5cb5fe7c57da849e1119983f608e9a359d49cdb396391d6af09eedfb46af0a043a01103ed64da66835d1a318c0013d64ab3ebc1fe61'\n",
    "qk.IBMQ.save_account(token=token)\n",
    "qk.IBMQ.enable_account(token)\n",
    "provider = IBMQ.get_provider(hub='ibm-q-ornl', group='ornl', project='phy147')\n",
    "#backend = provider.get_backend(\"ibmq_jakarta\")\n",
    "from qiskit.test.mock import FakeJakarta"
   ]
  },
  {
   "cell_type": "code",
   "execution_count": null,
   "id": "8869d16a-d29c-4564-879c-2cc32f78b0c6",
   "metadata": {},
   "outputs": [],
   "source": [
    "backend = provider.get_backend(\"ibmq_jakarta\")\n",
    "#backend = FakeJakarta()"
   ]
  },
  {
   "cell_type": "markdown",
   "id": "d47e62c9-dacb-4ef0-8ce7-2629b03317c6",
   "metadata": {},
   "source": [
    "## functions"
   ]
  },
  {
   "cell_type": "code",
   "execution_count": null,
   "id": "de5ba046-a99d-48c0-8c92-67b34561f434",
   "metadata": {},
   "outputs": [],
   "source": [
    "import pickle\n",
    "\n",
    "def loadData(inp):\n",
    "    # for reading also binary mode is important\n",
    "    dbfile = open(inp, 'rb')     \n",
    "    db = pickle.load(dbfile)\n",
    "    dbfile.close()\n",
    "    return db\n",
    "\n",
    "data=loadData('FGRAFS_controls/FGRAFS-controls_N-160_zero-endpoints-True.p')\n",
    "temp = []\n",
    "for i in data:\n",
    "    for j in range(int(4)):\n",
    "        temp.append(i)\n",
    "print(len(temp), \" \" , len(data))"
   ]
  },
  {
   "cell_type": "code",
   "execution_count": null,
   "id": "870ade28-cdd0-459c-9b50-702e09e9cda8",
   "metadata": {},
   "outputs": [],
   "source": [
    "from qiskit import QuantumRegister, QuantumCircuit, ClassicalRegister, Aer\n",
    "from qiskit.quantum_info import state_fidelity\n",
    "from qiskit.providers.aer import noise\n",
    "\n",
    "# Tomography functions\n",
    "from qiskit.ignis.verification.tomography import state_tomography_circuits, StateTomographyFitter\n",
    "import qiskit.ignis.mitigation.measurement as mc\n",
    "import time\n",
    "\n",
    "def Full_tomography(circ, backend):\n",
    "    state = QuantumCircuit(1)\n",
    "    state.x(0)\n",
    "    job = qk.execute(state, backend=Aer.get_backend('statevector_simulator'))\n",
    "    state_results = job.result().get_statevector(state)\n",
    "    t = time.time()\n",
    "    test_circ = state_tomography_circuits(circ,[0])\n",
    "    job = qk.execute(test_circ, backend=backend, shots=8192)\n",
    "    test_state = StateTomographyFitter(job.result(), test_circ).fit()\n",
    "    print('Time taken:', time.time() - t)\n",
    "    return test_state\n",
    "\n",
    "\n",
    "def plot_m(state):\n",
    "    return 0"
   ]
  },
  {
   "cell_type": "code",
   "execution_count": null,
   "id": "e19c595b-db18-4a0b-883c-f1bed672304e",
   "metadata": {
    "tags": []
   },
   "outputs": [],
   "source": [
    "import numpy as np\n",
    "import scipy.signal as si\n",
    "import scipy.linalg as la\n",
    "import matplotlib.pyplot as plt\n",
    "import qiskit as qk\n",
    "from qiskit import Aer\n",
    "from qiskit.providers.ibmq.managed import IBMQJobManager\n",
    "\n",
    "noise_power = 1e-3\n",
    "num_noise_trajs = 30\n",
    "\n",
    "def generate_noise_params(s_pow, w0):\n",
    "    a = [1]\n",
    "    NN = 512\n",
    "    BW = 0.005 # changes narrowness of noise spectrum\n",
    "    b = si.firwin(NN, BW)*np.cos(w0*np.pi*np.arange(NN))\n",
    "    b = b/la.norm(b)*np.sqrt(s_pow)\n",
    "    return a, b\n",
    "\n",
    "def parametrize_circ(circ,noise_traj_list,backend):\n",
    "    par = qk.circuit.ParameterVector('thetha', length=int(len(circ)/64))\n",
    "    batch = []\n",
    "    for traj in noise_traj_list:\n",
    "        with pulse.build(backend=backend,default_alignment='sequential') as temp:\n",
    "            for j in range(int(len(circ)/64)):\n",
    "                pulse.play(circ[j*64:(j+1)*64], pulse.drive_channel(0))\n",
    "                pulse.shift_phase(par[j],pulse.drive_channel(0))\n",
    "            pulse.measure(qubits=[0], registers=[pulse.MemorySlot(0)])\n",
    "        for i in range(len(par)):\n",
    "            temp.assign_parameters({par[i]: traj[i]}, inplace=True)\n",
    "        batch.append(temp)\n",
    "    return batch\n",
    "\n",
    "def parametrize_circ_1(circ,noise_traj_list,backend):\n",
    "    par = qk.circuit.ParameterVector('thetha', length=int(len(circ)))\n",
    "    batch = []\n",
    "    for traj in noise_traj_list:\n",
    "        with pulse.build(backend=backend,default_alignment='sequential') as temp:\n",
    "            for j in range(int(len(circ))):\n",
    "                pulse.play([circ[j] for p in range(64)], pulse.drive_channel(0))\n",
    "                pulse.shift_phase(par[j],pulse.drive_channel(0))\n",
    "            pulse.measure(qubits=[0], registers=[pulse.MemorySlot(0)])\n",
    "        for i in range(len(par)):\n",
    "            temp.assign_parameters({par[i]: traj[i]}, inplace=True)\n",
    "        batch.append(temp)\n",
    "    return batch\n",
    "\n",
    "def schwarma_trajectories(a, b, num_gates, num_trajectories):\n",
    "    # a: coefficients of linear filter numerator\n",
    "    # b: coefficients of linear filter demoninator\n",
    "    # num_gates: number of gates in circuit to be \"schwarmafied\"\n",
    "    # num_trajectories: number of noise trajectories required\n",
    "    traj_list = []\n",
    "    for _ in range(num_trajectories):\n",
    "        angles = si.lfilter(b, a, np.random.randn(num_gates + 1000))[1000:]\n",
    "        traj_list.append(angles)\n",
    "    return traj_list\n",
    "\n",
    "shots=1000\n",
    "\n",
    "def Spec(data,start,end,num_center_freqs=100,backend=backend, option = 0):  \n",
    "    #option 0 beaks upp pulse into 64dt chuncks option 1 will extend pulses to 64dt\n",
    "    if(option):\n",
    "        num_gates=int(len(data))\n",
    "    else:\n",
    "        num_gates=int(len(data)/64)\n",
    "    circ_batch = []\n",
    "    center_idxs=[]\n",
    "    centers=[]\n",
    "    all_probs = np.zeros([num_center_freqs, 2])\n",
    "    for center_idx, center in enumerate(np.linspace(start, end, num_center_freqs)): # vary noise center frequency\n",
    "        center_idxs.append(center_idx)\n",
    "        centers.append(center)\n",
    "        #print('Probing Filter Function at Normalized Frequency: ', center)\n",
    "        # Generate noise trajectories\n",
    "        a, b = generate_noise_params(noise_power, center)\n",
    "        noise_traj_list = np.array(schwarma_trajectories(a, b, num_gates, num_noise_trajs))\n",
    "    \n",
    "        # Build noisy circuit dictionary\n",
    "        if(not option):\n",
    "            circ_batch+=(parametrize_circ(data,noise_traj_list,backend))\n",
    "        else:\n",
    "            circ_batch+=(parametrize_circ_1(data,noise_traj_list,backend))\n",
    "\n",
    "        # Run circuits\n",
    "    job_manager = IBMQJobManager()\n",
    "    job_set = job_manager.run(circ_batch, backend=backend, name=('Spectrosopy'+str(time.strftime(\"%H:%M:%S\", time.localtime()))))\n",
    "    results = job_set.results()\n",
    "\n",
    "    # Compile Results\n",
    "    cc=0\n",
    "    prob = 0\n",
    "    counter = 0\n",
    "    for i in range(int(len(circ_batch)/num_noise_trajs)):\n",
    "        for circ in circ_batch[i*num_noise_trajs:((i+1)*num_noise_trajs)]:\n",
    "            zero_counts = results.get_counts(cc).get('1')\n",
    "            prob += zero_counts/shots\n",
    "            cc+=1\n",
    "        prob = prob/num_noise_trajs\n",
    "        all_probs[int(center_idxs[counter]), :] = centers[counter], prob\n",
    "        counter+=1\n",
    "        prob=0\n",
    "    \n",
    "    return all_probs, circ_batch"
   ]
  },
  {
   "cell_type": "markdown",
   "id": "e71df68c-f0bb-4618-819f-0e04bb6033be",
   "metadata": {},
   "source": [
    "## tests"
   ]
  },
  {
   "cell_type": "code",
   "execution_count": null,
   "id": "e73ea711-fa93-491a-af1d-292a46cae0a8",
   "metadata": {},
   "outputs": [],
   "source": [
    "signal = Su22.Custom_Fgp('low_freq',test,backend)\n",
    "#print(signal.input)\n",
    "#print(signal.norm)\n",
    "signal.draw()"
   ]
  },
  {
   "cell_type": "code",
   "execution_count": null,
   "id": "dacaeeef-3f06-4f76-926e-0c276c46c3b9",
   "metadata": {},
   "outputs": [],
   "source": [
    "print(signal.pi_p)"
   ]
  },
  {
   "cell_type": "code",
   "execution_count": null,
   "id": "33ab6cd7-2828-4e13-9d26-20854f969918",
   "metadata": {},
   "outputs": [],
   "source": [
    "test=np.array(data)\n",
    "print(np.abs(test).max())\n",
    "test= test/test.max()\n",
    "t = time.time()\n",
    "start=0.3\n",
    "end=start+((0.98-0.02)/10)\n",
    "all_probs, circ_batch= Spec(test*signal.pi_p,0.02,0.98,100,backend=backend,option=1)\n",
    "circ_batch[2].draw()"
   ]
  },
  {
   "cell_type": "code",
   "execution_count": 110,
   "id": "cd69d289-c7d4-4a0b-82d2-e464dc84b554",
   "metadata": {},
   "outputs": [
    {
     "data": {
      "text/plain": [
       "Text(0.5, 0, 'Center Frequency')"
      ]
     },
     "execution_count": 110,
     "metadata": {},
     "output_type": "execute_result"
    },
    {
     "data": {
      "image/png": "[encoded data removed]",
      "text/plain": [
       "<Figure size 600x400 with 1 Axes>"
      ]
     },
     "metadata": {
      "needs_background": "light"
     },
     "output_type": "display_data"
    }
   ],
   "source": [
    "fig = plt.figure(dpi=100)\n",
    "ax = fig.add_subplot(111)\n",
    "ax.plot(all_probs[:,0], all_probs[:,1])\n",
    "ax.set_ylabel('Survival Probability')\n",
    "ax.set_xlabel('Center Frequency')"
   ]
  },
  {
   "cell_type": "code",
   "execution_count": 161,
   "id": "24745f37-0c8a-4587-b32b-d6c34b66ea8b",
   "metadata": {},
   "outputs": [
    {
     "name": "stdout",
     "output_type": "stream",
     "text": [
      "3000\n",
      "[0. 0.]\n"
     ]
    },
    {
     "data": {
      "image/png": "[encoded data removed]",
      "text/plain": [
       "<Figure size 936x118.8 with 1 Axes>"
      ]
     },
     "execution_count": 161,
     "metadata": {},
     "output_type": "execute_result"
    }
   ],
   "source": [
    "print(len(circ_batch))\n",
    "print(all_probs[2])\n",
    "circ_batch[2].draw()"
   ]
  },
  {
   "cell_type": "code",
   "execution_count": null,
   "id": "238adb01-b078-4ed8-be4f-93f47b579a94",
   "metadata": {},
   "outputs": [],
   "source": [
    "circ = QuantumCircuit(1)\n",
    "signal.add_as_gate(circ,[0])\n",
    "state = Full_tomography(circ, backend)\n",
    "print(np.real(state))"
   ]
  },
  {
   "cell_type": "code",
   "execution_count": null,
   "id": "bfb551cc-a9ef-4a82-b71f-ea73430400e5",
   "metadata": {},
   "outputs": [],
   "source": [
    "from qiskit.visualization import plot_state_city, plot_bloch_multivector\n",
    "plot_state_city(state)"
   ]
  },
  {
   "cell_type": "code",
   "execution_count": null,
   "id": "07028952-2669-47d4-a662-8ab9e0df2673",
   "metadata": {},
   "outputs": [],
   "source": [
    "plot_bloch_multivector(state)"
   ]
  },
  {
   "cell_type": "code",
   "execution_count": 111,
   "id": "7b5b6269-d545-47fc-b220-8526148fc5dd",
   "metadata": {},
   "outputs": [],
   "source": [
    "job= backend.retrieve_job('62d063a5efcea263995f4b59')\n",
    "results = job.result()\n",
    "prob = 0\n",
    "counter = 0\n",
    "num_center_freqs=10\n",
    "center_idxs=[]\n",
    "centers=[]\n",
    "all_probs = np.zeros([num_center_freqs, 2])\n",
    "num_noise_trajs= 30\n",
    "circ_batch = np.zeros(300)\n",
    "for center_idx, center in enumerate(np.linspace(start, end, num_center_freqs)): # vary noise center frequency\n",
    "        center_idxs.append(center_idx)\n",
    "        centers.append(center)\n",
    "cc=0\n",
    "for i in range(int(len(circ_batch)/num_noise_trajs)):\n",
    "    for circ in circ_batch[i*num_noise_trajs:((i+1)*num_noise_trajs)]:\n",
    "        zero_counts = results.get_counts(cc).get('1')\n",
    "        prob += zero_counts/shots\n",
    "        cc+=1\n",
    "    prob = prob/num_noise_trajs\n",
    "    all_probs[center_idxs[counter], :] = centers[counter], prob\n",
    "    counter+=1\n",
    "    prob=0"
   ]
  },
  {
   "cell_type": "code",
   "execution_count": 112,
   "id": "9ca70415-032d-4ea6-b609-b5083014db8a",
   "metadata": {},
   "outputs": [
    {
     "name": "stdout",
     "output_type": "stream",
     "text": [
      "[[0.3        0.87306667]\n",
      " [0.40866667 0.86276667]\n",
      " [0.51733333 0.8749    ]\n",
      " [0.626      0.83143333]\n",
      " [0.73466667 0.8582    ]\n",
      " [0.84333333 0.8458    ]\n",
      " [0.952      0.80746667]\n",
      " [1.06066667 0.8081    ]\n",
      " [1.16933333 0.8418    ]\n",
      " [1.278      0.87273333]]\n"
     ]
    }
   ],
   "source": [
    "print(all_probs)"
   ]
  },
  {
   "cell_type": "code",
   "execution_count": 113,
   "id": "44731724-ca39-4795-ae9d-b584cd1e3743",
   "metadata": {},
   "outputs": [
    {
     "data": {
      "text/plain": [
       "Text(0.5, 0, 'Center Frequency')"
      ]
     },
     "execution_count": 113,
     "metadata": {},
     "output_type": "execute_result"
    },
    {
     "data": {
      "image/png": "[encoded data removed]",
      "text/plain": [
       "<Figure size 600x400 with 1 Axes>"
      ]
     },
     "metadata": {
      "needs_background": "light"
     },
     "output_type": "display_data"
    }
   ],
   "source": [
    "fig = plt.figure(dpi=100)\n",
    "ax = fig.add_subplot(111)\n",
    "ax.plot(all_probs[:,0], all_probs[:,1])\n",
    "ax.set_ylabel('Survival Probability')\n",
    "ax.set_xlabel('Center Frequency')"
   ]
  },
  {
   "cell_type": "code",
   "execution_count": 116,
   "id": "32128ddd-5981-4bd5-b079-9f83c21c9e13",
   "metadata": {},
   "outputs": [
    {
     "data": {
      "text/plain": [
       "0.396"
      ]
     },
     "execution_count": 116,
     "metadata": {},
     "output_type": "execute_result"
    }
   ],
   "source": [
    "start+((0.98-0.02)/10)"
   ]
  },
  {
   "cell_type": "code",
   "execution_count": null,
   "id": "3e544901-47cc-4042-b528-3a60631713e9",
   "metadata": {},
   "outputs": [],
   "source": []
  }
 ],
 "metadata": {
  "kernelspec": {
   "display_name": "AQI2022",
   "language": "python",
   "name": "aqi2022"
  },
  "language_info": {
   "codemirror_mode": {
    "name": "ipython",
    "version": 3
   },
   "file_extension": ".py",
   "mimetype": "text/x-python",
   "name": "python",
   "nbconvert_exporter": "python",
   "pygments_lexer": "ipython3",
   "version": "3.9.7"
  }
 },
 "nbformat": 4,
 "nbformat_minor": 5
}
