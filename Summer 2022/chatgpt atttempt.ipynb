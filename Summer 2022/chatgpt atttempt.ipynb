{
 "cells": [
  {
   "cell_type": "code",
   "execution_count": 34,
   "id": "7f305aa1-845f-4acb-8b39-20e56ad569ba",
   "metadata": {},
   "outputs": [
    {
     "ename": "AttributeError",
     "evalue": "'Counts' object has no attribute 'results'",
     "output_type": "error",
     "traceback": [
      "\u001b[1;31m---------------------------------------------------------------------------\u001b[0m",
      "\u001b[1;31mAttributeError\u001b[0m                            Traceback (most recent call last)",
      "Input \u001b[1;32mIn [34]\u001b[0m, in \u001b[0;36m<cell line: 20>\u001b[1;34m()\u001b[0m\n\u001b[0;32m     20\u001b[0m \u001b[38;5;28;01mfor\u001b[39;00m i, noise_level \u001b[38;5;129;01min\u001b[39;00m \u001b[38;5;28menumerate\u001b[39m(noise_levels):\n\u001b[0;32m     21\u001b[0m     \u001b[38;5;28;01mfor\u001b[39;00m j, frequency \u001b[38;5;129;01min\u001b[39;00m \u001b[38;5;28menumerate\u001b[39m(frequencies):\n\u001b[0;32m     22\u001b[0m         \u001b[38;5;66;03m# Define the noisy counts\u001b[39;00m\n\u001b[1;32m---> 23\u001b[0m         noisy_counts \u001b[38;5;241m=\u001b[39m \u001b[43madd_noise\u001b[49m\u001b[43m(\u001b[49m\u001b[43mresult_list\u001b[49m\u001b[43m,\u001b[49m\u001b[43m \u001b[49m\u001b[43mnoise_level\u001b[49m\u001b[43m,\u001b[49m\u001b[43m \u001b[49m\u001b[43mfrequency\u001b[49m\u001b[43m)\u001b[49m\n\u001b[0;32m     24\u001b[0m         \u001b[38;5;66;03m# Compute the fidelity\u001b[39;00m\n\u001b[0;32m     25\u001b[0m         fidelity \u001b[38;5;241m=\u001b[39m average_gate_fidelity(x_gate, noisy_counts, ideal_counts)\n",
      "Input \u001b[1;32mIn [33]\u001b[0m, in \u001b[0;36madd_noise\u001b[1;34m(results_list, noise_level, frequency)\u001b[0m\n\u001b[0;32m     13\u001b[0m \u001b[38;5;66;03m# Add phase shift noise to the Rz gates\u001b[39;00m\n\u001b[0;32m     14\u001b[0m \u001b[38;5;28;01mfor\u001b[39;00m result \u001b[38;5;129;01min\u001b[39;00m results_list:\n\u001b[1;32m---> 15\u001b[0m     \u001b[38;5;28;01mfor\u001b[39;00m circuit \u001b[38;5;129;01min\u001b[39;00m \u001b[43mresult\u001b[49m\u001b[38;5;241;43m.\u001b[39;49m\u001b[43mresults\u001b[49m:\n\u001b[0;32m     16\u001b[0m         qubit_list \u001b[38;5;241m=\u001b[39m circuit\u001b[38;5;241m.\u001b[39mheader\u001b[38;5;241m.\u001b[39mqubit_sizes[\u001b[38;5;241m0\u001b[39m]\n\u001b[0;32m     17\u001b[0m         \u001b[38;5;28;01mfor\u001b[39;00m qubit \u001b[38;5;129;01min\u001b[39;00m qubit_list:\n",
      "\u001b[1;31mAttributeError\u001b[0m: 'Counts' object has no attribute 'results'"
     ]
    }
   ],
   "source": [
    "import numpy as np\n",
    "from qiskit.quantum_info import average_gate_fidelity\n",
    "from qiskit import QuantumCircuit, execute, Aer\n",
    "import matplotlib.pyplot as plt\n",
    "\n",
    "# Define the noise levels and frequencies to study\n",
    "noise_levels = np.linspace(0, 0.1, 11)\n",
    "frequencies = np.linspace(0, 0.1, 11)\n",
    "\n",
    "# Define the ideal counts\n",
    "shots = 1000\n",
    "ideal_counts = {'0': shots/2, '1': shots/2}\n",
    "\n",
    "# Define the X gate circuit\n",
    "x_gate = QuantumCircuit(1)\n",
    "x_gate.x(0)\n",
    "\n",
    "# Compute the fidelity for each combination of noise level and frequency\n",
    "fidelity_matrix = np.zeros((len(noise_levels), len(frequencies)))\n",
    "for i, noise_level in enumerate(noise_levels):\n",
    "    for j, frequency in enumerate(frequencies):\n",
    "        # Define the noisy counts\n",
    "        noisy_counts = add_noise(result_list, noise_level, frequency)\n",
    "        # Compute the fidelity\n",
    "        fidelity = average_gate_fidelity(x_gate, noisy_counts, ideal_counts)\n",
    "        fidelity_matrix[i,j] = fidelity\n",
    "\n",
    "# Plot the fidelity matrix as a heatmap\n",
    "fig, ax = plt.subplots()\n",
    "im = ax.imshow(fidelity_matrix, cmap='viridis')\n",
    "ax.set_xticks(np.arange(len(frequencies)))\n",
    "ax.set_yticks(np.arange(len(noise_levels)))\n",
    "ax.set_xticklabels(frequencies)\n",
    "ax.set_yticklabels(noise_levels)\n",
    "ax.set_xlabel('Frequency of noise')\n",
    "ax.set_ylabel('Noise level')\n",
    "ax.set_title('Fidelity of X gate')\n",
    "fig.colorbar(im)\n",
    "plt.show()"
   ]
  },
  {
   "cell_type": "code",
   "execution_count": 33,
   "id": "87cdfa8f-fc1d-4b7e-a679-c9ca3123f222",
   "metadata": {},
   "outputs": [],
   "source": [
    "from qiskit.providers.aer.noise import NoiseModel\n",
    "from qiskit.providers.aer.noise.errors import depolarizing_error, amplitude_damping_error\n",
    "from qiskit.circuit.library import U1Gate\n",
    "\n",
    "def add_noise(results_list, noise_level, frequency):\n",
    "    # Create a noise model with depolarizing and amplitude damping errors\n",
    "    depol_prob = noise_level / 3\n",
    "    phase_prob = noise_level / 3\n",
    "    damping_prob = noise_level / 3\n",
    "    noise_model = NoiseModel()\n",
    "    noise_model.add_all_qubit_quantum_error(depolarizing_error(depol_prob,1), \"depolarizing\")\n",
    "    noise_model.add_all_qubit_quantum_error(amplitude_damping_error(damping_prob), \"amplitude_damping\")\n",
    "    # Add phase shift noise to the Rz gates\n",
    "    for result in results_list:\n",
    "        for circuit in result.results:\n",
    "            qubit_list = circuit.header.qubit_sizes[0]\n",
    "            for qubit in qubit_list:\n",
    "                noisy_key = f\"q{qubit}\"\n",
    "                noisy_value = circuit.data(0).qubits[qubit].name\n",
    "                instruction_list = circuit.data(qubit)\n",
    "                for instruction in instruction_list:\n",
    "                    if instruction.name == \"u1\":\n",
    "                        if instruction.params[0] != 0:\n",
    "                            rz = U1Gate(instruction.params[0] + frequency).to_instruction()\n",
    "                            phase = amplitude_damping_error(phase_prob)\n",
    "                            noisy_key = noisy_key[:1] + str(qubit) + noisy_key[2:]\n",
    "                            noise_model.add_quantum_error(phase, [qubit], [rz])\n",
    "    return noise_model\n"
   ]
  },
  {
   "cell_type": "code",
   "execution_count": 5,
   "id": "cdee1002-2ece-4bd8-b995-eb73593cf2d9",
   "metadata": {},
   "outputs": [],
   "source": [
    "backend = Aer.get_backend('qasm_simulator')\n",
    "shots = 1000\n",
    "result_list = []\n",
    "\n",
    "for i in range(shots):\n",
    "    qc = x_gate.copy()\n",
    "    qc.measure_all()\n",
    "    job = execute(qc, backend=backend, shots=1)\n",
    "    result = job.result().get_counts()\n",
    "    result_list.append(result)"
   ]
  },
  {
   "cell_type": "code",
   "execution_count": 37,
   "id": "c5bee2c5-4259-4bdd-a48f-73ef9c5b704b",
   "metadata": {},
   "outputs": [
    {
     "ename": "ImportError",
     "evalue": "cannot import name 'ConstantPulse' from 'qiskit.pulse' (C:\\Users\\Fanuel\\anaconda3\\envs\\AQI\\lib\\site-packages\\qiskit\\pulse\\__init__.py)",
     "output_type": "error",
     "traceback": [
      "\u001b[1;31m---------------------------------------------------------------------------\u001b[0m",
      "\u001b[1;31mImportError\u001b[0m                               Traceback (most recent call last)",
      "Input \u001b[1;32mIn [37]\u001b[0m, in \u001b[0;36m<cell line: 2>\u001b[1;34m()\u001b[0m\n\u001b[0;32m      1\u001b[0m \u001b[38;5;28;01mfrom\u001b[39;00m \u001b[38;5;21;01mqiskit\u001b[39;00m\u001b[38;5;21;01m.\u001b[39;00m\u001b[38;5;21;01mproviders\u001b[39;00m\u001b[38;5;21;01m.\u001b[39;00m\u001b[38;5;21;01mfake_provider\u001b[39;00m \u001b[38;5;28;01mimport\u001b[39;00m ConfigurableFakeBackend,FakeArmonkV2,FakeOpenPulse2Q\n\u001b[1;32m----> 2\u001b[0m \u001b[38;5;28;01mfrom\u001b[39;00m \u001b[38;5;21;01mqiskit\u001b[39;00m\u001b[38;5;21;01m.\u001b[39;00m\u001b[38;5;21;01mpulse\u001b[39;00m \u001b[38;5;28;01mimport\u001b[39;00m Schedule, Play, ConstantPulse\n\u001b[0;32m      4\u001b[0m \u001b[38;5;66;03m# Define the frequency of the noise you want to add\u001b[39;00m\n\u001b[0;32m      5\u001b[0m freq \u001b[38;5;241m=\u001b[39m \u001b[38;5;241m0.1\u001b[39m\n",
      "\u001b[1;31mImportError\u001b[0m: cannot import name 'ConstantPulse' from 'qiskit.pulse' (C:\\Users\\Fanuel\\anaconda3\\envs\\AQI\\lib\\site-packages\\qiskit\\pulse\\__init__.py)"
     ]
    }
   ],
   "source": [
    "from qiskit.providers.fake_provider import ConfigurableFakeBackend,FakeArmonkV2,FakeOpenPulse2Q\n",
    "from qiskit.pulse import Schedule, Play, ConstantPulse\n",
    "\n",
    "# Define the frequency of the noise you want to add\n",
    "freq = 0.1\n",
    "\n",
    "# Load a fake backend\n",
    "backend = FakePulse2Q()\n",
    "\n",
    "# Get the qubit frequencies from the backend\n",
    "qubit_freqs = backend.defaults().qubit_freq_est\n",
    "\n",
    "# Create a phase shift gate with the frequency\n",
    "phase_shift = ConstantPulse(0.0, duration=backend.configuration().dt)\n",
    "phase_shift.add_frequency_instruction(freq, 1.0)\n",
    "\n",
    "# Apply the phase shift gate to the qubits you want to inject noise into\n",
    "qubits = [0, 1]\n",
    "schedules = []\n",
    "for qubit in qubits:\n",
    "    schedule = Schedule()\n",
    "    schedule += Play(phase_shift, backend.get_qubit_lo_freq(qubit))\n",
    "    schedules.append(schedule)\n",
    "\n",
    "schedules[0].draw()"
   ]
  },
  {
   "cell_type": "code",
   "execution_count": null,
   "id": "5b29d694-3ba3-46aa-9d2a-677a6d34b2b8",
   "metadata": {},
   "outputs": [],
   "source": []
  }
 ],
 "metadata": {
  "kernelspec": {
   "display_name": "AQI",
   "language": "python",
   "name": "aqi"
  },
  "language_info": {
   "codemirror_mode": {
    "name": "ipython",
    "version": 3
   },
   "file_extension": ".py",
   "mimetype": "text/x-python",
   "name": "python",
   "nbconvert_exporter": "python",
   "pygments_lexer": "ipython3",
   "version": "3.10.4"
  }
 },
 "nbformat": 4,
 "nbformat_minor": 5
}
