{
 "cells": [
  {
   "cell_type": "code",
   "execution_count": 243,
   "id": "ffefbfa0-da35-499a-b118-98e960a40228",
   "metadata": {},
   "outputs": [
    {
     "name": "stderr",
     "output_type": "stream",
     "text": [
      "configrc.store_credentials:WARNING:2022-08-01 12:51:05,130: Credentials already present. Set overwrite=True to overwrite.\n"
     ]
    },
    {
     "ename": "IBMQAccountError",
     "evalue": "'An IBM Quantum Experience account is already in use for the session.'",
     "output_type": "error",
     "traceback": [
      "\u001b[1;31m---------------------------------------------------------------------------\u001b[0m",
      "\u001b[1;31mIBMQAccountError\u001b[0m                          Traceback (most recent call last)",
      "\u001b[1;32m~\\AppData\\Local\\Temp/ipykernel_8812/2776876137.py\u001b[0m in \u001b[0;36m<module>\u001b[1;34m\u001b[0m\n\u001b[0;32m     26\u001b[0m \u001b[0mtoken\u001b[0m \u001b[1;33m=\u001b[0m \u001b[1;34m'792003cde0750f1452faa5cb5fe7c57da849e1119983f608e9a359d49cdb396391d6af09eedfb46af0a043a01103ed64da66835d1a318c0013d64ab3ebc1fe61'\u001b[0m\u001b[1;33m\u001b[0m\u001b[1;33m\u001b[0m\u001b[0m\n\u001b[0;32m     27\u001b[0m \u001b[0mqk\u001b[0m\u001b[1;33m.\u001b[0m\u001b[0mIBMQ\u001b[0m\u001b[1;33m.\u001b[0m\u001b[0msave_account\u001b[0m\u001b[1;33m(\u001b[0m\u001b[0mtoken\u001b[0m\u001b[1;33m=\u001b[0m\u001b[0mtoken\u001b[0m\u001b[1;33m)\u001b[0m\u001b[1;33m\u001b[0m\u001b[1;33m\u001b[0m\u001b[0m\n\u001b[1;32m---> 28\u001b[1;33m \u001b[0mqk\u001b[0m\u001b[1;33m.\u001b[0m\u001b[0mIBMQ\u001b[0m\u001b[1;33m.\u001b[0m\u001b[0menable_account\u001b[0m\u001b[1;33m(\u001b[0m\u001b[0mtoken\u001b[0m\u001b[1;33m)\u001b[0m\u001b[1;33m\u001b[0m\u001b[1;33m\u001b[0m\u001b[0m\n\u001b[0m\u001b[0;32m     29\u001b[0m \u001b[0mprovider\u001b[0m \u001b[1;33m=\u001b[0m \u001b[0mIBMQ\u001b[0m\u001b[1;33m.\u001b[0m\u001b[0mget_provider\u001b[0m\u001b[1;33m(\u001b[0m\u001b[0mhub\u001b[0m\u001b[1;33m=\u001b[0m\u001b[1;34m'ibm-q-ornl'\u001b[0m\u001b[1;33m,\u001b[0m \u001b[0mgroup\u001b[0m\u001b[1;33m=\u001b[0m\u001b[1;34m'ornl'\u001b[0m\u001b[1;33m,\u001b[0m \u001b[0mproject\u001b[0m\u001b[1;33m=\u001b[0m\u001b[1;34m'phy147'\u001b[0m\u001b[1;33m)\u001b[0m\u001b[1;33m\u001b[0m\u001b[1;33m\u001b[0m\u001b[0m\n\u001b[0;32m     30\u001b[0m \u001b[1;31m#backend = provider.get_backend(\"ibmq_jakarta\")\u001b[0m\u001b[1;33m\u001b[0m\u001b[1;33m\u001b[0m\u001b[0m\n",
      "\u001b[1;32m~\\anaconda3\\envs\\AQI2022\\lib\\site-packages\\qiskit\\providers\\ibmq\\ibmqfactory.py\u001b[0m in \u001b[0;36menable_account\u001b[1;34m(self, token, url, hub, group, project, **kwargs)\u001b[0m\n\u001b[0;32m     91\u001b[0m         \u001b[1;31m# Check if an IBM Quantum Experience account is already in use.\u001b[0m\u001b[1;33m\u001b[0m\u001b[1;33m\u001b[0m\u001b[0m\n\u001b[0;32m     92\u001b[0m         \u001b[1;32mif\u001b[0m \u001b[0mself\u001b[0m\u001b[1;33m.\u001b[0m\u001b[0m_credentials\u001b[0m\u001b[1;33m:\u001b[0m\u001b[1;33m\u001b[0m\u001b[1;33m\u001b[0m\u001b[0m\n\u001b[1;32m---> 93\u001b[1;33m             raise IBMQAccountError(\n\u001b[0m\u001b[0;32m     94\u001b[0m                 'An IBM Quantum Experience account is already in use for the session.')\n\u001b[0;32m     95\u001b[0m \u001b[1;33m\u001b[0m\u001b[0m\n",
      "\u001b[1;31mIBMQAccountError\u001b[0m: 'An IBM Quantum Experience account is already in use for the session.'"
     ]
    }
   ],
   "source": [
    "import Su22\n",
    "import qiskit as qk\n",
    "import numpy as np\n",
    "from qiskit.tools.visualization import plot_histogram\n",
    "from qiskit import IBMQ\n",
    "from qiskit.tools.monitor import job_monitor\n",
    "from qiskit.providers.aer.noise import NoiseModel\n",
    "import matplotlib\n",
    "import matplotlib.pyplot as plt\n",
    "from qiskit.visualization import plot_bloch_multivector\n",
    "from qiskit.tools.monitor import job_monitor\n",
    "\n",
    "from qiskit import pulse              \n",
    "from qiskit.circuit import Parameter \n",
    "from IPython.display import display\n",
    "from qiskit import QuantumCircuit\n",
    "from qiskit.circuit import Gate\n",
    "import warnings\n",
    "warnings.filterwarnings('ignore')\n",
    "from qiskit.tools.jupyter import *\n",
    "# The pulse simulator\n",
    "from qiskit.providers.aer import PulseSimulator\n",
    "\n",
    "# Object for representing physical models\n",
    "from qiskit.providers.aer.pulse import PulseSystemModel\n",
    "token = '792003cde0750f1452faa5cb5fe7c57da849e1119983f608e9a359d49cdb396391d6af09eedfb46af0a043a01103ed64da66835d1a318c0013d64ab3ebc1fe61'\n",
    "qk.IBMQ.save_account(token=token)\n",
    "qk.IBMQ.enable_account(token)\n",
    "provider = IBMQ.get_provider(hub='ibm-q-ornl', group='ornl', project='phy147')\n",
    "#backend = provider.get_backend(\"ibmq_jakarta\")\n",
    "from qiskit.test.mock import FakeJakarta"
   ]
  },
  {
   "cell_type": "code",
   "execution_count": 244,
   "id": "eda2827d-3ca7-4fa5-990c-6f6ce60ab3d9",
   "metadata": {},
   "outputs": [],
   "source": [
    "backend = provider.get_backend(\"ibmq_jakarta\")\n",
    "#backend = FakeJakarta()"
   ]
  },
  {
   "cell_type": "code",
   "execution_count": 245,
   "id": "19f1b600-cf47-4bc4-bc0f-4cfb249c7383",
   "metadata": {},
   "outputs": [],
   "source": [
    "from qiskit import pulse\n",
    "temp = [1 for i in range(2)]\n",
    "custom_Pulse_b = []\n",
    "xval = np.arange(0,2*np.pi,2*np.pi/100)\n",
    "for x in xval:\n",
    "    with pulse.build(backend=backend) as custom_Pulse:\n",
    "            [pulse.play(temp, pulse.drive_channel(0))]\n",
    "            pulse.delay(10,pulse.drive_channel(0))\n",
    "            pulse.shift_phase(x,pulse.drive_channel(0))\n",
    "            [pulse.play(temp, pulse.drive_channel(0))]\n",
    "    custom_Pulse_b.append(custom_Pulse)"
   ]
  },
  {
   "cell_type": "code",
   "execution_count": 277,
   "id": "cec155ea-a741-42d8-8fd1-fe63279f6971",
   "metadata": {},
   "outputs": [
    {
     "data": {
      "image/png": "[encoded data removed]",
      "text/plain": [
       "<Figure size 432x288 with 1 Axes>"
      ]
     },
     "metadata": {
      "needs_background": "light"
     },
     "output_type": "display_data"
    },
    {
     "name": "stdout",
     "output_type": "stream",
     "text": [
      "0.9980267284282716\n"
     ]
    }
   ],
   "source": [
    "import matplotlib.pyplot as plt\n",
    "import qiskit.pulse.transforms.canonicalization as canon\n",
    "from qiskit.pulse import Schedule, Gaussian, Play, ShiftPhase, DriveChannel\n",
    "from qiskit.visualization.pulse_v2 import device_info, stylesheet\n",
    "from qiskit.visualization.pulse_v2.events import ChannelEvents\n",
    "from qiskit.visualization.pulse_v2.generators import gen_filled_waveform_stepwise\n",
    "drive_chan0 = DriveChannel(0)\n",
    "real =[]\n",
    "imag =[]\n",
    "\n",
    "# Generate waveforms on channel 0\n",
    "for i_j in custom_Pulse_b:\n",
    "    chan_events = ChannelEvents.load_program(canon.block_to_schedule(i_j), drive_chan0)\n",
    "    waveforms = chan_events.get_waveforms()\n",
    "    line_data_lists = [gen_filled_waveform_stepwise(\n",
    "                       waveform,\n",
    "                       formatter=stylesheet.QiskitPulseStyle().formatter,\n",
    "                       device=device_info.OpenPulseBackendInfo())\n",
    "                       for waveform in waveforms]\n",
    "\n",
    "    # Plot the waveforms\n",
    "   \n",
    "    for line_data in line_data_lists[2]:\n",
    "        if line_data.data_type == 'Waveform.Real':\n",
    "            real.append(line_data.yvals[0])\n",
    "            if(len(line_data_lists[2]) == 1):\n",
    "                imag.append(0)\n",
    "        elif line_data.data_type == 'Waveform.Imag':\n",
    "            imag.append(line_data.yvals[0])\n",
    "            if(len(line_data_lists[2]) == 1):\n",
    "                real.append(0)\n",
    "plt.figure()        \n",
    "plt.plot(xval, real, color='C0', label='Real')\n",
    "plt.plot(xval, imag, color='C1', label='Imag')\n",
    "plt.xlabel(\"System Cycle Time (dt)\")\n",
    "plt.ylabel(\"Pulse Amplitude\")\n",
    "#plt.legend(handles=[real, imag])\n",
    "plt.legend()\n",
    "plt.show()\n",
    "print(line_data_lists[2][0].yvals[0])"
   ]
  },
  {
   "cell_type": "code",
   "execution_count": 280,
   "id": "e103d9cb-a353-475c-a523-e6505b7a8ebb",
   "metadata": {},
   "outputs": [],
   "source": [
    "def shift_all(circ, traj):\n",
    "    final = []\n",
    "    start = 0\n",
    "    for j,i in enumerate(circ):\n",
    "        final.append((np.cos(start) + 1j*np.sin(start))*i)\n",
    "        start+=traj[j]\n",
    "    return final\n",
    "        \n",
    "def parametrize_circ_1(circ,noise_traj_list,backend):\n",
    "    par = qk.circuit.ParameterVector('thetha', length=int(len(circ)))\n",
    "    batch = []\n",
    "    for traj in noise_traj_list:\n",
    "        with pulse.build(backend=backend,default_alignment='sequential') as temp:\n",
    "                pulse.play(shift_all(circ,traj), pulse.drive_channel(0))\n",
    "            #pulse.measure(qubits=[0], registers=[pulse.MemorySlot(0)])\n",
    "        batch.append(temp)\n",
    "    return batch"
   ]
  },
  {
   "cell_type": "code",
   "execution_count": 313,
   "id": "8109235b-5b50-41e6-b963-4a87a461caf8",
   "metadata": {},
   "outputs": [],
   "source": [
    "temp = [np.sqrt(i/100*np.pi) for i in range(200)]\n",
    "temp = temp/np.max(np.abs(temp))\n",
    "traj = [[np.pi/10 for i in range(200)]]\n",
    "circ = parametrize_circ_1(temp, traj,backend)[0]"
   ]
  },
  {
   "cell_type": "code",
   "execution_count": 314,
   "id": "0a1c0e95-0328-4b5d-ba53-05bf8d8a0978",
   "metadata": {},
   "outputs": [
    {
     "data": {
      "image/png": "[encoded data removed]",
      "text/plain": [
       "<Figure size 432x288 with 1 Axes>"
      ]
     },
     "metadata": {
      "needs_background": "light"
     },
     "output_type": "display_data"
    },
    {
     "name": "stdout",
     "output_type": "stream",
     "text": [
      "[[LineData(type=Waveform.Real, key=-171027497570035602), LineData(type=Waveform.Imag, key=-6419994261816932759)]]\n",
      "[[LineData(type=Waveform.Real, key=-171027497570035602), LineData(type=Waveform.Imag, key=-6419994261816932759)]]\n"
     ]
    }
   ],
   "source": [
    "import matplotlib.pyplot as plt\n",
    "\n",
    "from qiskit.pulse import Schedule, Gaussian, Play, ShiftPhase, DriveChannel\n",
    "from qiskit.visualization.pulse_v2 import device_info, stylesheet\n",
    "from qiskit.visualization.pulse_v2.events import ChannelEvents\n",
    "from qiskit.visualization.pulse_v2.generators import gen_filled_waveform_stepwise\n",
    "\n",
    "# Generate waveforms on channel 0\n",
    "chan_events = ChannelEvents.load_program(canon.block_to_schedule(circ), drive_chan0)\n",
    "waveforms = chan_events.get_waveforms()\n",
    "line_data_lists = [gen_filled_waveform_stepwise(\n",
    "                   waveform,\n",
    "                   formatter=stylesheet.QiskitPulseStyle().formatter,\n",
    "                   device=device_info.OpenPulseBackendInfo())\n",
    "                   for waveform in waveforms]\n",
    "\n",
    "final = [] \n",
    "real= []\n",
    "imag = []\n",
    "temp= []\n",
    "# Plot the waveforms\n",
    "plt.figure()\n",
    "for line_data_list in line_data_lists:\n",
    "    for line_data in line_data_list:\n",
    "        if line_data.data_type == 'Waveform.Real':\n",
    "            real, = plt.plot(line_data.xvals, line_data.yvals, color='C0', label='Real')\n",
    "        elif line_data.data_type == 'Waveform.Imag':\n",
    "            imag, = plt.plot(line_data.xvals, line_data.yvals, color='C1', label='Imag')\n",
    "plt.xlabel(\"System Cycle Time (dt)\")\n",
    "plt.ylabel(\"Pulse Amplitude\")\n",
    "plt.legend(handles=[real, imag])\n",
    "plt.show()\n",
    "print(line_data_lists)"
   ]
  },
  {
   "cell_type": "code",
   "execution_count": null,
   "id": "b12f44ec-6439-4e54-8a85-620031c0750a",
   "metadata": {},
   "outputs": [],
   "source": []
  }
 ],
 "metadata": {
  "kernelspec": {
   "display_name": "AQI2022",
   "language": "python",
   "name": "aqi2022"
  },
  "language_info": {
   "codemirror_mode": {
    "name": "ipython",
    "version": 3
   },
   "file_extension": ".py",
   "mimetype": "text/x-python",
   "name": "python",
   "nbconvert_exporter": "python",
   "pygments_lexer": "ipython3",
   "version": "3.9.7"
  }
 },
 "nbformat": 4,
 "nbformat_minor": 5
}
