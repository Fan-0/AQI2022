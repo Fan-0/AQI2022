{
 "cells": [
  {
   "cell_type": "code",
   "execution_count": 2,
   "id": "644c9ab6-1df2-44bb-8f05-4b63d8511dc6",
   "metadata": {},
   "outputs": [
    {
     "name": "stderr",
     "output_type": "stream",
     "text": [
      "configrc.store_credentials:WARNING:2022-08-01 17:49:21,797: Credentials already present. Set overwrite=True to overwrite.\n"
     ]
    }
   ],
   "source": [
    "import Su22\n",
    "import qiskit as qk\n",
    "import numpy as np\n",
    "from qiskit.tools.visualization import plot_histogram\n",
    "from qiskit import IBMQ\n",
    "from qiskit.tools.monitor import job_monitor\n",
    "from qiskit.providers.aer.noise import NoiseModel\n",
    "import matplotlib\n",
    "import matplotlib.pyplot as plt\n",
    "from qiskit.visualization import plot_bloch_multivector\n",
    "from qiskit.tools.monitor import job_monitor\n",
    "\n",
    "from qiskit import pulse              \n",
    "from qiskit.circuit import Parameter \n",
    "from IPython.display import display\n",
    "from qiskit import QuantumCircuit\n",
    "from qiskit.circuit import Gate\n",
    "import warnings\n",
    "warnings.filterwarnings('ignore')\n",
    "from qiskit.tools.jupyter import *\n",
    "# The pulse simulator\n",
    "from qiskit.providers.aer import PulseSimulator\n",
    "\n",
    "# Object for representing physical models\n",
    "from qiskit.providers.aer.pulse import PulseSystemModel\n",
    "token = '792003cde0750f1452faa5cb5fe7c57da849e1119983f608e9a359d49cdb396391d6af09eedfb46af0a043a01103ed64da66835d1a318c0013d64ab3ebc1fe61'\n",
    "qk.IBMQ.save_account(token=token)\n",
    "qk.IBMQ.enable_account(token)\n",
    "provider = IBMQ.get_provider(hub='ibm-q-ornl', group='ornl', project='phy147')\n",
    "#backend = provider.get_backend(\"ibmq_jakarta\")\n",
    "from qiskit.test.mock import FakeJakarta"
   ]
  },
  {
   "cell_type": "code",
   "execution_count": 3,
   "id": "10796178-73b3-4809-8f78-e0c2d782bf75",
   "metadata": {},
   "outputs": [],
   "source": [
    "backend = provider.get_backend(\"ibmq_jakarta\")\n",
    "#backend = FakeJakarta()"
   ]
  },
  {
   "cell_type": "markdown",
   "id": "fde56179-7946-4021-bf8b-95d72a964357",
   "metadata": {},
   "source": [
    "## functions"
   ]
  },
  {
   "cell_type": "code",
   "execution_count": 4,
   "id": "db4cee67-f113-4414-afc1-c6f5f9743223",
   "metadata": {},
   "outputs": [
    {
     "name": "stdout",
     "output_type": "stream",
     "text": [
      "640   160\n"
     ]
    }
   ],
   "source": [
    "import pickle\n",
    "\n",
    "def loadData(inp):\n",
    "    # for reading also binary mode is important\n",
    "    dbfile = open(inp, 'rb')     \n",
    "    db = pickle.load(dbfile)\n",
    "    dbfile.close()\n",
    "    return db\n",
    "\n",
    "data=loadData('FGRAFS_controls/FGRAFS-controls_N-160_zero-endpoints-True.p')\n",
    "temp = []\n",
    "for i in data:\n",
    "    for j in range(int(4)):\n",
    "        temp.append(i)\n",
    "print(len(temp), \" \" , len(data))"
   ]
  },
  {
   "cell_type": "code",
   "execution_count": 5,
   "id": "2c097622-2cd6-4514-99f3-537c6872ff3c",
   "metadata": {},
   "outputs": [],
   "source": [
    "from qiskit import QuantumRegister, QuantumCircuit, ClassicalRegister, Aer\n",
    "from qiskit.quantum_info import state_fidelity\n",
    "from qiskit.providers.aer import noise\n",
    "\n",
    "# Tomography functions\n",
    "from qiskit.ignis.verification.tomography import state_tomography_circuits, StateTomographyFitter\n",
    "import qiskit.ignis.mitigation.measurement as mc\n",
    "import time\n",
    "\n",
    "def Full_tomography(circ, backend):\n",
    "    state = QuantumCircuit(1)\n",
    "    state.x(0)\n",
    "    job = qk.execute(state, backend=Aer.get_backend('statevector_simulator'))\n",
    "    state_results = job.result().get_statevector(state)\n",
    "    t = time.time()\n",
    "    test_circ = state_tomography_circuits(circ,[0])\n",
    "    job = qk.execute(test_circ, backend=backend, shots=8192)\n",
    "    test_state = StateTomographyFitter(job.result(), test_circ).fit()\n",
    "    print('Time taken:', time.time() - t)\n",
    "    return test_state\n",
    "\n",
    "\n",
    "def plot_m(state):\n",
    "    return 0"
   ]
  },
  {
   "cell_type": "code",
   "execution_count": 25,
   "id": "09ed0455-b013-4ceb-bac1-71e524f95736",
   "metadata": {
    "tags": []
   },
   "outputs": [],
   "source": [
    "import numpy as np\n",
    "import scipy.signal as si\n",
    "import scipy.linalg as la\n",
    "import matplotlib.pyplot as plt\n",
    "import qiskit as qk\n",
    "from qiskit import Aer\n",
    "from qiskit.providers.ibmq.managed import IBMQJobManager\n",
    "from qiskit.visualization.pulse_v2 import device_info, stylesheet\n",
    "from qiskit.visualization.pulse_v2.events import ChannelEvents\n",
    "from qiskit.visualization.pulse_v2.generators import gen_filled_waveform_stepwise\n",
    "import  qiskit.pulse.transforms.canonicalization as canon\n",
    "noise_power = 1e-3\n",
    "num_noise_trajs = 30\n",
    "\n",
    "def generate_noise_params(s_pow, w0):\n",
    "    a = [1]\n",
    "    NN = 512\n",
    "    BW = 0.005 # changes narrowness of noise spectrum\n",
    "    b = si.firwin(NN, BW)*np.cos(w0*np.pi*np.arange(NN))\n",
    "    b = b/la.norm(b)*np.sqrt(s_pow)\n",
    "    return a, b\n",
    "\n",
    "def parametrize_circ(circ,noise_traj_list,backend):\n",
    "    par = qk.circuit.ParameterVector('thetha', length=int(len(circ)/64))\n",
    "    batch = []\n",
    "    for traj in noise_traj_list:\n",
    "        with pulse.build(backend=backend,default_alignment='sequential') as temp:\n",
    "            for j in range(int(len(circ)/64)):\n",
    "                pulse.play(circ[j*64:(j+1)*64], pulse.drive_channel(0))\n",
    "                pulse.shift_phase(par[j],pulse.drive_channel(0))\n",
    "            pulse.measure(qubits=[0], registers=[pulse.MemorySlot(0)])\n",
    "        for i in range(len(par)):\n",
    "            temp.assign_parameters({par[i]: traj[i]}, inplace=True)\n",
    "        batch.append(temp)\n",
    "    return batch\n",
    "\n",
    "def parametrize_circ_1(circ,noise_traj_list,backend):\n",
    "    par = qk.circuit.ParameterVector('thetha', length=int(len(circ)))\n",
    "    batch = []\n",
    "    for traj in noise_traj_list:\n",
    "        with pulse.build(backend=backend,default_alignment='sequential') as temp:\n",
    "            drive_chan0 =pulse.drive_channel(0)\n",
    "            for j in range(int(len(circ))):\n",
    "                pulse.play([circ[j]],drive_chan0)\n",
    "                pulse.shift_phase(par[j],drive_chan0)\n",
    "            #pulse.measure(qubits=[0], registers=[pulse.MemorySlot(0)])\n",
    "        for i in range(len(par)):\n",
    "            temp.assign_parameters({par[i]: traj[i]}, inplace=True)\n",
    "        chan_events = ChannelEvents.load_program(canon.block_to_schedule(temp), drive_chan0)\n",
    "        waveforms = chan_events.get_waveforms()\n",
    "        line_data_lists = [gen_filled_waveform_stepwise(\n",
    "                           waveform,\n",
    "                           formatter=stylesheet.QiskitPulseStyle().formatter,\n",
    "                           device=device_info.OpenPulseBackendInfo())\n",
    "                           for waveform in waveforms]\n",
    "        real= []\n",
    "        imag = []\n",
    "        temp= []\n",
    "        # Plot the waveforms\n",
    "        plt.figure()\n",
    "        for line_data_list in line_data_lists:\n",
    "            for line_data in line_data_list:\n",
    "                if line_data.data_type == 'Waveform.Real':\n",
    "                    temp.append(line_data.xvals[0])\n",
    "                    real.append(line_data.yvals[0])\n",
    "                    if(len(line_data_list) == 1):\n",
    "                        imag.append(0j)\n",
    "                elif line_data.data_type == 'Waveform.Imag':\n",
    "                    imag.append(line_data.yvals[0])\n",
    "                    if(len(line_data_list) == 1):\n",
    "                        temp.append(line_data.xvals[0])\n",
    "                        imag.append(0)\n",
    "        final = np.array(real)+np.array(imag)*1j\n",
    "        with pulse.build(backend=backend,default_alignment='sequential') as Final_sched:\n",
    "            drive_chan0 =pulse.drive_channel(0)\n",
    "            pulse.play(final,drive_chan0)\n",
    "            #pulse.measure(qubits=[0], registers=[pulse.MemorySlot(0)])\n",
    "        batch.append(Final_sched)\n",
    "    return batch\n",
    "\n",
    "def schwarma_trajectories(a, b, num_gates, num_trajectories):\n",
    "    # a: coefficients of linear filter numerator\n",
    "    # b: coefficients of linear filter demoninator\n",
    "    # num_gates: number of gates in circuit to be \"schwarmafied\"\n",
    "    # num_trajectories: number of noise trajectories required\n",
    "    traj_list = []\n",
    "    for _ in range(num_trajectories):\n",
    "        angles = si.lfilter(b, a, np.random.randn(num_gates + 1000))[1000:]\n",
    "        traj_list.append(angles)\n",
    "    return traj_list\n",
    "\n",
    "shots=1000\n",
    "\n",
    "def Spec(data,start,end,num_center_freqs=100,backend=backend, option = 0):  \n",
    "    #option 0 beaks upp pulse into 64dt chuncks option 1 will extend pulses to 64dt\n",
    "    if(option):\n",
    "        num_gates=int(len(data))\n",
    "    else:\n",
    "        num_gates=int(len(data)/64)\n",
    "    circ_batch = []\n",
    "    center_idxs=[]\n",
    "    centers=[]\n",
    "    all_probs = np.zeros([num_center_freqs, 2])\n",
    "    for center_idx, center in enumerate(np.linspace(start, end, num_center_freqs)): # vary noise center frequency\n",
    "        center_idxs.append(center_idx)\n",
    "        centers.append(center)\n",
    "        #print('Probing Filter Function at Normalized Frequency: ', center)\n",
    "        # Generate noise trajectories\n",
    "        a, b = generate_noise_params(noise_power, center)\n",
    "        noise_traj_list = np.array(schwarma_trajectories(a, b, num_gates, num_noise_trajs))\n",
    "    \n",
    "        # Build noisy circuit dictionary\n",
    "        if(not option):\n",
    "            circ_batch+=(parametrize_circ(data,noise_traj_list,backend))\n",
    "        else:\n",
    "            circ_batch+=(parametrize_circ_1(data,noise_traj_list,backend))\n",
    "\n",
    "        # Run circuits\n",
    "    '''job_manager = IBMQJobManager()\n",
    "    job_set = job_manager.run(circ_batch, backend=backend, shots = shots, name=('Spectrosopy'+str(time.strftime(\"%H:%M:%S\", time.localtime()))))\n",
    "    results = job_set.results()\n",
    "\n",
    "    # Compile Results\n",
    "    cc=0\n",
    "    prob = 0\n",
    "    counter = 0\n",
    "    for i in range(int(len(circ_batch)/num_noise_trajs)):\n",
    "        for circ in circ_batch[i*num_noise_trajs:((i+1)*num_noise_trajs)]:\n",
    "            zero_counts = results.get_counts(cc).get('1')\n",
    "            prob += zero_counts/shots\n",
    "            cc+=1\n",
    "        prob = prob/num_noise_trajs\n",
    "        all_probs[int(center_idxs[counter]), :] = centers[counter], prob\n",
    "        counter+=1\n",
    "        prob=0'''\n",
    "    \n",
    "    return all_probs, circ_batch"
   ]
  },
  {
   "cell_type": "markdown",
   "id": "7c2829ba-7895-4233-b7bc-18a1d628d910",
   "metadata": {},
   "source": [
    "## recovery"
   ]
  },
  {
   "cell_type": "code",
   "execution_count": 1,
   "id": "adce13c2-b695-4060-80fd-3338bb725395",
   "metadata": {},
   "outputs": [],
   "source": [
    "import pickle\n",
    "\n",
    "def loadData(inp):\n",
    "    # for reading also binary mode is important\n",
    "    dbfile = open(inp, 'rb')     \n",
    "    db = pickle.load(dbfile)\n",
    "    dbfile.close()\n",
    "    return db\n",
    "\n",
    "data_x = loadData('system_x_new.p')\n",
    "data_128t = loadData('128dt_fil_f_gate_comp.p') \n",
    "data_128f = loadData('128dt_fil_f_gate_comp.p')"
   ]
  },
  {
   "cell_type": "code",
   "execution_count": 26,
   "id": "05e14f0e-177b-4271-a2c9-b68a465470a9",
   "metadata": {},
   "outputs": [
    {
     "name": "stdout",
     "output_type": "stream",
     "text": [
      "16.965269467526507\n"
     ]
    },
    {
     "data": {
      "image/png": "[encoded data removed]",
      "text/plain": [
       "<Figure size 936x130.985 with 1 Axes>"
      ]
     },
     "execution_count": 26,
     "metadata": {},
     "output_type": "execute_result"
    },
    {
     "data": {
      "text/plain": [
       "<Figure size 432x288 with 0 Axes>"
      ]
     },
     "metadata": {},
     "output_type": "display_data"
    },
    {
     "data": {
      "text/plain": [
       "<Figure size 432x288 with 0 Axes>"
      ]
     },
     "metadata": {},
     "output_type": "display_data"
    },
    {
     "data": {
      "text/plain": [
       "<Figure size 432x288 with 0 Axes>"
      ]
     },
     "metadata": {},
     "output_type": "display_data"
    },
    {
     "data": {
      "text/plain": [
       "<Figure size 432x288 with 0 Axes>"
      ]
     },
     "metadata": {},
     "output_type": "display_data"
    },
    {
     "data": {
      "text/plain": [
       "<Figure size 432x288 with 0 Axes>"
      ]
     },
     "metadata": {},
     "output_type": "display_data"
    },
    {
     "data": {
      "text/plain": [
       "<Figure size 432x288 with 0 Axes>"
      ]
     },
     "metadata": {},
     "output_type": "display_data"
    },
    {
     "data": {
      "text/plain": [
       "<Figure size 432x288 with 0 Axes>"
      ]
     },
     "metadata": {},
     "output_type": "display_data"
    },
    {
     "data": {
      "text/plain": [
       "<Figure size 432x288 with 0 Axes>"
      ]
     },
     "metadata": {},
     "output_type": "display_data"
    },
    {
     "data": {
      "text/plain": [
       "<Figure size 432x288 with 0 Axes>"
      ]
     },
     "metadata": {},
     "output_type": "display_data"
    },
    {
     "data": {
      "text/plain": [
       "<Figure size 432x288 with 0 Axes>"
      ]
     },
     "metadata": {},
     "output_type": "display_data"
    },
    {
     "data": {
      "text/plain": [
       "<Figure size 432x288 with 0 Axes>"
      ]
     },
     "metadata": {},
     "output_type": "display_data"
    },
    {
     "data": {
      "text/plain": [
       "<Figure size 432x288 with 0 Axes>"
      ]
     },
     "metadata": {},
     "output_type": "display_data"
    },
    {
     "data": {
      "text/plain": [
       "<Figure size 432x288 with 0 Axes>"
      ]
     },
     "metadata": {},
     "output_type": "display_data"
    },
    {
     "data": {
      "text/plain": [
       "<Figure size 432x288 with 0 Axes>"
      ]
     },
     "metadata": {},
     "output_type": "display_data"
    },
    {
     "data": {
      "text/plain": [
       "<Figure size 432x288 with 0 Axes>"
      ]
     },
     "metadata": {},
     "output_type": "display_data"
    },
    {
     "data": {
      "text/plain": [
       "<Figure size 432x288 with 0 Axes>"
      ]
     },
     "metadata": {},
     "output_type": "display_data"
    },
    {
     "data": {
      "text/plain": [
       "<Figure size 432x288 with 0 Axes>"
      ]
     },
     "metadata": {},
     "output_type": "display_data"
    },
    {
     "data": {
      "text/plain": [
       "<Figure size 432x288 with 0 Axes>"
      ]
     },
     "metadata": {},
     "output_type": "display_data"
    },
    {
     "data": {
      "text/plain": [
       "<Figure size 432x288 with 0 Axes>"
      ]
     },
     "metadata": {},
     "output_type": "display_data"
    },
    {
     "data": {
      "text/plain": [
       "<Figure size 432x288 with 0 Axes>"
      ]
     },
     "metadata": {},
     "output_type": "display_data"
    },
    {
     "data": {
      "text/plain": [
       "<Figure size 432x288 with 0 Axes>"
      ]
     },
     "metadata": {},
     "output_type": "display_data"
    },
    {
     "data": {
      "text/plain": [
       "<Figure size 432x288 with 0 Axes>"
      ]
     },
     "metadata": {},
     "output_type": "display_data"
    },
    {
     "data": {
      "text/plain": [
       "<Figure size 432x288 with 0 Axes>"
      ]
     },
     "metadata": {},
     "output_type": "display_data"
    },
    {
     "data": {
      "text/plain": [
       "<Figure size 432x288 with 0 Axes>"
      ]
     },
     "metadata": {},
     "output_type": "display_data"
    },
    {
     "data": {
      "text/plain": [
       "<Figure size 432x288 with 0 Axes>"
      ]
     },
     "metadata": {},
     "output_type": "display_data"
    },
    {
     "data": {
      "text/plain": [
       "<Figure size 432x288 with 0 Axes>"
      ]
     },
     "metadata": {},
     "output_type": "display_data"
    },
    {
     "data": {
      "text/plain": [
       "<Figure size 432x288 with 0 Axes>"
      ]
     },
     "metadata": {},
     "output_type": "display_data"
    },
    {
     "data": {
      "text/plain": [
       "<Figure size 432x288 with 0 Axes>"
      ]
     },
     "metadata": {},
     "output_type": "display_data"
    },
    {
     "data": {
      "text/plain": [
       "<Figure size 432x288 with 0 Axes>"
      ]
     },
     "metadata": {},
     "output_type": "display_data"
    },
    {
     "data": {
      "text/plain": [
       "<Figure size 432x288 with 0 Axes>"
      ]
     },
     "metadata": {},
     "output_type": "display_data"
    }
   ],
   "source": [
    "import time\n",
    "data=loadData('FGRAFS_controls/FGRAFS-controls_N-64_zero-endpoints-True.p')\n",
    "test=np.array(data)\n",
    "print(np.abs(test).max())\n",
    "test= test/test.max()\n",
    "t = time.time()\n",
    "start=0.3\n",
    "end=start+((0.98-0.02)/10)\n",
    "all_probs, circ_batch= Spec(test,0.02,0.98,1,backend=backend,option=1)\n",
    "circ_batch[0].draw()"
   ]
  },
  {
   "cell_type": "code",
   "execution_count": 28,
   "id": "ea0df54d-c13f-46be-a518-f3f78425d880",
   "metadata": {},
   "outputs": [
    {
     "data": {
      "image/png": "[encoded data removed]",
      "text/plain": [
       "<Figure size 936x140.805 with 1 Axes>"
      ]
     },
     "execution_count": 28,
     "metadata": {},
     "output_type": "execute_result"
    }
   ],
   "source": [
    "circ_batch[5].draw()"
   ]
  },
  {
   "cell_type": "code",
   "execution_count": 24,
   "id": "e972afd6-b025-45e2-869c-c4774018a003",
   "metadata": {},
   "outputs": [
    {
     "data": {
      "image/png": "[encoded data removed]",
      "text/plain": [
       "<Figure size 936x130.792 with 1 Axes>"
      ]
     },
     "execution_count": 24,
     "metadata": {},
     "output_type": "execute_result"
    }
   ],
   "source": [
    "with pulse.build(backend=backend) as custom_Pulse_2:\n",
    "    pulse.play(test,pulse.drive_channel(0))\n",
    "#import qiskit.pulse.transforms.canonicalization as canon\n",
    "#x=(canon.block_to_schedule(circ_batch[0])).instructions[1][1].operands\n",
    "custom_Pulse_2.draw()"
   ]
  },
  {
   "cell_type": "code",
   "execution_count": 2,
   "id": "d213d8c3-8a0e-4ae3-8e89-0bccc68d32d8",
   "metadata": {},
   "outputs": [],
   "source": [
    "import matplotlib.pyplot as plt\n",
    "\n",
    "from qiskit.pulse import Schedule, Gaussian, Play, ShiftPhase, DriveChannel\n",
    "from qiskit.visualization.pulse_v2 import device_info, stylesheet\n",
    "from qiskit.visualization.pulse_v2.events import ChannelEvents\n",
    "from qiskit.visualization.pulse_v2.generators import gen_filled_waveform_stepwise\n",
    "\n",
    "# Construct the Gaussian pulse and drive channels\n",
    "gaussian_pulse = Gaussian(duration=2688, amp=1, sigma=336)\n",
    "drive_chan0 = DriveChannel(0)\n",
    "drive_chan1 = DriveChannel(1)\n",
    "\n",
    "# Construct a schedule with different phase shifts on the two channels"
   ]
  },
  {
   "cell_type": "code",
   "execution_count": 11,
   "id": "98e9ca9f-4ab4-422f-aadc-158fd8a87e5f",
   "metadata": {},
   "outputs": [
    {
     "data": {
      "image/png": "[encoded data removed]",
      "text/plain": [
       "<Figure size 936x251.338 with 1 Axes>"
      ]
     },
     "execution_count": 11,
     "metadata": {},
     "output_type": "execute_result"
    }
   ],
   "source": [
    "sched = Schedule()\n",
    "sched += Play(gaussian_pulse, drive_chan0)\n",
    "sched += ShiftPhase(1.2, drive_chan0)\n",
    "sched += Play(gaussian_pulse, drive_chan0)\n",
    "sched += Play(gaussian_pulse, drive_chan1)\n",
    "sched += ShiftPhase(1.8, drive_chan1)\n",
    "sched += Play(gaussian_pulse, drive_chan1)\n",
    "sched.draw()"
   ]
  },
  {
   "cell_type": "code",
   "execution_count": 7,
   "id": "df0b0962-3c23-4337-a5eb-47c8c278f2d4",
   "metadata": {},
   "outputs": [
    {
     "ename": "NameError",
     "evalue": "name 'circ_batch' is not defined",
     "output_type": "error",
     "traceback": [
      "\u001b[1;31m---------------------------------------------------------------------------\u001b[0m",
      "\u001b[1;31mNameError\u001b[0m                                 Traceback (most recent call last)",
      "Input \u001b[1;32mIn [7]\u001b[0m, in \u001b[0;36m<cell line: 3>\u001b[1;34m()\u001b[0m\n\u001b[0;32m      1\u001b[0m \u001b[38;5;66;03m# Generate waveforms on channel 0\u001b[39;00m\n\u001b[0;32m      2\u001b[0m \u001b[38;5;28;01mimport\u001b[39;00m  \u001b[38;5;21;01mqiskit\u001b[39;00m\u001b[38;5;21;01m.\u001b[39;00m\u001b[38;5;21;01mpulse\u001b[39;00m\u001b[38;5;21;01m.\u001b[39;00m\u001b[38;5;21;01mtransforms\u001b[39;00m\u001b[38;5;21;01m.\u001b[39;00m\u001b[38;5;21;01mcanonicalization\u001b[39;00m \u001b[38;5;28;01mas\u001b[39;00m \u001b[38;5;21;01mcanon\u001b[39;00m\n\u001b[1;32m----> 3\u001b[0m chan_events \u001b[38;5;241m=\u001b[39m ChannelEvents\u001b[38;5;241m.\u001b[39mload_program(canon\u001b[38;5;241m.\u001b[39mblock_to_schedule(\u001b[43mcirc_batch\u001b[49m[\u001b[38;5;241m0\u001b[39m]), drive_chan0)\n\u001b[0;32m      4\u001b[0m waveforms \u001b[38;5;241m=\u001b[39m chan_events\u001b[38;5;241m.\u001b[39mget_waveforms()\n\u001b[0;32m      5\u001b[0m line_data_lists \u001b[38;5;241m=\u001b[39m [gen_filled_waveform_stepwise(\n\u001b[0;32m      6\u001b[0m                    waveform,\n\u001b[0;32m      7\u001b[0m                    formatter\u001b[38;5;241m=\u001b[39mstylesheet\u001b[38;5;241m.\u001b[39mQiskitPulseStyle()\u001b[38;5;241m.\u001b[39mformatter,\n\u001b[0;32m      8\u001b[0m                    device\u001b[38;5;241m=\u001b[39mdevice_info\u001b[38;5;241m.\u001b[39mOpenPulseBackendInfo())\n\u001b[0;32m      9\u001b[0m                    \u001b[38;5;28;01mfor\u001b[39;00m waveform \u001b[38;5;129;01min\u001b[39;00m waveforms]\n",
      "\u001b[1;31mNameError\u001b[0m: name 'circ_batch' is not defined"
     ]
    }
   ],
   "source": [
    "# Generate waveforms on channel 0\n",
    "import  qiskit.pulse.transforms.canonicalization as canon\n",
    "chan_events = ChannelEvents.load_program(canon.block_to_schedule(circ_batch[0]), drive_chan0)\n",
    "waveforms = chan_events.get_waveforms()\n",
    "line_data_lists = [gen_filled_waveform_stepwise(\n",
    "                   waveform,\n",
    "                   formatter=stylesheet.QiskitPulseStyle().formatter,\n",
    "                   device=device_info.OpenPulseBackendInfo())\n",
    "                   for waveform in waveforms]\n",
    "\n",
    "final = [] \n",
    "real= []\n",
    "imag = []\n",
    "temp= []\n",
    "# Plot the waveforms\n",
    "plt.figure()\n",
    "for line_data_list in line_data_lists:\n",
    "    for line_data in line_data_list:\n",
    "        if line_data.data_type == 'Waveform.Real':\n",
    "            temp.append(line_data.xvals[0])\n",
    "            real.append(line_data.yvals[0])\n",
    "            if(len(line_data_list) == 1):\n",
    "                imag.append(0j)\n",
    "        elif line_data.data_type == 'Waveform.Imag':\n",
    "            imag.append(line_data.yvals[0])\n",
    "            if(len(line_data_list) == 1):\n",
    "                temp.append(line_data.xvals[0])\n",
    "                imag.append(0)\n",
    "plt.xlabel(\"System Cycle Time (dt)\")\n",
    "plt.ylabel(\"Pulse Amplitude\")\n",
    "plt.plot(temp, real, color='C0', label='Real')\n",
    "plt.plot(temp, imag, color='C1', label='Imaginary')\n",
    "plt.plot(temp, (((np.array(real)+np.array(imag))/np.abs(np.array(real)+np.array(imag)))*np.sqrt(np.array(real)**2+np.array(imag)**2)), color='C2', label='combined')\n",
    "#plt.plot(temp, test, color='C3', label='input')\n",
    "plt.legend()\n",
    "plt.show()\n",
    "print(line_data_lists)\n",
    "print( np.array(real)+np.array(imag)*1j)"
   ]
  },
  {
   "cell_type": "code",
   "execution_count": 36,
   "id": "dc25eee7-cd17-4010-9197-1163ebd91bc9",
   "metadata": {},
   "outputs": [
    {
     "data": {
      "image/png": "[encoded data removed]",
      "text/plain": [
       "<Figure size 432x288 with 1 Axes>"
      ]
     },
     "metadata": {
      "needs_background": "light"
     },
     "output_type": "display_data"
    },
    {
     "name": "stdout",
     "output_type": "stream",
     "text": [
      "[[LineData(type=Waveform.Real, key=4004979891218498329), LineData(type=Waveform.Imag, key=3226275482260902387)]]\n"
     ]
    }
   ],
   "source": [
    "# Generate waveforms on channel 0\n",
    "chan_events = ChannelEvents.load_program(canon.block_to_schedule(circ_batch[0]), drive_chan0)\n",
    "waveforms = chan_events.get_waveforms()\n",
    "line_data_lists = [gen_filled_waveform_stepwise(\n",
    "                   waveform,\n",
    "                   formatter=stylesheet.QiskitPulseStyle().formatter,\n",
    "                   device=device_info.OpenPulseBackendInfo())\n",
    "                   for waveform in waveforms]\n",
    "\n",
    "# Plot the waveforms\n",
    "plt.figure()\n",
    "for line_data_list in line_data_lists:\n",
    "    for line_data in line_data_list:\n",
    "        if line_data.data_type == 'Waveform.Real':\n",
    "            real, = plt.plot(line_data.xvals, line_data.yvals, color='C0', label='Real')\n",
    "        elif line_data.data_type == 'Waveform.Imag':\n",
    "            imag, = plt.plot(line_data.xvals, line_data.yvals, color='C1', label='Imag')\n",
    "plt.xlabel(\"System Cycle Time (dt)\")\n",
    "plt.ylabel(\"Pulse Amplitude\")\n",
    "plt.legend(handles=[real, imag])\n",
    "plt.show()\n",
    "print(line_data_lists)"
   ]
  },
  {
   "cell_type": "code",
   "execution_count": 20,
   "id": "e2969c5a-6cf8-4c19-bf83-ed9b2afb587b",
   "metadata": {},
   "outputs": [
    {
     "data": {
      "text/plain": [
       "Text(0.5, 1.0, 'Noise Spectroscopy of Pulse sampled at each intervals')"
      ]
     },
     "execution_count": 20,
     "metadata": {},
     "output_type": "execute_result"
    },
    {
     "data": {
      "image/png": "[encoded data removed]",
      "text/plain": [
       "<Figure size 600x400 with 1 Axes>"
      ]
     },
     "metadata": {
      "needs_background": "light"
     },
     "output_type": "display_data"
    }
   ],
   "source": [
    "# import numpy as np\n",
    "import matplotlib.pyplot as plt\n",
    "fig = plt.figure(dpi=100)\n",
    "ax = fig.add_subplot(111)\n",
    "ax.plot(data_x['option 1'][0][:,0],data_x['option 1'][0][:,1]*1/(0.65/0.9),label='System X')\n",
    "ax.plot(data_128t['option 1'][0][:,0],data_128t['option 1'][0][:,1],label='128dt Filter Func')\n",
    "ax.legend()\n",
    "ax.set_ylabel('Survival Probability')\n",
    "ax.set_xlabel('Center Frequency')\n",
    "ax.set_title('Noise Spectroscopy of Pulse sampled at each intervals')"
   ]
  },
  {
   "cell_type": "code",
   "execution_count": 22,
   "id": "801d8818-4637-44d6-a26c-fbbb35aa71e5",
   "metadata": {},
   "outputs": [
    {
     "data": {
      "image/png": "[encoded data removed]",
      "text/plain": [
       "<Figure size 936x343.2 with 1 Axes>"
      ]
     },
     "execution_count": 22,
     "metadata": {},
     "output_type": "execute_result"
    }
   ],
   "source": [
    "from qiskit import pulse\n",
    "data_128t['option 1'][1][50].draw()"
   ]
  },
  {
   "cell_type": "code",
   "execution_count": null,
   "id": "80b9d466-c64f-4fe8-a615-7dd32b5f9c8d",
   "metadata": {},
   "outputs": [],
   "source": []
  }
 ],
 "metadata": {
  "kernelspec": {
   "display_name": "AQI",
   "language": "python",
   "name": "aqi"
  },
  "language_info": {
   "codemirror_mode": {
    "name": "ipython",
    "version": 3
   },
   "file_extension": ".py",
   "mimetype": "text/x-python",
   "name": "python",
   "nbconvert_exporter": "python",
   "pygments_lexer": "ipython3",
   "version": "3.10.4"
  }
 },
 "nbformat": 4,
 "nbformat_minor": 5
}
