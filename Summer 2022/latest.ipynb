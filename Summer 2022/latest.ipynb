{
 "cells": [
  {
   "cell_type": "code",
   "execution_count": 1,
   "id": "f8c55a69-dbaa-46c4-857e-982d63db768f",
   "metadata": {},
   "outputs": [
    {
     "name": "stderr",
     "output_type": "stream",
     "text": [
      "configrc.store_credentials:WARNING:2023-03-19 20:39:26,062: Credentials already present. Set overwrite=True to overwrite.\n"
     ]
    }
   ],
   "source": [
    "import Su22\n",
    "import qiskit as qk\n",
    "import numpy as np\n",
    "from qiskit.tools.visualization import plot_histogram\n",
    "from qiskit import IBMQ\n",
    "from qiskit.tools.monitor import job_monitor\n",
    "from qiskit.providers.aer.noise import NoiseModel\n",
    "import matplotlib\n",
    "import matplotlib.pyplot as plt\n",
    "from qiskit.visualization import plot_bloch_multivector\n",
    "from qiskit.tools.monitor import job_monitor\n",
    "\n",
    "from qiskit import pulse              \n",
    "from qiskit.circuit import Parameter \n",
    "from IPython.display import display\n",
    "from qiskit import QuantumCircuit\n",
    "from qiskit.circuit import Gate\n",
    "import warnings\n",
    "warnings.filterwarnings('ignore')\n",
    "from qiskit.tools.jupyter import *\n",
    "# The pulse simulator\n",
    "from qiskit.providers.aer import PulseSimulator\n",
    "\n",
    "# Object for representing physical models\n",
    "from qiskit.providers.aer.pulse import PulseSystemModel\n",
    "token = '792003cde0750f1452faa5cb5fe7c57da849e1119983f608e9a359d49cdb396391d6af09eedfb46af0a043a01103ed64da66835d1a318c0013d64ab3ebc1fe61'\n",
    "qk.IBMQ.save_account(token=token)\n",
    "qk.IBMQ.enable_account(token)\n",
    "provider = IBMQ.get_provider(hub='ibm-q-ornl', group='ornl', project='phy147')\n",
    "#backend = provider.get_backend(\"ibmq_jakarta\")\n",
    "from qiskit.test.mock import FakeJakarta"
   ]
  },
  {
   "cell_type": "code",
   "execution_count": 2,
   "id": "4f36a5de-8c9a-4c22-ba39-96227dea6a73",
   "metadata": {},
   "outputs": [],
   "source": [
    "backend = provider.get_backend(\"ibmq_guadalupe\")\n",
    "backend = FakeJakarta()"
   ]
  },
  {
   "cell_type": "code",
   "execution_count": 8,
   "id": "cb7cb51b-2bf2-44a5-97f2-f7ac7128eeb2",
   "metadata": {},
   "outputs": [
    {
     "name": "stdout",
     "output_type": "stream",
     "text": [
      "2.2222222222222221e-10\n"
     ]
    }
   ],
   "source": [
    "print(backend.configuration().dt)"
   ]
  },
  {
   "cell_type": "markdown",
   "id": "febb5626-0918-48a3-9981-94bdaa935301",
   "metadata": {
    "tags": []
   },
   "source": [
    "##  Established functions"
   ]
  },
  {
   "cell_type": "code",
   "execution_count": 10,
   "id": "aa7c97e7-e544-4929-8aff-19b4725f93ed",
   "metadata": {},
   "outputs": [],
   "source": [
    "import pickle\n",
    "import numpy as np\n",
    "def loadData(inp):\n",
    "    # for reading also binary mode is important\n",
    "    dbfile = open(inp, 'rb')     \n",
    "    db = pickle.load(dbfile)\n",
    "    dbfile.close()\n",
    "    return db"
   ]
  },
  {
   "cell_type": "code",
   "execution_count": 11,
   "id": "52d79649-e646-4964-b436-1ec6a8142a04",
   "metadata": {},
   "outputs": [],
   "source": [
    "x= [np.cos(i)**2 for i in range(128)]"
   ]
  },
  {
   "cell_type": "code",
   "execution_count": null,
   "id": "6159cf3c-c271-47f2-9e5d-010093eb00c6",
   "metadata": {},
   "outputs": [],
   "source": [
    "x"
   ]
  },
  {
   "cell_type": "code",
   "execution_count": 13,
   "id": "d151a55a-f3cf-41c6-b1c0-3dc894b1cfc3",
   "metadata": {},
   "outputs": [],
   "source": [
    "dbfile = open(\"cos^2.p\", 'wb') \n",
    "pickle.dump(x,dbfile)\n",
    "dbfile.close()"
   ]
  },
  {
   "cell_type": "code",
   "execution_count": 4,
   "id": "5a3a7e16-c791-4279-9e53-308f8fb66009",
   "metadata": {},
   "outputs": [],
   "source": [
    "from qiskit import QuantumRegister, QuantumCircuit, ClassicalRegister, Aer\n",
    "from qiskit.quantum_info import state_fidelity\n",
    "from qiskit.providers.aer import noise\n",
    "\n",
    "# Tomography functions\n",
    "from qiskit.ignis.verification.tomography import state_tomography_circuits, StateTomographyFitter\n",
    "import qiskit.ignis.mitigation.measurement as mc\n",
    "import time\n",
    "\n",
    "def Full_tomography(circ, backend):\n",
    "    t = time.time()\n",
    "    test_circ = state_tomography_circuits(circ,[0])\n",
    "    job = qk.execute(test_circ, backend=backend, shots=8192)\n",
    "    test_state = StateTomographyFitter(job.result(), test_circ).fit()\n",
    "    print('Tomography Time taken:', time.time() - t)\n",
    "    return test_state\n",
    "\n",
    "def State_Fidel(circ, backend):\n",
    "    #actual state calculation\n",
    "    q2 = QuantumRegister(1)\n",
    "    state = QuantumCircuit(q2)\n",
    "    state.x(q2[0])\n",
    "    job = qk.execute(state, backend=Aer.get_backend('statevector_simulator'))\n",
    "    state_results = job.result().get_statevector(state)\n",
    "    test_state = Full_tomography(circ,backend)\n",
    "    t = time.time()\n",
    "    Fidelity = state_fidelity(state_results,test_state)\n",
    "    print('Fidelity Fitting Time taken:', time.time() - t)\n",
    "    return Fidelity\n",
    "\n",
    "def plot_m(state):\n",
    "    return 0"
   ]
  },
  {
   "cell_type": "code",
   "execution_count": 15,
   "id": "4f7097bc-0055-4f75-baea-6d740ecf338f",
   "metadata": {
    "tags": []
   },
   "outputs": [],
   "source": [
    "import numpy as np\n",
    "import scipy.signal as si\n",
    "import scipy.linalg as la\n",
    "import matplotlib.pyplot as plt\n",
    "import qiskit as qk\n",
    "from qiskit import Aer\n",
    "from qiskit.providers.ibmq.managed import IBMQJobManager\n",
    "from qiskit.visualization.pulse_v2 import device_info, stylesheet\n",
    "from qiskit.visualization.pulse_v2.events import ChannelEvents\n",
    "from qiskit.visualization.pulse_v2.generators import gen_filled_waveform_stepwise\n",
    "import  qiskit.pulse.transforms.canonicalization as canon\n",
    "from joblib import Parallel, delayed\n",
    "import os\n",
    "\n",
    "cpu_count = 10\n",
    "noise_power = 1e-3\n",
    "num_noise_trajs = 30\n",
    "\n",
    "def generate_noise_params(s_pow, w0):\n",
    "    a = [1]\n",
    "    NN = 512\n",
    "    BW = 0.005 # changes narrowness of noise spectrum\n",
    "    b = si.firwin(NN, BW)*np.cos(w0*np.pi*np.arange(NN))\n",
    "    b = b/la.norm(b)*np.sqrt(s_pow)\n",
    "    return a, b\n",
    "\n",
    "def parametrize_circ(circ,noise_traj_list,backend):\n",
    "    par = qk.circuit.ParameterVector('thetha', length=int(len(circ)/64))\n",
    "    batch = []\n",
    "    for traj in noise_traj_list:\n",
    "        with pulse.build(backend=backend,default_alignment='sequential') as temp:\n",
    "            for j in range(int(len(circ)/64)):\n",
    "                pulse.play(circ[j*64:(j+1)*64], pulse.drive_channel(0))\n",
    "                pulse.shift_phase(par[j],pulse.drive_channel(0))\n",
    "            pulse.measure(qubits=[0], registers=[pulse.MemorySlot(0)])\n",
    "        for i in range(len(par)):\n",
    "            temp.assign_parameters({par[i]: traj[i]}, inplace=True)\n",
    "        batch.append(temp)\n",
    "    return batch\n",
    "\n",
    "def shift_all(circ, traj):\n",
    "    final = []\n",
    "    start = 0\n",
    "    for j,i in enumerate(circ):\n",
    "        final.append((np.cos(start) + 1j*np.sin(start))*i)\n",
    "        start+=traj[j]\n",
    "    return final\n",
    "        \n",
    "def parametrize_circ_1(circ,noise_traj_list,backend):\n",
    "    par = qk.circuit.ParameterVector('thetha', length=int(len(circ)))\n",
    "    batch = []\n",
    "    for traj in noise_traj_list:\n",
    "        with pulse.build(backend=backend,default_alignment='sequential') as temp:\n",
    "            pulse.play(shift_all(circ,traj), pulse.drive_channel(0))\n",
    "            pulse.measure(qubits=[0], registers=[pulse.MemorySlot(0)])\n",
    "        batch.append(temp)\n",
    "    return batch\n",
    "\n",
    "def schwarma_trajectories(a, b, num_gates, num_trajectories):\n",
    "    # a: coefficients of linear filter numerator\n",
    "    # b: coefficients of linear filter demoninator\n",
    "    # num_gates: number of gates in circuit to be \"schwarmafied\"\n",
    "    # num_trajectories: number of noise trajectories required\n",
    "    traj_list = []\n",
    "    for _ in range(num_trajectories):\n",
    "        angles = si.lfilter(b, a, np.random.randn(num_gates + 1000))[1000:]\n",
    "        traj_list.append(angles)\n",
    "    return traj_list\n",
    "\n",
    "shots=1000\n",
    "def runfunc(circ,backend_sim):\n",
    "    rabi_qobj = assemble(circ, \n",
    "                     backend=backend_sim,\n",
    "                     meas_level=2, \n",
    "                     shots=100)\n",
    "    results = backend_sim.run(rabi_qobj).result()\n",
    "    return results\n",
    "\n",
    "\n",
    "from qiskit.providers.aer.pulse import PulseSystemModel\n",
    "from qiskit.providers.aer import PulseSimulator\n",
    "from qiskit.compiler import assemble\n",
    "def Spec(data,start,end,num_center_freqs=100,backend=backend, option = 0):  \n",
    "    #option 0 beaks upp pulse into 64dt chuncks option 1 will morph shift into pulse\n",
    "    if(option):\n",
    "        num_gates=int(len(data))\n",
    "    else:\n",
    "        num_gates=int(len(data)/64)\n",
    "    circ_batch = []\n",
    "    center_idxs=[]\n",
    "    centers=[]\n",
    "    all_probs = np.zeros([num_center_freqs, 2])\n",
    "    for center_idx, center in enumerate(np.linspace(start, end, num_center_freqs)): # vary noise center frequency\n",
    "        center_idxs.append(center_idx)\n",
    "        centers.append(center)\n",
    "        #print('Probing Filter Function at Normalized Frequency: ', center)\n",
    "        # Generate noise trajectories\n",
    "        a, b = generate_noise_params(noise_power, center)\n",
    "        noise_traj_list = np.array(schwarma_trajectories(a, b, num_gates, num_noise_trajs))\n",
    "    \n",
    "        # Build noisy circuit dictionary\n",
    "        if(not option):\n",
    "            circ_batch+=(parametrize_circ(data,noise_traj_list,backend))\n",
    "        else:\n",
    "            circ_batch+=(parametrize_circ_1(data,noise_traj_list,backend))\n",
    "\n",
    "    # Run circuits\n",
    "    armonk_model = PulseSystemModel.from_backend(backend)\n",
    "    backend_sim = PulseSimulator(system_model=armonk_model)\n",
    "    results = Parallel(n_jobs=cpu_count)(delayed(runfunc)(i,backend_sim) for i in circ_batch)\n",
    "    '''job_manager = IBMQJobManager()\n",
    "    job_set = job_manager.run(circ_batch, backend=backend, shots = shots, name=('Spectrosopy'+str(time.strftime(\"%H:%M:%S\", time.localtime()))))\n",
    "    results = job_set.results()'''\n",
    "    \n",
    "    # Compile Results\n",
    "    cc=0\n",
    "    prob = 0\n",
    "    counter = 0\n",
    "    for i in range(int(len(circ_batch)/num_noise_trajs)):\n",
    "        for circ in circ_batch[i*num_noise_trajs:((i+1)*num_noise_trajs)]:\n",
    "            zero_counts = results.get_counts(cc).get('1')\n",
    "            prob += zero_counts/shots\n",
    "            cc+=1\n",
    "        prob = prob/num_noise_trajs\n",
    "        all_probs[int(center_idxs[counter]), :] = centers[counter], prob\n",
    "        counter+=1\n",
    "        prob=0\n",
    "    \n",
    "    return all_probs, circ_batch\n"
   ]
  },
  {
   "cell_type": "markdown",
   "id": "2409b201-12f5-4f7f-bcd1-137e92f4a598",
   "metadata": {
    "jp-MarkdownHeadingCollapsed": true,
    "tags": []
   },
   "source": [
    "## New func"
   ]
  },
  {
   "cell_type": "code",
   "execution_count": 6,
   "id": "95ea485c-ddb7-442f-ac2f-85783366f6d3",
   "metadata": {},
   "outputs": [],
   "source": [
    "from matplotlib import animation\n",
    "import random\n",
    "from qiskit.circuit import Gate\n",
    "from qiskit.visualization import visualize_transition\n",
    "from mpl_toolkits.mplot3d import Axes3D\n",
    "from qiskit.visualization.bloch import Bloch\n",
    "from IPython.display import HTML\n",
    "from qiskit.visualization import plot_bloch_vector\n",
    "from qiskit import transpile, schedule as build_schedule\n",
    "import qiskit.result.result as resultifier\n",
    "\n",
    "def our_tomography_circuits(circ,counter):\n",
    "    cz = qk.QuantumCircuit(1,1,name =\"('Z',)\")\n",
    "    cz.compose(circ,[0],inplace= True)\n",
    "    cz.measure(0,0)\n",
    "    cy =qk.QuantumCircuit(1,1,name =\"('Y',)\")\n",
    "    cy.compose(circ,[0],inplace= True)\n",
    "    cy.sdg(0)\n",
    "    cy.h(0)\n",
    "    cy.measure(0,0)\n",
    "    cx = qk.QuantumCircuit(1,1,name =\"('X',)\")\n",
    "    cx.compose(circ,[0],inplace= True)\n",
    "    cx.h(0)\n",
    "    cx.measure(0,0)\n",
    "    return transpile([cx,cy,cz],backend)\n",
    "\n",
    "def full_tom(data,backend):\n",
    "    states_circs= []\n",
    "    states_pulse= []\n",
    "    result_states =[]\n",
    "    DM_states =[]\n",
    "    temp= [0 for i in range(63)]\n",
    "    '''qc = qk.QuantumCircuit(1)\n",
    "    qc.h(0)\n",
    "    tran_qc= transpile(qc, backend)\n",
    "    h_pulse_sched= build_schedule(tran_qc,backend)\n",
    "    qc = qk.QuantumCircuit(1)\n",
    "    qc.sdg(0)\n",
    "    tran_qc= transpile(qc, backend)\n",
    "    sqg_pulse_sched= build_schedule(tran_qc,backend)'''\n",
    "    #circ = qk.QuantumCircuit(1,1)\n",
    "    #custom_gate = Gate(\"temp\", 1, [])\n",
    "    #circ.append(custom_gate, [0])\n",
    "    counter = 0\n",
    "    for i in data:\n",
    "        counter+=1\n",
    "        circ_c = qk.QuantumCircuit(1,1)\n",
    "        #print((\"temp\"+str(counter)))\n",
    "        custom_gate = Gate(\"temp\"+str(i), 1, [0])\n",
    "        circ_c.append(custom_gate, [0])\n",
    "        temp.append(i)\n",
    "        with pulse.build(backend=backend, default_alignment='sequential', name='anim'+str(counter)) as custom_Pulse:\n",
    "                pulse.play(temp, pulse.drive_channel(0))\n",
    "        '''with pulse.build(backend=backend, default_alignment='sequential', name='anim') as custom_Pulse_z:\n",
    "                pulse.play(temp, pulse.drive_channel(0))\n",
    "                pulse.measure(qubits=[0], registers=[pulse.MemorySlot(0)])\n",
    "        with pulse.build(backend=backend, default_alignment='sequential', name='anim') as custom_Pulse_y:\n",
    "                pulse.play(temp, pulse.drive_channel(0))\n",
    "                pulse.call(sqg_pulse_sched, pulse.drive_channel(0))\n",
    "                pulse.call(h_pulse_sched, pulse.drive_channel(0))\n",
    "                pulse.measure(qubits=[0], registers=[pulse.MemorySlot(0)])\n",
    "        with pulse.build(backend=backend, default_alignment='sequential', name='anim') as custom_Pulse_x:\n",
    "                pulse.play(temp, pulse.drive_channel(0))\n",
    "                pulse.call(h_pulse_sched, pulse.drive_channel(0))\n",
    "                pulse.measure(qubits=[0], registers=[pulse.MemorySlot(0)])'''\n",
    "        circ_c.add_calibration(custom_gate, [0], custom_Pulse, [counter,1])\n",
    "        test_circ = our_tomography_circuits(circ_c,[0])\n",
    "        '''states_pulse.append(custom_Pulse_x)\n",
    "        states_pulse.append(custom_Pulse_y)\n",
    "        states_pulse.append(custom_Pulse_z)'''\n",
    "        states_circs += test_circ\n",
    "        if(counter < 64):\n",
    "            del temp[0]\n",
    "        else:\n",
    "            if(len(temp)+1%16 == 0):\n",
    "                continue\n",
    "            else:\n",
    "                if(temp.count(0) >= (len(temp)+1)%16):\n",
    "                    for j in range((len(temp)+1)%16):\n",
    "                        del temp[0]\n",
    "                else:\n",
    "                    [temp.insert(0,0) for i in range(16-(len(temp)+1)%16)]\n",
    "    #job = backend.run(states_circs, shots=5000)\n",
    "    #res = job.result()\n",
    "    job_manager = IBMQJobManager()\n",
    "    job_set = job_manager.run(states_circs, backend=backend, shots = 3000, name=('Anim'+str(time.strftime(\"%H:%M:%S\", time.localtime()))))\n",
    "    res = job_set.results().combine_results()\n",
    "    dict_u = res.to_dict()\n",
    "    for i in range(len(data)):\n",
    "        temp_dict = dict_u.copy()\n",
    "        temp_dict['results'] = temp_dict['results'][3*i:(i+1)*3]\n",
    "        t_r = res.from_dict(temp_dict)\n",
    "        #print(states_circs[3*i:(i+1)*3], \" -----> \", t_r )\n",
    "        DM_states.append(StateTomographyFitter(t_r, states_circs[3*i:(i+1)*3]).fit())\n",
    "        result_states.append([ 2*np.real(DM_states[-1][1][0]),  2*np.imag(DM_states[-1][1][0]), np.real(2*DM_states[-1][0][0]-1)])\n",
    "        #print(result_states,\"   \", DM_states[-1], \"\\n\")\n",
    "    '''  state.rx(circ[-1],0)\n",
    "    job = qk.execute(state, backend=Aer.get_backend('statevector_simulator'))\n",
    "    res = np.array(job.result().get_statevector(state))\n",
    "    res =  np.tensordot(res,np.transpose(res),0)\n",
    "    res_state = [ 2*np.real(res[1][0]),  2*np.imag(res[1][0]), np.real(2*res[0][0]-1)]'''\n",
    "    return result_states, DM_states, states_circs\n",
    "    \n",
    "def generate_anim(circ,backend, output):\n",
    "    plots = []\n",
    "    fig = plt.figure(figsize=(5, 5))\n",
    "    ax = Axes3D(fig)\n",
    "    ax.set_xlim(-10, 10)\n",
    "    ax.set_ylim(-10, 10)\n",
    "    def anim(i):\n",
    "        ax.clear()\n",
    "        plot_bloch_vector(plots[i],ax=ax)\n",
    "        return ax\n",
    "    plots,DMS,states_pulse = full_tom(circ,backend)\n",
    "    ani = animation.FuncAnimation(fig, anim, interval=len(circ),frames=len(circ))   \n",
    "    #ani.save(output, fps=30)\n",
    "    plt.rcParams[\"animation.embed_limit\"] = 50\n",
    "    return HTML(ani.to_jshtml())\n",
    "    plt.show()\n",
    "    plt.close(fig)\n",
    "    return states_pulse, DMS"
   ]
  },
  {
   "cell_type": "markdown",
   "id": "b5127b03-2cd5-4163-a674-bf5a38c210b0",
   "metadata": {
    "tags": []
   },
   "source": [
    "## testing"
   ]
  },
  {
   "cell_type": "code",
   "execution_count": 7,
   "id": "4ff6df78-a427-4ac4-b4e0-6d963a43f9d9",
   "metadata": {},
   "outputs": [],
   "source": [
    "'''data=loadData('FGRAFS_controls/FGRAFS-controls_N-160_zero-endpoints-True.p')\n",
    "test=np.array(data)\n",
    "print(np.abs(test).max())\n",
    "test= test/test.max()'''\n",
    "#pure x\n",
    "test = loadData('FGRAFS_controls/x_gate_sampling.p')"
   ]
  },
  {
   "cell_type": "code",
   "execution_count": 16,
   "id": "245e6312-aeef-48e2-b799-032579a8d4fe",
   "metadata": {},
   "outputs": [
    {
     "name": "stderr",
     "output_type": "stream",
     "text": [
      "\n",
      "KeyboardInterrupt\n",
      "\n"
     ]
    }
   ],
   "source": [
    "all_probs, circ_batch= Spec(test,0.02,0.98,100,backend=backend,option=1)"
   ]
  },
  {
   "cell_type": "code",
   "execution_count": 17,
   "id": "5ab81eef-f2c7-4bdf-afe6-76a5f66abd67",
   "metadata": {},
   "outputs": [
    {
     "ename": "NameError",
     "evalue": "name 'all_probs' is not defined",
     "output_type": "error",
     "traceback": [
      "\u001b[1;31m---------------------------------------------------------------------------\u001b[0m",
      "\u001b[1;31mNameError\u001b[0m                                 Traceback (most recent call last)",
      "Input \u001b[1;32mIn [17]\u001b[0m, in \u001b[0;36m<cell line: 3>\u001b[1;34m()\u001b[0m\n\u001b[0;32m      1\u001b[0m fig \u001b[38;5;241m=\u001b[39m plt\u001b[38;5;241m.\u001b[39mfigure(dpi\u001b[38;5;241m=\u001b[39m\u001b[38;5;241m100\u001b[39m)\n\u001b[0;32m      2\u001b[0m ax \u001b[38;5;241m=\u001b[39m fig\u001b[38;5;241m.\u001b[39madd_subplot(\u001b[38;5;241m111\u001b[39m)\n\u001b[1;32m----> 3\u001b[0m ax\u001b[38;5;241m.\u001b[39mplot(\u001b[43mall_probs\u001b[49m[:,\u001b[38;5;241m0\u001b[39m], all_probs[:,\u001b[38;5;241m1\u001b[39m])\n\u001b[0;32m      4\u001b[0m ax\u001b[38;5;241m.\u001b[39mset_ylabel(\u001b[38;5;124m'\u001b[39m\u001b[38;5;124mSurvival Probability\u001b[39m\u001b[38;5;124m'\u001b[39m)\n\u001b[0;32m      5\u001b[0m ax\u001b[38;5;241m.\u001b[39mset_xlabel(\u001b[38;5;124m'\u001b[39m\u001b[38;5;124mCenter Frequency\u001b[39m\u001b[38;5;124m'\u001b[39m)\n",
      "\u001b[1;31mNameError\u001b[0m: name 'all_probs' is not defined"
     ]
    },
    {
     "data": {
      "image/png": "[encoded data removed]",
      "text/plain": [
       "<Figure size 600x400 with 1 Axes>"
      ]
     },
     "metadata": {
      "needs_background": "light"
     },
     "output_type": "display_data"
    }
   ],
   "source": [
    "fig = plt.figure(dpi=100)\n",
    "ax = fig.add_subplot(111)\n",
    "ax.plot(all_probs[:,0], all_probs[:,1])\n",
    "ax.set_ylabel('Survival Probability')\n",
    "ax.set_xlabel('Center Frequency')"
   ]
  },
  {
   "cell_type": "code",
   "execution_count": null,
   "id": "fd29f323-1a2d-4958-b0e1-9d280c958b1b",
   "metadata": {},
   "outputs": [],
   "source": [
    "circ_batch[5].draw()"
   ]
  },
  {
   "cell_type": "code",
   "execution_count": null,
   "id": "909b4f53-bc1f-494c-a4c1-b596f2499f4f",
   "metadata": {},
   "outputs": [],
   "source": []
  }
 ],
 "metadata": {
  "kernelspec": {
   "display_name": "AQI",
   "language": "python",
   "name": "aqi"
  },
  "language_info": {
   "codemirror_mode": {
    "name": "ipython",
    "version": 3
   },
   "file_extension": ".py",
   "mimetype": "text/x-python",
   "name": "python",
   "nbconvert_exporter": "python",
   "pygments_lexer": "ipython3",
   "version": "3.10.4"
  }
 },
 "nbformat": 4,
 "nbformat_minor": 5
}
