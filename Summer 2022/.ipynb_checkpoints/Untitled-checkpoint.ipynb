{
 "cells": [
  {
   "cell_type": "code",
   "execution_count": 24,
   "id": "eb003384-2742-4352-b0b9-d2439e322b40",
   "metadata": {},
   "outputs": [
    {
     "name": "stdout",
     "output_type": "stream",
     "text": [
      "hello\n"
     ]
    }
   ],
   "source": [
    "print(\"hello\")"
   ]
  },
  {
   "cell_type": "code",
   "execution_count": 25,
   "id": "6c9ce656-7752-472a-a5b1-62ad7421463d",
   "metadata": {},
   "outputs": [
    {
     "name": "stdout",
     "output_type": "stream",
     "text": [
      "hi\n"
     ]
    }
   ],
   "source": [
    "print(\"hi\")"
   ]
  },
  {
   "cell_type": "code",
   "execution_count": 36,
   "id": "f71b80bc-4e29-4a22-9e2c-12b154ec8ff5",
   "metadata": {},
   "outputs": [
    {
     "name": "stdout",
     "output_type": "stream",
     "text": [
      "1\n"
     ]
    }
   ],
   "source": [
    "afjff= 1\n",
    "print(afjff)"
   ]
  },
  {
   "cell_type": "code",
   "execution_count": 37,
   "id": "6b7c3f60-55ff-4af2-8f06-df8274529f9e",
   "metadata": {},
   "outputs": [
    {
     "name": "stdout",
     "output_type": "stream",
     "text": [
      "1\n"
     ]
    }
   ],
   "source": [
    "print(afjff)"
   ]
  },
  {
   "cell_type": "code",
   "execution_count": 45,
   "id": "ebe47b96-4d20-4ca2-8f76-0e363243c04f",
   "metadata": {},
   "outputs": [
    {
     "name": "stdout",
     "output_type": "stream",
     "text": [
      "3.0\n"
     ]
    }
   ],
   "source": [
    "a=1\n",
    "b=2.0\n",
    "c=a+b\n",
    "print(c)"
   ]
  },
  {
   "cell_type": "code",
   "execution_count": 48,
   "id": "b47f4590-6c0a-4173-a43e-c33c33916e50",
   "metadata": {},
   "outputs": [
    {
     "name": "stdout",
     "output_type": "stream",
     "text": [
      "bad\n"
     ]
    }
   ],
   "source": [
    "if a >= 1:\n",
    "    print('bad')\n",
    "if a != 1:\n",
    "    print('good')"
   ]
  },
  {
   "cell_type": "code",
   "execution_count": 52,
   "id": "701d26fc-7858-441d-8946-5dc252671cb7",
   "metadata": {},
   "outputs": [
    {
     "name": "stdout",
     "output_type": "stream",
     "text": [
      "1\n",
      "3\n",
      "5\n"
     ]
    }
   ],
   "source": [
    "for i in range(1,6,2):\n",
    "    print(i)"
   ]
  },
  {
   "cell_type": "code",
   "execution_count": 55,
   "id": "d9d4a3be-ad88-4a30-8704-945ba2d1df7c",
   "metadata": {},
   "outputs": [
    {
     "name": "stdout",
     "output_type": "stream",
     "text": [
      "0\n",
      "1\n"
     ]
    }
   ],
   "source": [
    "counter =0\n",
    "while counter != 2:\n",
    "    print(counter)\n",
    "    counter+=1"
   ]
  },
  {
   "cell_type": "code",
   "execution_count": 57,
   "id": "56266ad0-3d48-4c6c-acde-a4eae7ed9eb3",
   "metadata": {},
   "outputs": [
    {
     "name": "stdout",
     "output_type": "stream",
     "text": [
      "0\n",
      "1\n",
      "1\n",
      "2\n",
      "3\n",
      "5\n",
      "8\n",
      "13\n",
      "21\n",
      "34\n",
      "55\n",
      "89\n"
     ]
    }
   ],
   "source": [
    "first = 0\n",
    "second = 1\n",
    "print(first)\n",
    "print(second)\n",
    "for i in range(10):\n",
    "    third =first+second\n",
    "    print(third)\n",
    "    first= second\n",
    "    second = third"
   ]
  },
  {
   "cell_type": "code",
   "execution_count": 4,
   "id": "37ee647a-36ac-4c44-a19b-a49184d55cc6",
   "metadata": {},
   "outputs": [],
   "source": [
    "from qiskit.providers.fake_provider import FakeOpenPulse2Q\n",
    "\n",
    "backend = FakeOpenPulse2Q()"
   ]
  },
  {
   "cell_type": "code",
   "execution_count": 10,
   "id": "4dcc524a",
   "metadata": {},
   "outputs": [
    {
     "name": "stdout",
     "output_type": "stream",
     "text": [
      "Schedule((0, Play(Waveform(array([0.        +0.j, 0.08873565+0.j, 0.12549116+0.j, 0.15369466+0.j,\n",
      "       0.1774713 +0.j, 0.19841895+0.j, 0.21735707+0.j, 0.23477246+0.j,\n",
      "       0.25098232+0.j, 0.26620695+0.j, 0.28060677+0.j, 0.29430286+0.j,\n",
      "       0.30738931+0.j, 0.31994094+0.j, 0.3320184 +0.j, 0.3436717 +0.j,\n",
      "       0.3549426 +0.j, 0.36586646+0.j, 0.37647348+0.j, 0.38678974+0.j,\n",
      "       0.3968379 +0.j, 0.40663784+0.j, 0.4162071 +0.j, 0.42556123+0.j,\n",
      "       0.43471413+0.j, 0.44367825+0.j, 0.45246482+0.j, 0.46108397+0.j,\n",
      "       0.46954493+0.j, 0.4778561 +0.j, 0.48602518+0.j, 0.4940592 +0.j,\n",
      "       0.50196464+0.j, 0.50974751+0.j, 0.51741331+0.j, 0.52496719+0.j,\n",
      "       0.53241391+0.j, 0.53975789+0.j, 0.54700329+0.j, 0.55415396+0.j,\n",
      "       0.56121353+0.j, 0.5681854 +0.j, 0.57507274+0.j, 0.58187858+0.j,\n",
      "       0.58860572+0.j, 0.59525684+0.j, 0.60183447+0.j, 0.60834097+0.j,\n",
      "       0.61477862+0.j, 0.62114956+0.j, 0.62745581+0.j, 0.6336993 +0.j,\n",
      "       0.63988188+0.j, 0.64600529+0.j, 0.6520712 +0.j, 0.6580812 +0.j,\n",
      "       0.66403681+0.j, 0.66993947+0.j, 0.67579058+0.j, 0.68159147+0.j,\n",
      "       0.6873434 +0.j, 0.69304759+0.j, 0.69870521+0.j, 0.70431739+0.j,\n",
      "       0.70988521+0.j, 0.71540969+0.j, 0.72089184+0.j, 0.72633261+0.j,\n",
      "       0.73173292+0.j, 0.73709368+0.j, 0.74241572+0.j, 0.74769989+0.j,\n",
      "       0.75294697+0.j, 0.75815773+0.j, 0.76333293+0.j, 0.76847328+0.j,\n",
      "       0.77357947+0.j, 0.77865218+0.j, 0.78369205+0.j, 0.78869972+0.j,\n",
      "       0.79367579+0.j, 0.79862086+0.j, 0.80353549+0.j, 0.80842025+0.j,\n",
      "       0.81327567+0.j, 0.81810228+0.j, 0.82290057+0.j, 0.82767105+0.j,\n",
      "       0.83241419+0.j, 0.83713046+0.j, 0.8418203 +0.j, 0.84648416+0.j,\n",
      "       0.85112246+0.j, 0.85573563+0.j, 0.86032406+0.j, 0.86488814+0.j,\n",
      "       0.86942827+0.j, 0.87394481+0.j, 0.87843813+0.j, 0.88290858+0.j,\n",
      "       0.88735651+0.j, 0.89178226+0.j, 0.89618614+0.j, 0.9005685 +0.j,\n",
      "       0.90492963+0.j, 0.90926985+0.j, 0.91358944+0.j, 0.91788871+0.j,\n",
      "       0.92216794+0.j, 0.92642739+0.j, 0.93066736+0.j, 0.93488809+0.j,\n",
      "       0.93908986+0.j, 0.94327291+0.j, 0.94743749+0.j, 0.95158384+0.j,\n",
      "       0.95571221+0.j, 0.95982282+0.j, 0.9639159 +0.j, 0.96799167+0.j,\n",
      "       0.97205035+0.j, 0.97609216+0.j, 0.9801173 +0.j, 0.98412598+0.j,\n",
      "       0.98811839+0.j, 0.99209474+0.j, 0.99605521+0.j, 1.        +0.j])), DriveChannel(0))), (128, Call(Schedule((0, Acquire(10, AcquireChannel(0), MemorySlot(0))), (0, Play(Waveform(array([0.1+0.j, 0.1+0.j, 0.1+0.j, 0.1+0.j, 0.1+0.j, 0.1+0.j, 0.1+0.j,\n",
      "       0.1+0.j, 0.1+0.j, 0.1+0.j]), name='measure_m0'), MeasureChannel(0), name='measure_m0')), name=\"Default measurement schedule for qubits [0]\"), name='Default measurement schedule for qubits [0]')), name=\" memee\")\n"
     ]
    }
   ],
   "source": [
    "circ = []\n",
    "tests = []\n",
    "for i in range(1,3):\n",
    "    test= np.array([np.cos(start) + 1j*np.sin(start)*i for x in range(i*64)])\n",
    "    test = test/test[-1]\n",
    "    tests.append(test)\n",
    "for p in tests:\n",
    "    with pulse.build(backend=backend,default_alignment='sequential',name =\" memee\") as pulse_2:\n",
    "        pulse.play(p, pulse.drive_channel(0))\n",
    "        pulse.measure(0)\n",
    "    circ.append(block_to_schedule(pulse_2))\n",
    "print(circ[1])"
   ]
  },
  {
   "cell_type": "code",
   "execution_count": 8,
   "id": "7ac441f1",
   "metadata": {},
   "outputs": [
    {
     "data": {
      "text/plain": [
       "2"
      ]
     },
     "execution_count": 8,
     "metadata": {},
     "output_type": "execute_result"
    }
   ],
   "source": [
    "len(circ)"
   ]
  },
  {
   "cell_type": "code",
   "execution_count": 2,
   "id": "dbfd7383",
   "metadata": {},
   "outputs": [],
   "source": [
    "import numpy as np\n",
    "from qiskit import pulse \n",
    "from qiskit.compiler import transpile\n",
    "from qiskit.pulse.transforms import block_to_schedule\n",
    " "
   ]
  },
  {
   "cell_type": "code",
   "execution_count": 65,
   "id": "5ad8571f",
   "metadata": {},
   "outputs": [
    {
     "name": "stderr",
     "output_type": "stream",
     "text": [
      "c:\\Users\\Fanuel\\anaconda3\\envs\\AQI2022\\lib\\site-packages\\qiskit\\compiler\\transpiler.py:250: UserWarning: Transpiling schedules is not supported yet.\n",
      "  warnings.warn(\"Transpiling schedules is not supported yet.\", UserWarning)\n",
      "c:\\Users\\Fanuel\\anaconda3\\envs\\AQI2022\\lib\\site-packages\\qiskit\\providers\\aer\\pulse\\controllers\\pulse_controller.py:144: UserWarning: Warning: qubit_lo_freq was not specified in PulseQobj and there is no default, so it is being automatically determined from the drift Hamiltonian.\n",
      "  warn('Warning: qubit_lo_freq was not specified in PulseQobj and there is no default, '\n"
     ]
    },
    {
     "name": "stdout",
     "output_type": "stream",
     "text": [
      "[{'0': 3}, {'0': 2, '1': 1}]\n"
     ]
    }
   ],
   "source": [
    "result = transpile(circ.tolist(),\n",
    "                     backend=backend \n",
    "                     )\n",
    "results =backend.run(result, shots = 3).result()\n",
    "print(results.get_counts())"
   ]
  },
  {
   "cell_type": "code",
   "execution_count": 47,
   "id": "57d5c496",
   "metadata": {},
   "outputs": [
    {
     "ename": "AttributeError",
     "evalue": "'numpy.ndarray' object has no attribute 'len'",
     "output_type": "error",
     "traceback": [
      "\u001b[1;31m---------------------------------------------------------------------------\u001b[0m",
      "\u001b[1;31mAttributeError\u001b[0m                            Traceback (most recent call last)",
      "\u001b[1;32m~\\AppData\\Local\\Temp/ipykernel_16656/1507258356.py\u001b[0m in \u001b[0;36m<module>\u001b[1;34m\u001b[0m\n\u001b[1;32m----> 1\u001b[1;33m \u001b[0mcirc\u001b[0m\u001b[1;33m.\u001b[0m\u001b[0mlen\u001b[0m\u001b[1;33m(\u001b[0m\u001b[1;33m)\u001b[0m\u001b[1;33m\u001b[0m\u001b[1;33m\u001b[0m\u001b[0m\n\u001b[0m",
      "\u001b[1;31mAttributeError\u001b[0m: 'numpy.ndarray' object has no attribute 'len'"
     ]
    }
   ],
   "source": []
  },
  {
   "cell_type": "code",
   "execution_count": null,
   "id": "e1f70cdd",
   "metadata": {},
   "outputs": [],
   "source": []
  }
 ],
 "metadata": {
  "kernelspec": {
   "display_name": "Python 3 (ipykernel)",
   "language": "python",
   "name": "python3"
  },
  "language_info": {
   "codemirror_mode": {
    "name": "ipython",
    "version": 3
   },
   "file_extension": ".py",
   "mimetype": "text/x-python",
   "name": "python",
   "nbconvert_exporter": "python",
   "pygments_lexer": "ipython3",
   "version": "3.9.7"
  },
  "vscode": {
   "interpreter": {
    "hash": "bbd15055fa62332a5f498992d95aaf26c5833fa610ef3d107a25ac1ac238f300"
   }
  }
 },
 "nbformat": 4,
 "nbformat_minor": 5
}
