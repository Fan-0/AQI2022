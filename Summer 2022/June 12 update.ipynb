{
 "cells": [
  {
   "cell_type": "code",
   "execution_count": 1,
   "id": "85cc596d-61c2-45ef-813d-29c30851f652",
   "metadata": {},
   "outputs": [
    {
     "name": "stderr",
     "output_type": "stream",
     "text": [
      "configrc.store_credentials:WARNING:2022-06-26 16:28:25,289: Credentials already present. Set overwrite=True to overwrite.\n"
     ]
    },
    {
     "name": "stdout",
     "output_type": "stream",
     "text": [
      "[<AccountProvider for IBMQ(hub='ibm-q', group='open', project='main')>, <AccountProvider for IBMQ(hub='ibm-q-ornl', group='ornl', project='phy147')>]\n"
     ]
    }
   ],
   "source": [
    "import Su22\n",
    "import qiskit as qk\n",
    "import numpy as np\n",
    "from qiskit.tools.visualization import plot_histogram\n",
    "from qiskit import IBMQ\n",
    "from qiskit.tools.monitor import job_monitor\n",
    "from qiskit.providers.aer.noise import NoiseModel\n",
    "import matplotlib\n",
    "import matplotlib.pyplot as plt\n",
    "from qiskit.visualization import plot_bloch_multivector\n",
    "from qiskit.tools.monitor import job_monitor\n",
    "from qiskit import pulse              \n",
    "from qiskit.circuit import Parameter \n",
    "from IPython.display import display\n",
    "from qiskit import QuantumCircuit\n",
    "from qiskit.circuit import Gate\n",
    "import warnings\n",
    "warnings.filterwarnings('ignore')\n",
    "from qiskit.tools.jupyter import *\n",
    "# The pulse simulator\n",
    "from qiskit.providers.aer import PulseSimulator\n",
    "\n",
    "# Object for representing physical models\n",
    "from qiskit.providers.aer.pulse import PulseSystemModel\n",
    "token = '792003cde0750f1452faa5cb5fe7c57da849e1119983f608e9a359d49cdb396391d6af09eedfb46af0a043a01103ed64da66835d1a318c0013d64ab3ebc1fe61'\n",
    "\n",
    "qk.IBMQ.save_account(token=token)\n",
    "qk.IBMQ.enable_account(token)\n",
    "print(IBMQ.providers())\n",
    "provider = IBMQ.get_provider(hub=\"ibm-q\", group=\"open\", project=\"main\")\n",
    "backend = provider.get_backend(\"ibmq_armonk\")\n"
   ]
  },
  {
   "cell_type": "code",
   "execution_count": null,
   "id": "56e8b5d5-a8da-4fa2-875f-20718cc450d8",
   "metadata": {},
   "outputs": [
    {
     "name": "stdout",
     "output_type": "stream",
     "text": [
      "Job Status: job is queued (4)     "
     ]
    }
   ],
   "source": [
    "test= [np.cos(x) for x in range(64)]\n",
    "signal = Su22.Custom_Fgp('low_freq',test,backend)\n",
    "temp = signal.Customize_pulse(1)\n",
    "with pulse.build(backend=backend) as pulse_2:\n",
    "    #pulse.play(pulse.Gaussian(duration=1000,amp=1,sigma=1000, name='Rabi Pulse'), pulse.drive_channel(0))\n",
    "    pulse.call(temp,pulse.drive_channel(0))\n",
    "print(signal.input)\n",
    "print(signal.norm)\n",
    "signal.draw()"
   ]
  },
  {
   "cell_type": "code",
   "execution_count": null,
   "id": "b5eaca0a-7326-4c4e-8c59-b0c61f0f389f",
   "metadata": {},
   "outputs": [],
   "source": [
    "circ = QuantumCircuit(7,1)\n",
    "circ.x([0])\n",
    "circ.h([0,3,5])\n",
    "circ.cx(0,1)\n",
    "circ = signal.add_as_gate(circ,[0,1,2])\n",
    "circ.draw('mpl')"
   ]
  },
  {
   "cell_type": "code",
   "execution_count": 4,
   "id": "50796335-6ee0-4d91-8e59-4ee90971388d",
   "metadata": {},
   "outputs": [],
   "source": [
    "from scipy.optimize import curve_fit\n",
    "\n",
    "def fit_function(x_values, y_values, function, init_params):\n",
    "    fitparams, conv = curve_fit(function, x_values, y_values, init_params)\n",
    "    y_fit = function(x_values, *fitparams)\n",
    "    return fitparams, y_fit"
   ]
  },
  {
   "cell_type": "code",
   "execution_count": 5,
   "id": "b05ae238-d1a5-4131-bf74-68a94053699a",
   "metadata": {},
   "outputs": [
    {
     "ename": "NameError",
     "evalue": "name 'assemble' is not defined",
     "output_type": "error",
     "traceback": [
      "\u001b[1;31m---------------------------------------------------------------------------\u001b[0m",
      "\u001b[1;31mNameError\u001b[0m                                 Traceback (most recent call last)",
      "\u001b[1;32m~\\AppData\\Local\\Temp/ipykernel_43392/2747201285.py\u001b[0m in \u001b[0;36m<module>\u001b[1;34m\u001b[0m\n\u001b[0;32m      1\u001b[0m \u001b[1;32mfrom\u001b[0m \u001b[0mqiskit\u001b[0m\u001b[1;33m.\u001b[0m\u001b[0mcompiler\u001b[0m \u001b[1;32mimport\u001b[0m \u001b[0massemble\u001b[0m\u001b[1;33m\u001b[0m\u001b[1;33m\u001b[0m\u001b[0m\n\u001b[1;32m----> 2\u001b[1;33m \u001b[0mdrive_amps_2\u001b[0m\u001b[1;33m,\u001b[0m\u001b[0mrabi_values_2\u001b[0m \u001b[1;33m=\u001b[0m \u001b[0msignal\u001b[0m\u001b[1;33m.\u001b[0m\u001b[0mrabi_test_Sim\u001b[0m\u001b[1;33m(\u001b[0m\u001b[1;36m50\u001b[0m\u001b[1;33m)\u001b[0m\u001b[1;33m\u001b[0m\u001b[1;33m\u001b[0m\u001b[0m\n\u001b[0m",
      "\u001b[1;32m~\\Documents\\AQI2022\\Final Project\\Su22.py\u001b[0m in \u001b[0;36mrabi_test_Sim\u001b[1;34m(self, num_rabi_points)\u001b[0m\n\u001b[0;32m    119\u001b[0m         \u001b[0mbackend_sim\u001b[0m \u001b[1;33m=\u001b[0m \u001b[0mPulseSimulator\u001b[0m\u001b[1;33m(\u001b[0m\u001b[0msystem_model\u001b[0m\u001b[1;33m=\u001b[0m\u001b[0marmonk_model\u001b[0m\u001b[1;33m)\u001b[0m\u001b[1;33m\u001b[0m\u001b[1;33m\u001b[0m\u001b[0m\n\u001b[0;32m    120\u001b[0m \u001b[1;33m\u001b[0m\u001b[0m\n\u001b[1;32m--> 121\u001b[1;33m         rabi_qobj = assemble(rabi_schedules, \n\u001b[0m\u001b[0;32m    122\u001b[0m                              \u001b[0mbackend\u001b[0m\u001b[1;33m=\u001b[0m\u001b[0mbackend_sim\u001b[0m\u001b[1;33m,\u001b[0m\u001b[1;33m\u001b[0m\u001b[1;33m\u001b[0m\u001b[0m\n\u001b[0;32m    123\u001b[0m                              \u001b[0mmeas_level\u001b[0m\u001b[1;33m=\u001b[0m\u001b[1;36m1\u001b[0m\u001b[1;33m,\u001b[0m\u001b[1;33m\u001b[0m\u001b[1;33m\u001b[0m\u001b[0m\n",
      "\u001b[1;31mNameError\u001b[0m: name 'assemble' is not defined"
     ]
    }
   ],
   "source": [
    "from qiskit.compiler import assemble\n",
    "drive_amps_2,rabi_values_2 = signal.rabi_test_Sim(50)"
   ]
  },
  {
   "cell_type": "code",
   "execution_count": null,
   "id": "23f10993-f67e-4702-acd6-be798defae7d",
   "metadata": {},
   "outputs": [],
   "source": [
    "fit_params_2, y_fit_2 = fit_function(drive_amps_2,\n",
    "                                 rabi_values_2, \n",
    "                                 lambda x, A, B, drive_period, phi: (A*np.cos(2*np.pi*x/drive_period - phi) + B),\n",
    "                                 [-8, 1, 2, 0])\n",
    "\n",
    "plt.scatter(drive_amps_2, rabi_values_2, color='black')\n",
    "plt.plot(drive_amps_2, y_fit_2, color='red')\n",
    "print(fit_params_2)\n",
    "drive_period_2 = fit_params_2[2] # get period of rabi oscillation\n",
    "\n",
    "plt.axvline(0, color='red', linestyle='--')\n",
    "plt.axvline(drive_period_2/2, color='red', linestyle='--')\n",
    "plt.annotate(\"\", xy=(0, 0), xytext=(drive_period_2/2,0), arrowprops=dict(arrowstyle=\"<->\", color='red'))\n",
    "plt.annotate(\"$\\pi$\", xy=(drive_period_2/2-0.03, 0.1), color='red')\n",
    "\n",
    "plt.xlabel(\"Drive amp [a.u.]\", fontsize=15)\n",
    "plt.ylabel(\"Measured signal [a.u.]\", fontsize=15)\n",
    "plt.show()"
   ]
  },
  {
   "cell_type": "code",
   "execution_count": null,
   "id": "d18d6f14-704e-40d4-a2d1-1421253d8904",
   "metadata": {},
   "outputs": [],
   "source": [
    "drive_amps,rabi_values = signal.rabi_test_2(20)"
   ]
  },
  {
   "cell_type": "code",
   "execution_count": null,
   "id": "28f7559f-fdf9-41df-ba02-f61c34fd9313",
   "metadata": {},
   "outputs": [],
   "source": [
    "fit_params, y_fit = fit_function(drive_amps,\n",
    "                                 rabi_values, \n",
    "                                 lambda x, A, B, drive_period, phi: (A*np.cos(2*np.pi*x/drive_period - phi) + B),\n",
    "                                 [-0.02, 0, 2, 0])\n",
    "\n",
    "plt.scatter(drive_amps, rabi_values, color='black')\n",
    "plt.plot(drive_amps, y_fit, color='red')\n",
    "print(fit_params)\n",
    "drive_period = fit_params[2] # get period of rabi oscillation\n",
    "\n",
    "plt.axvline(0, color='red', linestyle='--')\n",
    "plt.axvline(drive_period/2, color='red', linestyle='--')\n",
    "plt.annotate(\"\", xy=(0, 0), xytext=(drive_period/2,0), arrowprops=dict(arrowstyle=\"<->\", color='red'))\n",
    "plt.annotate(\"$\\pi$\", xy=(drive_period/2-0.03, 0.1), color='red')\n",
    "\n",
    "plt.xlabel(\"Drive amp [a.u.]\", fontsize=15)\n",
    "plt.ylabel(\"Measured signal [a.u.]\", fontsize=15)\n",
    "plt.show()"
   ]
  },
  {
   "cell_type": "code",
   "execution_count": 6,
   "id": "3dc12356-d972-477e-9931-bec0747cfb74",
   "metadata": {},
   "outputs": [
    {
     "name": "stdout",
     "output_type": "stream",
     "text": [
      "DbAnalysisResultV1\n",
      "- name: state\n",
      "- value: DensityMatrix([[ 0.9765625 +0.j        , -0.01269531-0.00683594j],\n",
      "               [-0.01269531+0.00683594j,  0.0234375 +0.j        ]],\n",
      "              dims=(2,))\n",
      "- extra: <5 items>\n",
      "- device_components: ['Q0']\n",
      "- verified: False\n",
      "DbAnalysisResultV1\n",
      "- name: state_fidelity\n",
      "- value: 0.9765625\n",
      "- device_components: ['Q0']\n",
      "- verified: False\n",
      "DbAnalysisResultV1\n",
      "- name: positive\n",
      "- value: True\n",
      "- device_components: ['Q0']\n",
      "- verified: False\n"
     ]
    }
   ],
   "source": [
    "import qiskit\n",
    "from qiskit_experiments.framework import ParallelExperiment\n",
    "from qiskit_experiments.library import StateTomography\n",
    "\n",
    "# For simulation\n",
    "from qiskit.providers.aer import AerSimulator\n",
    "from qiskit.test.mock import FakeArmonk\n",
    "\n",
    "# Noisy simulator backend\n",
    "backend_2 = AerSimulator.from_backend(FakeArmonk())\n",
    "nq = 1\n",
    "qc_ghz = qiskit.QuantumCircuit(nq)\n",
    "signal.add_as_gate(circ,[0])\n",
    "\n",
    "\n",
    "# QST Experiment\n",
    "qstexp1 = StateTomography(qc_ghz)\n",
    "qstdata1 = qstexp1.run(backend_2, seed_simulation=100).block_for_results()\n",
    "\n",
    "# Print results\n",
    "for result in qstdata1.analysis_results():\n",
    "    print(result)\n"
   ]
  },
  {
   "cell_type": "code",
   "execution_count": 21,
   "id": "c836df3c-fbbf-461c-aa32-3aae10bee9b3",
   "metadata": {},
   "outputs": [
    {
     "name": "stdout",
     "output_type": "stream",
     "text": [
      "0\n",
      "<class 'list'>\n"
     ]
    }
   ],
   "source": [
    "import pickle\n",
    "\n",
    "def loadData(inp):\n",
    "    # for reading also binary mode is important\n",
    "    dbfile = open(inp, 'rb')     \n",
    "    db = pickle.load(dbfile)\n",
    "    counter = 0\n",
    "    temp = [] \n",
    "    for key in db:\n",
    "        temp.append(key)\n",
    "    print(counter)\n",
    "    dbfile.close()\n",
    "    return temp\n",
    "\n",
    "data=loadData('FGRAFS_controls_N128.p')\n",
    "print(type(data))"
   ]
  },
  {
   "cell_type": "code",
   "execution_count": 2,
   "id": "becba9b0-59c9-4fd9-be69-31dddb1edfab",
   "metadata": {},
   "outputs": [
    {
     "name": "stdout",
     "output_type": "stream",
     "text": [
      "Omkar => {'key': 'Omkar', 'name': 'Omkar Pathak', 'age': 21, 'pay': 40000}\n",
      "Jagdish => {'key': 'Jagdish', 'name': 'Jagdish Pathak', 'age': 50, 'pay': 50000}\n"
     ]
    }
   ],
   "source": []
  },
  {
   "cell_type": "code",
   "execution_count": 23,
   "id": "d32e5d84-07ff-4659-af7f-1ab143244db0",
   "metadata": {},
   "outputs": [
    {
     "name": "stdout",
     "output_type": "stream",
     "text": [
      "[-0.16667963 -0.36391907 -0.65355124 -1.04534695 -1.54096819 -2.13161027\n",
      " -2.79632331 -3.50132882 -4.20057732 -4.8376848  -5.34924722 -5.66937735\n",
      " -5.73515271 -5.49252667 -4.9021544  -3.94453618 -2.62389337 -0.97027098\n",
      "  0.9604986   3.08914428  5.31756577  7.53541667  9.62815366 11.48586436\n",
      " 13.01207012 14.13166224 14.79718088 14.99278231 14.73545202 14.07328786\n",
      " 13.08097204 11.85284123 10.49421915  9.11186556  7.80449763  6.6543403\n",
      "  5.7205594   5.03523376  4.60225171  4.39920091  4.38199477  4.49167882\n",
      "  4.66262185  4.83114622  4.94360754  4.96300246  4.87335616  4.68140117\n",
      "  4.41537428  4.1210954   3.85580922  3.6805332   3.65183115  3.81400063\n",
      "  4.19261546  4.79020779  5.58462461  6.5302808   7.56219148  8.60233948\n",
      "  9.56765922 10.37872641 10.96815826 11.28776031 11.31359999 11.04842708\n",
      " 10.52116874  9.78356583  8.90434751  7.96162481  7.03438655  6.19408061\n",
      "  5.49724718  4.98004214  4.65526252  4.51218958  4.51923303  4.62903213\n",
      "  4.78538263  4.93114779  5.01619969  5.00443678  4.87903442  4.64529354\n",
      "  4.33073289  3.98239122  3.66162836  3.4370028   3.37602459  3.53671177\n",
      "  3.95990315  4.66319702  5.63720707  6.84457236  8.22185946  9.68418357\n",
      " 11.13208799 12.45998696 13.56532192 14.35751899 14.76587115 14.74559548\n",
      " 14.28151683 13.38908155 12.11267858 10.52151091  8.7034909   6.7578041\n",
      "  4.78688431  2.88856018  1.14907337 -0.36245888 -1.59774086 -2.53096388\n",
      " -3.15845843 -3.49654277 -3.57793312 -3.44718544 -3.15568747 -2.75671008\n",
      " -2.300967   -1.83303159 -1.3888333  -0.99432158 -0.66525579 -0.40797062\n",
      " -0.22088673 -0.09649167]\n",
      "[-0.01111732 -0.02427295 -0.04359106 -0.06972335 -0.10278067 -0.14217576\n",
      " -0.1865113  -0.23353429 -0.2801733  -0.32266758 -0.35678816 -0.37814044\n",
      " -0.38252758 -0.36634472 -0.32696762 -0.26309568 -0.17501044 -0.06471587\n",
      "  0.06406407  0.2060421   0.35467505  0.50260295  0.64218592  0.76609292\n",
      "  0.86788895  0.94256436  0.98695363  1.          0.98283639  0.93867086\n",
      "  0.87248462  0.79056982  0.69995141  0.60775014  0.52055032  0.44383625\n",
      "  0.38155422  0.33584385  0.30696449  0.29342125  0.29227362  0.29958941\n",
      "  0.3109911   0.32223147  0.3297325   0.33102611  0.32504682  0.31224366\n",
      "  0.29449999  0.27487196  0.2571777   0.245487    0.24357261  0.25438912\n",
      "  0.27964226  0.31950092  0.37248754  0.43556164  0.5043888   0.57376538\n",
      "  0.63815101  0.69224819  0.73156256  0.75287962  0.7546031   0.73691639\n",
      "  0.70174892  0.65255172  0.59390894  0.53103051  0.46918487  0.4131375\n",
      "  0.36665957  0.33216264  0.31050024  0.30095745  0.30142724  0.30875071\n",
      "  0.31917909  0.32890145  0.3345743   0.33378973  0.32542555  0.30983532\n",
      "  0.28885452  0.26562056  0.24422607  0.22924383  0.22517666  0.23589429\n",
      "  0.26412063  0.31102946  0.37599473  0.45652449  0.54838784  0.64592304\n",
      "  0.74249647  0.83106569  0.90479016  0.95762872  0.98486531  0.98351294\n",
      "  0.95255947  0.89303515  0.80790065  0.70177174  0.58051206  0.45073716\n",
      "  0.31927925  0.19266338  0.07664177 -0.02417556 -0.10656734 -0.16881215\n",
      " -0.21066526 -0.23321507 -0.2386437  -0.229923   -0.21048044 -0.18386915\n",
      " -0.15347165 -0.12226094 -0.09263346 -0.06632002 -0.04437174 -0.02721113\n",
      " -0.01473287 -0.00643587]\n"
     ]
    },
    {
     "data": {
      "image/png": "[encoded data removed]",
      "text/plain": [
       "<Figure size 936x149.313 with 1 Axes>"
      ]
     },
     "execution_count": 23,
     "metadata": {},
     "output_type": "execute_result"
    }
   ],
   "source": [
    "signal = Su22.Custom_Fgp('low_freq',data,backend)\n",
    "temp = signal.Customize_pulse(1)\n",
    "with pulse.build(backend=backend) as pulse_2:\n",
    "    #pulse.play(pulse.Gaussian(duration=1000,amp=1,sigma=1000, name='Rabi Pulse'), pulse.drive_channel(0))\n",
    "    pulse.call(temp,pulse.drive_channel(0))\n",
    "print(signal.input)\n",
    "print(signal.norm)\n",
    "signal.draw()"
   ]
  },
  {
   "cell_type": "code",
   "execution_count": null,
   "id": "4c4876e7-43be-4671-8da4-290af66eba64",
   "metadata": {},
   "outputs": [],
   "source": []
  }
 ],
 "metadata": {
  "kernelspec": {
   "display_name": "AQI",
   "language": "python",
   "name": "aqi"
  },
  "language_info": {
   "codemirror_mode": {
    "name": "ipython",
    "version": 3
   },
   "file_extension": ".py",
   "mimetype": "text/x-python",
   "name": "python",
   "nbconvert_exporter": "python",
   "pygments_lexer": "ipython3",
   "version": "3.10.4"
  }
 },
 "nbformat": 4,
 "nbformat_minor": 5
}
