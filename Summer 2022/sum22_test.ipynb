{
 "cells": [
  {
   "cell_type": "code",
   "execution_count": 1,
   "metadata": {},
   "outputs": [],
   "source": [
    "import qiskit as qk\n",
    "import numpy as np\n",
    "from qiskit.tools.visualization import plot_histogram\n",
    "from qiskit import IBMQ\n",
    "from qiskit.tools.monitor import job_monitor\n",
    "from qiskit.providers.aer.noise import NoiseModel\n",
    "import matplotlib\n",
    "import matplotlib.pyplot as plt\n",
    "from qiskit.visualization import plot_bloch_multivector\n",
    "from qiskit.tools.monitor import job_monitor\n",
    "from qiskit import pulse              \n",
    "from qiskit.circuit import Parameter \n",
    "from IPython.display import display\n",
    "from qiskit import QuantumCircuit\n",
    "from qiskit.circuit import Gate\n",
    "import warnings\n",
    "warnings.filterwarnings('ignore')\n",
    "from qiskit.tools.jupyter import *\n",
    "# The pulse simulator\n",
    "from qiskit.providers.aer import PulseSimulator\n",
    "\n",
    "# Object for representing physical models\n",
    "from qiskit.providers.aer.pulse import PulseSystemModel\n",
    "token = 'b6464d13b284902ed1d1a48d2aed6bd0474c7be45011741b0fb879614419659cb722e74a046af3d5caae0398aec9bdac8843068ecbee91aff466cf3e30f3bef5'\n",
    "try:\n",
    "    IBMQ.load_account()\n",
    "except:\n",
    "    qk.IBMQ.save_account(token=token)\n",
    "    qk.IBMQ.enable_account(token)\n",
    "provider = IBMQ.get_provider(hub=\"ibm-q\", group=\"open\", project=\"main\")\n",
    "backend = provider.get_backend(\"ibmq_armonk\")\n"
   ]
  },
  {
   "cell_type": "code",
   "execution_count": 2,
   "metadata": {},
   "outputs": [
    {
     "ename": "NameError",
     "evalue": "name 'Su22' is not defined",
     "output_type": "error",
     "traceback": [
      "\u001b[1;31m---------------------------------------------------------------------------\u001b[0m",
      "\u001b[1;31mNameError\u001b[0m                                 Traceback (most recent call last)",
      "\u001b[1;32m~\\AppData\\Local\\Temp/ipykernel_32/1565662152.py\u001b[0m in \u001b[0;36m<module>\u001b[1;34m\u001b[0m\n\u001b[0;32m      2\u001b[0m \u001b[1;32mwith\u001b[0m \u001b[0mpulse\u001b[0m\u001b[1;33m.\u001b[0m\u001b[0mbuild\u001b[0m\u001b[1;33m(\u001b[0m\u001b[0mbackend\u001b[0m\u001b[1;33m=\u001b[0m\u001b[0mbackend\u001b[0m\u001b[1;33m,\u001b[0m \u001b[0mdefault_alignment\u001b[0m\u001b[1;33m=\u001b[0m\u001b[1;34m'sequential'\u001b[0m\u001b[1;33m,\u001b[0m \u001b[0mname\u001b[0m\u001b[1;33m=\u001b[0m\u001b[1;34m'Rabi Experiment'\u001b[0m\u001b[1;33m)\u001b[0m \u001b[1;32mas\u001b[0m \u001b[0mpulse_1\u001b[0m\u001b[1;33m:\u001b[0m\u001b[1;33m\u001b[0m\u001b[1;33m\u001b[0m\u001b[0m\n\u001b[0;32m      3\u001b[0m     \u001b[0mpulse\u001b[0m\u001b[1;33m.\u001b[0m\u001b[0mplay\u001b[0m\u001b[1;33m(\u001b[0m\u001b[0mpulse\u001b[0m\u001b[1;33m.\u001b[0m\u001b[0mGaussian\u001b[0m\u001b[1;33m(\u001b[0m\u001b[0mduration\u001b[0m\u001b[1;33m=\u001b[0m\u001b[1;36m1000\u001b[0m\u001b[1;33m,\u001b[0m\u001b[0mamp\u001b[0m\u001b[1;33m=\u001b[0m\u001b[1;36m6\u001b[0m\u001b[1;33m*\u001b[0m\u001b[0mdrive_amp\u001b[0m\u001b[1;33m,\u001b[0m\u001b[0msigma\u001b[0m\u001b[1;33m=\u001b[0m\u001b[1;36m1000\u001b[0m\u001b[1;33m,\u001b[0m \u001b[0mname\u001b[0m\u001b[1;33m=\u001b[0m\u001b[1;34m'Rabi Pulse'\u001b[0m\u001b[1;33m)\u001b[0m\u001b[1;33m,\u001b[0m \u001b[0mpulse\u001b[0m\u001b[1;33m.\u001b[0m\u001b[0mdrive_channel\u001b[0m\u001b[1;33m(\u001b[0m\u001b[1;36m0\u001b[0m\u001b[1;33m)\u001b[0m\u001b[1;33m)\u001b[0m\u001b[1;33m\u001b[0m\u001b[1;33m\u001b[0m\u001b[0m\n\u001b[1;32m----> 4\u001b[1;33m \u001b[0mtemp\u001b[0m\u001b[1;33m=\u001b[0m\u001b[0mSu22\u001b[0m\u001b[1;33m.\u001b[0m\u001b[0mProbe_Pulse\u001b[0m\u001b[1;33m(\u001b[0m\u001b[0mpulse_1\u001b[0m\u001b[1;33m,\u001b[0m\u001b[0mdrive_amp\u001b[0m\u001b[1;33m,\u001b[0m\u001b[1;36m10\u001b[0m\u001b[1;33m)\u001b[0m\u001b[1;33m\u001b[0m\u001b[1;33m\u001b[0m\u001b[0m\n\u001b[0m\u001b[0;32m      5\u001b[0m \u001b[1;32mwith\u001b[0m \u001b[0mpulse\u001b[0m\u001b[1;33m.\u001b[0m\u001b[0mbuild\u001b[0m\u001b[1;33m(\u001b[0m\u001b[0mbackend\u001b[0m\u001b[1;33m=\u001b[0m\u001b[0mbackend\u001b[0m\u001b[1;33m,\u001b[0m \u001b[0mdefault_alignment\u001b[0m\u001b[1;33m=\u001b[0m\u001b[1;34m'sequential'\u001b[0m\u001b[1;33m,\u001b[0m \u001b[0mname\u001b[0m\u001b[1;33m=\u001b[0m\u001b[1;34m'Rabi Experiment'\u001b[0m\u001b[1;33m)\u001b[0m \u001b[1;32mas\u001b[0m \u001b[0mpulse_2\u001b[0m\u001b[1;33m:\u001b[0m\u001b[1;33m\u001b[0m\u001b[1;33m\u001b[0m\u001b[0m\n\u001b[0;32m      6\u001b[0m     \u001b[0mpulse\u001b[0m\u001b[1;33m.\u001b[0m\u001b[0mplay\u001b[0m\u001b[1;33m(\u001b[0m\u001b[0mpulse\u001b[0m\u001b[1;33m.\u001b[0m\u001b[0mGaussian\u001b[0m\u001b[1;33m(\u001b[0m\u001b[0mduration\u001b[0m\u001b[1;33m=\u001b[0m\u001b[1;36m1000\u001b[0m\u001b[1;33m,\u001b[0m\u001b[0mamp\u001b[0m\u001b[1;33m=\u001b[0m\u001b[1;36m1\u001b[0m\u001b[1;33m,\u001b[0m\u001b[0msigma\u001b[0m\u001b[1;33m=\u001b[0m\u001b[1;36m1000\u001b[0m\u001b[1;33m,\u001b[0m \u001b[0mname\u001b[0m\u001b[1;33m=\u001b[0m\u001b[1;34m'Rabi Pulse'\u001b[0m\u001b[1;33m)\u001b[0m\u001b[1;33m,\u001b[0m \u001b[0mpulse\u001b[0m\u001b[1;33m.\u001b[0m\u001b[0mdrive_channel\u001b[0m\u001b[1;33m(\u001b[0m\u001b[1;36m0\u001b[0m\u001b[1;33m)\u001b[0m\u001b[1;33m)\u001b[0m\u001b[1;33m\u001b[0m\u001b[1;33m\u001b[0m\u001b[0m\n",
      "\u001b[1;31mNameError\u001b[0m: name 'Su22' is not defined"
     ]
    }
   ],
   "source": [
    "drive_amp = Parameter('drive_amp')\n",
    "with pulse.build(backend=backend, default_alignment='sequential', name='Rabi Experiment') as pulse_1:\n",
    "    pulse.play(pulse.Gaussian(duration=1000,amp=6*drive_amp,sigma=1000, name='Rabi Pulse'), pulse.drive_channel(0))\n",
    "temp=Su22.Probe_Pulse(pulse_1,drive_amp,10)\n",
    "with pulse.build(backend=backend, default_alignment='sequential', name='Rabi Experiment') as pulse_2:\n",
    "    pulse.play(pulse.Gaussian(duration=1000,amp=1,sigma=1000, name='Rabi Pulse'), pulse.drive_channel(0))\n",
    "    pulse.call(temp[4],pulse.drive_channel(0))\n",
    "pulse_2.draw(backend=backend)"
   ]
  },
  {
   "cell_type": "code",
   "execution_count": 3,
   "metadata": {},
   "outputs": [
    {
     "name": "stdout",
     "output_type": "stream",
     "text": [
      "[ParameterExpression(0) ParameterExpression(drive_amp)\n",
      " ParameterExpression(2*drive_amp) ParameterExpression(3*drive_amp)\n",
      " ParameterExpression(4*drive_amp) ParameterExpression(5*drive_amp)\n",
      " ParameterExpression(6*drive_amp)]\n"
     ]
    }
   ],
   "source": [
    "hel = np.array([0,1,2,3,4,5,6])\n",
    "hel = hel*drive_amp\n",
    "print(hel)"
   ]
  },
  {
   "cell_type": "code",
   "execution_count": 4,
   "metadata": {},
   "outputs": [
    {
     "name": "stdout",
     "output_type": "stream",
     "text": [
      "0\n"
     ]
    }
   ],
   "source": [
    "with pulse.build(backend=backend, default_alignment='sequential', name='Rabi Experiment') as pulse_1:\n",
    "    print(pulse.seconds_to_samples(2/9.00001*10**-9))"
   ]
  },
  {
   "cell_type": "code",
   "execution_count": 2,
   "metadata": {},
   "outputs": [],
   "source": [
    "class Custom_Fgp:\n",
    "    def __init__(self, name, inp,backend):\n",
    "        self.name=name\n",
    "        self.input = np.array(inp)\n",
    "        self.backend = backend\n",
    "        drive_sigma_sec = 0.015 * 1.0e-6                          # This determines the actual width of the gaussian\n",
    "        drive_duration_sec = drive_sigma_sec   \n",
    "        #self.norm = self.input/np.sqrt((self.input**2).sum())\n",
    "        self.norm = self.input/self.input.max()\n",
    "        self.par = Parameter('drive_amp')\n",
    "        self.pi_p = 1\n",
    "        \n",
    "\n",
    "    def Create_Pulse(self):\n",
    "        with pulse.build(backend=backend, default_alignment='sequential', name='Rabi Experiment') as custom_Pulse:\n",
    "            [pulse.play(self.norm*self.pi_p, pulse.drive_channel(0))]\n",
    "        return custom_Pulse\n",
    "    \n",
    "    def Customize_pulse(self,x):\n",
    "        with pulse.build(backend=backend, default_alignment='sequential', name='Rabi Experiment') as custom_Pulse:\n",
    "            [pulse.play(self.norm*x, pulse.drive_channel(0))]\n",
    "            pulse.measure(qubits=[0], registers=[pulse.MemorySlot(0)])\n",
    "        return custom_Pulse\n",
    "    \n",
    "    def draw(self):\n",
    "        return self.Create_Pulse().draw(backend=self.backend)\n",
    "    \n",
    "    def baseline_remove(self, values):\n",
    "        return np.array(values) - np.mean(values)\n",
    "    \n",
    "    '''def rabi_test(self,num_rabi_points): #non functional\n",
    "        scale_factor = 1e-15\n",
    "        drive_amp_min = -1\n",
    "        drive_amp_max = 1\n",
    "        drive_amps = np.linspace(drive_amp_min, drive_amp_max, num_rabi_points)\n",
    "\n",
    "        rabi_schedules = [self.cont.assign_parameters({self.par: a}, inplace=False) for a in drive_amps]\n",
    "        num_shots_per_point = 1024\n",
    "        job = backend.run(rabi_schedules, \n",
    "                  meas_level=1, \n",
    "                  meas_return='avg', \n",
    "                  shots=num_shots_per_point)\n",
    "        job_monitor(job)\n",
    "        \n",
    "        rabi_results = job.result(timeout=120)\n",
    "        rabi_values = []\n",
    "        for i in range(num_rabi_points):\n",
    "            # Get the results for `qubit` from the ith experiment\n",
    "            rabi_values.append(rabi_results.get_memory(i)[0] * scale_factor)\n",
    "\n",
    "        rabi_values = np.real(self.baseline_remove(rabi_values))\n",
    "\n",
    "        return drive_amps,rabi_values'''\n",
    "    \n",
    "    def Cali(self,num_rabi_points):\n",
    "        scale_factor = 1e-15\n",
    "        drive_amp_min = -1\n",
    "        drive_amp_max = 1\n",
    "        drive_amps = np.linspace(drive_amp_min, drive_amp_max, num_rabi_points)\n",
    "\n",
    "        rabi_schedules = [self.Customize_pulse(a) for a in drive_amps]\n",
    "        #return rabi_schedules\n",
    "        num_shots_per_point = 1024\n",
    "        job = backend.run(rabi_schedules, \n",
    "                  meas_level=1, \n",
    "                  meas_return='avg', \n",
    "                  shots=num_shots_per_point)\n",
    "        job_monitor(job)\n",
    "        \n",
    "        rabi_results = job.result(timeout=120)\n",
    "        rabi_values = []\n",
    "        for i in range(num_rabi_points):\n",
    "            # Get the results for `qubit` from the ith experiment\n",
    "            rabi_values.append(rabi_results.get_memory(i)[0] * scale_factor)\n",
    "\n",
    "        rabi_values = np.real(self.baseline_remove(rabi_values))\n",
    "\n",
    "        return drive_amps,rabi_values\n",
    "    \n",
    "    def rabi_test_Sim(self,num_rabi_points):\n",
    "        scale_factor = 1e-15\n",
    "        drive_amp_min = -1\n",
    "        drive_amp_max = 1\n",
    "        drive_amps = np.linspace(drive_amp_min, drive_amp_max, num_rabi_points)\n",
    "\n",
    "        rabi_schedules = [self.Customize_pulse(a) for a in drive_amps]\n",
    "        #return rabi_schedules\n",
    "        num_shots_per_point = 1024\n",
    "        armonk_model = PulseSystemModel.from_backend(self.backend)\n",
    "        backend_sim = PulseSimulator(system_model=armonk_model)\n",
    "\n",
    "        rabi_qobj = assemble(rabi_schedules, \n",
    "                             backend=backend_sim,\n",
    "                             meas_level=1, \n",
    "                             meas_return='avg',\n",
    "                             shots=num_shots_per_point)\n",
    "        sim_result = backend_sim.run(rabi_qobj).result()\n",
    "        rabi_values = []\n",
    "        for i in range(num_rabi_points):\n",
    "            # Get the results for `qubit` from the ith experiment\n",
    "            rabi_values.append(sim_result.get_memory(i)[0] * scale_factor)\n",
    "\n",
    "        rabi_values = np.real(self.baseline_remove(rabi_values))\n",
    "        return drive_amps,rabi_values\n",
    "    \n",
    "    def add_as_gate(self,circ,qubits):\n",
    "        custom_gate = Gate(self.name, 1,[])\n",
    "        [circ.append(custom_gate, [i]) for i in qubits]\n",
    "        circ.add_calibration(self.name, qubits, self.Create_Pulse(), [])\n",
    "        return circ"
   ]
  },
  {
   "cell_type": "code",
   "execution_count": 4,
   "metadata": {},
   "outputs": [
    {
     "data": {
      "image/png": "[encoded data removed]",
      "text/plain": [
       "<Figure size 568.197x505.68 with 1 Axes>"
      ]
     },
     "execution_count": 4,
     "metadata": {},
     "output_type": "execute_result"
    }
   ],
   "source": [
    "circ = QuantumCircuit(7,1)\n",
    "circ.x([0])\n",
    "circ.h([0,3,5])\n",
    "circ.cx(0,1)\n",
    "circ = signal.add_as_gate(circ,[0,1,2])\n",
    "circ.draw('mpl')"
   ]
  },
  {
   "cell_type": "code",
   "execution_count": 18,
   "metadata": {},
   "outputs": [
    {
     "name": "stdout",
     "output_type": "stream",
     "text": [
      "[ 0.          2.82842712  4.          4.89897949  5.65685425  6.32455532\n",
      "  6.92820323  7.48331477  8.          8.48528137  8.94427191  9.38083152\n",
      "  9.79795897 10.19803903 10.58300524 10.95445115 11.3137085  11.66190379\n",
      " 12.         12.32882801 12.64911064 12.9614814  13.26649916 13.56465997\n",
      " 13.85640646 14.14213562 14.4222051  14.69693846 14.96662955 15.23154621\n",
      " 15.49193338 15.74801575 16.         16.24807681 16.4924225  16.73320053\n",
      " 16.97056275 17.20465053 17.43559577 17.66352173 17.88854382 18.11077028\n",
      " 18.33030278 18.54723699 18.76166304 18.97366596 19.18332609 19.39071943\n",
      " 19.59591794 19.79898987 20.         20.19900988 20.39607805 20.59126028\n",
      " 20.78460969 20.97617696 21.16601049 21.3541565  21.54065923 21.72556098\n",
      " 21.9089023  22.09072203 22.27105745 22.44994432]\n",
      "[0.         0.12598816 0.17817416 0.21821789 0.25197632 0.28171808\n",
      " 0.3086067  0.33333333 0.35634832 0.37796447 0.39840954 0.41785545\n",
      " 0.43643578 0.45425676 0.47140452 0.48795004 0.50395263 0.51946248\n",
      " 0.53452248 0.54916965 0.56343617 0.57735027 0.59093684 0.60421798\n",
      " 0.6172134  0.62994079 0.64241607 0.65465367 0.66666667 0.67846699\n",
      " 0.69006556 0.70147237 0.71269665 0.72374686 0.73463089 0.74535599\n",
      " 0.75592895 0.76635604 0.77664316 0.78679579 0.79681907 0.80671783\n",
      " 0.81649658 0.8261596  0.83571089 0.84515425 0.85449326 0.86373129\n",
      " 0.87287156 0.8819171  0.89087081 0.89973541 0.90851353 0.91720763\n",
      " 0.9258201  0.93435318 0.94280904 0.95118973 0.95949722 0.9677334\n",
      " 0.97590007 0.98399897 0.99203175 1.        ]\n"
     ]
    },
    {
     "data": {
      "image/png": "[encoded data removed]",
      "text/plain": [
       "<Figure size 936x118.8 with 1 Axes>"
      ]
     },
     "execution_count": 18,
     "metadata": {},
     "output_type": "execute_result"
    }
   ],
   "source": [
    "test= [np.sqrt(x*8) for x in range(64)]\n",
    "signal = Custom_Fgp('low_freq',test,backend)\n",
    "temp = signal.Customize_pulse(1)\n",
    "with pulse.build(backend=backend) as pulse_2:\n",
    "    #pulse.play(pulse.Gaussian(duration=1000,amp=1,sigma=1000, name='Rabi Pulse'), pulse.drive_channel(0))\n",
    "    pulse.call(temp,pulse.drive_channel(0))\n",
    "print(signal.input)\n",
    "print(signal.norm)\n",
    "signal.draw()"
   ]
  },
  {
   "cell_type": "code",
   "execution_count": 19,
   "metadata": {},
   "outputs": [
    {
     "name": "stdout",
     "output_type": "stream",
     "text": [
      "[ 0.          2.82842712  4.          4.89897949  5.65685425  6.32455532\n",
      "  6.92820323  7.48331477  8.          8.48528137  8.94427191  9.38083152\n",
      "  9.79795897 10.19803903 10.58300524 10.95445115 11.3137085  11.66190379\n",
      " 12.         12.32882801 12.64911064 12.9614814  13.26649916 13.56465997\n",
      " 13.85640646 14.14213562 14.4222051  14.69693846 14.96662955 15.23154621\n",
      " 15.49193338 15.74801575 16.         16.24807681 16.4924225  16.73320053\n",
      " 16.97056275 17.20465053 17.43559577 17.66352173 17.88854382 18.11077028\n",
      " 18.33030278 18.54723699 18.76166304 18.97366596 19.18332609 19.39071943\n",
      " 19.59591794 19.79898987 20.         20.19900988 20.39607805 20.59126028\n",
      " 20.78460969 20.97617696 21.16601049 21.3541565  21.54065923 21.72556098\n",
      " 21.9089023  22.09072203 22.27105745 22.44994432]\n",
      "[0.         0.12598816 0.17817416 0.21821789 0.25197632 0.28171808\n",
      " 0.3086067  0.33333333 0.35634832 0.37796447 0.39840954 0.41785545\n",
      " 0.43643578 0.45425676 0.47140452 0.48795004 0.50395263 0.51946248\n",
      " 0.53452248 0.54916965 0.56343617 0.57735027 0.59093684 0.60421798\n",
      " 0.6172134  0.62994079 0.64241607 0.65465367 0.66666667 0.67846699\n",
      " 0.69006556 0.70147237 0.71269665 0.72374686 0.73463089 0.74535599\n",
      " 0.75592895 0.76635604 0.77664316 0.78679579 0.79681907 0.80671783\n",
      " 0.81649658 0.8261596  0.83571089 0.84515425 0.85449326 0.86373129\n",
      " 0.87287156 0.8819171  0.89087081 0.89973541 0.90851353 0.91720763\n",
      " 0.9258201  0.93435318 0.94280904 0.95118973 0.95949722 0.9677334\n",
      " 0.97590007 0.98399897 0.99203175 1.        ]\n"
     ]
    },
    {
     "data": {
      "image/png": "[encoded data removed]",
      "text/plain": [
       "<Figure size 936x237.6 with 1 Axes>"
      ]
     },
     "execution_count": 19,
     "metadata": {},
     "output_type": "execute_result"
    }
   ],
   "source": [
    "test2 =np.random.randint(20,size=200)\n",
    "print(signal.input)\n",
    "print(signal.norm)\n",
    "signal.Customize_pulse(1).draw()"
   ]
  },
  {
   "cell_type": "code",
   "execution_count": 93,
   "metadata": {},
   "outputs": [
    {
     "name": "stdout",
     "output_type": "stream",
     "text": [
      "16\n"
     ]
    }
   ],
   "source": [
    "print(Su22.get_closest_multiple_of_16(8))"
   ]
  },
  {
   "cell_type": "code",
   "execution_count": 88,
   "metadata": {},
   "outputs": [
    {
     "name": "stdout",
     "output_type": "stream",
     "text": [
      "Job Status: job is queued (9)     "
     ]
    },
    {
     "ename": "KeyboardInterrupt",
     "evalue": "",
     "output_type": "error",
     "traceback": [
      "\u001b[1;31m---------------------------------------------------------------------------\u001b[0m",
      "\u001b[1;31mKeyboardInterrupt\u001b[0m                         Traceback (most recent call last)",
      "\u001b[1;32m~\\AppData\\Local\\Temp/ipykernel_1664/829726620.py\u001b[0m in \u001b[0;36m<module>\u001b[1;34m\u001b[0m\n\u001b[1;32m----> 1\u001b[1;33m \u001b[0mdrive_amps\u001b[0m\u001b[1;33m,\u001b[0m\u001b[0mrabi_values\u001b[0m \u001b[1;33m=\u001b[0m \u001b[0msignal\u001b[0m\u001b[1;33m.\u001b[0m\u001b[0mrabi_test_2\u001b[0m\u001b[1;33m(\u001b[0m\u001b[1;36m20\u001b[0m\u001b[1;33m)\u001b[0m\u001b[1;33m\u001b[0m\u001b[1;33m\u001b[0m\u001b[0m\n\u001b[0m",
      "\u001b[1;32m~\\AppData\\Local\\Temp/ipykernel_1664/4027581286.py\u001b[0m in \u001b[0;36mrabi_test_2\u001b[1;34m(self, num_rabi_points)\u001b[0m\n\u001b[0;32m     63\u001b[0m                   \u001b[0mmeas_return\u001b[0m\u001b[1;33m=\u001b[0m\u001b[1;34m'avg'\u001b[0m\u001b[1;33m,\u001b[0m\u001b[1;33m\u001b[0m\u001b[1;33m\u001b[0m\u001b[0m\n\u001b[0;32m     64\u001b[0m                   shots=num_shots_per_point)\n\u001b[1;32m---> 65\u001b[1;33m         \u001b[0mjob_monitor\u001b[0m\u001b[1;33m(\u001b[0m\u001b[0mjob\u001b[0m\u001b[1;33m)\u001b[0m\u001b[1;33m\u001b[0m\u001b[1;33m\u001b[0m\u001b[0m\n\u001b[0m\u001b[0;32m     66\u001b[0m \u001b[1;33m\u001b[0m\u001b[0m\n\u001b[0;32m     67\u001b[0m         \u001b[0mrabi_results\u001b[0m \u001b[1;33m=\u001b[0m \u001b[0mjob\u001b[0m\u001b[1;33m.\u001b[0m\u001b[0mresult\u001b[0m\u001b[1;33m(\u001b[0m\u001b[0mtimeout\u001b[0m\u001b[1;33m=\u001b[0m\u001b[1;36m120\u001b[0m\u001b[1;33m)\u001b[0m\u001b[1;33m\u001b[0m\u001b[1;33m\u001b[0m\u001b[0m\n",
      "\u001b[1;32m~\\anaconda3\\envs\\AQI2022\\lib\\site-packages\\qiskit\\tools\\monitor\\job_monitor.py\u001b[0m in \u001b[0;36mjob_monitor\u001b[1;34m(job, interval, quiet, output, line_discipline)\u001b[0m\n\u001b[0;32m     87\u001b[0m         \u001b[0m_interval_set\u001b[0m \u001b[1;33m=\u001b[0m \u001b[1;32mTrue\u001b[0m\u001b[1;33m\u001b[0m\u001b[1;33m\u001b[0m\u001b[0m\n\u001b[0;32m     88\u001b[0m \u001b[1;33m\u001b[0m\u001b[0m\n\u001b[1;32m---> 89\u001b[1;33m     _text_checker(\n\u001b[0m\u001b[0;32m     90\u001b[0m         \u001b[0mjob\u001b[0m\u001b[1;33m,\u001b[0m \u001b[0minterval\u001b[0m\u001b[1;33m,\u001b[0m \u001b[0m_interval_set\u001b[0m\u001b[1;33m,\u001b[0m \u001b[0mquiet\u001b[0m\u001b[1;33m=\u001b[0m\u001b[0mquiet\u001b[0m\u001b[1;33m,\u001b[0m \u001b[0moutput\u001b[0m\u001b[1;33m=\u001b[0m\u001b[0moutput\u001b[0m\u001b[1;33m,\u001b[0m \u001b[0mline_discipline\u001b[0m\u001b[1;33m=\u001b[0m\u001b[0mline_discipline\u001b[0m\u001b[1;33m\u001b[0m\u001b[1;33m\u001b[0m\u001b[0m\n\u001b[0;32m     91\u001b[0m     )\n",
      "\u001b[1;32m~\\anaconda3\\envs\\AQI2022\\lib\\site-packages\\qiskit\\tools\\monitor\\job_monitor.py\u001b[0m in \u001b[0;36m_text_checker\u001b[1;34m(job, interval, _interval_set, quiet, output, line_discipline)\u001b[0m\n\u001b[0;32m     42\u001b[0m         \u001b[0mprint\u001b[0m\u001b[1;33m(\u001b[0m\u001b[1;34m\"{}{}: {}\"\u001b[0m\u001b[1;33m.\u001b[0m\u001b[0mformat\u001b[0m\u001b[1;33m(\u001b[0m\u001b[0mline_discipline\u001b[0m\u001b[1;33m,\u001b[0m \u001b[1;34m\"Job Status\"\u001b[0m\u001b[1;33m,\u001b[0m \u001b[0mmsg\u001b[0m\u001b[1;33m)\u001b[0m\u001b[1;33m,\u001b[0m \u001b[0mend\u001b[0m\u001b[1;33m=\u001b[0m\u001b[1;34m\"\"\u001b[0m\u001b[1;33m,\u001b[0m \u001b[0mfile\u001b[0m\u001b[1;33m=\u001b[0m\u001b[0moutput\u001b[0m\u001b[1;33m)\u001b[0m\u001b[1;33m\u001b[0m\u001b[1;33m\u001b[0m\u001b[0m\n\u001b[0;32m     43\u001b[0m     \u001b[1;32mwhile\u001b[0m \u001b[0mstatus\u001b[0m\u001b[1;33m.\u001b[0m\u001b[0mname\u001b[0m \u001b[1;32mnot\u001b[0m \u001b[1;32min\u001b[0m \u001b[1;33m[\u001b[0m\u001b[1;34m\"DONE\"\u001b[0m\u001b[1;33m,\u001b[0m \u001b[1;34m\"CANCELLED\"\u001b[0m\u001b[1;33m,\u001b[0m \u001b[1;34m\"ERROR\"\u001b[0m\u001b[1;33m]\u001b[0m\u001b[1;33m:\u001b[0m\u001b[1;33m\u001b[0m\u001b[1;33m\u001b[0m\u001b[0m\n\u001b[1;32m---> 44\u001b[1;33m         \u001b[0mtime\u001b[0m\u001b[1;33m.\u001b[0m\u001b[0msleep\u001b[0m\u001b[1;33m(\u001b[0m\u001b[0minterval\u001b[0m\u001b[1;33m)\u001b[0m\u001b[1;33m\u001b[0m\u001b[1;33m\u001b[0m\u001b[0m\n\u001b[0m\u001b[0;32m     45\u001b[0m         \u001b[0mstatus\u001b[0m \u001b[1;33m=\u001b[0m \u001b[0mjob\u001b[0m\u001b[1;33m.\u001b[0m\u001b[0mstatus\u001b[0m\u001b[1;33m(\u001b[0m\u001b[1;33m)\u001b[0m\u001b[1;33m\u001b[0m\u001b[1;33m\u001b[0m\u001b[0m\n\u001b[0;32m     46\u001b[0m         \u001b[0mmsg\u001b[0m \u001b[1;33m=\u001b[0m \u001b[0mstatus\u001b[0m\u001b[1;33m.\u001b[0m\u001b[0mvalue\u001b[0m\u001b[1;33m\u001b[0m\u001b[1;33m\u001b[0m\u001b[0m\n",
      "\u001b[1;31mKeyboardInterrupt\u001b[0m: "
     ]
    }
   ],
   "source": [
    "drive_amps,rabi_values = signal.rabi_test_2(20)"
   ]
  },
  {
   "cell_type": "code",
   "execution_count": 38,
   "metadata": {},
   "outputs": [
    {
     "name": "stdout",
     "output_type": "stream",
     "text": [
      "[-4.04909147e-02  1.91645484e-02  3.37642693e+00 -3.03222218e-03]\n"
     ]
    },
    {
     "data": {
      "image/png": "[encoded data removed]",
      "text/plain": [
       "<Figure size 432x288 with 1 Axes>"
      ]
     },
     "metadata": {
      "needs_background": "light"
     },
     "output_type": "display_data"
    }
   ],
   "source": [
    "fit_params, y_fit = fit_function(drive_amps,\n",
    "                                 rabi_values, \n",
    "                                 lambda x, A, B, drive_period, phi: (A*np.cos(2*np.pi*x/drive_period - phi) + B),\n",
    "                                 [-0.02, 0, 2, 0])\n",
    "\n",
    "plt.scatter(drive_amps, rabi_values, color='black')\n",
    "plt.plot(drive_amps, y_fit, color='red')\n",
    "print(fit_params)\n",
    "drive_period = fit_params[2] # get period of rabi oscillation\n",
    "\n",
    "plt.axvline(0, color='red', linestyle='--')\n",
    "plt.axvline(drive_period/2, color='red', linestyle='--')\n",
    "plt.annotate(\"\", xy=(0, 0), xytext=(drive_period/2,0), arrowprops=dict(arrowstyle=\"<->\", color='red'))\n",
    "plt.annotate(\"$\\pi$\", xy=(drive_period/2-0.03, 0.1), color='red')\n",
    "\n",
    "plt.xlabel(\"Drive amp [a.u.]\", fontsize=15)\n",
    "plt.ylabel(\"Measured signal [a.u.]\", fontsize=15)\n",
    "plt.show()"
   ]
  },
  {
   "cell_type": "code",
   "execution_count": 20,
   "metadata": {},
   "outputs": [],
   "source": [
    "from qiskit.compiler import assemble\n",
    "drive_amps_2,rabi_values_2 = signal.rabi_test_Sim(50)"
   ]
  },
  {
   "cell_type": "code",
   "execution_count": 21,
   "metadata": {},
   "outputs": [
    {
     "name": "stdout",
     "output_type": "stream",
     "text": [
      "[-7.31240863e-17  3.17874723e-17  2.00000001e+00  2.78077319e-10]\n"
     ]
    },
    {
     "data": {
      "image/png": "[encoded data removed]",
      "text/plain": [
       "<Figure size 432x288 with 1 Axes>"
      ]
     },
     "metadata": {
      "needs_background": "light"
     },
     "output_type": "display_data"
    }
   ],
   "source": [
    "fit_params_2, y_fit_2 = fit_function(drive_amps_2,\n",
    "                                 rabi_values_2, \n",
    "                                 lambda x, A, B, drive_period, phi: (A*np.cos(2*np.pi*x/drive_period - phi) + B),\n",
    "                                 [-8, 1, 2, 0])\n",
    "\n",
    "plt.scatter(drive_amps_2, rabi_values_2, color='black')\n",
    "plt.plot(drive_amps_2, y_fit_2, color='red')\n",
    "print(fit_params_2)\n",
    "drive_period_2 = fit_params_2[2] # get period of rabi oscillation\n",
    "\n",
    "plt.axvline(0, color='red', linestyle='--')\n",
    "plt.axvline(drive_period_2/2, color='red', linestyle='--')\n",
    "plt.annotate(\"\", xy=(0, 0), xytext=(drive_period_2/2,0), arrowprops=dict(arrowstyle=\"<->\", color='red'))\n",
    "plt.annotate(\"$\\pi$\", xy=(drive_period_2/2-0.03, 0.1), color='red')\n",
    "\n",
    "plt.xlabel(\"Drive amp [a.u.]\", fontsize=15)\n",
    "plt.ylabel(\"Measured signal [a.u.]\", fontsize=15)\n",
    "plt.show()"
   ]
  },
  {
   "cell_type": "code",
   "execution_count": 15,
   "metadata": {},
   "outputs": [],
   "source": [
    "from scipy.optimize import curve_fit\n",
    "\n",
    "def fit_function(x_values, y_values, function, init_params):\n",
    "    fitparams, conv = curve_fit(function, x_values, y_values, init_params)\n",
    "    y_fit = function(x_values, *fitparams)\n",
    "    return fitparams, y_fit"
   ]
  },
  {
   "cell_type": "code",
   "execution_count": null,
   "metadata": {},
   "outputs": [],
   "source": [
    "tester = signal.rabi_test_2(10)\n",
    "with pulse.build(backend=backend) as pulse_2:\n",
    "    #pulse.play(pulse.Gaussian(duration=1000,amp=1,sigma=1000, name='Rabi Pulse'), pulse.drive_channel(0))\n",
    "    [pulse.call(tester[i],pulse.drive_channel(0)) for i in range(2)]\n",
    "pulse_2.draw()"
   ]
  },
  {
   "cell_type": "code",
   "execution_count": 22,
   "metadata": {},
   "outputs": [
    {
     "name": "stdout",
     "output_type": "stream",
     "text": [
      "DbAnalysisResultV1\n",
      "- name: state\n",
      "- value: DensityMatrix([[ 0.96875 +0.j        , -0.015625-0.00878906j],\n",
      "               [-0.015625+0.00878906j,  0.03125 +0.j        ]],\n",
      "              dims=(2,))\n",
      "- extra: <5 items>\n",
      "- device_components: ['Q0']\n",
      "- verified: False\n",
      "DbAnalysisResultV1\n",
      "- name: state_fidelity\n",
      "- value: 0.9687500000000001\n",
      "- device_components: ['Q0']\n",
      "- verified: False\n",
      "DbAnalysisResultV1\n",
      "- name: positive\n",
      "- value: True\n",
      "- device_components: ['Q0']\n",
      "- verified: False\n"
     ]
    }
   ],
   "source": [
    "import qiskit\n",
    "from qiskit_experiments.framework import ParallelExperiment\n",
    "from qiskit_experiments.library import StateTomography\n",
    "\n",
    "# For simulation\n",
    "from qiskit.providers.aer import AerSimulator\n",
    "from qiskit.test.mock import FakeArmonk\n",
    "\n",
    "# Noisy simulator backend\n",
    "backend_2 = AerSimulator.from_backend(FakeArmonk())\n",
    "nq = 1\n",
    "qc_ghz = qiskit.QuantumCircuit(nq)\n",
    "signal.add_as_gate(circ,[0])\n",
    "\n",
    "\n",
    "# QST Experiment\n",
    "qstexp1 = StateTomography(qc_ghz)\n",
    "qstdata1 = qstexp1.run(backend_2, seed_simulation=100).block_for_results()\n",
    "\n",
    "# Print results\n",
    "for result in qstdata1.analysis_results():\n",
    "    print(result)\n"
   ]
  },
  {
   "cell_type": "code",
   "execution_count": 23,
   "metadata": {},
   "outputs": [
    {
     "name": "stdout",
     "output_type": "stream",
     "text": [
      "DbAnalysisResultV1\n",
      "- name: state\n",
      "- value: DensityMatrix([[ 0.0234375 +0.j      , -0.00585938-0.015625j],\n",
      "               [-0.00585938+0.015625j,  0.9765625 +0.j      ]],\n",
      "              dims=(2,))\n",
      "- extra: <5 items>\n",
      "- device_components: ['Q0']\n",
      "- verified: False\n",
      "DbAnalysisResultV1\n",
      "- name: state_fidelity\n",
      "- value: 0.9765625000000002\n",
      "- device_components: ['Q0']\n",
      "- verified: False\n",
      "DbAnalysisResultV1\n",
      "- name: positive\n",
      "- value: True\n",
      "- device_components: ['Q0']\n",
      "- verified: False\n"
     ]
    }
   ],
   "source": [
    "nq = 1\n",
    "qc_ghz = qiskit.QuantumCircuit(nq)\n",
    "qc_ghz.x(0)\n",
    "\n",
    "\n",
    "# QST Experiment\n",
    "qstexp1 = StateTomography(qc_ghz)\n",
    "qstdata1 = qstexp1.run(backend_2, seed_simulation=100).block_for_results()\n",
    "\n",
    "# Print results\n",
    "for result in qstdata1.analysis_results():\n",
    "    print(result)"
   ]
  },
  {
   "cell_type": "code",
   "execution_count": null,
   "metadata": {},
   "outputs": [],
   "source": []
  }
 ],
 "metadata": {
  "interpreter": {
   "hash": "310d181867834755a976147d194ff784d425d1b7497a4c6e13ddef30f6fc18ab"
  },
  "kernelspec": {
   "display_name": "AQI",
   "language": "python",
   "name": "aqi"
  },
  "language_info": {
   "codemirror_mode": {
    "name": "ipython",
    "version": 3
   },
   "file_extension": ".py",
   "mimetype": "text/x-python",
   "name": "python",
   "nbconvert_exporter": "python",
   "pygments_lexer": "ipython3",
   "version": "3.10.4"
  }
 },
 "nbformat": 4,
 "nbformat_minor": 4
}
