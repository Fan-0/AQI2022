{
 "cells": [
  {
   "cell_type": "code",
   "execution_count": 1,
   "metadata": {},
   "outputs": [
    {
     "ename": "QiskitBackendNotFoundError",
     "evalue": "'No backend matches the criteria'",
     "output_type": "error",
     "traceback": [
      "\u001b[1;31m---------------------------------------------------------------------------\u001b[0m",
      "\u001b[1;31mQiskitBackendNotFoundError\u001b[0m                Traceback (most recent call last)",
      "\u001b[1;32m~\\AppData\\Local\\Temp/ipykernel_9252/1872235331.py\u001b[0m in \u001b[0;36m<module>\u001b[1;34m\u001b[0m\n\u001b[0;32m     29\u001b[0m     \u001b[0mqk\u001b[0m\u001b[1;33m.\u001b[0m\u001b[0mIBMQ\u001b[0m\u001b[1;33m.\u001b[0m\u001b[0menable_account\u001b[0m\u001b[1;33m(\u001b[0m\u001b[0mtoken\u001b[0m\u001b[1;33m)\u001b[0m\u001b[1;33m\u001b[0m\u001b[1;33m\u001b[0m\u001b[0m\n\u001b[0;32m     30\u001b[0m \u001b[0mprovider\u001b[0m \u001b[1;33m=\u001b[0m \u001b[0mIBMQ\u001b[0m\u001b[1;33m.\u001b[0m\u001b[0mget_provider\u001b[0m\u001b[1;33m(\u001b[0m\u001b[0mhub\u001b[0m\u001b[1;33m=\u001b[0m\u001b[1;34m\"ibm-q\"\u001b[0m\u001b[1;33m,\u001b[0m \u001b[0mgroup\u001b[0m\u001b[1;33m=\u001b[0m\u001b[1;34m\"open\"\u001b[0m\u001b[1;33m,\u001b[0m \u001b[0mproject\u001b[0m\u001b[1;33m=\u001b[0m\u001b[1;34m\"main\"\u001b[0m\u001b[1;33m)\u001b[0m\u001b[1;33m\u001b[0m\u001b[1;33m\u001b[0m\u001b[0m\n\u001b[1;32m---> 31\u001b[1;33m \u001b[0mbackend\u001b[0m \u001b[1;33m=\u001b[0m \u001b[0mprovider\u001b[0m\u001b[1;33m.\u001b[0m\u001b[0mget_backend\u001b[0m\u001b[1;33m(\u001b[0m\u001b[1;34m\"ibmq_armonk\"\u001b[0m\u001b[1;33m)\u001b[0m\u001b[1;33m\u001b[0m\u001b[1;33m\u001b[0m\u001b[0m\n\u001b[0m",
      "\u001b[1;32mc:\\Users\\Fanuel\\anaconda3\\envs\\AQI2022\\lib\\site-packages\\qiskit\\providers\\provider.py\u001b[0m in \u001b[0;36mget_backend\u001b[1;34m(self, name, **kwargs)\u001b[0m\n\u001b[0;32m     53\u001b[0m             \u001b[1;32mraise\u001b[0m \u001b[0mQiskitBackendNotFoundError\u001b[0m\u001b[1;33m(\u001b[0m\u001b[1;34m\"More than one backend matches the criteria\"\u001b[0m\u001b[1;33m)\u001b[0m\u001b[1;33m\u001b[0m\u001b[1;33m\u001b[0m\u001b[0m\n\u001b[0;32m     54\u001b[0m         \u001b[1;32mif\u001b[0m \u001b[1;32mnot\u001b[0m \u001b[0mbackends\u001b[0m\u001b[1;33m:\u001b[0m\u001b[1;33m\u001b[0m\u001b[1;33m\u001b[0m\u001b[0m\n\u001b[1;32m---> 55\u001b[1;33m             \u001b[1;32mraise\u001b[0m \u001b[0mQiskitBackendNotFoundError\u001b[0m\u001b[1;33m(\u001b[0m\u001b[1;34m\"No backend matches the criteria\"\u001b[0m\u001b[1;33m)\u001b[0m\u001b[1;33m\u001b[0m\u001b[1;33m\u001b[0m\u001b[0m\n\u001b[0m\u001b[0;32m     56\u001b[0m \u001b[1;33m\u001b[0m\u001b[0m\n\u001b[0;32m     57\u001b[0m         \u001b[1;32mreturn\u001b[0m \u001b[0mbackends\u001b[0m\u001b[1;33m[\u001b[0m\u001b[1;36m0\u001b[0m\u001b[1;33m]\u001b[0m\u001b[1;33m\u001b[0m\u001b[1;33m\u001b[0m\u001b[0m\n",
      "\u001b[1;31mQiskitBackendNotFoundError\u001b[0m: 'No backend matches the criteria'"
     ]
    }
   ],
   "source": [
    "import qiskit as qk\n",
    "import numpy as np\n",
    "from qiskit.tools.visualization import plot_histogram\n",
    "from qiskit import IBMQ\n",
    "from qiskit.tools.monitor import job_monitor\n",
    "from qiskit.providers.aer.noise import NoiseModel\n",
    "import matplotlib\n",
    "import matplotlib.pyplot as plt\n",
    "from qiskit.visualization import plot_bloch_multivector\n",
    "from qiskit.tools.monitor import job_monitor\n",
    "from qiskit import pulse              \n",
    "from qiskit.circuit import Parameter \n",
    "from IPython.display import display\n",
    "from qiskit import QuantumCircuit\n",
    "from qiskit.circuit import Gate\n",
    "import warnings\n",
    "warnings.filterwarnings('ignore')\n",
    "from qiskit.tools.jupyter import *\n",
    "# The pulse simulator\n",
    "from qiskit.providers.aer import PulseSimulator\n",
    "\n",
    "# Object for representing physical models\n",
    "from qiskit.providers.aer.pulse import PulseSystemModel\n",
    "token = 'b6464d13b284902ed1d1a48d2aed6bd0474c7be45011741b0fb879614419659cb722e74a046af3d5caae0398aec9bdac8843068ecbee91aff466cf3e30f3bef5'\n",
    "try:\n",
    "    IBMQ.load_account()\n",
    "except:\n",
    "    qk.IBMQ.save_account(token=token)\n",
    "    qk.IBMQ.enable_account(token)\n",
    "provider = IBMQ.get_provider(hub=\"ibm-q\", group=\"open\", project=\"main\")\n",
    "backend = provider.get_backend(\"ibmq_armonk\")\n"
   ]
  },
  {
   "cell_type": "code",
   "execution_count": 2,
   "metadata": {},
   "outputs": [
    {
     "ename": "NameError",
     "evalue": "name 'Su22' is not defined",
     "output_type": "error",
     "traceback": [
      "\u001b[1;31m---------------------------------------------------------------------------\u001b[0m",
      "\u001b[1;31mNameError\u001b[0m                                 Traceback (most recent call last)",
      "\u001b[1;32m~\\AppData\\Local\\Temp/ipykernel_32/1565662152.py\u001b[0m in \u001b[0;36m<module>\u001b[1;34m\u001b[0m\n\u001b[0;32m      2\u001b[0m \u001b[1;32mwith\u001b[0m \u001b[0mpulse\u001b[0m\u001b[1;33m.\u001b[0m\u001b[0mbuild\u001b[0m\u001b[1;33m(\u001b[0m\u001b[0mbackend\u001b[0m\u001b[1;33m=\u001b[0m\u001b[0mbackend\u001b[0m\u001b[1;33m,\u001b[0m \u001b[0mdefault_alignment\u001b[0m\u001b[1;33m=\u001b[0m\u001b[1;34m'sequential'\u001b[0m\u001b[1;33m,\u001b[0m \u001b[0mname\u001b[0m\u001b[1;33m=\u001b[0m\u001b[1;34m'Rabi Experiment'\u001b[0m\u001b[1;33m)\u001b[0m \u001b[1;32mas\u001b[0m \u001b[0mpulse_1\u001b[0m\u001b[1;33m:\u001b[0m\u001b[1;33m\u001b[0m\u001b[1;33m\u001b[0m\u001b[0m\n\u001b[0;32m      3\u001b[0m     \u001b[0mpulse\u001b[0m\u001b[1;33m.\u001b[0m\u001b[0mplay\u001b[0m\u001b[1;33m(\u001b[0m\u001b[0mpulse\u001b[0m\u001b[1;33m.\u001b[0m\u001b[0mGaussian\u001b[0m\u001b[1;33m(\u001b[0m\u001b[0mduration\u001b[0m\u001b[1;33m=\u001b[0m\u001b[1;36m1000\u001b[0m\u001b[1;33m,\u001b[0m\u001b[0mamp\u001b[0m\u001b[1;33m=\u001b[0m\u001b[1;36m6\u001b[0m\u001b[1;33m*\u001b[0m\u001b[0mdrive_amp\u001b[0m\u001b[1;33m,\u001b[0m\u001b[0msigma\u001b[0m\u001b[1;33m=\u001b[0m\u001b[1;36m1000\u001b[0m\u001b[1;33m,\u001b[0m \u001b[0mname\u001b[0m\u001b[1;33m=\u001b[0m\u001b[1;34m'Rabi Pulse'\u001b[0m\u001b[1;33m)\u001b[0m\u001b[1;33m,\u001b[0m \u001b[0mpulse\u001b[0m\u001b[1;33m.\u001b[0m\u001b[0mdrive_channel\u001b[0m\u001b[1;33m(\u001b[0m\u001b[1;36m0\u001b[0m\u001b[1;33m)\u001b[0m\u001b[1;33m)\u001b[0m\u001b[1;33m\u001b[0m\u001b[1;33m\u001b[0m\u001b[0m\n\u001b[1;32m----> 4\u001b[1;33m \u001b[0mtemp\u001b[0m\u001b[1;33m=\u001b[0m\u001b[0mSu22\u001b[0m\u001b[1;33m.\u001b[0m\u001b[0mProbe_Pulse\u001b[0m\u001b[1;33m(\u001b[0m\u001b[0mpulse_1\u001b[0m\u001b[1;33m,\u001b[0m\u001b[0mdrive_amp\u001b[0m\u001b[1;33m,\u001b[0m\u001b[1;36m10\u001b[0m\u001b[1;33m)\u001b[0m\u001b[1;33m\u001b[0m\u001b[1;33m\u001b[0m\u001b[0m\n\u001b[0m\u001b[0;32m      5\u001b[0m \u001b[1;32mwith\u001b[0m \u001b[0mpulse\u001b[0m\u001b[1;33m.\u001b[0m\u001b[0mbuild\u001b[0m\u001b[1;33m(\u001b[0m\u001b[0mbackend\u001b[0m\u001b[1;33m=\u001b[0m\u001b[0mbackend\u001b[0m\u001b[1;33m,\u001b[0m \u001b[0mdefault_alignment\u001b[0m\u001b[1;33m=\u001b[0m\u001b[1;34m'sequential'\u001b[0m\u001b[1;33m,\u001b[0m \u001b[0mname\u001b[0m\u001b[1;33m=\u001b[0m\u001b[1;34m'Rabi Experiment'\u001b[0m\u001b[1;33m)\u001b[0m \u001b[1;32mas\u001b[0m \u001b[0mpulse_2\u001b[0m\u001b[1;33m:\u001b[0m\u001b[1;33m\u001b[0m\u001b[1;33m\u001b[0m\u001b[0m\n\u001b[0;32m      6\u001b[0m     \u001b[0mpulse\u001b[0m\u001b[1;33m.\u001b[0m\u001b[0mplay\u001b[0m\u001b[1;33m(\u001b[0m\u001b[0mpulse\u001b[0m\u001b[1;33m.\u001b[0m\u001b[0mGaussian\u001b[0m\u001b[1;33m(\u001b[0m\u001b[0mduration\u001b[0m\u001b[1;33m=\u001b[0m\u001b[1;36m1000\u001b[0m\u001b[1;33m,\u001b[0m\u001b[0mamp\u001b[0m\u001b[1;33m=\u001b[0m\u001b[1;36m1\u001b[0m\u001b[1;33m,\u001b[0m\u001b[0msigma\u001b[0m\u001b[1;33m=\u001b[0m\u001b[1;36m1000\u001b[0m\u001b[1;33m,\u001b[0m \u001b[0mname\u001b[0m\u001b[1;33m=\u001b[0m\u001b[1;34m'Rabi Pulse'\u001b[0m\u001b[1;33m)\u001b[0m\u001b[1;33m,\u001b[0m \u001b[0mpulse\u001b[0m\u001b[1;33m.\u001b[0m\u001b[0mdrive_channel\u001b[0m\u001b[1;33m(\u001b[0m\u001b[1;36m0\u001b[0m\u001b[1;33m)\u001b[0m\u001b[1;33m)\u001b[0m\u001b[1;33m\u001b[0m\u001b[1;33m\u001b[0m\u001b[0m\n",
      "\u001b[1;31mNameError\u001b[0m: name 'Su22' is not defined"
     ]
    }
   ],
   "source": [
    "drive_amp = Parameter('drive_amp')\n",
    "with pulse.build(backend=backend, default_alignment='sequential', name='Rabi Experiment') as pulse_1:\n",
    "    pulse.play(pulse.Gaussian(duration=1000,amp=6*drive_amp,sigma=1000, name='Rabi Pulse'), pulse.drive_channel(0))\n",
    "temp=Su22.Probe_Pulse(pulse_1,drive_amp,10)\n",
    "with pulse.build(backend=backend, default_alignment='sequential', name='Rabi Experiment') as pulse_2:\n",
    "    pulse.play(pulse.Gaussian(duration=1000,amp=1,sigma=1000, name='Rabi Pulse'), pulse.drive_channel(0))\n",
    "    pulse.call(temp[4],pulse.drive_channel(0))\n",
    "pulse_2.draw(backend=backend)"
   ]
  },
  {
   "cell_type": "code",
   "execution_count": 3,
   "metadata": {},
   "outputs": [
    {
     "name": "stdout",
     "output_type": "stream",
     "text": [
      "[ParameterExpression(0) ParameterExpression(drive_amp)\n",
      " ParameterExpression(2*drive_amp) ParameterExpression(3*drive_amp)\n",
      " ParameterExpression(4*drive_amp) ParameterExpression(5*drive_amp)\n",
      " ParameterExpression(6*drive_amp)]\n"
     ]
    }
   ],
   "source": [
    "hel = np.array([0,1,2,3,4,5,6])\n",
    "hel = hel*drive_amp\n",
    "print(hel)"
   ]
  },
  {
   "cell_type": "code",
   "execution_count": 4,
   "metadata": {},
   "outputs": [
    {
     "name": "stdout",
     "output_type": "stream",
     "text": [
      "0\n"
     ]
    }
   ],
   "source": [
    "with pulse.build(backend=backend, default_alignment='sequential', name='Rabi Experiment') as pulse_1:\n",
    "    print(pulse.seconds_to_samples(2/9.00001*10**-9))"
   ]
  },
  {
   "cell_type": "code",
   "execution_count": 4,
   "metadata": {},
   "outputs": [],
   "source": [
    "class Custom_Fgp:\n",
    "    def __init__(self, name, inp,backend):\n",
    "        self.name=name\n",
    "        self.input = np.array(inp)\n",
    "        self.backend = backend\n",
    "        drive_sigma_sec = 0.015 * 1.0e-6                          # This determines the actual width of the gaussian\n",
    "        drive_duration_sec = drive_sigma_sec   \n",
    "        #self.norm = self.input/np.sqrt((self.input**2).sum())\n",
    "        self.norm = self.input/self.input.max()\n",
    "        self.par = Parameter('drive_amp')\n",
    "        self.pi_p = 1\n",
    "        \n",
    "\n",
    "    def Create_Pulse(self):\n",
    "        with pulse.build(backend=backend, default_alignment='sequential', name='Rabi Experiment') as custom_Pulse:\n",
    "            [pulse.play(self.norm*self.pi_p, pulse.drive_channel(0))]\n",
    "        return custom_Pulse\n",
    "    \n",
    "    def Customize_pulse(self,x):\n",
    "        with pulse.build(backend=backend, default_alignment='sequential', name='Rabi Experiment') as custom_Pulse:\n",
    "            [pulse.play(self.norm*x, pulse.drive_channel(0))]\n",
    "            pulse.measure(qubits=[0], registers=[pulse.MemorySlot(0)])\n",
    "        return custom_Pulse\n",
    "    \n",
    "    def draw(self):\n",
    "        return self.Create_Pulse().draw(backend=self.backend)\n",
    "    \n",
    "    def baseline_remove(self, values):\n",
    "        return np.array(values) - np.mean(values)\n",
    "    \n",
    "    '''def rabi_test(self,num_rabi_points): #non functional\n",
    "        scale_factor = 1e-15\n",
    "        drive_amp_min = -1\n",
    "        drive_amp_max = 1\n",
    "        drive_amps = np.linspace(drive_amp_min, drive_amp_max, num_rabi_points)\n",
    "\n",
    "        rabi_schedules = [self.cont.assign_parameters({self.par: a}, inplace=False) for a in drive_amps]\n",
    "        num_shots_per_point = 1024\n",
    "        job = backend.run(rabi_schedules, \n",
    "                  meas_level=1, \n",
    "                  meas_return='avg', \n",
    "                  shots=num_shots_per_point)\n",
    "        job_monitor(job)\n",
    "        \n",
    "        rabi_results = job.result(timeout=120)\n",
    "        rabi_values = []\n",
    "        for i in range(num_rabi_points):\n",
    "            # Get the results for `qubit` from the ith experiment\n",
    "            rabi_values.append(rabi_results.get_memory(i)[0] * scale_factor)\n",
    "\n",
    "        rabi_values = np.real(self.baseline_remove(rabi_values))\n",
    "\n",
    "        return drive_amps,rabi_values'''\n",
    "    \n",
    "    def Cali(self,num_rabi_points):\n",
    "        scale_factor = 1e-15\n",
    "        drive_amp_min = -1\n",
    "        drive_amp_max = 1\n",
    "        drive_amps = np.linspace(drive_amp_min, drive_amp_max, num_rabi_points)\n",
    "\n",
    "        rabi_schedules = [self.Customize_pulse(a) for a in drive_amps]\n",
    "        #return rabi_schedules\n",
    "        num_shots_per_point = 1024\n",
    "        job = backend.run(rabi_schedules, \n",
    "                  meas_level=1, \n",
    "                  meas_return='avg', \n",
    "                  shots=num_shots_per_point)\n",
    "        job_monitor(job)\n",
    "        \n",
    "        rabi_results = job.result(timeout=120)\n",
    "        rabi_values = []\n",
    "        for i in range(num_rabi_points):\n",
    "            # Get the results for `qubit` from the ith experiment\n",
    "            rabi_values.append(rabi_results.get_memory(i)[0] * scale_factor)\n",
    "\n",
    "        rabi_values = np.real(self.baseline_remove(rabi_values))\n",
    "\n",
    "        return drive_amps,rabi_values\n",
    "    \n",
    "    def rabi_test_Sim(self,num_rabi_points):\n",
    "        scale_factor = 1e-15\n",
    "        drive_amp_min = -1\n",
    "        drive_amp_max = 1\n",
    "        drive_amps = np.linspace(drive_amp_min, drive_amp_max, num_rabi_points)\n",
    "\n",
    "        rabi_schedules = [self.Customize_pulse(a) for a in drive_amps]\n",
    "        #return rabi_schedules\n",
    "        num_shots_per_point = 1024\n",
    "        armonk_model = PulseSystemModel.from_backend(self.backend)\n",
    "        backend_sim = PulseSimulator(system_model=armonk_model)\n",
    "\n",
    "        rabi_qobj = assemble(rabi_schedules, \n",
    "                             backend=backend_sim,\n",
    "                             meas_level=1, \n",
    "                             meas_return='avg',\n",
    "                             shots=num_shots_per_point)\n",
    "        sim_result = backend_sim.run(rabi_qobj).result()\n",
    "        rabi_values = []\n",
    "        for i in range(num_rabi_points):\n",
    "            # Get the results for `qubit` from the ith experiment\n",
    "            rabi_values.append(sim_result.get_memory(i)[0] * scale_factor)\n",
    "\n",
    "        rabi_values = np.real(self.baseline_remove(rabi_values))\n",
    "        return drive_amps,rabi_values\n",
    "    \n",
    "    def add_as_gate(self,circ,qubits):\n",
    "        custom_gate = Gate(self.name, 1,[])\n",
    "        [circ.append(custom_gate, [i]) for i in qubits]\n",
    "        circ.add_calibration(self.name, qubits, self.Create_Pulse(), [])\n",
    "        return circ"
   ]
  },
  {
   "cell_type": "code",
   "execution_count": 2,
   "metadata": {},
   "outputs": [
    {
     "ename": "NameError",
     "evalue": "name 'signal' is not defined",
     "output_type": "error",
     "traceback": [
      "\u001b[1;31m---------------------------------------------------------------------------\u001b[0m",
      "\u001b[1;31mNameError\u001b[0m                                 Traceback (most recent call last)",
      "\u001b[1;32m~\\AppData\\Local\\Temp/ipykernel_9252/1597336170.py\u001b[0m in \u001b[0;36m<module>\u001b[1;34m\u001b[0m\n\u001b[0;32m      3\u001b[0m \u001b[0mcirc\u001b[0m\u001b[1;33m.\u001b[0m\u001b[0mh\u001b[0m\u001b[1;33m(\u001b[0m\u001b[1;33m[\u001b[0m\u001b[1;36m0\u001b[0m\u001b[1;33m,\u001b[0m\u001b[1;36m3\u001b[0m\u001b[1;33m,\u001b[0m\u001b[1;36m5\u001b[0m\u001b[1;33m]\u001b[0m\u001b[1;33m)\u001b[0m\u001b[1;33m\u001b[0m\u001b[1;33m\u001b[0m\u001b[0m\n\u001b[0;32m      4\u001b[0m \u001b[0mcirc\u001b[0m\u001b[1;33m.\u001b[0m\u001b[0mcx\u001b[0m\u001b[1;33m(\u001b[0m\u001b[1;36m0\u001b[0m\u001b[1;33m,\u001b[0m\u001b[1;36m1\u001b[0m\u001b[1;33m)\u001b[0m\u001b[1;33m\u001b[0m\u001b[1;33m\u001b[0m\u001b[0m\n\u001b[1;32m----> 5\u001b[1;33m \u001b[0mcirc\u001b[0m \u001b[1;33m=\u001b[0m \u001b[0msignal\u001b[0m\u001b[1;33m.\u001b[0m\u001b[0madd_as_gate\u001b[0m\u001b[1;33m(\u001b[0m\u001b[0mcirc\u001b[0m\u001b[1;33m,\u001b[0m\u001b[1;33m[\u001b[0m\u001b[1;36m0\u001b[0m\u001b[1;33m,\u001b[0m\u001b[1;36m1\u001b[0m\u001b[1;33m,\u001b[0m\u001b[1;36m2\u001b[0m\u001b[1;33m]\u001b[0m\u001b[1;33m)\u001b[0m\u001b[1;33m\u001b[0m\u001b[1;33m\u001b[0m\u001b[0m\n\u001b[0m\u001b[0;32m      6\u001b[0m \u001b[0mcirc\u001b[0m\u001b[1;33m.\u001b[0m\u001b[0mdraw\u001b[0m\u001b[1;33m(\u001b[0m\u001b[1;34m'mpl'\u001b[0m\u001b[1;33m)\u001b[0m\u001b[1;33m\u001b[0m\u001b[1;33m\u001b[0m\u001b[0m\n",
      "\u001b[1;31mNameError\u001b[0m: name 'signal' is not defined"
     ]
    }
   ],
   "source": [
    "circ = QuantumCircuit(7,1)\n",
    "circ.x([0])\n",
    "circ.h([0,3,5])\n",
    "circ.cx(0,1)\n",
    "circ = signal.add_as_gate(circ,[0,1,2])\n",
    "circ.draw('mpl')"
   ]
  },
  {
   "cell_type": "code",
   "execution_count": 51,
   "metadata": {},
   "outputs": [
    {
     "name": "stdout",
     "output_type": "stream",
     "text": [
      "{'0': 100}\n"
     ]
    },
    {
     "data": {
      "image/png": "[encoded data removed]",
      "text/plain": [
       "<Figure size 936x118.8 with 1 Axes>"
      ]
     },
     "execution_count": 51,
     "metadata": {},
     "output_type": "execute_result"
    }
   ],
   "source": [
    "test= [np.sqrt(x*8) for x in range(1000)]\n",
    "from qiskit.providers.aer import PulseSimulator\n",
    "from qiskit.compiler import assemble\n",
    "signal = Custom_Fgp('low_freq',test,backend)\n",
    "temp = signal.Customize_pulse(1)\n",
    "with pulse.build(backend=backend) as pulse_2:\n",
    "    #pulse.play(pulse.Gaussian(duration=1000,amp=1,sigma=1000, name='Rabi Pulse'), pulse.drive_channel(0))\n",
    "    pulse.call(temp,pulse.drive_channel(0))\n",
    "    \n",
    "#print(signal.input)\n",
    "#print(signal.norm)\n",
    "a=block_to_schedule(signal.Customize_pulse(1))\n",
    "result = transpile(a,\n",
    "                     backend=backend, \n",
    "                     )\n",
    "results =backend.run(result, shots = 100).result()\n",
    "print(results.get_counts())\n",
    "signal.draw()"
   ]
  },
  {
   "cell_type": "code",
   "execution_count": 55,
   "metadata": {},
   "outputs": [
    {
     "name": "stdout",
     "output_type": "stream",
     "text": [
      "Schedule((0, Play(Waveform(array([[0.02      +0.00000000e+00j, 0.05623333+0.00000000e+00j],\n",
      "       [0.02969301-4.85104408e-04j, 0.05726569-9.35568401e-04j],\n",
      "       [0.03937403-1.25235126e-03j, 0.05633818-1.79192198e-03j],\n",
      "       [0.04903839-2.27007443e-03j, 0.0558402 -2.58494216e-03j],\n",
      "       [0.05868364-3.49924019e-03j, 0.05647968-3.36782028e-03j],\n",
      "       [0.06830907-4.90362450e-03j, 0.05618209-4.03307927e-03j],\n",
      "       [0.07791621-6.43895958e-03j, 0.05561708-4.59616928e-03j],\n",
      "       [0.08750751-8.06955286e-03j, 0.05612188-5.17531033e-03j],\n",
      "       [0.09708899-9.73425585e-03j, 0.057777  -5.79278915e-03j],\n",
      "       [0.10666479-1.14044191e-02j, 0.05755861-6.15406936e-03j],\n",
      "       [0.11624186-1.30284359e-02j, 0.05569129-6.24190340e-03j],\n",
      "       [0.12582787-1.45530282e-02j, 0.05427817-6.27771678e-03j],\n",
      "       [0.13543104-1.59209186e-02j, 0.05553094-6.52807196e-03j],\n",
      "       [0.145059  -1.70759231e-02j, 0.0562847 -6.62567072e-03j],\n",
      "       [0.15471975-1.79505393e-02j, 0.05567322-6.45919074e-03j],\n",
      "       [0.16441647-1.85049261e-02j, 0.05511866-6.20355617e-03j],\n",
      "       [0.17414916-1.87116133e-02j, 0.05689917-6.11358259e-03j],\n",
      "       [0.18392021-1.85018434e-02j, 0.05487636-5.52040410e-03j],\n",
      "       [0.19372734-1.78227408e-02j, 0.0546293 -5.02584634e-03j],\n",
      "       [0.20356365-1.66375124e-02j, 0.0564119 -4.61061508e-03j],\n",
      "       [0.21342088-1.48860366e-02j, 0.0555916 -3.87749626e-03j],\n",
      "       [0.22328546-1.25231077e-02j, 0.05635144-3.16050658e-03j],\n",
      "       [0.23313948-9.50924429e-03j, 0.05701926-2.32568946e-03j],\n",
      "       [0.24296037-5.82996999e-03j, 0.05625047-1.34976163e-03j],\n",
      "       [0.2527231 -1.45224802e-03j, 0.05550575-3.18958242e-04j],\n",
      "       [0.26239903+3.63769949e-03j, 0.05696786+7.89758842e-04j],\n",
      "       [0.27195639+9.46971318e-03j, 0.05714537+1.98984194e-03j],\n",
      "       [0.28135948+1.60726589e-02j, 0.06055461+3.45918183e-03j],\n",
      "       [0.29056929+2.34641954e-02j, 0.06100807+4.92655417e-03j],\n",
      "       [0.29954781+3.16203956e-02j, 0.06042428+6.37841275e-03j],\n",
      "       [0.30825402+4.05452984e-02j, 0.06018164+7.91581747e-03j],\n",
      "       [0.3166461 +5.02343675e-02j, 0.061491  +9.75524827e-03j],\n",
      "       [0.32468084+6.06831662e-02j, 0.05967336+1.11530092e-02j],\n",
      "       [0.33231546+7.18779239e-02j, 0.06282717+1.35891557e-02j],\n",
      "       [0.33951335+8.37774128e-02j, 0.06661523+1.64377963e-02j],\n",
      "       [0.34624926+9.63091714e-02j, 0.07050347+1.96105287e-02j],\n",
      "       [0.35248985+1.09448646e-01j, 0.06980572+2.16747857e-02j],\n",
      "       [0.3582216 +1.23115976e-01j, 0.07687321+2.64202944e-02j],\n",
      "       [0.36342368+1.37272368e-01j, 0.07182068+2.71281038e-02j],\n",
      "       [0.36809816+1.51830524e-01j, 0.05854834+2.41496039e-02j],\n",
      "       [0.37222373+1.66777092e-01j, 0.05726162+2.56564129e-02j],\n",
      "       [0.3758133 +1.82027137e-01j, 0.08216293+3.97960461e-02j],\n",
      "       [0.37887912+1.97516058e-01j, 0.06821974+3.55640971e-02j],\n",
      "       [0.38142696+2.13204101e-01j, 0.06331952+3.53933593e-02j],\n",
      "       [0.38348797+2.29015474e-01j, 0.05796392+3.46155180e-02j],\n",
      "       [0.38512183+2.44844735e-01j, 0.05492615+3.49198017e-02j],\n",
      "       [0.38636159+2.60647672e-01j, 0.05522207+3.72539752e-02j],\n",
      "       [0.38723097+2.76400875e-01j, 0.05910723+4.21900408e-02j],\n",
      "       [0.38779928+2.92023688e-01j, 0.06487625+4.88536307e-02j],\n",
      "       [0.38814485+3.07438776e-01j, 0.06792155+5.37987754e-02j],\n",
      "       [0.38830515+3.22631532e-01j, 0.05124602+4.25788414e-02j],\n",
      "       [0.38836857+3.37530563e-01j, 0.05100299+4.43266285e-02j],\n",
      "       [0.3883999 +3.52101739e-01j, 0.06161145+5.58535122e-02j],\n",
      "       [0.38849182+3.66285929e-01j, 0.06037101+5.69202513e-02j],\n",
      "       [0.38865799+3.80112432e-01j, 0.05655992+5.53163172e-02j],\n",
      "       [0.38898275+3.93535509e-01j, 0.04419875+4.47160649e-02j],\n",
      "       [0.38957655+4.06488906e-01j, 0.04041322+4.21676452e-02j],\n",
      "       [0.39044308+4.19011609e-01j, 0.04260333+4.57205958e-02j],\n",
      "       [0.39168008+4.31050706e-01j, 0.04295479+4.72724922e-02j],\n",
      "       [0.39338091+4.42559590e-01j, 0.04562373+5.13273999e-02j],\n",
      "       [0.39557796+4.53545152e-01j, 0.04453459+5.10605973e-02j],\n",
      "       [0.39826732+4.64040862e-01j, 0.04371388+5.09331985e-02j],\n",
      "       [0.40154129+4.73992715e-01j, 0.04621642+5.45554054e-02j],\n",
      "       [0.40537533+4.83442989e-01j, 0.04784675+5.70611336e-02j],\n",
      "       [0.40991477+4.92286510e-01j, 0.04397722+5.28143783e-02j],\n",
      "       [0.41516183+5.00534400e-01j, 0.03855163+4.64792606e-02j],\n",
      "       [0.42110428+5.08203881e-01j, 0.03968163+4.78892324e-02j],\n",
      "       [0.42775952+5.15282276e-01j, 0.03961014+4.77146724e-02j],\n",
      "       [0.4350611 +5.21821778e-01j, 0.03957038+4.74615759e-02j],\n",
      "       [0.44305562+5.27776470e-01j, 0.03899318+4.64494354e-02j],\n",
      "       [0.45174927+5.33129528e-01j, 0.03988754+4.70730717e-02j],\n",
      "       [0.46117348+5.37838082e-01j, 0.03958517+4.61657389e-02j],\n",
      "       [0.47123441+5.41962408e-01j, 0.03918523+4.50665753e-02j],\n",
      "       [0.48194518+5.45468950e-01j, 0.04083532+4.62177068e-02j],\n",
      "       [0.49331872+5.48319829e-01j, 0.04060739+4.51347868e-02j],\n",
      "       [0.50533542+5.50502171e-01j, 0.03891534+4.23935784e-02j],\n",
      "       [0.51793929+5.52034435e-01j, 0.05823686+6.20705044e-02j],\n",
      "       [0.53103551+5.52972931e-01j, 0.06143388+6.39717554e-02j],\n",
      "       [0.54467284+5.53237734e-01j, 0.06257998+6.35640356e-02j],\n",
      "       [0.5588045 +5.52837048e-01j, 0.06950158+6.87593742e-02j],\n",
      "       [0.57331897+5.51847328e-01j, 0.06212848+5.98016734e-02j],\n",
      "       [0.58819749+5.50255155e-01j, 0.0639033 +5.97811443e-02j],\n",
      "       [0.60337205+5.48100503e-01j, 0.06650416+6.04120857e-02j],\n",
      "       [0.61883859+5.45356601e-01j, 0.06353076+5.59870058e-02j],\n",
      "       [0.63453189+5.42065855e-01j, 0.06810043+5.81766175e-02j],\n",
      "       [0.65036754+5.38300415e-01j, 0.06437611+5.32832396e-02j],\n",
      "       [0.66628238+5.34116353e-01j, 0.06209194+4.97751710e-02j],\n",
      "       [0.68227609+5.29497030e-01j, 0.06349525+4.92770372e-02j],\n",
      "       [0.69834199+5.24432620e-01j, 0.0735658 +5.52455737e-02j],\n",
      "       [0.7145068 +5.18866596e-01j, 0.06632359+4.81634268e-02j],\n",
      "       [0.73072224+5.12842078e-01j, 0.0656514 +4.60760580e-02j],\n",
      "       [0.74694218+5.06405865e-01j, 0.06133303+4.15820773e-02j],\n",
      "       [0.76318035+4.99520628e-01j, 0.05861428+3.83645118e-02j],\n",
      "       [0.77930466+4.92374863e-01j, 0.06090258+3.84790470e-02j],\n",
      "       [0.79541141+4.84810442e-01j, 0.0564592 +3.44123940e-02j],\n",
      "       [0.81141292+4.76958407e-01j, 0.05881777+3.45738028e-02j],\n",
      "       [0.82725552+4.68909801e-01j, 0.0677527 +3.84039817e-02j],\n",
      "       [0.84304265+4.60481377e-01j, 0.04914646+2.68444664e-02j],\n",
      "       [0.85873663+4.51729320e-01j, 0.05069389+2.66669841e-02j],\n",
      "       [0.87430336+4.42711693e-01j, 0.05139357+2.60236173e-02j]])), DriveChannel(0))), (100, Call(Schedule((0, Acquire(10, AcquireChannel(0), MemorySlot(0))), (0, Play(Waveform(array([0.1+0.j, 0.1+0.j, 0.1+0.j, 0.1+0.j, 0.1+0.j, 0.1+0.j, 0.1+0.j,\n",
      "       0.1+0.j, 0.1+0.j, 0.1+0.j]), name='measure_m0'), MeasureChannel(0), name='measure_m0')), name=\"Default measurement schedule for qubits [0]\"), name='call_Default measurement schedule for qubits [0]')), name=\"block112\")\n"
     ]
    },
    {
     "ename": "KeyboardInterrupt",
     "evalue": "",
     "output_type": "error",
     "traceback": [
      "\u001b[1;31m---------------------------------------------------------------------------\u001b[0m",
      "\u001b[1;31mKeyboardInterrupt\u001b[0m                         Traceback (most recent call last)",
      "\u001b[1;32m~\\AppData\\Local\\Temp/ipykernel_9252/2336266203.py\u001b[0m in \u001b[0;36m<module>\u001b[1;34m\u001b[0m\n\u001b[0;32m      1\u001b[0m \u001b[1;32mimport\u001b[0m \u001b[0mSu22\u001b[0m\u001b[1;33m\u001b[0m\u001b[1;33m\u001b[0m\u001b[0m\n\u001b[0;32m      2\u001b[0m \u001b[0mpulse\u001b[0m \u001b[1;33m=\u001b[0m \u001b[0mSu22\u001b[0m\u001b[1;33m.\u001b[0m\u001b[0mloadData\u001b[0m\u001b[1;33m(\u001b[0m\u001b[1;34m\"Xgate.p\"\u001b[0m\u001b[1;33m)\u001b[0m\u001b[1;33m\u001b[0m\u001b[1;33m\u001b[0m\u001b[0m\n\u001b[1;32m----> 3\u001b[1;33m \u001b[0mdata\u001b[0m\u001b[1;33m=\u001b[0m \u001b[0mSu22\u001b[0m\u001b[1;33m.\u001b[0m\u001b[0mSpec\u001b[0m\u001b[1;33m(\u001b[0m\u001b[0mpulse\u001b[0m\u001b[1;33m,\u001b[0m\u001b[1;36m0.02\u001b[0m\u001b[1;33m,\u001b[0m\u001b[1;36m0.98\u001b[0m\u001b[1;33m,\u001b[0m\u001b[1;36m100\u001b[0m\u001b[1;33m,\u001b[0m\u001b[0moption\u001b[0m\u001b[1;33m=\u001b[0m\u001b[1;36m1\u001b[0m\u001b[1;33m)\u001b[0m\u001b[1;33m\u001b[0m\u001b[1;33m\u001b[0m\u001b[0m\n\u001b[0m\u001b[0;32m      4\u001b[0m \u001b[0mdata\u001b[0m\u001b[1;33m.\u001b[0m\u001b[0mdump\u001b[0m\u001b[1;33m(\u001b[0m\u001b[1;33m)\u001b[0m\u001b[1;33m\u001b[0m\u001b[1;33m\u001b[0m\u001b[0m\n",
      "\u001b[1;32mc:\\Users\\Fanuel\\Doc 2\\AQI2022\\Summer 2022\\Su22.py\u001b[0m in \u001b[0;36mSpec\u001b[1;34m(data, start, end, num_center_freqs, backend, option)\u001b[0m\n\u001b[0;32m    521\u001b[0m     \u001b[0mbackend_sim\u001b[0m \u001b[1;33m=\u001b[0m \u001b[0mPulseSimulator\u001b[0m\u001b[1;33m(\u001b[0m\u001b[0msystem_model\u001b[0m\u001b[1;33m=\u001b[0m\u001b[0marmonk_model\u001b[0m\u001b[1;33m)\u001b[0m\u001b[1;33m\u001b[0m\u001b[1;33m\u001b[0m\u001b[0m\n\u001b[0;32m    522\u001b[0m     \u001b[0mresults\u001b[0m \u001b[1;33m=\u001b[0m \u001b[0mrunfunc\u001b[0m\u001b[1;33m(\u001b[0m\u001b[0mcirc_batch\u001b[0m\u001b[1;33m,\u001b[0m\u001b[0mbackend_sim\u001b[0m\u001b[1;33m)\u001b[0m\u001b[1;31m#Parallel(n_jobs=cpu_count)(delayed(runfunc)(i,backend_sim) for i in circ_batch)\u001b[0m\u001b[1;33m\u001b[0m\u001b[1;33m\u001b[0m\u001b[0m\n\u001b[1;32m--> 523\u001b[1;33m     '''job_manager = IBMQJobManager()\n\u001b[0m\u001b[0;32m    524\u001b[0m     \u001b[0mjob_set\u001b[0m \u001b[1;33m=\u001b[0m \u001b[0mjob_manager\u001b[0m\u001b[1;33m.\u001b[0m\u001b[0mrun\u001b[0m\u001b[1;33m(\u001b[0m\u001b[0mcirc_batch\u001b[0m\u001b[1;33m,\u001b[0m \u001b[0mbackend\u001b[0m\u001b[1;33m=\u001b[0m\u001b[0mbackend\u001b[0m\u001b[1;33m,\u001b[0m \u001b[0mshots\u001b[0m \u001b[1;33m=\u001b[0m \u001b[0mshots\u001b[0m\u001b[1;33m,\u001b[0m \u001b[0mname\u001b[0m\u001b[1;33m=\u001b[0m\u001b[1;33m(\u001b[0m\u001b[1;34m'Spectrosopy'\u001b[0m\u001b[1;33m+\u001b[0m\u001b[0mstr\u001b[0m\u001b[1;33m(\u001b[0m\u001b[0mtime\u001b[0m\u001b[1;33m.\u001b[0m\u001b[0mstrftime\u001b[0m\u001b[1;33m(\u001b[0m\u001b[1;34m\"%H:%M:%S\"\u001b[0m\u001b[1;33m,\u001b[0m \u001b[0mtime\u001b[0m\u001b[1;33m.\u001b[0m\u001b[0mlocaltime\u001b[0m\u001b[1;33m(\u001b[0m\u001b[1;33m)\u001b[0m\u001b[1;33m)\u001b[0m\u001b[1;33m)\u001b[0m\u001b[1;33m)\u001b[0m\u001b[1;33m)\u001b[0m\u001b[1;33m\u001b[0m\u001b[1;33m\u001b[0m\u001b[0m\n\u001b[0;32m    525\u001b[0m     results = job_set.results()'''\n",
      "\u001b[1;32mc:\\Users\\Fanuel\\Doc 2\\AQI2022\\Summer 2022\\Su22.py\u001b[0m in \u001b[0;36mrunfunc\u001b[1;34m(circ, backend_sim)\u001b[0m\n\u001b[0;32m    489\u001b[0m \u001b[1;32mdef\u001b[0m \u001b[0mrunfunc\u001b[0m\u001b[1;33m(\u001b[0m\u001b[0mcirc\u001b[0m\u001b[1;33m,\u001b[0m\u001b[0mbackend_sim\u001b[0m\u001b[1;33m)\u001b[0m\u001b[1;33m:\u001b[0m\u001b[1;33m\u001b[0m\u001b[1;33m\u001b[0m\u001b[0m\n\u001b[0;32m    490\u001b[0m     \u001b[0mrabi_qobj\u001b[0m \u001b[1;33m=\u001b[0m \u001b[0mtranspile\u001b[0m\u001b[1;33m(\u001b[0m\u001b[0mcirc\u001b[0m\u001b[1;33m,\u001b[0m \u001b[0mbackend\u001b[0m\u001b[1;33m=\u001b[0m\u001b[0mbackend_sim\u001b[0m\u001b[1;33m)\u001b[0m\u001b[1;33m\u001b[0m\u001b[1;33m\u001b[0m\u001b[0m\n\u001b[1;32m--> 491\u001b[1;33m     \u001b[0mresults\u001b[0m \u001b[1;33m=\u001b[0m \u001b[0mbackend_sim\u001b[0m\u001b[1;33m.\u001b[0m\u001b[0mrun\u001b[0m\u001b[1;33m(\u001b[0m\u001b[0mrabi_qobj\u001b[0m\u001b[1;33m,\u001b[0m\u001b[0mshots\u001b[0m \u001b[1;33m=\u001b[0m \u001b[0mshots\u001b[0m\u001b[1;33m)\u001b[0m\u001b[1;33m.\u001b[0m\u001b[0mresult\u001b[0m\u001b[1;33m(\u001b[0m\u001b[1;33m)\u001b[0m\u001b[1;33m\u001b[0m\u001b[1;33m\u001b[0m\u001b[0m\n\u001b[0m\u001b[0;32m    492\u001b[0m     \u001b[1;32mreturn\u001b[0m \u001b[0mresults\u001b[0m\u001b[1;33m\u001b[0m\u001b[1;33m\u001b[0m\u001b[0m\n\u001b[0;32m    493\u001b[0m \u001b[1;33m\u001b[0m\u001b[0m\n",
      "\u001b[1;32mc:\\Users\\Fanuel\\anaconda3\\envs\\AQI2022\\lib\\site-packages\\qiskit\\utils\\deprecation.py\u001b[0m in \u001b[0;36mwrapper\u001b[1;34m(*args, **kwargs)\u001b[0m\n\u001b[0;32m     25\u001b[0m             \u001b[1;32mif\u001b[0m \u001b[0mkwargs\u001b[0m\u001b[1;33m:\u001b[0m\u001b[1;33m\u001b[0m\u001b[1;33m\u001b[0m\u001b[0m\n\u001b[0;32m     26\u001b[0m                 \u001b[0m_rename_kwargs\u001b[0m\u001b[1;33m(\u001b[0m\u001b[0mfunc\u001b[0m\u001b[1;33m.\u001b[0m\u001b[0m__name__\u001b[0m\u001b[1;33m,\u001b[0m \u001b[0mkwargs\u001b[0m\u001b[1;33m,\u001b[0m \u001b[0mkwarg_map\u001b[0m\u001b[1;33m)\u001b[0m\u001b[1;33m\u001b[0m\u001b[1;33m\u001b[0m\u001b[0m\n\u001b[1;32m---> 27\u001b[1;33m             \u001b[1;32mreturn\u001b[0m \u001b[0mfunc\u001b[0m\u001b[1;33m(\u001b[0m\u001b[1;33m*\u001b[0m\u001b[0margs\u001b[0m\u001b[1;33m,\u001b[0m \u001b[1;33m**\u001b[0m\u001b[0mkwargs\u001b[0m\u001b[1;33m)\u001b[0m\u001b[1;33m\u001b[0m\u001b[1;33m\u001b[0m\u001b[0m\n\u001b[0m\u001b[0;32m     28\u001b[0m \u001b[1;33m\u001b[0m\u001b[0m\n\u001b[0;32m     29\u001b[0m         \u001b[1;32mreturn\u001b[0m \u001b[0mwrapper\u001b[0m\u001b[1;33m\u001b[0m\u001b[1;33m\u001b[0m\u001b[0m\n",
      "\u001b[1;32mc:\\Users\\Fanuel\\anaconda3\\envs\\AQI2022\\lib\\site-packages\\qiskit\\providers\\aer\\backends\\pulse_simulator.py\u001b[0m in \u001b[0;36mrun\u001b[1;34m(self, schedules, validate, **run_options)\u001b[0m\n\u001b[0;32m    240\u001b[0m         \u001b[1;32melif\u001b[0m \u001b[0misinstance\u001b[0m\u001b[1;33m(\u001b[0m\u001b[0mschedules\u001b[0m\u001b[1;33m,\u001b[0m \u001b[0mQuantumCircuit\u001b[0m\u001b[1;33m)\u001b[0m\u001b[1;33m:\u001b[0m\u001b[1;33m\u001b[0m\u001b[1;33m\u001b[0m\u001b[0m\n\u001b[0;32m    241\u001b[0m             \u001b[0mschedules\u001b[0m \u001b[1;33m=\u001b[0m \u001b[0mschedule\u001b[0m\u001b[1;33m(\u001b[0m\u001b[0mschedules\u001b[0m\u001b[1;33m,\u001b[0m \u001b[0mself\u001b[0m\u001b[1;33m)\u001b[0m\u001b[1;33m\u001b[0m\u001b[1;33m\u001b[0m\u001b[0m\n\u001b[1;32m--> 242\u001b[1;33m         \u001b[1;32mreturn\u001b[0m \u001b[0msuper\u001b[0m\u001b[1;33m(\u001b[0m\u001b[1;33m)\u001b[0m\u001b[1;33m.\u001b[0m\u001b[0mrun\u001b[0m\u001b[1;33m(\u001b[0m\u001b[0mschedules\u001b[0m\u001b[1;33m,\u001b[0m \u001b[0mvalidate\u001b[0m\u001b[1;33m=\u001b[0m\u001b[0mvalidate\u001b[0m\u001b[1;33m,\u001b[0m \u001b[1;33m**\u001b[0m\u001b[0mrun_options\u001b[0m\u001b[1;33m)\u001b[0m\u001b[1;33m\u001b[0m\u001b[1;33m\u001b[0m\u001b[0m\n\u001b[0m\u001b[0;32m    243\u001b[0m \u001b[1;33m\u001b[0m\u001b[0m\n\u001b[0;32m    244\u001b[0m     \u001b[1;33m@\u001b[0m\u001b[0mproperty\u001b[0m\u001b[1;33m\u001b[0m\u001b[1;33m\u001b[0m\u001b[0m\n",
      "\u001b[1;32mc:\\Users\\Fanuel\\anaconda3\\envs\\AQI2022\\lib\\site-packages\\qiskit\\utils\\deprecation.py\u001b[0m in \u001b[0;36mwrapper\u001b[1;34m(*args, **kwargs)\u001b[0m\n\u001b[0;32m     25\u001b[0m             \u001b[1;32mif\u001b[0m \u001b[0mkwargs\u001b[0m\u001b[1;33m:\u001b[0m\u001b[1;33m\u001b[0m\u001b[1;33m\u001b[0m\u001b[0m\n\u001b[0;32m     26\u001b[0m                 \u001b[0m_rename_kwargs\u001b[0m\u001b[1;33m(\u001b[0m\u001b[0mfunc\u001b[0m\u001b[1;33m.\u001b[0m\u001b[0m__name__\u001b[0m\u001b[1;33m,\u001b[0m \u001b[0mkwargs\u001b[0m\u001b[1;33m,\u001b[0m \u001b[0mkwarg_map\u001b[0m\u001b[1;33m)\u001b[0m\u001b[1;33m\u001b[0m\u001b[1;33m\u001b[0m\u001b[0m\n\u001b[1;32m---> 27\u001b[1;33m             \u001b[1;32mreturn\u001b[0m \u001b[0mfunc\u001b[0m\u001b[1;33m(\u001b[0m\u001b[1;33m*\u001b[0m\u001b[0margs\u001b[0m\u001b[1;33m,\u001b[0m \u001b[1;33m**\u001b[0m\u001b[0mkwargs\u001b[0m\u001b[1;33m)\u001b[0m\u001b[1;33m\u001b[0m\u001b[1;33m\u001b[0m\u001b[0m\n\u001b[0m\u001b[0;32m     28\u001b[0m \u001b[1;33m\u001b[0m\u001b[0m\n\u001b[0;32m     29\u001b[0m         \u001b[1;32mreturn\u001b[0m \u001b[0mwrapper\u001b[0m\u001b[1;33m\u001b[0m\u001b[1;33m\u001b[0m\u001b[0m\n",
      "\u001b[1;32mc:\\Users\\Fanuel\\anaconda3\\envs\\AQI2022\\lib\\site-packages\\qiskit\\providers\\aer\\backends\\aerbackend.py\u001b[0m in \u001b[0;36mrun\u001b[1;34m(self, circuits, validate, parameter_binds, **run_options)\u001b[0m\n\u001b[0;32m    185\u001b[0m             \u001b[0mqobj\u001b[0m \u001b[1;33m=\u001b[0m \u001b[0mself\u001b[0m\u001b[1;33m.\u001b[0m\u001b[0m_assemble\u001b[0m\u001b[1;33m(\u001b[0m\u001b[0mcircuits\u001b[0m\u001b[1;33m,\u001b[0m \u001b[1;33m**\u001b[0m\u001b[0mrun_options\u001b[0m\u001b[1;33m)\u001b[0m\u001b[1;33m\u001b[0m\u001b[1;33m\u001b[0m\u001b[0m\n\u001b[0;32m    186\u001b[0m         \u001b[1;32melse\u001b[0m\u001b[1;33m:\u001b[0m\u001b[1;33m\u001b[0m\u001b[1;33m\u001b[0m\u001b[0m\n\u001b[1;32m--> 187\u001b[1;33m             \u001b[0mqobj\u001b[0m \u001b[1;33m=\u001b[0m \u001b[0mself\u001b[0m\u001b[1;33m.\u001b[0m\u001b[0m_assemble\u001b[0m\u001b[1;33m(\u001b[0m\u001b[0mcircuits\u001b[0m\u001b[1;33m,\u001b[0m \u001b[0mparameter_binds\u001b[0m\u001b[1;33m=\u001b[0m\u001b[0mparameter_binds\u001b[0m\u001b[1;33m,\u001b[0m \u001b[1;33m**\u001b[0m\u001b[0mrun_options\u001b[0m\u001b[1;33m)\u001b[0m\u001b[1;33m\u001b[0m\u001b[1;33m\u001b[0m\u001b[0m\n\u001b[0m\u001b[0;32m    188\u001b[0m \u001b[1;33m\u001b[0m\u001b[0m\n\u001b[0;32m    189\u001b[0m         \u001b[1;31m# Optional validation\u001b[0m\u001b[1;33m\u001b[0m\u001b[1;33m\u001b[0m\u001b[0m\n",
      "\u001b[1;32mc:\\Users\\Fanuel\\anaconda3\\envs\\AQI2022\\lib\\site-packages\\qiskit\\providers\\aer\\backends\\aerbackend.py\u001b[0m in \u001b[0;36m_assemble\u001b[1;34m(self, circuits, parameter_binds, **run_options)\u001b[0m\n\u001b[0;32m    365\u001b[0m                     parameterizations=parameterizations)\n\u001b[0;32m    366\u001b[0m             \u001b[1;32melse\u001b[0m\u001b[1;33m:\u001b[0m\u001b[1;33m\u001b[0m\u001b[1;33m\u001b[0m\u001b[0m\n\u001b[1;32m--> 367\u001b[1;33m                 \u001b[0mqobj\u001b[0m \u001b[1;33m=\u001b[0m \u001b[0massemble\u001b[0m\u001b[1;33m(\u001b[0m\u001b[0mcircuits\u001b[0m\u001b[1;33m,\u001b[0m \u001b[0mbackend\u001b[0m\u001b[1;33m=\u001b[0m\u001b[0mself\u001b[0m\u001b[1;33m)\u001b[0m\u001b[1;33m\u001b[0m\u001b[1;33m\u001b[0m\u001b[0m\n\u001b[0m\u001b[0;32m    368\u001b[0m \u001b[1;33m\u001b[0m\u001b[0m\n\u001b[0;32m    369\u001b[0m             \u001b[1;31m# Add optypes to qobj\u001b[0m\u001b[1;33m\u001b[0m\u001b[1;33m\u001b[0m\u001b[0m\n",
      "\u001b[1;32mc:\\Users\\Fanuel\\anaconda3\\envs\\AQI2022\\lib\\site-packages\\qiskit\\compiler\\assembler.py\u001b[0m in \u001b[0;36massemble\u001b[1;34m(experiments, backend, qobj_id, qobj_header, shots, memory, max_credits, seed_simulator, qubit_lo_freq, meas_lo_freq, qubit_lo_range, meas_lo_range, schedule_los, meas_level, meas_return, meas_map, memory_slot_size, rep_time, rep_delay, parameter_binds, parametric_pulses, init_qubits, **run_config)\u001b[0m\n\u001b[0;32m    229\u001b[0m         \u001b[0mend_time\u001b[0m \u001b[1;33m=\u001b[0m \u001b[0mtime\u001b[0m\u001b[1;33m(\u001b[0m\u001b[1;33m)\u001b[0m\u001b[1;33m\u001b[0m\u001b[1;33m\u001b[0m\u001b[0m\n\u001b[0;32m    230\u001b[0m         \u001b[0m_log_assembly_time\u001b[0m\u001b[1;33m(\u001b[0m\u001b[0mstart_time\u001b[0m\u001b[1;33m,\u001b[0m \u001b[0mend_time\u001b[0m\u001b[1;33m)\u001b[0m\u001b[1;33m\u001b[0m\u001b[1;33m\u001b[0m\u001b[0m\n\u001b[1;32m--> 231\u001b[1;33m         return assemble_schedules(\n\u001b[0m\u001b[0;32m    232\u001b[0m             \u001b[0mschedules\u001b[0m\u001b[1;33m=\u001b[0m\u001b[0mexperiments\u001b[0m\u001b[1;33m,\u001b[0m \u001b[0mqobj_id\u001b[0m\u001b[1;33m=\u001b[0m\u001b[0mqobj_id\u001b[0m\u001b[1;33m,\u001b[0m \u001b[0mqobj_header\u001b[0m\u001b[1;33m=\u001b[0m\u001b[0mqobj_header\u001b[0m\u001b[1;33m,\u001b[0m \u001b[0mrun_config\u001b[0m\u001b[1;33m=\u001b[0m\u001b[0mrun_config\u001b[0m\u001b[1;33m\u001b[0m\u001b[1;33m\u001b[0m\u001b[0m\n\u001b[0;32m    233\u001b[0m         )\n",
      "\u001b[1;32mc:\\Users\\Fanuel\\anaconda3\\envs\\AQI2022\\lib\\site-packages\\qiskit\\assembler\\assemble_schedules.py\u001b[0m in \u001b[0;36massemble_schedules\u001b[1;34m(schedules, qobj_id, qobj_header, run_config)\u001b[0m\n\u001b[0;32m     60\u001b[0m         \u001b[0mqobj\u001b[0m\u001b[1;33m.\u001b[0m\u001b[0mPulseQobjExperimentConfig\u001b[0m\u001b[1;33m,\u001b[0m \u001b[1;33m**\u001b[0m\u001b[0mrun_config\u001b[0m\u001b[1;33m.\u001b[0m\u001b[0mto_dict\u001b[0m\u001b[1;33m(\u001b[0m\u001b[1;33m)\u001b[0m\u001b[1;33m\u001b[0m\u001b[1;33m\u001b[0m\u001b[0m\n\u001b[0;32m     61\u001b[0m     )\n\u001b[1;32m---> 62\u001b[1;33m     \u001b[0mexperiments\u001b[0m\u001b[1;33m,\u001b[0m \u001b[0mexperiment_config\u001b[0m \u001b[1;33m=\u001b[0m \u001b[0m_assemble_experiments\u001b[0m\u001b[1;33m(\u001b[0m\u001b[0mschedules\u001b[0m\u001b[1;33m,\u001b[0m \u001b[0mlo_converter\u001b[0m\u001b[1;33m,\u001b[0m \u001b[0mrun_config\u001b[0m\u001b[1;33m)\u001b[0m\u001b[1;33m\u001b[0m\u001b[1;33m\u001b[0m\u001b[0m\n\u001b[0m\u001b[0;32m     63\u001b[0m     \u001b[0mqobj_config\u001b[0m \u001b[1;33m=\u001b[0m \u001b[0m_assemble_config\u001b[0m\u001b[1;33m(\u001b[0m\u001b[0mlo_converter\u001b[0m\u001b[1;33m,\u001b[0m \u001b[0mexperiment_config\u001b[0m\u001b[1;33m,\u001b[0m \u001b[0mrun_config\u001b[0m\u001b[1;33m)\u001b[0m\u001b[1;33m\u001b[0m\u001b[1;33m\u001b[0m\u001b[0m\n\u001b[0;32m     64\u001b[0m \u001b[1;33m\u001b[0m\u001b[0m\n",
      "\u001b[1;32mc:\\Users\\Fanuel\\anaconda3\\envs\\AQI2022\\lib\\site-packages\\qiskit\\assembler\\assemble_schedules.py\u001b[0m in \u001b[0;36m_assemble_experiments\u001b[1;34m(schedules, lo_converter, run_config)\u001b[0m\n\u001b[0;32m    102\u001b[0m \u001b[1;33m\u001b[0m\u001b[0m\n\u001b[0;32m    103\u001b[0m     \u001b[0mformatted_schedules\u001b[0m \u001b[1;33m=\u001b[0m \u001b[1;33m[\u001b[0m\u001b[0mtransforms\u001b[0m\u001b[1;33m.\u001b[0m\u001b[0mtarget_qobj_transform\u001b[0m\u001b[1;33m(\u001b[0m\u001b[0msched\u001b[0m\u001b[1;33m)\u001b[0m \u001b[1;32mfor\u001b[0m \u001b[0msched\u001b[0m \u001b[1;32min\u001b[0m \u001b[0mschedules\u001b[0m\u001b[1;33m]\u001b[0m\u001b[1;33m\u001b[0m\u001b[1;33m\u001b[0m\u001b[0m\n\u001b[1;32m--> 104\u001b[1;33m     \u001b[0mcompressed_schedules\u001b[0m \u001b[1;33m=\u001b[0m \u001b[0mtransforms\u001b[0m\u001b[1;33m.\u001b[0m\u001b[0mcompress_pulses\u001b[0m\u001b[1;33m(\u001b[0m\u001b[0mformatted_schedules\u001b[0m\u001b[1;33m)\u001b[0m\u001b[1;33m\u001b[0m\u001b[1;33m\u001b[0m\u001b[0m\n\u001b[0m\u001b[0;32m    105\u001b[0m \u001b[1;33m\u001b[0m\u001b[0m\n\u001b[0;32m    106\u001b[0m     \u001b[0muser_pulselib\u001b[0m \u001b[1;33m=\u001b[0m \u001b[1;33m{\u001b[0m\u001b[1;33m}\u001b[0m\u001b[1;33m\u001b[0m\u001b[1;33m\u001b[0m\u001b[0m\n",
      "\u001b[1;32mc:\\Users\\Fanuel\\anaconda3\\envs\\AQI2022\\lib\\site-packages\\qiskit\\pulse\\transforms\\canonicalization.py\u001b[0m in \u001b[0;36mcompress_pulses\u001b[1;34m(schedules)\u001b[0m\n\u001b[0;32m     94\u001b[0m         \u001b[1;32mfor\u001b[0m \u001b[0mtime\u001b[0m\u001b[1;33m,\u001b[0m \u001b[0minst\u001b[0m \u001b[1;32min\u001b[0m \u001b[0mschedule\u001b[0m\u001b[1;33m.\u001b[0m\u001b[0minstructions\u001b[0m\u001b[1;33m:\u001b[0m\u001b[1;33m\u001b[0m\u001b[1;33m\u001b[0m\u001b[0m\n\u001b[0;32m     95\u001b[0m             \u001b[1;32mif\u001b[0m \u001b[0misinstance\u001b[0m\u001b[1;33m(\u001b[0m\u001b[0minst\u001b[0m\u001b[1;33m,\u001b[0m \u001b[0minstructions\u001b[0m\u001b[1;33m.\u001b[0m\u001b[0mPlay\u001b[0m\u001b[1;33m)\u001b[0m\u001b[1;33m:\u001b[0m\u001b[1;33m\u001b[0m\u001b[1;33m\u001b[0m\u001b[0m\n\u001b[1;32m---> 96\u001b[1;33m                 \u001b[1;32mif\u001b[0m \u001b[0minst\u001b[0m\u001b[1;33m.\u001b[0m\u001b[0mpulse\u001b[0m \u001b[1;32min\u001b[0m \u001b[0mexisting_pulses\u001b[0m\u001b[1;33m:\u001b[0m\u001b[1;33m\u001b[0m\u001b[1;33m\u001b[0m\u001b[0m\n\u001b[0m\u001b[0;32m     97\u001b[0m                     \u001b[0midx\u001b[0m \u001b[1;33m=\u001b[0m \u001b[0mexisting_pulses\u001b[0m\u001b[1;33m.\u001b[0m\u001b[0mindex\u001b[0m\u001b[1;33m(\u001b[0m\u001b[0minst\u001b[0m\u001b[1;33m.\u001b[0m\u001b[0mpulse\u001b[0m\u001b[1;33m)\u001b[0m\u001b[1;33m\u001b[0m\u001b[1;33m\u001b[0m\u001b[0m\n\u001b[0;32m     98\u001b[0m                     \u001b[0midentical_pulse\u001b[0m \u001b[1;33m=\u001b[0m \u001b[0mexisting_pulses\u001b[0m\u001b[1;33m[\u001b[0m\u001b[0midx\u001b[0m\u001b[1;33m]\u001b[0m\u001b[1;33m\u001b[0m\u001b[1;33m\u001b[0m\u001b[0m\n",
      "\u001b[1;32mc:\\Users\\Fanuel\\anaconda3\\envs\\AQI2022\\lib\\site-packages\\qiskit\\pulse\\library\\waveform.py\u001b[0m in \u001b[0;36m__eq__\u001b[1;34m(self, other)\u001b[0m\n\u001b[0;32m    118\u001b[0m             \u001b[0msuper\u001b[0m\u001b[1;33m(\u001b[0m\u001b[1;33m)\u001b[0m\u001b[1;33m.\u001b[0m\u001b[0m__eq__\u001b[0m\u001b[1;33m(\u001b[0m\u001b[0mother\u001b[0m\u001b[1;33m)\u001b[0m\u001b[1;33m\u001b[0m\u001b[1;33m\u001b[0m\u001b[0m\n\u001b[0;32m    119\u001b[0m             \u001b[1;32mand\u001b[0m \u001b[0mself\u001b[0m\u001b[1;33m.\u001b[0m\u001b[0msamples\u001b[0m\u001b[1;33m.\u001b[0m\u001b[0mshape\u001b[0m \u001b[1;33m==\u001b[0m \u001b[0mother\u001b[0m\u001b[1;33m.\u001b[0m\u001b[0msamples\u001b[0m\u001b[1;33m.\u001b[0m\u001b[0mshape\u001b[0m\u001b[1;33m\u001b[0m\u001b[1;33m\u001b[0m\u001b[0m\n\u001b[1;32m--> 120\u001b[1;33m             \u001b[1;32mand\u001b[0m \u001b[0mnp\u001b[0m\u001b[1;33m.\u001b[0m\u001b[0mallclose\u001b[0m\u001b[1;33m(\u001b[0m\u001b[0mself\u001b[0m\u001b[1;33m.\u001b[0m\u001b[0msamples\u001b[0m\u001b[1;33m,\u001b[0m \u001b[0mother\u001b[0m\u001b[1;33m.\u001b[0m\u001b[0msamples\u001b[0m\u001b[1;33m,\u001b[0m \u001b[0mrtol\u001b[0m\u001b[1;33m=\u001b[0m\u001b[1;36m0\u001b[0m\u001b[1;33m,\u001b[0m \u001b[0matol\u001b[0m\u001b[1;33m=\u001b[0m\u001b[0mself\u001b[0m\u001b[1;33m.\u001b[0m\u001b[0mepsilon\u001b[0m\u001b[1;33m)\u001b[0m\u001b[1;33m\u001b[0m\u001b[1;33m\u001b[0m\u001b[0m\n\u001b[0m\u001b[0;32m    121\u001b[0m         )\n\u001b[0;32m    122\u001b[0m \u001b[1;33m\u001b[0m\u001b[0m\n",
      "\u001b[1;32m<__array_function__ internals>\u001b[0m in \u001b[0;36mallclose\u001b[1;34m(*args, **kwargs)\u001b[0m\n",
      "\u001b[1;32mc:\\Users\\Fanuel\\anaconda3\\envs\\AQI2022\\lib\\site-packages\\numpy\\core\\numeric.py\u001b[0m in \u001b[0;36mallclose\u001b[1;34m(a, b, rtol, atol, equal_nan)\u001b[0m\n\u001b[0;32m   2247\u001b[0m \u001b[1;33m\u001b[0m\u001b[0m\n\u001b[0;32m   2248\u001b[0m     \"\"\"\n\u001b[1;32m-> 2249\u001b[1;33m     \u001b[0mres\u001b[0m \u001b[1;33m=\u001b[0m \u001b[0mall\u001b[0m\u001b[1;33m(\u001b[0m\u001b[0misclose\u001b[0m\u001b[1;33m(\u001b[0m\u001b[0ma\u001b[0m\u001b[1;33m,\u001b[0m \u001b[0mb\u001b[0m\u001b[1;33m,\u001b[0m \u001b[0mrtol\u001b[0m\u001b[1;33m=\u001b[0m\u001b[0mrtol\u001b[0m\u001b[1;33m,\u001b[0m \u001b[0matol\u001b[0m\u001b[1;33m=\u001b[0m\u001b[0matol\u001b[0m\u001b[1;33m,\u001b[0m \u001b[0mequal_nan\u001b[0m\u001b[1;33m=\u001b[0m\u001b[0mequal_nan\u001b[0m\u001b[1;33m)\u001b[0m\u001b[1;33m)\u001b[0m\u001b[1;33m\u001b[0m\u001b[1;33m\u001b[0m\u001b[0m\n\u001b[0m\u001b[0;32m   2250\u001b[0m     \u001b[1;32mreturn\u001b[0m \u001b[0mbool\u001b[0m\u001b[1;33m(\u001b[0m\u001b[0mres\u001b[0m\u001b[1;33m)\u001b[0m\u001b[1;33m\u001b[0m\u001b[1;33m\u001b[0m\u001b[0m\n\u001b[0;32m   2251\u001b[0m \u001b[1;33m\u001b[0m\u001b[0m\n",
      "\u001b[1;32m<__array_function__ internals>\u001b[0m in \u001b[0;36misclose\u001b[1;34m(*args, **kwargs)\u001b[0m\n",
      "\u001b[1;32mc:\\Users\\Fanuel\\anaconda3\\envs\\AQI2022\\lib\\site-packages\\numpy\\core\\numeric.py\u001b[0m in \u001b[0;36misclose\u001b[1;34m(a, b, rtol, atol, equal_nan)\u001b[0m\n\u001b[0;32m   2350\u001b[0m     \u001b[1;31m#       Although, the default tolerances are unlikely to be useful\u001b[0m\u001b[1;33m\u001b[0m\u001b[1;33m\u001b[0m\u001b[0m\n\u001b[0;32m   2351\u001b[0m     \u001b[1;32mif\u001b[0m \u001b[0my\u001b[0m\u001b[1;33m.\u001b[0m\u001b[0mdtype\u001b[0m\u001b[1;33m.\u001b[0m\u001b[0mkind\u001b[0m \u001b[1;33m!=\u001b[0m \u001b[1;34m\"m\"\u001b[0m\u001b[1;33m:\u001b[0m\u001b[1;33m\u001b[0m\u001b[1;33m\u001b[0m\u001b[0m\n\u001b[1;32m-> 2352\u001b[1;33m         \u001b[0mdt\u001b[0m \u001b[1;33m=\u001b[0m \u001b[0mmultiarray\u001b[0m\u001b[1;33m.\u001b[0m\u001b[0mresult_type\u001b[0m\u001b[1;33m(\u001b[0m\u001b[0my\u001b[0m\u001b[1;33m,\u001b[0m \u001b[1;36m1.\u001b[0m\u001b[1;33m)\u001b[0m\u001b[1;33m\u001b[0m\u001b[1;33m\u001b[0m\u001b[0m\n\u001b[0m\u001b[0;32m   2353\u001b[0m         \u001b[0my\u001b[0m \u001b[1;33m=\u001b[0m \u001b[0masanyarray\u001b[0m\u001b[1;33m(\u001b[0m\u001b[0my\u001b[0m\u001b[1;33m,\u001b[0m \u001b[0mdtype\u001b[0m\u001b[1;33m=\u001b[0m\u001b[0mdt\u001b[0m\u001b[1;33m)\u001b[0m\u001b[1;33m\u001b[0m\u001b[1;33m\u001b[0m\u001b[0m\n\u001b[0;32m   2354\u001b[0m \u001b[1;33m\u001b[0m\u001b[0m\n",
      "\u001b[1;31mKeyboardInterrupt\u001b[0m: "
     ]
    }
   ],
   "source": [
    "import Su22\n",
    "pulse = Su22.loadData(\"Xgate.p\")\n",
    "data= Su22.Spec(pulse,0.02,0.98,100,option=1)\n",
    "data.dump()"
   ]
  },
  {
   "cell_type": "code",
   "execution_count": 50,
   "metadata": {},
   "outputs": [
    {
     "data": {
      "image/png": "[encoded data removed]",
      "text/plain": [
       "<Figure size 936x237.6 with 1 Axes>"
      ]
     },
     "execution_count": 50,
     "metadata": {},
     "output_type": "execute_result"
    }
   ],
   "source": [
    "from qiskit.providers.fake_provider import FakeOpenPulse2Q,ConfigurableFakeBackend\n",
    "backend = ConfigurableFakeBackend(\"memer\",1)\n",
    "#backend = FakeOpenPulse2Q()\n",
    "test2 =np.random.randint(20,size=200)\n",
    "#print(signal.input)\n",
    "#print(signal.norm)\n",
    "signal.Customize_pulse(1).draw()"
   ]
  },
  {
   "cell_type": "code",
   "execution_count": 93,
   "metadata": {},
   "outputs": [
    {
     "name": "stdout",
     "output_type": "stream",
     "text": [
      "16\n"
     ]
    }
   ],
   "source": [
    "print(Su22.get_closest_multiple_of_16(8))"
   ]
  },
  {
   "cell_type": "code",
   "execution_count": 88,
   "metadata": {},
   "outputs": [
    {
     "name": "stdout",
     "output_type": "stream",
     "text": [
      "Job Status: job is queued (9)     "
     ]
    },
    {
     "ename": "KeyboardInterrupt",
     "evalue": "",
     "output_type": "error",
     "traceback": [
      "\u001b[1;31m---------------------------------------------------------------------------\u001b[0m",
      "\u001b[1;31mKeyboardInterrupt\u001b[0m                         Traceback (most recent call last)",
      "\u001b[1;32m~\\AppData\\Local\\Temp/ipykernel_1664/829726620.py\u001b[0m in \u001b[0;36m<module>\u001b[1;34m\u001b[0m\n\u001b[1;32m----> 1\u001b[1;33m \u001b[0mdrive_amps\u001b[0m\u001b[1;33m,\u001b[0m\u001b[0mrabi_values\u001b[0m \u001b[1;33m=\u001b[0m \u001b[0msignal\u001b[0m\u001b[1;33m.\u001b[0m\u001b[0mrabi_test_2\u001b[0m\u001b[1;33m(\u001b[0m\u001b[1;36m20\u001b[0m\u001b[1;33m)\u001b[0m\u001b[1;33m\u001b[0m\u001b[1;33m\u001b[0m\u001b[0m\n\u001b[0m",
      "\u001b[1;32m~\\AppData\\Local\\Temp/ipykernel_1664/4027581286.py\u001b[0m in \u001b[0;36mrabi_test_2\u001b[1;34m(self, num_rabi_points)\u001b[0m\n\u001b[0;32m     63\u001b[0m                   \u001b[0mmeas_return\u001b[0m\u001b[1;33m=\u001b[0m\u001b[1;34m'avg'\u001b[0m\u001b[1;33m,\u001b[0m\u001b[1;33m\u001b[0m\u001b[1;33m\u001b[0m\u001b[0m\n\u001b[0;32m     64\u001b[0m                   shots=num_shots_per_point)\n\u001b[1;32m---> 65\u001b[1;33m         \u001b[0mjob_monitor\u001b[0m\u001b[1;33m(\u001b[0m\u001b[0mjob\u001b[0m\u001b[1;33m)\u001b[0m\u001b[1;33m\u001b[0m\u001b[1;33m\u001b[0m\u001b[0m\n\u001b[0m\u001b[0;32m     66\u001b[0m \u001b[1;33m\u001b[0m\u001b[0m\n\u001b[0;32m     67\u001b[0m         \u001b[0mrabi_results\u001b[0m \u001b[1;33m=\u001b[0m \u001b[0mjob\u001b[0m\u001b[1;33m.\u001b[0m\u001b[0mresult\u001b[0m\u001b[1;33m(\u001b[0m\u001b[0mtimeout\u001b[0m\u001b[1;33m=\u001b[0m\u001b[1;36m120\u001b[0m\u001b[1;33m)\u001b[0m\u001b[1;33m\u001b[0m\u001b[1;33m\u001b[0m\u001b[0m\n",
      "\u001b[1;32m~\\anaconda3\\envs\\AQI2022\\lib\\site-packages\\qiskit\\tools\\monitor\\job_monitor.py\u001b[0m in \u001b[0;36mjob_monitor\u001b[1;34m(job, interval, quiet, output, line_discipline)\u001b[0m\n\u001b[0;32m     87\u001b[0m         \u001b[0m_interval_set\u001b[0m \u001b[1;33m=\u001b[0m \u001b[1;32mTrue\u001b[0m\u001b[1;33m\u001b[0m\u001b[1;33m\u001b[0m\u001b[0m\n\u001b[0;32m     88\u001b[0m \u001b[1;33m\u001b[0m\u001b[0m\n\u001b[1;32m---> 89\u001b[1;33m     _text_checker(\n\u001b[0m\u001b[0;32m     90\u001b[0m         \u001b[0mjob\u001b[0m\u001b[1;33m,\u001b[0m \u001b[0minterval\u001b[0m\u001b[1;33m,\u001b[0m \u001b[0m_interval_set\u001b[0m\u001b[1;33m,\u001b[0m \u001b[0mquiet\u001b[0m\u001b[1;33m=\u001b[0m\u001b[0mquiet\u001b[0m\u001b[1;33m,\u001b[0m \u001b[0moutput\u001b[0m\u001b[1;33m=\u001b[0m\u001b[0moutput\u001b[0m\u001b[1;33m,\u001b[0m \u001b[0mline_discipline\u001b[0m\u001b[1;33m=\u001b[0m\u001b[0mline_discipline\u001b[0m\u001b[1;33m\u001b[0m\u001b[1;33m\u001b[0m\u001b[0m\n\u001b[0;32m     91\u001b[0m     )\n",
      "\u001b[1;32m~\\anaconda3\\envs\\AQI2022\\lib\\site-packages\\qiskit\\tools\\monitor\\job_monitor.py\u001b[0m in \u001b[0;36m_text_checker\u001b[1;34m(job, interval, _interval_set, quiet, output, line_discipline)\u001b[0m\n\u001b[0;32m     42\u001b[0m         \u001b[0mprint\u001b[0m\u001b[1;33m(\u001b[0m\u001b[1;34m\"{}{}: {}\"\u001b[0m\u001b[1;33m.\u001b[0m\u001b[0mformat\u001b[0m\u001b[1;33m(\u001b[0m\u001b[0mline_discipline\u001b[0m\u001b[1;33m,\u001b[0m \u001b[1;34m\"Job Status\"\u001b[0m\u001b[1;33m,\u001b[0m \u001b[0mmsg\u001b[0m\u001b[1;33m)\u001b[0m\u001b[1;33m,\u001b[0m \u001b[0mend\u001b[0m\u001b[1;33m=\u001b[0m\u001b[1;34m\"\"\u001b[0m\u001b[1;33m,\u001b[0m \u001b[0mfile\u001b[0m\u001b[1;33m=\u001b[0m\u001b[0moutput\u001b[0m\u001b[1;33m)\u001b[0m\u001b[1;33m\u001b[0m\u001b[1;33m\u001b[0m\u001b[0m\n\u001b[0;32m     43\u001b[0m     \u001b[1;32mwhile\u001b[0m \u001b[0mstatus\u001b[0m\u001b[1;33m.\u001b[0m\u001b[0mname\u001b[0m \u001b[1;32mnot\u001b[0m \u001b[1;32min\u001b[0m \u001b[1;33m[\u001b[0m\u001b[1;34m\"DONE\"\u001b[0m\u001b[1;33m,\u001b[0m \u001b[1;34m\"CANCELLED\"\u001b[0m\u001b[1;33m,\u001b[0m \u001b[1;34m\"ERROR\"\u001b[0m\u001b[1;33m]\u001b[0m\u001b[1;33m:\u001b[0m\u001b[1;33m\u001b[0m\u001b[1;33m\u001b[0m\u001b[0m\n\u001b[1;32m---> 44\u001b[1;33m         \u001b[0mtime\u001b[0m\u001b[1;33m.\u001b[0m\u001b[0msleep\u001b[0m\u001b[1;33m(\u001b[0m\u001b[0minterval\u001b[0m\u001b[1;33m)\u001b[0m\u001b[1;33m\u001b[0m\u001b[1;33m\u001b[0m\u001b[0m\n\u001b[0m\u001b[0;32m     45\u001b[0m         \u001b[0mstatus\u001b[0m \u001b[1;33m=\u001b[0m \u001b[0mjob\u001b[0m\u001b[1;33m.\u001b[0m\u001b[0mstatus\u001b[0m\u001b[1;33m(\u001b[0m\u001b[1;33m)\u001b[0m\u001b[1;33m\u001b[0m\u001b[1;33m\u001b[0m\u001b[0m\n\u001b[0;32m     46\u001b[0m         \u001b[0mmsg\u001b[0m \u001b[1;33m=\u001b[0m \u001b[0mstatus\u001b[0m\u001b[1;33m.\u001b[0m\u001b[0mvalue\u001b[0m\u001b[1;33m\u001b[0m\u001b[1;33m\u001b[0m\u001b[0m\n",
      "\u001b[1;31mKeyboardInterrupt\u001b[0m: "
     ]
    }
   ],
   "source": [
    "drive_amps,rabi_values = signal.rabi_test_2(20)"
   ]
  },
  {
   "cell_type": "code",
   "execution_count": 38,
   "metadata": {},
   "outputs": [
    {
     "name": "stdout",
     "output_type": "stream",
     "text": [
      "[-4.04909147e-02  1.91645484e-02  3.37642693e+00 -3.03222218e-03]\n"
     ]
    },
    {
     "data": {
      "image/png": "[encoded data removed]",
      "text/plain": [
       "<Figure size 432x288 with 1 Axes>"
      ]
     },
     "metadata": {
      "needs_background": "light"
     },
     "output_type": "display_data"
    }
   ],
   "source": [
    "fit_params, y_fit = fit_function(drive_amps,\n",
    "                                 rabi_values, \n",
    "                                 lambda x, A, B, drive_period, phi: (A*np.cos(2*np.pi*x/drive_period - phi) + B),\n",
    "                                 [-0.02, 0, 2, 0])\n",
    "\n",
    "plt.scatter(drive_amps, rabi_values, color='black')\n",
    "plt.plot(drive_amps, y_fit, color='red')\n",
    "print(fit_params)\n",
    "drive_period = fit_params[2] # get period of rabi oscillation\n",
    "\n",
    "plt.axvline(0, color='red', linestyle='--')\n",
    "plt.axvline(drive_period/2, color='red', linestyle='--')\n",
    "plt.annotate(\"\", xy=(0, 0), xytext=(drive_period/2,0), arrowprops=dict(arrowstyle=\"<->\", color='red'))\n",
    "plt.annotate(\"$\\pi$\", xy=(drive_period/2-0.03, 0.1), color='red')\n",
    "\n",
    "plt.xlabel(\"Drive amp [a.u.]\", fontsize=15)\n",
    "plt.ylabel(\"Measured signal [a.u.]\", fontsize=15)\n",
    "plt.show()"
   ]
  },
  {
   "cell_type": "code",
   "execution_count": 20,
   "metadata": {},
   "outputs": [],
   "source": [
    "from qiskit.compiler import assemble\n",
    "drive_amps_2,rabi_values_2 = signal.rabi_test_Sim(50)"
   ]
  },
  {
   "cell_type": "code",
   "execution_count": 21,
   "metadata": {},
   "outputs": [
    {
     "name": "stdout",
     "output_type": "stream",
     "text": [
      "[-7.31240863e-17  3.17874723e-17  2.00000001e+00  2.78077319e-10]\n"
     ]
    },
    {
     "data": {
      "image/png": "[encoded data removed]",
      "text/plain": [
       "<Figure size 432x288 with 1 Axes>"
      ]
     },
     "metadata": {
      "needs_background": "light"
     },
     "output_type": "display_data"
    }
   ],
   "source": [
    "fit_params_2, y_fit_2 = fit_function(drive_amps_2,\n",
    "                                 rabi_values_2, \n",
    "                                 lambda x, A, B, drive_period, phi: (A*np.cos(2*np.pi*x/drive_period - phi) + B),\n",
    "                                 [-8, 1, 2, 0])\n",
    "\n",
    "plt.scatter(drive_amps_2, rabi_values_2, color='black')\n",
    "plt.plot(drive_amps_2, y_fit_2, color='red')\n",
    "print(fit_params_2)\n",
    "drive_period_2 = fit_params_2[2] # get period of rabi oscillation\n",
    "\n",
    "plt.axvline(0, color='red', linestyle='--')\n",
    "plt.axvline(drive_period_2/2, color='red', linestyle='--')\n",
    "plt.annotate(\"\", xy=(0, 0), xytext=(drive_period_2/2,0), arrowprops=dict(arrowstyle=\"<->\", color='red'))\n",
    "plt.annotate(\"$\\pi$\", xy=(drive_period_2/2-0.03, 0.1), color='red')\n",
    "\n",
    "plt.xlabel(\"Drive amp [a.u.]\", fontsize=15)\n",
    "plt.ylabel(\"Measured signal [a.u.]\", fontsize=15)\n",
    "plt.show()"
   ]
  },
  {
   "cell_type": "code",
   "execution_count": 15,
   "metadata": {},
   "outputs": [],
   "source": [
    "from scipy.optimize import curve_fit\n",
    "\n",
    "def fit_function(x_values, y_values, function, init_params):\n",
    "    fitparams, conv = curve_fit(function, x_values, y_values, init_params)\n",
    "    y_fit = function(x_values, *fitparams)\n",
    "    return fitparams, y_fit"
   ]
  },
  {
   "cell_type": "code",
   "execution_count": null,
   "metadata": {},
   "outputs": [],
   "source": [
    "tester = signal.rabi_test_2(10)\n",
    "with pulse.build(backend=backend) as pulse_2:\n",
    "    #pulse.play(pulse.Gaussian(duration=1000,amp=1,sigma=1000, name='Rabi Pulse'), pulse.drive_channel(0))\n",
    "    [pulse.call(tester[i],pulse.drive_channel(0)) for i in range(2)]\n",
    "pulse_2.draw()"
   ]
  },
  {
   "cell_type": "code",
   "execution_count": 22,
   "metadata": {},
   "outputs": [
    {
     "name": "stdout",
     "output_type": "stream",
     "text": [
      "DbAnalysisResultV1\n",
      "- name: state\n",
      "- value: DensityMatrix([[ 0.96875 +0.j        , -0.015625-0.00878906j],\n",
      "               [-0.015625+0.00878906j,  0.03125 +0.j        ]],\n",
      "              dims=(2,))\n",
      "- extra: <5 items>\n",
      "- device_components: ['Q0']\n",
      "- verified: False\n",
      "DbAnalysisResultV1\n",
      "- name: state_fidelity\n",
      "- value: 0.9687500000000001\n",
      "- device_components: ['Q0']\n",
      "- verified: False\n",
      "DbAnalysisResultV1\n",
      "- name: positive\n",
      "- value: True\n",
      "- device_components: ['Q0']\n",
      "- verified: False\n"
     ]
    }
   ],
   "source": [
    "import qiskit\n",
    "from qiskit_experiments.framework import ParallelExperiment\n",
    "from qiskit_experiments.library import StateTomography\n",
    "\n",
    "# For simulation\n",
    "from qiskit.providers.aer import AerSimulator\n",
    "from qiskit.test.mock import FakeArmonk\n",
    "\n",
    "# Noisy simulator backend\n",
    "backend_2 = AerSimulator.from_backend(FakeArmonk())\n",
    "nq = 1\n",
    "qc_ghz = qiskit.QuantumCircuit(nq)\n",
    "signal.add_as_gate(circ,[0])\n",
    "\n",
    "\n",
    "# QST Experiment\n",
    "qstexp1 = StateTomography(qc_ghz)\n",
    "qstdata1 = qstexp1.run(backend_2, seed_simulation=100).block_for_results()\n",
    "\n",
    "# Print results\n",
    "for result in qstdata1.analysis_results():\n",
    "    print(result)\n"
   ]
  },
  {
   "cell_type": "code",
   "execution_count": 23,
   "metadata": {},
   "outputs": [
    {
     "name": "stdout",
     "output_type": "stream",
     "text": [
      "DbAnalysisResultV1\n",
      "- name: state\n",
      "- value: DensityMatrix([[ 0.0234375 +0.j      , -0.00585938-0.015625j],\n",
      "               [-0.00585938+0.015625j,  0.9765625 +0.j      ]],\n",
      "              dims=(2,))\n",
      "- extra: <5 items>\n",
      "- device_components: ['Q0']\n",
      "- verified: False\n",
      "DbAnalysisResultV1\n",
      "- name: state_fidelity\n",
      "- value: 0.9765625000000002\n",
      "- device_components: ['Q0']\n",
      "- verified: False\n",
      "DbAnalysisResultV1\n",
      "- name: positive\n",
      "- value: True\n",
      "- device_components: ['Q0']\n",
      "- verified: False\n"
     ]
    }
   ],
   "source": [
    "nq = 1\n",
    "qc_ghz = qiskit.QuantumCircuit(nq)\n",
    "qc_ghz.x(0)\n",
    "\n",
    "\n",
    "# QST Experiment\n",
    "qstexp1 = StateTomography(qc_ghz)\n",
    "qstdata1 = qstexp1.run(backend_2, seed_simulation=100).block_for_results()\n",
    "\n",
    "# Print results\n",
    "for result in qstdata1.analysis_results():\n",
    "    print(result)"
   ]
  },
  {
   "cell_type": "code",
   "execution_count": null,
   "metadata": {},
   "outputs": [],
   "source": []
  }
 ],
 "metadata": {
  "kernelspec": {
   "display_name": "Python 3.9.7 ('AQI2022')",
   "language": "python",
   "name": "python3"
  },
  "language_info": {
   "codemirror_mode": {
    "name": "ipython",
    "version": 3
   },
   "file_extension": ".py",
   "mimetype": "text/x-python",
   "name": "python",
   "nbconvert_exporter": "python",
   "pygments_lexer": "ipython3",
   "version": "3.9.7"
  },
  "vscode": {
   "interpreter": {
    "hash": "bbd15055fa62332a5f498992d95aaf26c5833fa610ef3d107a25ac1ac238f300"
   }
  }
 },
 "nbformat": 4,
 "nbformat_minor": 4
}
