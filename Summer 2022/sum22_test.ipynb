{
 "cells": [
  {
   "cell_type": "code",
   "execution_count": 3,
   "metadata": {},
   "outputs": [
    {
     "data": {
      "text/plain": [
       "'\\n# Object for representing physical models\\nfrom qiskit.providers.aer.pulse import PulseSystemModel\\ntoken = \\'b6464d13b284902ed1d1a48d2aed6bd0474c7be45011741b0fb879614419659cb722e74a046af3d5caae0398aec9bdac8843068ecbee91aff466cf3e30f3bef5\\'\\ntry:\\n    IBMQ.load_account()\\nexcept:\\n    qk.IBMQ.save_account(token=token)\\n    qk.IBMQ.enable_account(token)\\nprovider = IBMQ.get_provider(hub=\"ibm-q\", group=\"open\", project=\"main\")\\nbackend = provider.get_backend(\"ibmq_armonk\")\\n'"
      ]
     },
     "execution_count": 3,
     "metadata": {},
     "output_type": "execute_result"
    }
   ],
   "source": [
    "import qiskit as qk\n",
    "import numpy as np\n",
    "from qiskit.tools.visualization import plot_histogram\n",
    "from qiskit import IBMQ\n",
    "from qiskit.tools.monitor import job_monitor\n",
    "from qiskit.providers.aer.noise import NoiseModel\n",
    "import matplotlib\n",
    "import matplotlib.pyplot as plt\n",
    "from qiskit.visualization import plot_bloch_multivector\n",
    "from qiskit.tools.monitor import job_monitor\n",
    "from qiskit import pulse              \n",
    "from qiskit.circuit import Parameter \n",
    "from IPython.display import display\n",
    "from qiskit import pulse\n",
    "from qiskit import QuantumCircuit\n",
    "from qiskit.circuit import Gate\n",
    "import warnings\n",
    "warnings.filterwarnings('ignore')\n",
    "from qiskit.tools.jupyter import *\n",
    "# The pulse simulator\n",
    "from qiskit.providers.aer import PulseSimulator\n",
    "import Su22\n",
    "import qiskit\n",
    "from qiskit.providers.fake_provider import FakeOpenPulse2Q,ConfigurableFakeBackend\n",
    "from qiskit import transpile\n",
    "backend = FakeOpenPulse2Q()\n",
    "'''\n",
    "# Object for representing physical models\n",
    "from qiskit.providers.aer.pulse import PulseSystemModel\n",
    "token = 'b6464d13b284902ed1d1a48d2aed6bd0474c7be45011741b0fb879614419659cb722e74a046af3d5caae0398aec9bdac8843068ecbee91aff466cf3e30f3bef5'\n",
    "try:\n",
    "    IBMQ.load_account()\n",
    "except:\n",
    "    qk.IBMQ.save_account(token=token)\n",
    "    qk.IBMQ.enable_account(token)\n",
    "provider = IBMQ.get_provider(hub=\"ibm-q\", group=\"open\", project=\"main\")\n",
    "backend = provider.get_backend(\"ibmq_armonk\")\n",
    "'''"
   ]
  },
  {
   "cell_type": "code",
   "execution_count": 4,
   "metadata": {},
   "outputs": [
    {
     "ename": "RuntimeError",
     "evalue": "Optimal parameters not found: Number of calls to function has reached maxfev = 800.",
     "output_type": "error",
     "traceback": [
      "\u001b[1;31m---------------------------------------------------------------------------\u001b[0m",
      "\u001b[1;31mRuntimeError\u001b[0m                              Traceback (most recent call last)",
      "\u001b[1;32m~\\AppData\\Local\\Temp/ipykernel_3772/3793005954.py\u001b[0m in \u001b[0;36m<module>\u001b[1;34m\u001b[0m\n\u001b[0;32m      2\u001b[0m \u001b[1;32mfrom\u001b[0m \u001b[0mqiskit\u001b[0m\u001b[1;33m.\u001b[0m\u001b[0mproviders\u001b[0m\u001b[1;33m.\u001b[0m\u001b[0maer\u001b[0m \u001b[1;32mimport\u001b[0m \u001b[0mPulseSimulator\u001b[0m\u001b[1;33m\u001b[0m\u001b[1;33m\u001b[0m\u001b[0m\n\u001b[0;32m      3\u001b[0m \u001b[1;32mfrom\u001b[0m \u001b[0mqiskit\u001b[0m\u001b[1;33m.\u001b[0m\u001b[0mcompiler\u001b[0m \u001b[1;32mimport\u001b[0m \u001b[0massemble\u001b[0m\u001b[1;33m\u001b[0m\u001b[1;33m\u001b[0m\u001b[0m\n\u001b[1;32m----> 4\u001b[1;33m \u001b[0msignal\u001b[0m \u001b[1;33m=\u001b[0m \u001b[0mSu22\u001b[0m\u001b[1;33m.\u001b[0m\u001b[0mCustom_Fgp\u001b[0m\u001b[1;33m(\u001b[0m\u001b[1;34m'low_freq'\u001b[0m\u001b[1;33m,\u001b[0m\u001b[0mtest\u001b[0m\u001b[1;33m,\u001b[0m\u001b[0mbackend\u001b[0m\u001b[1;33m)\u001b[0m\u001b[1;33m\u001b[0m\u001b[1;33m\u001b[0m\u001b[0m\n\u001b[0m\u001b[0;32m      5\u001b[0m \u001b[0mtemp\u001b[0m \u001b[1;33m=\u001b[0m \u001b[0msignal\u001b[0m\u001b[1;33m.\u001b[0m\u001b[0mCustomize_pulse\u001b[0m\u001b[1;33m(\u001b[0m\u001b[1;36m1\u001b[0m\u001b[1;33m)\u001b[0m\u001b[1;33m\u001b[0m\u001b[1;33m\u001b[0m\u001b[0m\n\u001b[0;32m      6\u001b[0m \u001b[1;31m#with pulse.build(backend=backend) as pulse_2:\u001b[0m\u001b[1;33m\u001b[0m\u001b[1;33m\u001b[0m\u001b[0m\n",
      "\u001b[1;32m~\\Doc 2\\AQI2022\\Summer 2022\\Su22.py\u001b[0m in \u001b[0;36m__init__\u001b[1;34m(self, name, inp, backend)\u001b[0m\n\u001b[0;32m    120\u001b[0m         \u001b[0mself\u001b[0m\u001b[1;33m.\u001b[0m\u001b[0mpar\u001b[0m \u001b[1;33m=\u001b[0m \u001b[0mParameter\u001b[0m\u001b[1;33m(\u001b[0m\u001b[1;34m'drive_amp'\u001b[0m\u001b[1;33m)\u001b[0m\u001b[1;33m\u001b[0m\u001b[1;33m\u001b[0m\u001b[0m\n\u001b[0;32m    121\u001b[0m         \u001b[0mself\u001b[0m\u001b[1;33m.\u001b[0m\u001b[0mlength\u001b[0m \u001b[1;33m=\u001b[0m \u001b[1;36m1\u001b[0m\u001b[1;33m\u001b[0m\u001b[1;33m\u001b[0m\u001b[0m\n\u001b[1;32m--> 122\u001b[1;33m         \u001b[0mself\u001b[0m\u001b[1;33m.\u001b[0m\u001b[0mpi_p\u001b[0m\u001b[1;33m,\u001b[0m\u001b[0mplt\u001b[0m \u001b[1;33m=\u001b[0m \u001b[0mself\u001b[0m\u001b[1;33m.\u001b[0m\u001b[0mfull_cal\u001b[0m\u001b[1;33m(\u001b[0m\u001b[1;33m)\u001b[0m\u001b[1;33m\u001b[0m\u001b[1;33m\u001b[0m\u001b[0m\n\u001b[0m\u001b[0;32m    123\u001b[0m \u001b[1;33m\u001b[0m\u001b[0m\n\u001b[0;32m    124\u001b[0m     \u001b[1;31m#replaced using Customize_pulse_2)\u001b[0m\u001b[1;33m\u001b[0m\u001b[1;33m\u001b[0m\u001b[0m\n",
      "\u001b[1;32m~\\Doc 2\\AQI2022\\Summer 2022\\Su22.py\u001b[0m in \u001b[0;36mfull_cal\u001b[1;34m(self)\u001b[0m\n\u001b[0;32m    228\u001b[0m                 \u001b[0merror_counter\u001b[0m\u001b[1;33m=\u001b[0m\u001b[1;36m0\u001b[0m\u001b[1;33m\u001b[0m\u001b[1;33m\u001b[0m\u001b[0m\n\u001b[0;32m    229\u001b[0m                 \u001b[1;32mwhile\u001b[0m \u001b[1;33m(\u001b[0m\u001b[0merror\u001b[0m\u001b[1;33m[\u001b[0m\u001b[1;36m0\u001b[0m\u001b[1;33m]\u001b[0m\u001b[1;33m==\u001b[0m\u001b[0mnp\u001b[0m\u001b[1;33m.\u001b[0m\u001b[0minf\u001b[0m\u001b[1;33m)\u001b[0m\u001b[1;33m:\u001b[0m\u001b[1;33m\u001b[0m\u001b[1;33m\u001b[0m\u001b[0m\n\u001b[1;32m--> 230\u001b[1;33m                     fit_params, y_fit, error = fit_function(drive_amps,\n\u001b[0m\u001b[0;32m    231\u001b[0m                                          \u001b[0mrabi_values\u001b[0m\u001b[1;33m,\u001b[0m\u001b[1;33m\u001b[0m\u001b[1;33m\u001b[0m\u001b[0m\n\u001b[0;32m    232\u001b[0m                                          \u001b[1;32mlambda\u001b[0m \u001b[0mx\u001b[0m\u001b[1;33m,\u001b[0m \u001b[0mdrive_period\u001b[0m\u001b[1;33m:\u001b[0m\u001b[1;33m(\u001b[0m\u001b[1;33m(\u001b[0m\u001b[1;33m-\u001b[0m\u001b[1;33m(\u001b[0m\u001b[0mnp\u001b[0m\u001b[1;33m.\u001b[0m\u001b[0mmax\u001b[0m\u001b[1;33m(\u001b[0m\u001b[0mrabi_values\u001b[0m\u001b[1;33m)\u001b[0m\u001b[1;33m-\u001b[0m\u001b[0mnp\u001b[0m\u001b[1;33m.\u001b[0m\u001b[0mmin\u001b[0m\u001b[1;33m(\u001b[0m\u001b[0mrabi_values\u001b[0m\u001b[1;33m)\u001b[0m\u001b[1;33m/\u001b[0m\u001b[1;36m2\u001b[0m\u001b[1;33m)\u001b[0m\u001b[1;33m)\u001b[0m\u001b[1;33m*\u001b[0m\u001b[0mnp\u001b[0m\u001b[1;33m.\u001b[0m\u001b[0msin\u001b[0m\u001b[1;33m(\u001b[0m\u001b[1;36m2\u001b[0m\u001b[1;33m*\u001b[0m\u001b[0mnp\u001b[0m\u001b[1;33m.\u001b[0m\u001b[0mpi\u001b[0m\u001b[1;33m*\u001b[0m\u001b[0mx\u001b[0m\u001b[1;33m/\u001b[0m\u001b[0mdrive_period\u001b[0m\u001b[1;33m)\u001b[0m\u001b[1;33m)\u001b[0m\u001b[1;33m,\u001b[0m\u001b[1;33m\u001b[0m\u001b[1;33m\u001b[0m\u001b[0m\n",
      "\u001b[1;32m~\\Doc 2\\AQI2022\\Summer 2022\\Su22.py\u001b[0m in \u001b[0;36mfit_function\u001b[1;34m(x_values, y_values, function, init_params)\u001b[0m\n\u001b[0;32m     72\u001b[0m \u001b[1;33m\u001b[0m\u001b[0m\n\u001b[0;32m     73\u001b[0m \u001b[1;32mdef\u001b[0m \u001b[0mfit_function\u001b[0m\u001b[1;33m(\u001b[0m\u001b[0mx_values\u001b[0m\u001b[1;33m,\u001b[0m \u001b[0my_values\u001b[0m\u001b[1;33m,\u001b[0m \u001b[0mfunction\u001b[0m\u001b[1;33m,\u001b[0m \u001b[0minit_params\u001b[0m\u001b[1;33m)\u001b[0m\u001b[1;33m:\u001b[0m\u001b[1;33m\u001b[0m\u001b[1;33m\u001b[0m\u001b[0m\n\u001b[1;32m---> 74\u001b[1;33m     \u001b[0mfitparams\u001b[0m\u001b[1;33m,\u001b[0m \u001b[0mconv\u001b[0m \u001b[1;33m=\u001b[0m \u001b[0mcurve_fit\u001b[0m\u001b[1;33m(\u001b[0m\u001b[0mfunction\u001b[0m\u001b[1;33m,\u001b[0m \u001b[0mx_values\u001b[0m\u001b[1;33m,\u001b[0m \u001b[0my_values\u001b[0m\u001b[1;33m,\u001b[0m \u001b[0minit_params\u001b[0m\u001b[1;33m)\u001b[0m\u001b[1;33m\u001b[0m\u001b[1;33m\u001b[0m\u001b[0m\n\u001b[0m\u001b[0;32m     75\u001b[0m     \u001b[0my_fit\u001b[0m \u001b[1;33m=\u001b[0m \u001b[0mfunction\u001b[0m\u001b[1;33m(\u001b[0m\u001b[0mx_values\u001b[0m\u001b[1;33m,\u001b[0m \u001b[1;33m*\u001b[0m\u001b[0mfitparams\u001b[0m\u001b[1;33m)\u001b[0m\u001b[1;33m\u001b[0m\u001b[1;33m\u001b[0m\u001b[0m\n\u001b[0;32m     76\u001b[0m     \u001b[0merror\u001b[0m \u001b[1;33m=\u001b[0m \u001b[0mnp\u001b[0m\u001b[1;33m.\u001b[0m\u001b[0msqrt\u001b[0m\u001b[1;33m(\u001b[0m\u001b[0mnp\u001b[0m\u001b[1;33m.\u001b[0m\u001b[0mdiag\u001b[0m\u001b[1;33m(\u001b[0m\u001b[0mconv\u001b[0m\u001b[1;33m)\u001b[0m\u001b[1;33m)\u001b[0m\u001b[1;33m\u001b[0m\u001b[1;33m\u001b[0m\u001b[0m\n",
      "\u001b[1;32m~\\anaconda3\\lib\\site-packages\\scipy\\optimize\\minpack.py\u001b[0m in \u001b[0;36mcurve_fit\u001b[1;34m(f, xdata, ydata, p0, sigma, absolute_sigma, check_finite, bounds, method, jac, **kwargs)\u001b[0m\n\u001b[0;32m    792\u001b[0m         \u001b[0mcost\u001b[0m \u001b[1;33m=\u001b[0m \u001b[0mnp\u001b[0m\u001b[1;33m.\u001b[0m\u001b[0msum\u001b[0m\u001b[1;33m(\u001b[0m\u001b[0minfodict\u001b[0m\u001b[1;33m[\u001b[0m\u001b[1;34m'fvec'\u001b[0m\u001b[1;33m]\u001b[0m \u001b[1;33m**\u001b[0m \u001b[1;36m2\u001b[0m\u001b[1;33m)\u001b[0m\u001b[1;33m\u001b[0m\u001b[1;33m\u001b[0m\u001b[0m\n\u001b[0;32m    793\u001b[0m         \u001b[1;32mif\u001b[0m \u001b[0mier\u001b[0m \u001b[1;32mnot\u001b[0m \u001b[1;32min\u001b[0m \u001b[1;33m[\u001b[0m\u001b[1;36m1\u001b[0m\u001b[1;33m,\u001b[0m \u001b[1;36m2\u001b[0m\u001b[1;33m,\u001b[0m \u001b[1;36m3\u001b[0m\u001b[1;33m,\u001b[0m \u001b[1;36m4\u001b[0m\u001b[1;33m]\u001b[0m\u001b[1;33m:\u001b[0m\u001b[1;33m\u001b[0m\u001b[1;33m\u001b[0m\u001b[0m\n\u001b[1;32m--> 794\u001b[1;33m             \u001b[1;32mraise\u001b[0m \u001b[0mRuntimeError\u001b[0m\u001b[1;33m(\u001b[0m\u001b[1;34m\"Optimal parameters not found: \"\u001b[0m \u001b[1;33m+\u001b[0m \u001b[0merrmsg\u001b[0m\u001b[1;33m)\u001b[0m\u001b[1;33m\u001b[0m\u001b[1;33m\u001b[0m\u001b[0m\n\u001b[0m\u001b[0;32m    795\u001b[0m     \u001b[1;32melse\u001b[0m\u001b[1;33m:\u001b[0m\u001b[1;33m\u001b[0m\u001b[1;33m\u001b[0m\u001b[0m\n\u001b[0;32m    796\u001b[0m         \u001b[1;31m# Rename maxfev (leastsq) to max_nfev (least_squares), if specified.\u001b[0m\u001b[1;33m\u001b[0m\u001b[1;33m\u001b[0m\u001b[0m\n",
      "\u001b[1;31mRuntimeError\u001b[0m: Optimal parameters not found: Number of calls to function has reached maxfev = 800."
     ]
    }
   ],
   "source": [
    "test=Su22.loadData(\"FGRAFS_controls/x_gate_sampling.p\")\n",
    "from qiskit.providers.aer import PulseSimulator\n",
    "from qiskit.compiler import assemble\n",
    "signal = Su22.Custom_Fgp('low_freq',test,backend)\n",
    "temp = signal.Customize_pulse(1)\n",
    "#with pulse.build(backend=backend) as pulse_2:\n",
    "    #pulse.play(pulse.Gaussian(duration=1000,amp=1,sigma=1000, name='Rabi Pulse'), pulse.drive_channel(0))\n",
    "#    pulse.call(temp,pulse.drive_channel(0))\n",
    "    \n",
    "#print(signal.input)\n",
    "#print(signal.norm)\n",
    "#a=block_to_schedule(signal.Customize_pulse(1))\n",
    "#result = transpile(a,\n",
    " #                    backend=backend, \n",
    " #                    )\n",
    "#results =backend.run(result, shots = 100).result()\n",
    "#print(results.get_counts())\n",
    "signal.draw()"
   ]
  },
  {
   "cell_type": "code",
   "execution_count": null,
   "metadata": {},
   "outputs": [],
   "source": [
    "drive_amp = Parameter('drive_amp')\n",
    "with pulse.build(backend=backend, default_alignment='sequential', name='Rabi Experiment') as pulse_1:\n",
    "    pulse.play(pulse.Gaussian(duration=1000,amp=6*drive_amp,sigma=1000, name='Rabi Pulse'), pulse.drive_channel(0))\n",
    "temp=Su22.Probe_Pulse(pulse_1,drive_amp,10)\n",
    "with pulse.build(backend=backend, default_alignment='sequential', name='Rabi Experiment') as pulse_2:\n",
    "    pulse.play(pulse.Gaussian(duration=1000,amp=1,sigma=1000, name='Rabi Pulse'), pulse.drive_channel(0))\n",
    "    pulse.call(temp[4],pulse.drive_channel(0))\n",
    "pulse_2.draw(backend=backend)"
   ]
  },
  {
   "cell_type": "code",
   "execution_count": 3,
   "metadata": {},
   "outputs": [
    {
     "name": "stdout",
     "output_type": "stream",
     "text": [
      "[ParameterExpression(0) ParameterExpression(drive_amp)\n",
      " ParameterExpression(2*drive_amp) ParameterExpression(3*drive_amp)\n",
      " ParameterExpression(4*drive_amp) ParameterExpression(5*drive_amp)\n",
      " ParameterExpression(6*drive_amp)]\n"
     ]
    }
   ],
   "source": [
    "hel = np.array([0,1,2,3,4,5,6])\n",
    "hel = hel*drive_amp\n",
    "print(hel)"
   ]
  },
  {
   "cell_type": "code",
   "execution_count": 4,
   "metadata": {},
   "outputs": [
    {
     "name": "stdout",
     "output_type": "stream",
     "text": [
      "0\n"
     ]
    }
   ],
   "source": [
    "with pulse.build(backend=backend, default_alignment='sequential', name='Rabi Experiment') as pulse_1:\n",
    "    print(pulse.seconds_to_samples(2/9.00001*10**-9))"
   ]
  },
  {
   "cell_type": "code",
   "execution_count": 1,
   "metadata": {},
   "outputs": [],
   "source": [
    "class Custom_Fgp:\n",
    "    def __init__(self, name, inp,backend):\n",
    "        self.name=name\n",
    "        self.input = np.array(inp)\n",
    "        self.backend = backend\n",
    "        drive_sigma_sec = 0.015 * 1.0e-6                          # This determines the actual width of the gaussian\n",
    "        drive_duration_sec = drive_sigma_sec   \n",
    "        #self.norm = self.input/np.sqrt((self.input**2).sum())\n",
    "        self.norm = self.input/self.input.max()\n",
    "        self.par = Parameter('drive_amp')\n",
    "        self.pi_p = 1\n",
    "        \n",
    "\n",
    "    def Create_Pulse(self):\n",
    "        with pulse.build(backend=backend, default_alignment='sequential', name='Rabi Experiment') as custom_Pulse:\n",
    "            [pulse.play(self.norm*self.pi_p, pulse.drive_channel(0))]\n",
    "        return custom_Pulse\n",
    "    \n",
    "    def Customize_pulse(self,x):\n",
    "        with qiskit.pulse.build(backend=backend, default_alignment='sequential', name='Rabi Experiment') as custom_Pulse:\n",
    "            [pulse.play(self.norm*x, pulse.drive_channel(0))]\n",
    "            pulse.measure(qubits=[0], registers=[pulse.MemorySlot(0)])\n",
    "        return custom_Pulse\n",
    "    \n",
    "    def draw(self):\n",
    "        return self.Create_Pulse().draw(backend=self.backend)\n",
    "    \n",
    "    def baseline_remove(self, values):\n",
    "        return np.array(values) - np.mean(values)\n",
    "    \n",
    "    '''def rabi_test(self,num_rabi_points): #non functional\n",
    "        scale_factor = 1e-15\n",
    "        drive_amp_min = -1\n",
    "        drive_amp_max = 1\n",
    "        drive_amps = np.linspace(drive_amp_min, drive_amp_max, num_rabi_points)\n",
    "\n",
    "        rabi_schedules = [self.cont.assign_parameters({self.par: a}, inplace=False) for a in drive_amps]\n",
    "        num_shots_per_point = 1024\n",
    "        job = backend.run(rabi_schedules, \n",
    "                  meas_level=1, \n",
    "                  meas_return='avg', \n",
    "                  shots=num_shots_per_point)\n",
    "        job_monitor(job)\n",
    "        \n",
    "        rabi_results = job.result(timeout=120)\n",
    "        rabi_values = []\n",
    "        for i in range(num_rabi_points):\n",
    "            # Get the results for `qubit` from the ith experiment\n",
    "            rabi_values.append(rabi_results.get_memory(i)[0] * scale_factor)\n",
    "\n",
    "        rabi_values = np.real(self.baseline_remove(rabi_values))\n",
    "\n",
    "        return drive_amps,rabi_values'''\n",
    "    \n",
    "    def Cali(self,num_rabi_points):\n",
    "        scale_factor = 1e-15\n",
    "        drive_amp_min = -1\n",
    "        drive_amp_max = 1\n",
    "        drive_amps = np.linspace(drive_amp_min, drive_amp_max, num_rabi_points)\n",
    "\n",
    "        rabi_schedules = [self.Customize_pulse(a) for a in drive_amps]\n",
    "        #return rabi_schedules\n",
    "        num_shots_per_point = 1024\n",
    "        job = backend.run(rabi_schedules, \n",
    "                  meas_level=1, \n",
    "                  meas_return='avg', \n",
    "                  shots=num_shots_per_point)\n",
    "        job_monitor(job)\n",
    "        \n",
    "        rabi_results = job.result(timeout=120)\n",
    "        rabi_values = []\n",
    "        for i in range(num_rabi_points):\n",
    "            # Get the results for `qubit` from the ith experiment\n",
    "            rabi_values.append(rabi_results.get_memory(i)[0] * scale_factor)\n",
    "\n",
    "        rabi_values = np.real(self.baseline_remove(rabi_values))\n",
    "\n",
    "        return drive_amps,rabi_values\n",
    "    \n",
    "    def rabi_test_Sim(self,num_rabi_points):\n",
    "        scale_factor = 1e-15\n",
    "        drive_amp_min = -1\n",
    "        drive_amp_max = 1\n",
    "        drive_amps = np.linspace(drive_amp_min, drive_amp_max, num_rabi_points)\n",
    "\n",
    "        rabi_schedules = [self.Customize_pulse(a) for a in drive_amps]\n",
    "        #return rabi_schedules\n",
    "        num_shots_per_point = 1024\n",
    "        armonk_model = PulseSystemModel.from_backend(self.backend)\n",
    "        backend_sim = PulseSimulator(system_model=armonk_model)\n",
    "\n",
    "        rabi_qobj = assemble(rabi_schedules, \n",
    "                             backend=backend_sim,\n",
    "                             meas_level=1, \n",
    "                             meas_return='avg',\n",
    "                             shots=num_shots_per_point)\n",
    "        sim_result = backend_sim.run(rabi_qobj).result()\n",
    "        rabi_values = []\n",
    "        for i in range(num_rabi_points):\n",
    "            # Get the results for `qubit` from the ith experiment\n",
    "            rabi_values.append(sim_result.get_memory(i)[0] * scale_factor)\n",
    "\n",
    "        rabi_values = np.real(self.baseline_remove(rabi_values))\n",
    "        return drive_amps,rabi_values\n",
    "    \n",
    "    def add_as_gate(self,circ,qubits):\n",
    "        custom_gate = Gate(self.name, 1,[])\n",
    "        [circ.append(custom_gate, [i]) for i in qubits]\n",
    "        circ.add_calibration(self.name, qubits, self.Create_Pulse(), [])\n",
    "        return circ"
   ]
  },
  {
   "cell_type": "code",
   "execution_count": 2,
   "metadata": {},
   "outputs": [],
   "source": [
    "import Su22\n",
    "import qiskit\n",
    "from qiskit.providers.fake_provider import FakeOpenPulse2Q,ConfigurableFakeBackend\n",
    "from qiskit import transpile\n",
    "backend = FakeOpenPulse2Q()\n",
    "\n",
    "#pulse = Su22.loadData(\"FGRAFS_controls/x_gate_sampling.p\")\n",
    "#data= Su22.Spec(pulse,0.02,0.98,1,option=1)"
   ]
  },
  {
   "cell_type": "code",
   "execution_count": 4,
   "metadata": {},
   "outputs": [
    {
     "data": {
      "image/png": "[encoded data removed]",
      "text/plain": [
       "<Figure size 936x239.347 with 1 Axes>"
      ]
     },
     "execution_count": 4,
     "metadata": {},
     "output_type": "execute_result"
    }
   ],
   "source": [
    "data.circ_batch[0].draw()"
   ]
  },
  {
   "cell_type": "code",
   "execution_count": 2,
   "metadata": {
    "scrolled": true
   },
   "outputs": [
    {
     "ename": "NameError",
     "evalue": "name 't' is not defined",
     "output_type": "error",
     "traceback": [
      "\u001b[1;31m---------------------------------------------------------------------------\u001b[0m",
      "\u001b[1;31mNameError\u001b[0m                                 Traceback (most recent call last)",
      "\u001b[1;32m~\\AppData\\Local\\Temp/ipykernel_1420/2407053535.py\u001b[0m in \u001b[0;36m<module>\u001b[1;34m\u001b[0m\n\u001b[0;32m      2\u001b[0m \u001b[1;32mfrom\u001b[0m \u001b[0mqiskit\u001b[0m \u001b[1;32mimport\u001b[0m \u001b[0mtranspile\u001b[0m\u001b[1;33m\u001b[0m\u001b[1;33m\u001b[0m\u001b[0m\n\u001b[0;32m      3\u001b[0m \u001b[0mbackend\u001b[0m \u001b[1;33m=\u001b[0m \u001b[0mFakeOpenPulse2Q\u001b[0m\u001b[1;33m(\u001b[0m\u001b[1;33m)\u001b[0m\u001b[1;33m\u001b[0m\u001b[1;33m\u001b[0m\u001b[0m\n\u001b[1;32m----> 4\u001b[1;33m rabi_qobj = transpile(t, \n\u001b[0m\u001b[0;32m      5\u001b[0m                       backend=backend)\n\u001b[0;32m      6\u001b[0m \u001b[0mresults\u001b[0m \u001b[1;33m=\u001b[0m \u001b[0mbackend\u001b[0m\u001b[1;33m.\u001b[0m\u001b[0mrun\u001b[0m\u001b[1;33m(\u001b[0m\u001b[0mrabi_qobj\u001b[0m\u001b[1;33m,\u001b[0m\u001b[0mshots\u001b[0m \u001b[1;33m=\u001b[0m \u001b[1;36m100\u001b[0m\u001b[1;33m)\u001b[0m\u001b[1;33m.\u001b[0m\u001b[0mresult\u001b[0m\u001b[1;33m(\u001b[0m\u001b[1;33m)\u001b[0m\u001b[1;33m\u001b[0m\u001b[1;33m\u001b[0m\u001b[0m\n",
      "\u001b[1;31mNameError\u001b[0m: name 't' is not defined"
     ]
    }
   ],
   "source": [
    "rabi_qobj = transpile(t, \n",
    "                      backend=backend)\n",
    "results = backend.run(rabi_qobj,shots = 100).result()\n",
    "print(results.get_counts())"
   ]
  },
  {
   "cell_type": "code",
   "execution_count": 7,
   "metadata": {},
   "outputs": [
    {
     "data": {
      "image/png": "[encoded data removed]",
      "text/plain": [
       "<Figure size 936x305.222 with 1 Axes>"
      ]
     },
     "execution_count": 7,
     "metadata": {},
     "output_type": "execute_result"
    }
   ],
   "source": [
    "t.draw()"
   ]
  },
  {
   "cell_type": "code",
   "execution_count": 41,
   "metadata": {},
   "outputs": [
    {
     "data": {
      "text/plain": [
       "160"
      ]
     },
     "execution_count": 41,
     "metadata": {},
     "output_type": "execute_result"
    }
   ],
   "source": [
    "len(Su22.loadData(\"FGRAFS_controls/x_gate_sampling.p\"))"
   ]
  },
  {
   "cell_type": "code",
   "execution_count": 3,
   "metadata": {},
   "outputs": [
    {
     "ename": "NameError",
     "evalue": "name 'signal' is not defined",
     "output_type": "error",
     "traceback": [
      "\u001b[1;31m---------------------------------------------------------------------------\u001b[0m",
      "\u001b[1;31mNameError\u001b[0m                                 Traceback (most recent call last)",
      "\u001b[1;32m~\\AppData\\Local\\Temp/ipykernel_1876/3518682716.py\u001b[0m in \u001b[0;36m<module>\u001b[1;34m\u001b[0m\n\u001b[0;32m      5\u001b[0m \u001b[1;31m#print(signal.input)\u001b[0m\u001b[1;33m\u001b[0m\u001b[1;33m\u001b[0m\u001b[0m\n\u001b[0;32m      6\u001b[0m \u001b[1;31m#print(signal.norm)\u001b[0m\u001b[1;33m\u001b[0m\u001b[1;33m\u001b[0m\u001b[0m\n\u001b[1;32m----> 7\u001b[1;33m \u001b[0msignal\u001b[0m\u001b[1;33m.\u001b[0m\u001b[0mCustomize_pulse\u001b[0m\u001b[1;33m(\u001b[0m\u001b[1;36m1\u001b[0m\u001b[1;33m)\u001b[0m\u001b[1;33m.\u001b[0m\u001b[0mdraw\u001b[0m\u001b[1;33m(\u001b[0m\u001b[1;33m)\u001b[0m\u001b[1;33m\u001b[0m\u001b[1;33m\u001b[0m\u001b[0m\n\u001b[0m",
      "\u001b[1;31mNameError\u001b[0m: name 'signal' is not defined"
     ]
    }
   ],
   "source": [
    "from qiskit.providers.fake_provider import FakeOpenPulse2Q,ConfigurableFakeBackend\n",
    "#backend = ConfigurableFakeBackend(\"memer\",1)\n",
    "backend = FakeOpenPulse2Q()\n",
    "test2 =np.random.randint(20,size=200)\n",
    "#print(signal.input)\n",
    "#print(signal.norm)\n",
    "signal.Customize_pulse(1).draw()"
   ]
  },
  {
   "cell_type": "code",
   "execution_count": 93,
   "metadata": {},
   "outputs": [
    {
     "name": "stdout",
     "output_type": "stream",
     "text": [
      "16\n"
     ]
    }
   ],
   "source": [
    "print(Su22.get_closest_multiple_of_16(8))"
   ]
  },
  {
   "cell_type": "code",
   "execution_count": 57,
   "metadata": {},
   "outputs": [],
   "source": [
    "test= Su22.loadData(\"FGRAFS_controls/x_gate_sampling.p\")"
   ]
  },
  {
   "cell_type": "code",
   "execution_count": 58,
   "metadata": {},
   "outputs": [
    {
     "data": {
      "text/plain": [
       "(3.04373813019516+0j)"
      ]
     },
     "execution_count": 58,
     "metadata": {},
     "output_type": "execute_result"
    }
   ],
   "source": [
    "import numpy as np\n",
    "np.trapz(test)*0.2"
   ]
  },
  {
   "cell_type": "code",
   "execution_count": 45,
   "metadata": {},
   "outputs": [
    {
     "data": {
      "text/plain": [
       "array([[0.02, 0.84]])"
      ]
     },
     "execution_count": 45,
     "metadata": {},
     "output_type": "execute_result"
    }
   ],
   "source": [
    "from qiskit.pulse.transforms import block_to_schedule\n",
    "n= test[1]\n",
    "n"
   ]
  },
  {
   "cell_type": "code",
   "execution_count": 38,
   "metadata": {},
   "outputs": [
    {
     "name": "stdout",
     "output_type": "stream",
     "text": [
      "[-4.04909147e-02  1.91645484e-02  3.37642693e+00 -3.03222218e-03]\n"
     ]
    },
    {
     "data": {
      "image/png": "[encoded data removed]",
      "text/plain": [
       "<Figure size 432x288 with 1 Axes>"
      ]
     },
     "metadata": {
      "needs_background": "light"
     },
     "output_type": "display_data"
    }
   ],
   "source": [
    "fit_params, y_fit = fit_function(drive_amps,\n",
    "                                 rabi_values, \n",
    "                                 lambda x, A, B, drive_period, phi: (A*np.cos(2*np.pi*x/drive_period - phi) + B),\n",
    "                                 [-0.02, 0, 2, 0])\n",
    "\n",
    "plt.scatter(drive_amps, rabi_values, color='black')\n",
    "plt.plot(drive_amps, y_fit, color='red')\n",
    "print(fit_params)\n",
    "drive_period = fit_params[2] # get period of rabi oscillation\n",
    "\n",
    "plt.axvline(0, color='red', linestyle='--')\n",
    "plt.axvline(drive_period/2, color='red', linestyle='--')\n",
    "plt.annotate(\"\", xy=(0, 0), xytext=(drive_period/2,0), arrowprops=dict(arrowstyle=\"<->\", color='red'))\n",
    "plt.annotate(\"$\\pi$\", xy=(drive_period/2-0.03, 0.1), color='red')\n",
    "\n",
    "plt.xlabel(\"Drive amp [a.u.]\", fontsize=15)\n",
    "plt.ylabel(\"Measured signal [a.u.]\", fontsize=15)\n",
    "plt.show()"
   ]
  },
  {
   "cell_type": "code",
   "execution_count": 20,
   "metadata": {},
   "outputs": [],
   "source": [
    "from qiskit.compiler import assemble\n",
    "drive_amps_2,rabi_values_2 = signal.rabi_test_Sim(50)"
   ]
  },
  {
   "cell_type": "code",
   "execution_count": 21,
   "metadata": {},
   "outputs": [
    {
     "name": "stdout",
     "output_type": "stream",
     "text": [
      "[-7.31240863e-17  3.17874723e-17  2.00000001e+00  2.78077319e-10]\n"
     ]
    },
    {
     "data": {
      "image/png": "[encoded data removed]",
      "text/plain": [
       "<Figure size 432x288 with 1 Axes>"
      ]
     },
     "metadata": {
      "needs_background": "light"
     },
     "output_type": "display_data"
    }
   ],
   "source": [
    "fit_params_2, y_fit_2 = fit_function(drive_amps_2,\n",
    "                                 rabi_values_2, \n",
    "                                 lambda x, A, B, drive_period, phi: (A*np.cos(2*np.pi*x/drive_period - phi) + B),\n",
    "                                 [-8, 1, 2, 0])\n",
    "\n",
    "plt.scatter(drive_amps_2, rabi_values_2, color='black')\n",
    "plt.plot(drive_amps_2, y_fit_2, color='red')\n",
    "print(fit_params_2)\n",
    "drive_period_2 = fit_params_2[2] # get period of rabi oscillation\n",
    "\n",
    "plt.axvline(0, color='red', linestyle='--')\n",
    "plt.axvline(drive_period_2/2, color='red', linestyle='--')\n",
    "plt.annotate(\"\", xy=(0, 0), xytext=(drive_period_2/2,0), arrowprops=dict(arrowstyle=\"<->\", color='red'))\n",
    "plt.annotate(\"$\\pi$\", xy=(drive_period_2/2-0.03, 0.1), color='red')\n",
    "\n",
    "plt.xlabel(\"Drive amp [a.u.]\", fontsize=15)\n",
    "plt.ylabel(\"Measured signal [a.u.]\", fontsize=15)\n",
    "plt.show()"
   ]
  },
  {
   "cell_type": "code",
   "execution_count": 15,
   "metadata": {},
   "outputs": [],
   "source": [
    "from scipy.optimize import curve_fit\n",
    "\n",
    "def fit_function(x_values, y_values, function, init_params):\n",
    "    fitparams, conv = curve_fit(function, x_values, y_values, init_params)\n",
    "    y_fit = function(x_values, *fitparams)\n",
    "    return fitparams, y_fit"
   ]
  },
  {
   "cell_type": "code",
   "execution_count": null,
   "metadata": {},
   "outputs": [],
   "source": [
    "tester = signal.rabi_test_2(10)\n",
    "with pulse.build(backend=backend) as pulse_2:\n",
    "    #pulse.play(pulse.Gaussian(duration=1000,amp=1,sigma=1000, name='Rabi Pulse'), pulse.drive_channel(0))\n",
    "    [pulse.call(tester[i],pulse.drive_channel(0)) for i in range(2)]\n",
    "pulse_2.draw()"
   ]
  },
  {
   "cell_type": "code",
   "execution_count": 30,
   "metadata": {},
   "outputs": [
    {
     "ename": "AttributeError",
     "evalue": "'numpy.ndarray' object has no attribute 'build'",
     "output_type": "error",
     "traceback": [
      "\u001b[1;31m---------------------------------------------------------------------------\u001b[0m",
      "\u001b[1;31mAttributeError\u001b[0m                            Traceback (most recent call last)",
      "\u001b[1;32m~\\AppData\\Local\\Temp/ipykernel_20352/1597336170.py\u001b[0m in \u001b[0;36m<module>\u001b[1;34m\u001b[0m\n\u001b[0;32m      3\u001b[0m \u001b[0mcirc\u001b[0m\u001b[1;33m.\u001b[0m\u001b[0mh\u001b[0m\u001b[1;33m(\u001b[0m\u001b[1;33m[\u001b[0m\u001b[1;36m0\u001b[0m\u001b[1;33m,\u001b[0m\u001b[1;36m3\u001b[0m\u001b[1;33m,\u001b[0m\u001b[1;36m5\u001b[0m\u001b[1;33m]\u001b[0m\u001b[1;33m)\u001b[0m\u001b[1;33m\u001b[0m\u001b[1;33m\u001b[0m\u001b[0m\n\u001b[0;32m      4\u001b[0m \u001b[0mcirc\u001b[0m\u001b[1;33m.\u001b[0m\u001b[0mcx\u001b[0m\u001b[1;33m(\u001b[0m\u001b[1;36m0\u001b[0m\u001b[1;33m,\u001b[0m\u001b[1;36m1\u001b[0m\u001b[1;33m)\u001b[0m\u001b[1;33m\u001b[0m\u001b[1;33m\u001b[0m\u001b[0m\n\u001b[1;32m----> 5\u001b[1;33m \u001b[0mcirc\u001b[0m \u001b[1;33m=\u001b[0m \u001b[0msignal\u001b[0m\u001b[1;33m.\u001b[0m\u001b[0madd_as_gate\u001b[0m\u001b[1;33m(\u001b[0m\u001b[0mcirc\u001b[0m\u001b[1;33m,\u001b[0m\u001b[1;33m[\u001b[0m\u001b[1;36m0\u001b[0m\u001b[1;33m,\u001b[0m\u001b[1;36m1\u001b[0m\u001b[1;33m,\u001b[0m\u001b[1;36m2\u001b[0m\u001b[1;33m]\u001b[0m\u001b[1;33m)\u001b[0m\u001b[1;33m\u001b[0m\u001b[1;33m\u001b[0m\u001b[0m\n\u001b[0m\u001b[0;32m      6\u001b[0m \u001b[0mcirc\u001b[0m\u001b[1;33m.\u001b[0m\u001b[0mdraw\u001b[0m\u001b[1;33m(\u001b[0m\u001b[1;34m'mpl'\u001b[0m\u001b[1;33m)\u001b[0m\u001b[1;33m\u001b[0m\u001b[1;33m\u001b[0m\u001b[0m\n",
      "\u001b[1;32m~\\AppData\\Local\\Temp/ipykernel_20352/1937614156.py\u001b[0m in \u001b[0;36madd_as_gate\u001b[1;34m(self, circ, qubits)\u001b[0m\n\u001b[0;32m    107\u001b[0m         \u001b[0mcustom_gate\u001b[0m \u001b[1;33m=\u001b[0m \u001b[0mGate\u001b[0m\u001b[1;33m(\u001b[0m\u001b[0mself\u001b[0m\u001b[1;33m.\u001b[0m\u001b[0mname\u001b[0m\u001b[1;33m,\u001b[0m \u001b[1;36m1\u001b[0m\u001b[1;33m,\u001b[0m\u001b[1;33m[\u001b[0m\u001b[1;33m]\u001b[0m\u001b[1;33m)\u001b[0m\u001b[1;33m\u001b[0m\u001b[1;33m\u001b[0m\u001b[0m\n\u001b[0;32m    108\u001b[0m         \u001b[1;33m[\u001b[0m\u001b[0mcirc\u001b[0m\u001b[1;33m.\u001b[0m\u001b[0mappend\u001b[0m\u001b[1;33m(\u001b[0m\u001b[0mcustom_gate\u001b[0m\u001b[1;33m,\u001b[0m \u001b[1;33m[\u001b[0m\u001b[0mi\u001b[0m\u001b[1;33m]\u001b[0m\u001b[1;33m)\u001b[0m \u001b[1;32mfor\u001b[0m \u001b[0mi\u001b[0m \u001b[1;32min\u001b[0m \u001b[0mqubits\u001b[0m\u001b[1;33m]\u001b[0m\u001b[1;33m\u001b[0m\u001b[1;33m\u001b[0m\u001b[0m\n\u001b[1;32m--> 109\u001b[1;33m         \u001b[0mcirc\u001b[0m\u001b[1;33m.\u001b[0m\u001b[0madd_calibration\u001b[0m\u001b[1;33m(\u001b[0m\u001b[0mself\u001b[0m\u001b[1;33m.\u001b[0m\u001b[0mname\u001b[0m\u001b[1;33m,\u001b[0m \u001b[0mqubits\u001b[0m\u001b[1;33m,\u001b[0m \u001b[0mself\u001b[0m\u001b[1;33m.\u001b[0m\u001b[0mCreate_Pulse\u001b[0m\u001b[1;33m(\u001b[0m\u001b[1;33m)\u001b[0m\u001b[1;33m,\u001b[0m \u001b[1;33m[\u001b[0m\u001b[1;33m]\u001b[0m\u001b[1;33m)\u001b[0m\u001b[1;33m\u001b[0m\u001b[1;33m\u001b[0m\u001b[0m\n\u001b[0m\u001b[0;32m    110\u001b[0m         \u001b[1;32mreturn\u001b[0m \u001b[0mcirc\u001b[0m\u001b[1;33m\u001b[0m\u001b[1;33m\u001b[0m\u001b[0m\n",
      "\u001b[1;32m~\\AppData\\Local\\Temp/ipykernel_20352/1937614156.py\u001b[0m in \u001b[0;36mCreate_Pulse\u001b[1;34m(self)\u001b[0m\n\u001b[0;32m     13\u001b[0m \u001b[1;33m\u001b[0m\u001b[0m\n\u001b[0;32m     14\u001b[0m     \u001b[1;32mdef\u001b[0m \u001b[0mCreate_Pulse\u001b[0m\u001b[1;33m(\u001b[0m\u001b[0mself\u001b[0m\u001b[1;33m)\u001b[0m\u001b[1;33m:\u001b[0m\u001b[1;33m\u001b[0m\u001b[1;33m\u001b[0m\u001b[0m\n\u001b[1;32m---> 15\u001b[1;33m         \u001b[1;32mwith\u001b[0m \u001b[0mpulse\u001b[0m\u001b[1;33m.\u001b[0m\u001b[0mbuild\u001b[0m\u001b[1;33m(\u001b[0m\u001b[0mbackend\u001b[0m\u001b[1;33m=\u001b[0m\u001b[0mbackend\u001b[0m\u001b[1;33m,\u001b[0m \u001b[0mdefault_alignment\u001b[0m\u001b[1;33m=\u001b[0m\u001b[1;34m'sequential'\u001b[0m\u001b[1;33m,\u001b[0m \u001b[0mname\u001b[0m\u001b[1;33m=\u001b[0m\u001b[1;34m'Rabi Experiment'\u001b[0m\u001b[1;33m)\u001b[0m \u001b[1;32mas\u001b[0m \u001b[0mcustom_Pulse\u001b[0m\u001b[1;33m:\u001b[0m\u001b[1;33m\u001b[0m\u001b[1;33m\u001b[0m\u001b[0m\n\u001b[0m\u001b[0;32m     16\u001b[0m             \u001b[1;33m[\u001b[0m\u001b[0mpulse\u001b[0m\u001b[1;33m.\u001b[0m\u001b[0mplay\u001b[0m\u001b[1;33m(\u001b[0m\u001b[0mself\u001b[0m\u001b[1;33m.\u001b[0m\u001b[0mnorm\u001b[0m\u001b[1;33m*\u001b[0m\u001b[0mself\u001b[0m\u001b[1;33m.\u001b[0m\u001b[0mpi_p\u001b[0m\u001b[1;33m,\u001b[0m \u001b[0mpulse\u001b[0m\u001b[1;33m.\u001b[0m\u001b[0mdrive_channel\u001b[0m\u001b[1;33m(\u001b[0m\u001b[1;36m0\u001b[0m\u001b[1;33m)\u001b[0m\u001b[1;33m)\u001b[0m\u001b[1;33m]\u001b[0m\u001b[1;33m\u001b[0m\u001b[1;33m\u001b[0m\u001b[0m\n\u001b[0;32m     17\u001b[0m         \u001b[1;32mreturn\u001b[0m \u001b[0mcustom_Pulse\u001b[0m\u001b[1;33m\u001b[0m\u001b[1;33m\u001b[0m\u001b[0m\n",
      "\u001b[1;31mAttributeError\u001b[0m: 'numpy.ndarray' object has no attribute 'build'"
     ]
    }
   ],
   "source": [
    "circ = QuantumCircuit(7,1)\n",
    "circ.x([0])\n",
    "circ.h([0,3,5])\n",
    "circ.cx(0,1)\n",
    "circ = signal.add_as_gate(circ,[0,1,2])\n",
    "circ.draw('mpl')"
   ]
  },
  {
   "cell_type": "code",
   "execution_count": 22,
   "metadata": {},
   "outputs": [
    {
     "name": "stdout",
     "output_type": "stream",
     "text": [
      "DbAnalysisResultV1\n",
      "- name: state\n",
      "- value: DensityMatrix([[ 0.96875 +0.j        , -0.015625-0.00878906j],\n",
      "               [-0.015625+0.00878906j,  0.03125 +0.j        ]],\n",
      "              dims=(2,))\n",
      "- extra: <5 items>\n",
      "- device_components: ['Q0']\n",
      "- verified: False\n",
      "DbAnalysisResultV1\n",
      "- name: state_fidelity\n",
      "- value: 0.9687500000000001\n",
      "- device_components: ['Q0']\n",
      "- verified: False\n",
      "DbAnalysisResultV1\n",
      "- name: positive\n",
      "- value: True\n",
      "- device_components: ['Q0']\n",
      "- verified: False\n"
     ]
    }
   ],
   "source": [
    "import qiskit\n",
    "from qiskit_experiments.framework import ParallelExperiment\n",
    "from qiskit_experiments.library import StateTomography\n",
    "\n",
    "# For simulation\n",
    "from qiskit.providers.aer import AerSimulator\n",
    "from qiskit.test.mock import FakeArmonk\n",
    "\n",
    "# Noisy simulator backend\n",
    "backend_2 = AerSimulator.from_backend(FakeArmonk())\n",
    "nq = 1\n",
    "qc_ghz = qiskit.QuantumCircuit(nq)\n",
    "signal.add_as_gate(circ,[0])\n",
    "\n",
    "\n",
    "# QST Experiment\n",
    "qstexp1 = StateTomography(qc_ghz)\n",
    "qstdata1 = qstexp1.run(backend_2, seed_simulation=100).block_for_results()\n",
    "\n",
    "# Print results\n",
    "for result in qstdata1.analysis_results():\n",
    "    print(result)\n"
   ]
  },
  {
   "cell_type": "code",
   "execution_count": 23,
   "metadata": {},
   "outputs": [
    {
     "name": "stdout",
     "output_type": "stream",
     "text": [
      "DbAnalysisResultV1\n",
      "- name: state\n",
      "- value: DensityMatrix([[ 0.0234375 +0.j      , -0.00585938-0.015625j],\n",
      "               [-0.00585938+0.015625j,  0.9765625 +0.j      ]],\n",
      "              dims=(2,))\n",
      "- extra: <5 items>\n",
      "- device_components: ['Q0']\n",
      "- verified: False\n",
      "DbAnalysisResultV1\n",
      "- name: state_fidelity\n",
      "- value: 0.9765625000000002\n",
      "- device_components: ['Q0']\n",
      "- verified: False\n",
      "DbAnalysisResultV1\n",
      "- name: positive\n",
      "- value: True\n",
      "- device_components: ['Q0']\n",
      "- verified: False\n"
     ]
    }
   ],
   "source": [
    "nq = 1\n",
    "qc_ghz = qiskit.QuantumCircuit(nq)\n",
    "qc_ghz.x(0)\n",
    "\n",
    "\n",
    "# QST Experiment\n",
    "qstexp1 = StateTomography(qc_ghz)\n",
    "qstdata1 = qstexp1.run(backend_2, seed_simulation=100).block_for_results()\n",
    "\n",
    "# Print results\n",
    "for result in qstdata1.analysis_results():\n",
    "    print(result)"
   ]
  },
  {
   "cell_type": "code",
   "execution_count": null,
   "metadata": {},
   "outputs": [],
   "source": []
  }
 ],
 "metadata": {
  "kernelspec": {
   "display_name": "Python 3 (ipykernel)",
   "language": "python",
   "name": "python3"
  },
  "language_info": {
   "codemirror_mode": {
    "name": "ipython",
    "version": 3
   },
   "file_extension": ".py",
   "mimetype": "text/x-python",
   "name": "python",
   "nbconvert_exporter": "python",
   "pygments_lexer": "ipython3",
   "version": "3.9.7"
  },
  "vscode": {
   "interpreter": {
    "hash": "bbd15055fa62332a5f498992d95aaf26c5833fa610ef3d107a25ac1ac238f300"
   }
  }
 },
 "nbformat": 4,
 "nbformat_minor": 4
}
